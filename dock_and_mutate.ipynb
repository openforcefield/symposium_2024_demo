{
 "cells": [
  {
   "cell_type": "markdown",
   "id": "5f6fa248-9bcc-4e50-831b-ca4b9ba5c6d1",
   "metadata": {},
   "source": [
    "# Experimenting with docking"
   ]
  },
  {
   "cell_type": "code",
   "execution_count": 1,
   "id": "9e584fa5-9739-4829-b2e1-85a9a25c792d",
   "metadata": {
    "execution": {
     "iopub.execute_input": "2024-05-15T07:54:41.586862Z",
     "iopub.status.busy": "2024-05-15T07:54:41.586689Z",
     "iopub.status.idle": "2024-05-15T07:54:48.150844Z",
     "shell.execute_reply": "2024-05-15T07:54:48.150371Z",
     "shell.execute_reply.started": "2024-05-15T07:54:41.586840Z"
    },
    "tags": []
   },
   "outputs": [],
   "source": [
    "from openff.toolkit import Molecule, Topology, ForceField\n",
    "top = Topology.from_pdb(\"selected_prediction.pdb\")"
   ]
  },
  {
   "cell_type": "code",
   "execution_count": 2,
   "id": "08e77c28-b644-49aa-bb5b-d28cabfcf08f",
   "metadata": {
    "execution": {
     "iopub.execute_input": "2024-05-15T07:54:48.151890Z",
     "iopub.status.busy": "2024-05-15T07:54:48.151629Z",
     "iopub.status.idle": "2024-05-15T07:54:48.528111Z",
     "shell.execute_reply": "2024-05-15T07:54:48.527746Z",
     "shell.execute_reply.started": "2024-05-15T07:54:48.151874Z"
    },
    "tags": []
   },
   "outputs": [
    {
     "data": {
      "application/vnd.jupyter.widget-view+json": {
       "model_id": "31cd8860380641cba3df7aa6e688c98b",
       "version_major": 2,
       "version_minor": 0
      },
      "text/plain": []
     },
     "metadata": {},
     "output_type": "display_data"
    },
    {
     "data": {
      "application/vnd.jupyter.widget-view+json": {
       "model_id": "3143bdc3ff064537a56e05d97fd1e6e5",
       "version_major": 2,
       "version_minor": 0
      },
      "text/plain": [
       "NGLWidget()"
      ]
     },
     "metadata": {},
     "output_type": "display_data"
    }
   ],
   "source": [
    "top.visualize()"
   ]
  },
  {
   "cell_type": "code",
   "execution_count": 3,
   "id": "69deb99a-705a-423d-a485-c2adf699bf68",
   "metadata": {
    "execution": {
     "iopub.execute_input": "2024-05-15T07:54:48.529334Z",
     "iopub.status.busy": "2024-05-15T07:54:48.529014Z",
     "iopub.status.idle": "2024-05-15T07:54:48.531421Z",
     "shell.execute_reply": "2024-05-15T07:54:48.531015Z",
     "shell.execute_reply.started": "2024-05-15T07:54:48.529319Z"
    }
   },
   "outputs": [],
   "source": [
    "#!prepare_receptor -r selected_prediction.pdb -o receptor.pdbqt"
   ]
  },
  {
   "cell_type": "code",
   "execution_count": 4,
   "id": "17ce866d-aa6d-4e6d-8951-07b15432db27",
   "metadata": {
    "execution": {
     "iopub.execute_input": "2024-05-15T07:54:48.532396Z",
     "iopub.status.busy": "2024-05-15T07:54:48.532177Z",
     "iopub.status.idle": "2024-05-15T07:54:48.535276Z",
     "shell.execute_reply": "2024-05-15T07:54:48.534794Z",
     "shell.execute_reply.started": "2024-05-15T07:54:48.532380Z"
    }
   },
   "outputs": [],
   "source": [
    "#!mk_prepare_receptor.py --pdb selected_prediction.pdb -o receptor.pdbqt --box_center 45 \"-18\"  0  --box_size   10 10 10 "
   ]
  },
  {
   "cell_type": "code",
   "execution_count": 5,
   "id": "1f3ffbe5-7b81-46b6-9017-682e2dc1e7e8",
   "metadata": {
    "execution": {
     "iopub.execute_input": "2024-05-15T07:54:48.536242Z",
     "iopub.status.busy": "2024-05-15T07:54:48.536053Z",
     "iopub.status.idle": "2024-05-15T07:54:48.539094Z",
     "shell.execute_reply": "2024-05-15T07:54:48.538393Z",
     "shell.execute_reply.started": "2024-05-15T07:54:48.536225Z"
    }
   },
   "outputs": [],
   "source": [
    "#mol = Molecule.from_smiles(\"c2c3ccccc3sc2C(=O)O\")\n",
    "#mol.generate_conformers()\n",
    "#mol.to_file(\"core_scaffold.sdf\", \"sdf\")\n",
    "#mol.visualize()"
   ]
  },
  {
   "cell_type": "code",
   "execution_count": 6,
   "id": "b855efa9-2aee-4054-b49b-3ccc3b9028fa",
   "metadata": {
    "execution": {
     "iopub.execute_input": "2024-05-15T07:54:48.542526Z",
     "iopub.status.busy": "2024-05-15T07:54:48.542326Z",
     "iopub.status.idle": "2024-05-15T07:54:48.544512Z",
     "shell.execute_reply": "2024-05-15T07:54:48.544122Z",
     "shell.execute_reply.started": "2024-05-15T07:54:48.542512Z"
    }
   },
   "outputs": [],
   "source": [
    "#!mk_prepare_ligand.py -i core_scaffold.sdf -o core_scaffold.pdbqt"
   ]
  },
  {
   "cell_type": "code",
   "execution_count": 7,
   "id": "e259d863-6f5a-460a-84ae-52da96413246",
   "metadata": {
    "execution": {
     "iopub.execute_input": "2024-05-15T07:54:48.545555Z",
     "iopub.status.busy": "2024-05-15T07:54:48.545360Z",
     "iopub.status.idle": "2024-05-15T07:54:48.547701Z",
     "shell.execute_reply": "2024-05-15T07:54:48.547338Z",
     "shell.execute_reply.started": "2024-05-15T07:54:48.545540Z"
    }
   },
   "outputs": [],
   "source": [
    "#! vina --receptor receptor.pdbqt --ligand core_scaffold.pdbqt \\\n",
    "#  --center_x 45 --center_y -18 --center_z 0 \\\n",
    "#  --size_x   10 --size_y    10 --size_z 10 \\\n",
    "#  --exhaustiveness=32 --out docking_results.pdbqt"
   ]
  },
  {
   "cell_type": "code",
   "execution_count": 8,
   "id": "84e2aa3e-cde7-43e2-87e6-57b8670b16cc",
   "metadata": {
    "execution": {
     "iopub.execute_input": "2024-05-15T07:54:48.548553Z",
     "iopub.status.busy": "2024-05-15T07:54:48.548389Z",
     "iopub.status.idle": "2024-05-15T07:54:48.551431Z",
     "shell.execute_reply": "2024-05-15T07:54:48.551073Z",
     "shell.execute_reply.started": "2024-05-15T07:54:48.548538Z"
    }
   },
   "outputs": [],
   "source": [
    "# 2024-05-14 JM check in\n",
    "# 1. Review current plans\n",
    "# 2. Is current state acceptable?\n",
    "# 3. Improvements that could be made. \n",
    "\n",
    "# Goal: Use OpenFF to grow a molecule into a blocked binding pocket \n",
    "# Intro: Looks, the binding site in the alphafold prediction is closed\n",
    "\n",
    "\n",
    "# (maybe) Mixed solvent MD to open pocket? (show off how quickly we can do arbitrary small mols)\n",
    "# (maybe) Dock using Vina\n",
    "    # JW - I don't want to put too much behind the scenes - Could I just do a bunch of !commands? \n",
    "    # JM - Yes, that should be straightforward, didn't realize Vina was on c-f\n",
    "# Cheat and pick the right pose\n",
    "# Design optimization loop\n",
    "    # Sort candidates by their objective function\n",
    "    # Pick the best one\n",
    "    # Minimize and rescore the best candidate using OpenFF?\n",
    "        # Contrive a reason why we need to do force field modification (maybe to weaken protein torsions, or reduce vdw radii)\n",
    "    # Mutate the minimized candidate in place\n",
    "        # (maybe score by clashes or something)\n",
    "    # Calculate new objective function for all new candidates\n",
    "        # gmx sasa (show off gromacs export)? \n",
    "        # or mdtraj's shrake_rupley (show off interop)? https://mdtraj.org/1.9.4/api/generated/mdtraj.shrake_rupley.html#mdtraj.shrake_rupley\n",
    "\n",
    "\n",
    "    \n",
    "\n",
    "# Solvate or use GBSA (or just vacuum)\n",
    "    # Explicit solvent will lead to atom clashes. Maybe leaning toward GBSA but that's a bit experimental\n",
    "    # JM - Would certainly use GBSA before explicit solvent for this case. Using vacuum would be a clear message not to use it in production.\n",
    "# (maybe) use bespokefit (but cheat and have the QC data already on my system)\n",
    "# Export to a bunch of engines?\n",
    "# \n",
    "\n",
    "\n",
    "# Essential todos\n",
    "    # visualize surface for intro\n",
    "    # Talk organization+practice\n",
    "    # Workflow diagram\n",
    "\n",
    "# Important todos\n",
    "    # Better mutations\n",
    "\n",
    "# Nice to haves\n"
   ]
  },
  {
   "cell_type": "markdown",
   "id": "083dec01-aa59-4c57-84c2-e1221d8d1758",
   "metadata": {},
   "source": [
    "# Once we have the docked conf, load from PDB (currently using Irfan's post-sim frame)"
   ]
  },
  {
   "cell_type": "code",
   "execution_count": 9,
   "id": "daa7cd05-ac21-4ac0-85ed-5eaa5bc9c657",
   "metadata": {
    "execution": {
     "iopub.execute_input": "2024-05-15T07:54:48.553702Z",
     "iopub.status.busy": "2024-05-15T07:54:48.553578Z",
     "iopub.status.idle": "2024-05-15T07:54:53.589049Z",
     "shell.execute_reply": "2024-05-15T07:54:53.588385Z",
     "shell.execute_reply.started": "2024-05-15T07:54:48.553688Z"
    }
   },
   "outputs": [],
   "source": [
    "lig = Molecule.from_smiles(\"c12c(Cl)cccc1sc(C(=O)[O-])c(Cl)2\")\n",
    "top = Topology.from_pdb(\"last_frame_lig.pdb\",\n",
    "                       unique_molecules=[lig])\n",
    "#top = Topology.from_molecules([*top.molecules][:2])\n",
    "protein = top.molecule(0)\n",
    "ligand = top.molecule(1)"
   ]
  },
  {
   "cell_type": "code",
   "execution_count": 10,
   "id": "f98a021d-ff89-47b8-b06e-3db2b39c56ab",
   "metadata": {
    "execution": {
     "iopub.execute_input": "2024-05-15T07:54:53.590112Z",
     "iopub.status.busy": "2024-05-15T07:54:53.589934Z",
     "iopub.status.idle": "2024-05-15T07:54:53.593613Z",
     "shell.execute_reply": "2024-05-15T07:54:53.593115Z",
     "shell.execute_reply.started": "2024-05-15T07:54:53.590095Z"
    }
   },
   "outputs": [
    {
     "name": "stdout",
     "output_type": "stream",
     "text": [
      "2466\n",
      "17\n"
     ]
    }
   ],
   "source": [
    "print(protein.n_atoms)\n",
    "print(ligand.n_atoms)"
   ]
  },
  {
   "cell_type": "code",
   "execution_count": 11,
   "id": "1d99e055-e8ff-4e5b-9f5c-3032a4721dd7",
   "metadata": {
    "execution": {
     "iopub.execute_input": "2024-05-15T07:54:53.594919Z",
     "iopub.status.busy": "2024-05-15T07:54:53.594550Z",
     "iopub.status.idle": "2024-05-15T07:54:53.897683Z",
     "shell.execute_reply": "2024-05-15T07:54:53.897325Z",
     "shell.execute_reply.started": "2024-05-15T07:54:53.594905Z"
    }
   },
   "outputs": [
    {
     "data": {
      "application/vnd.jupyter.widget-view+json": {
       "model_id": "5c13e569ff554c41890ccc824865cda6",
       "version_major": 2,
       "version_minor": 0
      },
      "text/plain": [
       "NGLWidget()"
      ]
     },
     "metadata": {},
     "output_type": "display_data"
    }
   ],
   "source": [
    "top.visualize()"
   ]
  },
  {
   "cell_type": "code",
   "execution_count": 12,
   "id": "a9eb2a8b-ab24-4385-bb92-ead521c50f86",
   "metadata": {
    "execution": {
     "iopub.execute_input": "2024-05-15T07:54:53.898732Z",
     "iopub.status.busy": "2024-05-15T07:54:53.898376Z",
     "iopub.status.idle": "2024-05-15T07:54:53.919549Z",
     "shell.execute_reply": "2024-05-15T07:54:53.919176Z",
     "shell.execute_reply.started": "2024-05-15T07:54:53.898716Z"
    }
   },
   "outputs": [
    {
     "data": {
      "image/svg+xml": [
       "<svg xmlns=\"http://www.w3.org/2000/svg\" xmlns:rdkit=\"http://www.rdkit.org/xml\" xmlns:xlink=\"http://www.w3.org/1999/xlink\" version=\"1.1\" baseProfile=\"full\" xml:space=\"preserve\" width=\"500px\" height=\"300px\" viewBox=\"0 0 500 300\">\n",
       "<!-- END OF HEADER -->\n",
       "<rect style=\"opacity:1.0;fill:#FFFFFF;stroke:none\" width=\"500.0\" height=\"300.0\" x=\"0.0\" y=\"0.0\"> </rect>\n",
       "<path class=\"bond-0 atom-0 atom-5\" d=\"M 317.4,257.7 L 317.5,234.2\" style=\"fill:none;fill-rule:evenodd;stroke:#00CC00;stroke-width:2.0px;stroke-linecap:butt;stroke-linejoin:miter;stroke-opacity:1\"/>\n",
       "<path class=\"bond-0 atom-0 atom-5\" d=\"M 317.5,234.2 L 317.5,210.7\" style=\"fill:none;fill-rule:evenodd;stroke:#000000;stroke-width:2.0px;stroke-linecap:butt;stroke-linejoin:miter;stroke-opacity:1\"/>\n",
       "<path class=\"bond-1 atom-1 atom-7\" d=\"M 191.7,242.8 L 198.9,220.9\" style=\"fill:none;fill-rule:evenodd;stroke:#00CC00;stroke-width:2.0px;stroke-linecap:butt;stroke-linejoin:miter;stroke-opacity:1\"/>\n",
       "<path class=\"bond-1 atom-1 atom-7\" d=\"M 198.9,220.9 L 206.0,198.9\" style=\"fill:none;fill-rule:evenodd;stroke:#000000;stroke-width:2.0px;stroke-linecap:butt;stroke-linejoin:miter;stroke-opacity:1\"/>\n",
       "<path class=\"bond-2 atom-2 atom-3\" d=\"M 370.7,118.7 L 370.6,180.1\" style=\"fill:none;fill-rule:evenodd;stroke:#000000;stroke-width:2.0px;stroke-linecap:butt;stroke-linejoin:miter;stroke-opacity:1\"/>\n",
       "<path class=\"bond-2 atom-2 atom-3\" d=\"M 359.6,127.9 L 359.6,170.9\" style=\"fill:none;fill-rule:evenodd;stroke:#000000;stroke-width:2.0px;stroke-linecap:butt;stroke-linejoin:miter;stroke-opacity:1\"/>\n",
       "<path class=\"bond-3 atom-2 atom-4\" d=\"M 370.7,118.7 L 317.6,88.0\" style=\"fill:none;fill-rule:evenodd;stroke:#000000;stroke-width:2.0px;stroke-linecap:butt;stroke-linejoin:miter;stroke-opacity:1\"/>\n",
       "<path class=\"bond-4 atom-2 atom-14\" d=\"M 370.7,118.7 L 411.6,95.1\" style=\"fill:none;fill-rule:evenodd;stroke:#000000;stroke-width:2.0px;stroke-linecap:butt;stroke-linejoin:miter;stroke-opacity:1\"/>\n",
       "<path class=\"bond-5 atom-3 atom-5\" d=\"M 370.6,180.1 L 317.5,210.7\" style=\"fill:none;fill-rule:evenodd;stroke:#000000;stroke-width:2.0px;stroke-linecap:butt;stroke-linejoin:miter;stroke-opacity:1\"/>\n",
       "<path class=\"bond-6 atom-3 atom-15\" d=\"M 370.6,180.1 L 411.5,203.7\" style=\"fill:none;fill-rule:evenodd;stroke:#000000;stroke-width:2.0px;stroke-linecap:butt;stroke-linejoin:miter;stroke-opacity:1\"/>\n",
       "<path class=\"bond-7 atom-4 atom-9\" d=\"M 317.6,88.0 L 264.4,118.7\" style=\"fill:none;fill-rule:evenodd;stroke:#000000;stroke-width:2.0px;stroke-linecap:butt;stroke-linejoin:miter;stroke-opacity:1\"/>\n",
       "<path class=\"bond-7 atom-4 atom-9\" d=\"M 315.1,102.2 L 277.9,123.6\" style=\"fill:none;fill-rule:evenodd;stroke:#000000;stroke-width:2.0px;stroke-linecap:butt;stroke-linejoin:miter;stroke-opacity:1\"/>\n",
       "<path class=\"bond-8 atom-4 atom-13\" d=\"M 317.6,88.0 L 317.6,41.7\" style=\"fill:none;fill-rule:evenodd;stroke:#000000;stroke-width:2.0px;stroke-linecap:butt;stroke-linejoin:miter;stroke-opacity:1\"/>\n",
       "<path class=\"bond-9 atom-5 atom-10\" d=\"M 317.5,210.7 L 264.4,180.0\" style=\"fill:none;fill-rule:evenodd;stroke:#000000;stroke-width:2.0px;stroke-linecap:butt;stroke-linejoin:miter;stroke-opacity:1\"/>\n",
       "<path class=\"bond-9 atom-5 atom-10\" d=\"M 315.0,196.5 L 277.9,175.1\" style=\"fill:none;fill-rule:evenodd;stroke:#000000;stroke-width:2.0px;stroke-linecap:butt;stroke-linejoin:miter;stroke-opacity:1\"/>\n",
       "<path class=\"bond-10 atom-6 atom-8\" d=\"M 108.7,149.2 L 170.0,149.3\" style=\"fill:none;fill-rule:evenodd;stroke:#000000;stroke-width:2.0px;stroke-linecap:butt;stroke-linejoin:miter;stroke-opacity:1\"/>\n",
       "<path class=\"bond-11 atom-6 atom-11\" d=\"M 103.9,152.0 L 93.0,133.2\" style=\"fill:none;fill-rule:evenodd;stroke:#000000;stroke-width:2.0px;stroke-linecap:butt;stroke-linejoin:miter;stroke-opacity:1\"/>\n",
       "<path class=\"bond-11 atom-6 atom-11\" d=\"M 93.0,133.2 L 82.2,114.4\" style=\"fill:none;fill-rule:evenodd;stroke:#FF0000;stroke-width:2.0px;stroke-linecap:butt;stroke-linejoin:miter;stroke-opacity:1\"/>\n",
       "<path class=\"bond-11 atom-6 atom-11\" d=\"M 113.4,146.4 L 102.6,127.7\" style=\"fill:none;fill-rule:evenodd;stroke:#000000;stroke-width:2.0px;stroke-linecap:butt;stroke-linejoin:miter;stroke-opacity:1\"/>\n",
       "<path class=\"bond-11 atom-6 atom-11\" d=\"M 102.6,127.7 L 91.8,108.9\" style=\"fill:none;fill-rule:evenodd;stroke:#FF0000;stroke-width:2.0px;stroke-linecap:butt;stroke-linejoin:miter;stroke-opacity:1\"/>\n",
       "<path class=\"bond-12 atom-6 atom-12\" d=\"M 108.7,149.2 L 97.7,168.2\" style=\"fill:none;fill-rule:evenodd;stroke:#000000;stroke-width:2.0px;stroke-linecap:butt;stroke-linejoin:miter;stroke-opacity:1\"/>\n",
       "<path class=\"bond-12 atom-6 atom-12\" d=\"M 97.7,168.2 L 86.7,187.1\" style=\"fill:none;fill-rule:evenodd;stroke:#FF0000;stroke-width:2.0px;stroke-linecap:butt;stroke-linejoin:miter;stroke-opacity:1\"/>\n",
       "<path class=\"bond-13 atom-7 atom-8\" d=\"M 206.0,198.9 L 170.0,149.3\" style=\"fill:none;fill-rule:evenodd;stroke:#000000;stroke-width:2.0px;stroke-linecap:butt;stroke-linejoin:miter;stroke-opacity:1\"/>\n",
       "<path class=\"bond-13 atom-7 atom-8\" d=\"M 209.6,185.0 L 184.3,150.2\" style=\"fill:none;fill-rule:evenodd;stroke:#000000;stroke-width:2.0px;stroke-linecap:butt;stroke-linejoin:miter;stroke-opacity:1\"/>\n",
       "<path class=\"bond-14 atom-7 atom-10\" d=\"M 206.0,198.9 L 264.4,180.0\" style=\"fill:none;fill-rule:evenodd;stroke:#000000;stroke-width:2.0px;stroke-linecap:butt;stroke-linejoin:miter;stroke-opacity:1\"/>\n",
       "<path class=\"bond-15 atom-8 atom-16\" d=\"M 170.0,149.3 L 182.9,131.6\" style=\"fill:none;fill-rule:evenodd;stroke:#000000;stroke-width:2.0px;stroke-linecap:butt;stroke-linejoin:miter;stroke-opacity:1\"/>\n",
       "<path class=\"bond-15 atom-8 atom-16\" d=\"M 182.9,131.6 L 195.7,113.9\" style=\"fill:none;fill-rule:evenodd;stroke:#CCCC00;stroke-width:2.0px;stroke-linecap:butt;stroke-linejoin:miter;stroke-opacity:1\"/>\n",
       "<path class=\"bond-16 atom-9 atom-10\" d=\"M 264.4,118.7 L 264.4,180.0\" style=\"fill:none;fill-rule:evenodd;stroke:#000000;stroke-width:2.0px;stroke-linecap:butt;stroke-linejoin:miter;stroke-opacity:1\"/>\n",
       "<path class=\"bond-17 atom-9 atom-16\" d=\"M 264.4,118.7 L 240.5,110.8\" style=\"fill:none;fill-rule:evenodd;stroke:#000000;stroke-width:2.0px;stroke-linecap:butt;stroke-linejoin:miter;stroke-opacity:1\"/>\n",
       "<path class=\"bond-17 atom-9 atom-16\" d=\"M 240.5,110.8 L 216.5,103.0\" style=\"fill:none;fill-rule:evenodd;stroke:#CCCC00;stroke-width:2.0px;stroke-linecap:butt;stroke-linejoin:miter;stroke-opacity:1\"/>\n",
       "<path class=\"atom-0\" d=\"M 307.4 273.0 Q 307.4 266.5, 310.4 263.1 Q 313.5 259.7, 319.2 259.7 Q 324.6 259.7, 327.5 263.5 L 325.1 265.5 Q 323.0 262.7, 319.2 262.7 Q 315.3 262.7, 313.2 265.3 Q 311.1 268.0, 311.1 273.0 Q 311.1 278.1, 313.3 280.8 Q 315.4 283.4, 319.6 283.4 Q 322.5 283.4, 325.9 281.7 L 326.9 284.4 Q 325.5 285.3, 323.5 285.8 Q 321.4 286.4, 319.1 286.4 Q 313.5 286.4, 310.4 282.9 Q 307.4 279.4, 307.4 273.0 \" fill=\"#00CC00\"/>\n",
       "<path class=\"atom-0\" d=\"M 329.0 258.1 L 332.3 258.1 L 332.3 286.0 L 329.0 286.0 L 329.0 258.1 \" fill=\"#00CC00\"/>\n",
       "<path class=\"atom-1\" d=\"M 177.0 258.1 Q 177.0 251.7, 180.0 248.3 Q 183.0 244.9, 188.8 244.9 Q 194.2 244.9, 197.1 248.6 L 194.6 250.6 Q 192.5 247.9, 188.8 247.9 Q 184.9 247.9, 182.8 250.5 Q 180.7 253.1, 180.7 258.1 Q 180.7 263.3, 182.9 265.9 Q 185.0 268.6, 189.2 268.6 Q 192.1 268.6, 195.4 266.9 L 196.5 269.6 Q 195.1 270.5, 193.1 271.0 Q 191.0 271.5, 188.7 271.5 Q 183.0 271.5, 180.0 268.1 Q 177.0 264.6, 177.0 258.1 \" fill=\"#00CC00\"/>\n",
       "<path class=\"atom-1\" d=\"M 198.5 243.3 L 201.9 243.3 L 201.9 271.2 L 198.5 271.2 L 198.5 243.3 \" fill=\"#00CC00\"/>\n",
       "<path class=\"atom-11\" d=\"M 66.1 96.1 Q 66.1 89.9, 69.1 86.4 Q 72.2 82.9, 78.0 82.9 Q 83.8 82.9, 86.9 86.4 Q 90.0 89.9, 90.0 96.1 Q 90.0 102.5, 86.8 106.1 Q 83.7 109.6, 78.0 109.6 Q 72.3 109.6, 69.1 106.1 Q 66.1 102.5, 66.1 96.1 M 78.0 106.7 Q 82.0 106.7, 84.1 104.0 Q 86.3 101.4, 86.3 96.1 Q 86.3 91.0, 84.1 88.4 Q 82.0 85.8, 78.0 85.8 Q 74.0 85.8, 71.9 88.4 Q 69.7 91.0, 69.7 96.1 Q 69.7 101.4, 71.9 104.0 Q 74.0 106.7, 78.0 106.7 \" fill=\"#FF0000\"/>\n",
       "<path class=\"atom-12\" d=\"M 66.0 202.4 Q 66.0 196.1, 69.1 192.6 Q 72.1 189.1, 77.9 189.1 Q 83.7 189.1, 86.8 192.6 Q 89.9 196.1, 89.9 202.4 Q 89.9 208.7, 86.8 212.3 Q 83.6 215.9, 77.9 215.9 Q 72.2 215.9, 69.1 212.3 Q 66.0 208.8, 66.0 202.4 M 77.9 212.9 Q 81.9 212.9, 84.0 210.3 Q 86.2 207.6, 86.2 202.4 Q 86.2 197.3, 84.0 194.7 Q 81.9 192.1, 77.9 192.1 Q 74.0 192.1, 71.8 194.7 Q 69.6 197.2, 69.6 202.4 Q 69.6 207.6, 71.8 210.3 Q 74.0 212.9, 77.9 212.9 \" fill=\"#FF0000\"/>\n",
       "<path class=\"atom-12\" d=\"M 91.7 193.4 L 100.6 193.4 L 100.6 195.3 L 91.7 195.3 L 91.7 193.4 \" fill=\"#FF0000\"/>\n",
       "<path class=\"atom-13\" d=\"M 307.4 13.6 L 311.0 13.6 L 311.0 24.7 L 324.3 24.7 L 324.3 13.6 L 327.8 13.6 L 327.8 39.7 L 324.3 39.7 L 324.3 27.7 L 311.0 27.7 L 311.0 39.7 L 307.4 39.7 L 307.4 13.6 \" fill=\"#000000\"/>\n",
       "<path class=\"atom-14\" d=\"M 413.6 75.1 L 417.2 75.1 L 417.2 86.2 L 430.5 86.2 L 430.5 75.1 L 434.0 75.1 L 434.0 101.1 L 430.5 101.1 L 430.5 89.1 L 417.2 89.1 L 417.2 101.1 L 413.6 101.1 L 413.6 75.1 \" fill=\"#000000\"/>\n",
       "<path class=\"atom-15\" d=\"M 413.5 197.8 L 417.1 197.8 L 417.1 208.8 L 430.4 208.8 L 430.4 197.8 L 433.9 197.8 L 433.9 223.8 L 430.4 223.8 L 430.4 211.8 L 417.1 211.8 L 417.1 223.8 L 413.5 223.8 L 413.5 197.8 \" fill=\"#000000\"/>\n",
       "<path class=\"atom-16\" d=\"M 198.7 108.6 Q 199.0 108.7, 200.2 109.2 Q 201.5 109.7, 202.8 110.1 Q 204.1 110.4, 205.5 110.4 Q 207.9 110.4, 209.4 109.2 Q 210.8 108.0, 210.8 105.9 Q 210.8 104.4, 210.1 103.5 Q 209.4 102.7, 208.3 102.2 Q 207.2 101.7, 205.3 101.2 Q 203.0 100.5, 201.6 99.8 Q 200.2 99.1, 199.3 97.7 Q 198.3 96.3, 198.3 94.0 Q 198.3 90.7, 200.5 88.7 Q 202.7 86.7, 207.2 86.7 Q 210.2 86.7, 213.6 88.1 L 212.8 90.9 Q 209.6 89.6, 207.3 89.6 Q 204.7 89.6, 203.3 90.7 Q 201.9 91.7, 202.0 93.5 Q 202.0 94.9, 202.7 95.8 Q 203.4 96.6, 204.4 97.1 Q 205.5 97.6, 207.3 98.1 Q 209.6 98.9, 211.0 99.6 Q 212.4 100.3, 213.4 101.9 Q 214.5 103.3, 214.5 105.9 Q 214.5 109.5, 212.0 111.4 Q 209.6 113.3, 205.6 113.3 Q 203.3 113.3, 201.5 112.8 Q 199.8 112.3, 197.7 111.5 L 198.7 108.6 \" fill=\"#CCCC00\"/>\n",
       "</svg>"
      ],
      "text/plain": [
       "<IPython.core.display.SVG object>"
      ]
     },
     "execution_count": 12,
     "metadata": {},
     "output_type": "execute_result"
    }
   ],
   "source": [
    "#rdmol = top.molecule(1).to_rdkit()\n",
    "#rdmol\n",
    "ligand.visualize()"
   ]
  },
  {
   "cell_type": "code",
   "execution_count": null,
   "id": "dd5f6f75-367a-4002-a391-2bdd23b7972f",
   "metadata": {},
   "outputs": [],
   "source": []
  },
  {
   "cell_type": "code",
   "execution_count": 13,
   "id": "0347ef2f-3065-4141-83af-b54dd66b9c72",
   "metadata": {
    "execution": {
     "iopub.execute_input": "2024-05-15T07:54:53.920427Z",
     "iopub.status.busy": "2024-05-15T07:54:53.920253Z",
     "iopub.status.idle": "2024-05-15T07:54:53.928241Z",
     "shell.execute_reply": "2024-05-15T07:54:53.927814Z",
     "shell.execute_reply.started": "2024-05-15T07:54:53.920411Z"
    }
   },
   "outputs": [],
   "source": [
    "ligand.to_file('posed_ligand.sdf', file_format=\"sdf\")"
   ]
  },
  {
   "cell_type": "markdown",
   "id": "4afa73b4-4f3c-4902-a395-bf44d55409f8",
   "metadata": {},
   "source": [
    "# OR, start using posed ligand and JWei's raw output"
   ]
  },
  {
   "cell_type": "code",
   "execution_count": 14,
   "id": "d0e76bdf-62d7-4bfe-b227-6c1bd8d9dc54",
   "metadata": {
    "execution": {
     "iopub.execute_input": "2024-05-15T07:54:53.930171Z",
     "iopub.status.busy": "2024-05-15T07:54:53.929914Z",
     "iopub.status.idle": "2024-05-15T07:54:58.831976Z",
     "shell.execute_reply": "2024-05-15T07:54:58.831337Z",
     "shell.execute_reply.started": "2024-05-15T07:54:53.930156Z"
    }
   },
   "outputs": [],
   "source": [
    "protein = Topology.from_pdb(\"selected_prediction_aligned.pdb\").molecule(0)"
   ]
  },
  {
   "cell_type": "markdown",
   "id": "7c8eb162-6878-4bca-994d-ee9473e53d2b",
   "metadata": {},
   "source": [
    "# Use RDKit to start mutating molecule"
   ]
  },
  {
   "cell_type": "code",
   "execution_count": 15,
   "id": "03b78ac4-0a28-4985-84b3-3f09accdd521",
   "metadata": {
    "execution": {
     "iopub.execute_input": "2024-05-15T07:54:58.833131Z",
     "iopub.status.busy": "2024-05-15T07:54:58.832945Z",
     "iopub.status.idle": "2024-05-15T07:54:58.845863Z",
     "shell.execute_reply": "2024-05-15T07:54:58.845277Z",
     "shell.execute_reply.started": "2024-05-15T07:54:58.833114Z"
    }
   },
   "outputs": [],
   "source": [
    "\n",
    "def mutate_ligand(ligand):\n",
    "    import rdkit\n",
    "    import rdkit.Chem\n",
    "    from rdkit.Geometry import Point3D\n",
    "    import rdkit.Chem.AllChem\n",
    "    #import rdkit.Chem.RDGeom\n",
    "    import rdkit.Chem.rdDistGeom\n",
    "    import openmm\n",
    "    import numpy\n",
    "    from openff.units.openmm import from_openmm\n",
    "    ligand.partial_charges = None\n",
    "    rdmol = ligand.to_rdkit()\n",
    "    reactions = [\"[*:1][*D1+0:2] >> [#6:1][C:2]([H])([H])[H]\",\n",
    "                #\"[#6:1][*D1+0:2] >> [#6:1][C:2]([H])([H])C([H])([H])[H]\",\n",
    "                \"[#6:1][*D1+0:2] >> [#6:1][O+0:2]C([H])([H])([H])\",\n",
    "                #\"[#6:1][*D1+0:2] >> [#6:1][c:2]1c([H])c([H])c([H])c([H])c([H])1\"\n",
    "                ]\n",
    "    unsanitized_products = []\n",
    "    for reaction in reactions:\n",
    "        rxn = rdkit.Chem.rdChemReactions.ReactionFromSmarts(reaction)\n",
    "        unsanitized_products.extend(rxn.RunReactants([rdmol]))\n",
    "\n",
    "    from openff.toolkit.utils.nagl_wrapper import NAGLToolkitWrapper\n",
    "    from openff.interchange import Interchange\n",
    "    ligand_ff = ForceField(\"openff-2.2.0.offxml\")\n",
    "    ntkw = NAGLToolkitWrapper()\n",
    "\n",
    "    \n",
    "    products = list()\n",
    "    for (product,) in unsanitized_products:\n",
    "        mol_copy = rdkit.Chem.Mol(product)\n",
    "        #mol_copy = rdkit.Chem.AddHs(mol_copy, explicitOnly=True, addCoords=True)\n",
    "        #mol_copy = rdkit.Chem.AddHs(mol_copy, explicitOnly=True, addCoords=True)\n",
    "\n",
    "        rdkit.Chem.SanitizeMol(mol_copy, rdkit.Chem.SANITIZE_ALL)\n",
    "        rdkit.Chem.AssignStereochemistryFrom3D(mol_copy)\n",
    "        rdkit.Chem.Kekulize(mol_copy, clearAromaticFlags=True)\n",
    "        rdkit.Chem.SetAromaticity(mol_copy, rdkit.Chem.AromaticityModel.AROMATICITY_MDL)\n",
    "        #mol_copy = \n",
    "        #mol_copy = rdkit.Chem.AddHs(mol_copy, explicitOnly=True, addCoords=True)\n",
    "        #print(mol_copy.GetConformer(0).GetPositions())#.GetAtoms()[0]))\n",
    "        # Keep positions of atoms with nonzero coords\n",
    "        coordMap = {}\n",
    "        positions = mol_copy.GetConformer(0).GetPositions() \n",
    "        for atom in mol_copy.GetAtoms():\n",
    "            if numpy.linalg.norm(positions[atom.GetIdx()]) > 0.1:\n",
    "                coordMap[atom.GetIdx()] = Point3D(*positions[atom.GetIdx()])\n",
    "\n",
    "        #print(coordMap)\n",
    "        #    print(dir(mol_copy.GetConformer(0)))#[atom.GetIdx()])\n",
    "            #if mol_copy.GetConformer(0)[atom.GetIndex()]\n",
    "        #rdkit.Chem.rdDistGeom.EmbedMultipleConfs(mol_copy, \n",
    "        #                                         clearConfs=True,\n",
    "        #                                         coordMap=coordMap, \n",
    "        #                                         numConfs=1,\n",
    "        #                                        #useRandomCoords=True,\n",
    "        #                                        ignoreSmoothingFailures=False)\n",
    "        #1/0\n",
    "        #print([atom.GetMonomerInfo().GetResidueNumber() for atom in mol_copy.GetAtoms()])\n",
    "        #[atom.GetMonomerInfo().GetResidueNumber() for atom in mol_copy.GetAtoms()]\n",
    "        #Try to use RDKit's coordMap here to make a starting geometry\n",
    "        offmol = Molecule.from_rdkit(mol_copy)\n",
    "\n",
    "    \n",
    "        ntkw.assign_partial_charges(offmol, \"openff-gnn-am1bcc-0.1.0-rc.2.pt\")\n",
    "        ligand_interchange = ligand_ff.create_interchange(offmol.to_topology(), \n",
    "                                                          charge_from_molecules=[offmol])\n",
    "        integrator = openmm.LangevinIntegrator(\n",
    "                300 * openmm.unit.kelvin,\n",
    "                1 / openmm.unit.picosecond,\n",
    "                0.002 * openmm.unit.picoseconds,\n",
    "            )\n",
    "        \n",
    "        ligand_simulation = ligand_interchange.to_openmm_simulation(integrator)\n",
    "        positions = ligand_simulation.context.getState(getPositions=True).getPositions()\n",
    "        \n",
    "        restraint = openmm.CustomExternalForce('k*periodicdistance(x, y, z, x0, y0, z0)^2')\n",
    "        ligand_simulation.system.addForce(restraint)\n",
    "        restraint.addGlobalParameter('k', 1000.0 * openmm.unit.kilojoules_per_mole / openmm.unit.angstrom)\n",
    "        restraint.addPerParticleParameter('x0')\n",
    "        restraint.addPerParticleParameter('y0')\n",
    "        restraint.addPerParticleParameter('z0')\n",
    "        import numpy\n",
    "        for atom in ligand_simulation.topology.atoms():\n",
    "            #print(atom.residue.id, atom.residue.id != \"0\")\n",
    "        \n",
    "            if atom.residue.id != \"0\":\n",
    "                restraint.addParticle(atom.index, positions[atom.index])\n",
    "            else:\n",
    "                positions[atom.index] = positions[atom.index-1] * numpy.random.random((3,))\n",
    "        ligand_simulation.context.reinitialize()#preserveState=True)\n",
    "        ligand_simulation.context.setPositions(positions)\n",
    "        #restraint.updateParametersInContext(ligand_simulation.context)\n",
    "        ligand_simulation.minimizeEnergy()\n",
    "    \n",
    "        minimized_coords = ligand_simulation.context.getState(getPositions=True).getPositions()\n",
    "        offmol._conformers = [from_openmm(minimized_coords)]\n",
    "            \n",
    "        existing_metadata = [atom.metadata for atom in offmol.atoms if atom.metadata != {}][0]\n",
    "        for atom in offmol.atoms:\n",
    "            atom.metadata.update(existing_metadata)\n",
    "            #print(atom.metadata)\n",
    "        #print()\n",
    "        products.append(offmol)\n",
    "        #1/0\n",
    "    return products\n",
    "\n",
    "def display_molecule_grid(molecules, item_width=200):\n",
    "    import ipywidgets as widgets\n",
    "    \n",
    "    items = []\n",
    "    for product in molecules:\n",
    "        item = widgets.Output()\n",
    "        item.append_display_data(product.visualize('rdkit', width=item_width))\n",
    "        items.append(item)\n",
    "        \n",
    "    return widgets.GridBox(\n",
    "        items, \n",
    "        layout=widgets.Layout(grid_template_columns=f\"repeat(3, {item_width+10}px)\")\n",
    "    )"
   ]
  },
  {
   "cell_type": "code",
   "execution_count": 16,
   "id": "13ed8943-8e6b-41de-b8d7-5882a1fd23d7",
   "metadata": {
    "execution": {
     "iopub.execute_input": "2024-05-15T07:54:58.846827Z",
     "iopub.status.busy": "2024-05-15T07:54:58.846579Z",
     "iopub.status.idle": "2024-05-15T07:55:13.451550Z",
     "shell.execute_reply": "2024-05-15T07:55:13.450986Z",
     "shell.execute_reply.started": "2024-05-15T07:54:58.846811Z"
    }
   },
   "outputs": [
    {
     "data": {
      "application/vnd.jupyter.widget-view+json": {
       "model_id": "43a4408fdb8d4e5985889aab31d3ccdd",
       "version_major": 2,
       "version_minor": 0
      },
      "text/plain": [
       "GridBox(children=(Output(outputs=({'output_type': 'display_data', 'data': {'text/plain': '<IPython.core.displa…"
      ]
     },
     "execution_count": 16,
     "metadata": {},
     "output_type": "execute_result"
    }
   ],
   "source": [
    "products = mutate_ligand(ligand)\n",
    "display_molecule_grid(products)"
   ]
  },
  {
   "cell_type": "code",
   "execution_count": 17,
   "id": "430dc44e-862f-47ac-b7b6-d945322d6e10",
   "metadata": {
    "execution": {
     "iopub.execute_input": "2024-05-15T07:55:13.569888Z",
     "iopub.status.busy": "2024-05-15T07:55:13.569706Z",
     "iopub.status.idle": "2024-05-15T07:55:13.580101Z",
     "shell.execute_reply": "2024-05-15T07:55:13.579394Z",
     "shell.execute_reply.started": "2024-05-15T07:55:13.569855Z"
    }
   },
   "outputs": [],
   "source": [
    "%load_ext snakeviz"
   ]
  },
  {
   "cell_type": "code",
   "execution_count": 18,
   "id": "400da8d3-d39e-4759-b741-0b15b3c4f1c6",
   "metadata": {
    "execution": {
     "iopub.execute_input": "2024-05-15T07:55:13.580912Z",
     "iopub.status.busy": "2024-05-15T07:55:13.580753Z",
     "iopub.status.idle": "2024-05-15T07:55:24.007226Z",
     "shell.execute_reply": "2024-05-15T07:55:24.006265Z",
     "shell.execute_reply.started": "2024-05-15T07:55:13.580897Z"
    }
   },
   "outputs": [],
   "source": [
    "#%%snakeviz\n",
    "from openff.toolkit.utils.nagl_wrapper import NAGLToolkitWrapper\n",
    "\n",
    "#ntkw = NAGLToolkitWrapper()\n",
    "#for offmol in products:\n",
    "#    ntkw.assign_partial_charges(offmol, \"openff-gnn-am1bcc-0.1.0-rc.2.pt\")\n",
    "products = mutate_ligand(ligand)\n",
    "#display_molecule_grid(products)\n"
   ]
  },
  {
   "cell_type": "markdown",
   "id": "d5d9420c-663f-480a-9aa2-312b54c659a5",
   "metadata": {},
   "source": [
    "# Do the same thing, looping over all products and saving their minimized conf as PDB"
   ]
  },
  {
   "cell_type": "code",
   "execution_count": 19,
   "id": "72714834-6142-4e4d-a683-226042c15700",
   "metadata": {
    "execution": {
     "iopub.execute_input": "2024-05-15T07:55:24.115860Z",
     "iopub.status.busy": "2024-05-15T07:55:24.115722Z",
     "iopub.status.idle": "2024-05-15T07:55:24.123205Z",
     "shell.execute_reply": "2024-05-15T07:55:24.122817Z",
     "shell.execute_reply.started": "2024-05-15T07:55:24.115846Z"
    }
   },
   "outputs": [],
   "source": [
    "import openmm\n",
    "import openmm.unit as omm_unit\n",
    "def relax_ligand(protein_interchange, ligand_offmol, ligand_ff, name=\"\"):\n",
    "    from openff.toolkit.utils.nagl_wrapper import NAGLToolkitWrapper\n",
    "    from openff.interchange import Interchange\n",
    "    ntkw = NAGLToolkitWrapper()\n",
    "    ntkw.assign_partial_charges(ligand_offmol, \"openff-gnn-am1bcc-0.1.0-rc.2.pt\")\n",
    "    ligand_interchange = ligand_ff.create_interchange(ligand_offmol.to_topology(), charge_from_molecules=[ligand_offmol])\n",
    "    complex_interchange = protein_interchange.combine(ligand_interchange)\n",
    "    omm_sys = complex_interchange.to_openmm_system()\n",
    "    omm_top = complex_interchange.to_openmm_topology()\n",
    "    \n",
    "    \n",
    "    restraint = openmm.CustomExternalForce('k*periodicdistance(x, y, z, x0, y0, z0)^2')\n",
    "    omm_sys.addForce(restraint)\n",
    "    restraint.addGlobalParameter('k', 100.0 * omm_unit.kilojoules_per_mole / omm_unit.nanometer)\n",
    "    restraint.addPerParticleParameter('x0')\n",
    "    restraint.addPerParticleParameter('y0')\n",
    "    restraint.addPerParticleParameter('z0')\n",
    "    \n",
    "    for atom in omm_top.atoms():\n",
    "        if atom.name in ['C', 'O', 'N', 'CA', 'S1X', 'O1X', 'O2X']:\n",
    "            restraint.addParticle(atom.index, complex_interchange.positions[atom.index].to_openmm())\n",
    "    \n",
    "    # Construct and configure a Langevin integrator at 300 K with an appropriate friction constant and time-step\n",
    "    integrator = openmm.LangevinIntegrator(\n",
    "        300 * omm_unit.kelvin,\n",
    "        1 / omm_unit.picosecond,\n",
    "        0.002 * omm_unit.picoseconds,\n",
    "    )\n",
    "    \n",
    "    simulation = openmm.app.Simulation(omm_top, omm_sys, integrator)\n",
    "    simulation.context.setPositions(complex_interchange.positions.to_openmm())\n",
    "    simulation.minimizeEnergy()\n",
    "    simulation.context.setVelocitiesToTemperature(300)\n",
    "    simulation.step(1000)\n",
    "    from openff.units.openmm import from_openmm\n",
    "    state = simulation.context.getState(getPositions=True, getForces=True, getEnergy=True)\n",
    "    omm_positions = state.getPositions()\n",
    "    openmm.app.PDBFile.writeFile(simulation.topology, omm_positions, open(f'{name}.pdb', 'w'))\n",
    "    complex_interchange.positions = from_openmm(omm_positions)\n",
    "    \n",
    "    return complex_interchange, state\n",
    "    "
   ]
  },
  {
   "cell_type": "code",
   "execution_count": 20,
   "id": "22cf88a9-8476-4441-98b5-6f820acbb265",
   "metadata": {
    "execution": {
     "iopub.execute_input": "2024-05-15T07:55:24.124150Z",
     "iopub.status.busy": "2024-05-15T07:55:24.124020Z",
     "iopub.status.idle": "2024-05-15T07:55:51.897943Z",
     "shell.execute_reply": "2024-05-15T07:55:51.896323Z",
     "shell.execute_reply.started": "2024-05-15T07:55:24.124136Z"
    }
   },
   "outputs": [],
   "source": [
    "ff14sb = ForceField(\"ff14sb_off_impropers_0.0.4.offxml\")\n",
    "protein_interchange = ff14sb.create_interchange(protein.to_topology())"
   ]
  },
  {
   "cell_type": "code",
   "execution_count": 21,
   "id": "b567c804-34dd-4c59-8b15-33af3c3cbf89",
   "metadata": {
    "execution": {
     "iopub.execute_input": "2024-05-15T08:04:48.893663Z",
     "iopub.status.busy": "2024-05-15T08:04:48.884439Z",
     "iopub.status.idle": "2024-05-15T08:04:48.944762Z",
     "shell.execute_reply": "2024-05-15T08:04:48.943539Z",
     "shell.execute_reply.started": "2024-05-15T08:04:48.893600Z"
    }
   },
   "outputs": [
    {
     "name": "stdout",
     "output_type": "stream",
     "text": [
      "env: INTERCHANGE_EXPERIMENTAL=1\n"
     ]
    }
   ],
   "source": [
    "env INTERCHANGE_EXPERIMENTAL=1"
   ]
  },
  {
   "cell_type": "code",
   "execution_count": 22,
   "id": "7d60c68e-d943-4c60-a552-083993e28e35",
   "metadata": {
    "execution": {
     "iopub.execute_input": "2024-05-15T08:04:48.947211Z",
     "iopub.status.busy": "2024-05-15T08:04:48.946975Z",
     "iopub.status.idle": "2024-05-15T08:04:58.817484Z",
     "shell.execute_reply": "2024-05-15T08:04:58.816547Z",
     "shell.execute_reply.started": "2024-05-15T08:04:48.947196Z"
    }
   },
   "outputs": [
    {
     "name": "stdout",
     "output_type": "stream",
     "text": [
      "[H][c]1[c]([Cl])[c]2[c]([c]([H])[c]1[C]([H])([H])[H])[S][C]([C](=[O])[O-])=[C]2[Cl]\n"
     ]
    },
    {
     "name": "stderr",
     "output_type": "stream",
     "text": [
      "/Users/jeffreywagner/conda/envs/protein-prep-workshop/lib/python3.10/site-packages/openff/interchange/components/interchange.py:954: UserWarning: Interchange object combination is experimental and likely to produce strange results. Any workflow using this method is not guaranteed to be suitable for production. Use with extreme caution and thoroughly validate results!\n",
      "  return _combine(self, other)\n"
     ]
    }
   ],
   "source": [
    "sage = ForceField(\"openff-2.2.0.offxml\")\n",
    "for idx, product in enumerate(products[:1]):\n",
    "    print(product.to_smiles())\n",
    "    relax_ligand(protein_interchange, product, sage, name=str(idx))\n",
    "    \n",
    "    "
   ]
  },
  {
   "cell_type": "code",
   "execution_count": 23,
   "id": "53151abe-bbbb-4aae-97df-aa573e9fe3e7",
   "metadata": {
    "execution": {
     "iopub.execute_input": "2024-05-15T08:05:04.251062Z",
     "iopub.status.busy": "2024-05-15T08:05:04.248533Z",
     "iopub.status.idle": "2024-05-15T08:05:04.285680Z",
     "shell.execute_reply": "2024-05-15T08:05:04.285031Z",
     "shell.execute_reply.started": "2024-05-15T08:05:04.250961Z"
    }
   },
   "outputs": [
    {
     "name": "stdout",
     "output_type": "stream",
     "text": [
      "0 9.874340048399475\n",
      "1 9.59750312419946\n",
      "2 10.26173632753668\n",
      "3 9.712493460600674\n",
      "4 10.039275469580609\n",
      "5 9.660781633916912\n",
      "6 9.59553051866389\n",
      "7 10.119217921687653\n",
      "8 9.425439068458983\n",
      "9 9.888940399085548\n"
     ]
    }
   ],
   "source": [
    "import numpy as np\n",
    "from openff.units import unit\n",
    "def naive_objective(ligand):\n",
    "    # CD of LEU76\n",
    "    target_coord = (4.278,   1.307,   9.049)\n",
    "    ligand_com = np.mean(ligand.conformers[0], axis=0).m_as(unit.angstrom)\n",
    "    return np.linalg.norm(target_coord - ligand_com)\n",
    "for idx, ligand in enumerate(products):\n",
    "    print(idx, naive_objective(ligand))\n",
    "          "
   ]
  },
  {
   "cell_type": "code",
   "execution_count": 24,
   "id": "262ae77c-0d40-4301-b0ee-1ff676bdc336",
   "metadata": {
    "execution": {
     "iopub.execute_input": "2024-05-15T08:05:05.978049Z",
     "iopub.status.busy": "2024-05-15T08:05:05.977052Z",
     "iopub.status.idle": "2024-05-15T08:07:22.095875Z",
     "shell.execute_reply": "2024-05-15T08:07:22.095043Z",
     "shell.execute_reply.started": "2024-05-15T08:05:05.977974Z"
    }
   },
   "outputs": [],
   "source": [
    "candidates = [top.molecule(1)]\n",
    "\n",
    "for idx in range(5):\n",
    "    candidates.sort(key=lambda x: naive_objective(x))\n",
    "    candidate = candidates.pop(0)\n",
    "    complex_interchange, state = relax_ligand(protein_interchange, candidate, sage, name=str(idx))\n",
    "    result_ligand = complex_interchange.topology.molecule(1)\n",
    "    candidates.extend(mutate_ligand(result_ligand))\n",
    "    "
   ]
  },
  {
   "cell_type": "code",
   "execution_count": 27,
   "id": "389a9bdc-2813-4e5f-a113-b88f29e37ea1",
   "metadata": {
    "execution": {
     "iopub.execute_input": "2024-05-15T05:29:22.959168Z",
     "iopub.status.busy": "2024-05-15T05:29:22.956671Z",
     "iopub.status.idle": "2024-05-15T05:29:23.017635Z",
     "shell.execute_reply": "2024-05-15T05:29:23.017179Z",
     "shell.execute_reply.started": "2024-05-15T05:29:22.959087Z"
    }
   },
   "outputs": [
    {
     "data": {
      "application/vnd.jupyter.widget-view+json": {
       "model_id": "68ccb3f80ed84f17853fc347202c0e9c",
       "version_major": 2,
       "version_minor": 0
      },
      "text/plain": [
       "NGLWidget()"
      ]
     },
     "metadata": {},
     "output_type": "display_data"
    }
   ],
   "source": [
    "candidates[1]"
   ]
  },
  {
   "cell_type": "code",
   "execution_count": 25,
   "id": "a091d568-c2d7-49ee-b369-07c7b9fa6034",
   "metadata": {
    "execution": {
     "iopub.execute_input": "2024-05-14T12:31:41.586417Z",
     "iopub.status.busy": "2024-05-14T12:31:41.586161Z",
     "iopub.status.idle": "2024-05-14T12:31:41.613903Z",
     "shell.execute_reply": "2024-05-14T12:31:41.612697Z",
     "shell.execute_reply.started": "2024-05-14T12:31:41.586391Z"
    },
    "scrolled": true
   },
   "outputs": [
    {
     "data": {
      "application/vnd.jupyter.widget-view+json": {
       "model_id": "1b1137865ce54f0798308987ca75c2a6",
       "version_major": 2,
       "version_minor": 0
      },
      "text/plain": [
       "NGLWidget()"
      ]
     },
     "metadata": {},
     "output_type": "display_data"
    }
   ],
   "source": [
    "import nglview\n",
    "nglview.show_file(\"14.pdb\")"
   ]
  },
  {
   "cell_type": "markdown",
   "id": "7ba17997-a402-4782-9aeb-701081fdd4f9",
   "metadata": {},
   "source": [
    "# Aspirational workflow"
   ]
  },
  {
   "cell_type": "code",
   "execution_count": null,
   "id": "fd381b25-f079-4ca6-8aff-11d03fffa5a5",
   "metadata": {},
   "outputs": [],
   "source": [
    "# (JM) naive_objective gets changed to:\n",
    "# * Will do an energy evaluation using a cached protein_simulation, cached protein coords, but a new ligand_interchange\n",
    "# * Halve vdW radii/soften clashes\n",
    "# * return tuple of objective_function (interaction energy)\n",
    "\n",
    "# (TDB) relax_ligand gets changed to\n",
    "# * make restraints stronger\n",
    "# * accept protein coords\n",
    "# * restain to ORIGINAL positions (don't let ligand scaffold and backbone walk away)\n",
    "# * NOT return state\n",
    "\n",
    "\n",
    "# (JW) mutate_ligand gets changed to:\n",
    "# * NOT rely on rdkit's conf gen (since it'll fail on larger functional groups), but instead will do a constrained opt using Sage\n",
    "\n",
    "# candidate list will be of the form (ligand_offmol, protein_coords, interaction_energy)\n",
    "candidates = [(orig_ligand, orig_protein_coords, 999 kcal/mol)]\n",
    "protein_simulation = softened_protein_interchange.to_openmm()\n",
    "\n",
    "for idx in range(15):\n",
    "    candidates.sort(key=lambda x: x[2])\n",
    "    candidate = candidates.pop(0)\n",
    "    # Relax using vanilla sage + ff14SB, get the minimized complex as an interchange\n",
    "    complex_interchange = relax_ligand(protein_interchange, \n",
    "                                       orig_protein_coords, \n",
    "                                       candidate, \n",
    "                                       sage, \n",
    "                                       name=str(idx))\n",
    "    result_ligand = complex_interchange.topology.molecule(1)\n",
    "    # This comes up with chemical mutations AND new conformers, keeping the old atoms constrained.  \n",
    "    mutations = mutate_ligand(result_ligand)\n",
    "    for mutation in mutations:\n",
    "        # This uses a softened version of Sage + ff14SB to calculate the protein-ligand interaction energy\n",
    "        interaction_energy = naive_objective(mutation, protein_simulation, complex_interchange)\n",
    "        candidates.append(mutation, \n",
    "                          complex_interchange.topology.molecule(0).conformers[0], \n",
    "                          interaction_energy)"
   ]
  },
  {
   "cell_type": "markdown",
   "id": "e4383a6b-03e7-46eb-bb4b-4d7024492e5d",
   "metadata": {},
   "source": [
    "# Scratch space"
   ]
  },
  {
   "cell_type": "code",
   "execution_count": 35,
   "id": "f74dcb94-7429-4b99-ada0-9cc57baf2ce5",
   "metadata": {
    "execution": {
     "iopub.execute_input": "2024-05-15T07:20:13.265481Z",
     "iopub.status.busy": "2024-05-15T07:20:13.261477Z",
     "iopub.status.idle": "2024-05-15T07:20:15.482533Z",
     "shell.execute_reply": "2024-05-15T07:20:15.481786Z",
     "shell.execute_reply.started": "2024-05-15T07:20:13.265420Z"
    }
   },
   "outputs": [
    {
     "data": {
      "text/html": [
       "-13509.812000674337 kilojoule/mole"
      ],
      "text/latex": [
       "$-13509.812000674337\\ \\frac{\\mathrm{kilojoule}}{\\mathrm{mole}}$"
      ],
      "text/plain": [
       "-13509.812000674337 <Unit('kilojoule / mole')>"
      ]
     },
     "execution_count": 35,
     "metadata": {},
     "output_type": "execute_result"
    }
   ],
   "source": [
    "from openff.interchange.drivers.gromacs import get_gromacs_energies\n",
    "from openff.interchange.drivers.amber import get_amber_energies\n",
    "from openff.interchange.drivers.openmm import get_openmm_energies\n",
    "energies = get_openmm_energies(complex_interchange)\n",
    "energies.total_energy\n",
    "#get_amber_energies(complex_interchange)\n",
    "#get_gromacs_energies(complex_interchange)"
   ]
  },
  {
   "cell_type": "code",
   "execution_count": 172,
   "id": "56e8c8cf-bfe5-44f7-88ab-d655d8d00fbf",
   "metadata": {
    "execution": {
     "iopub.execute_input": "2024-05-13T14:00:31.344420Z",
     "iopub.status.busy": "2024-05-13T14:00:31.343445Z",
     "iopub.status.idle": "2024-05-13T14:00:31.773975Z",
     "shell.execute_reply": "2024-05-13T14:00:31.773466Z",
     "shell.execute_reply.started": "2024-05-13T14:00:31.344342Z"
    }
   },
   "outputs": [
    {
     "name": "stdout",
     "output_type": "stream",
     "text": [
      "total_energy=Quantity(value=-12382.043884277344, unit=kilojoule/mole) ligand_energy=Quantity(value=41751.21142578125, unit=kilojoule/mole) protein_energy=Quantity(value=-12016.8017578125, unit=kilojoule/mole)\n"
     ]
    }
   ],
   "source": [
    "import copy\n",
    "# Get full simulation energy\n",
    "state = simulation.context.getState(getForces=False, getEnergy=True)\n",
    "total_energy = state.getPotentialEnergy()\n",
    "\n",
    "\n",
    "temp_sys = copy.deepcopy(omm_sys)\n",
    "nbf = [i for i in temp_sys.getForces() if \"onbond\" in str(i)][0]\n",
    "\n",
    "# Turn off protein nonbonded (get ligand energy)\n",
    "for particle in range(top.molecule(0).n_atoms):\n",
    "    #_, sigma, epsilon = nbf.getParticleParameters\n",
    "    nbf.setParticleParameters(particle, 0., 0., 0.)\n",
    "# Get just-ligand system energy\n",
    "integrator = openmm.LangevinIntegrator(\n",
    "    300 * omm_unit.kelvin,\n",
    "    1 / omm_unit.picosecond,\n",
    "    0.002 * omm_unit.picoseconds,\n",
    ")\n",
    "\n",
    "ligand_simulation = openmm.app.Simulation(omm_top, temp_sys, integrator)\n",
    "ligand_simulation.context.setPositions(simulation.context.getState(getPositions=True).getPositions())\n",
    "ligand_energy = ligand_simulation.context.getState(getEnergy=True).getPotentialEnergy()\n",
    "\n",
    "\n",
    "# Make another copy\n",
    "temp_sys = copy.deepcopy(omm_sys)\n",
    "nbf = [i for i in temp_sys.getForces() if \"onbond\" in str(i)][0]\n",
    "\n",
    "# Turn off LIGAND nonbonded\n",
    "for particle in range(top.molecule(0).n_atoms, nbf.getNumParticles()) :\n",
    "    #_, sigma, epsilon = nbf.getParticleParameters\n",
    "    nbf.setParticleParameters(particle, 0., 0., 0.)\n",
    "\n",
    "# Get just-protein system energy\n",
    "integrator = openmm.LangevinIntegrator(\n",
    "    300 * omm_unit.kelvin,\n",
    "    1 / omm_unit.picosecond,\n",
    "    0.002 * omm_unit.picoseconds,\n",
    ")\n",
    "\n",
    "protein_simulation = openmm.app.Simulation(omm_top, temp_sys, integrator)\n",
    "protein_simulation.context.setPositions(simulation.context.getState(getPositions=True).getPositions())\n",
    "protein_energy = protein_simulation.context.getState(getEnergy=True).getPotentialEnergy()\n",
    "\n",
    "#nbf.setParticleParameters?\n",
    "#from openmm import XmlSerializer\n",
    "#XmlSerializer.serialize(state)\n",
    "print(f\"{total_energy=} {ligand_energy=} {protein_energy=}\")"
   ]
  },
  {
   "cell_type": "code",
   "execution_count": 115,
   "id": "16673643-c5db-438c-90ca-9dabe6001289",
   "metadata": {
    "execution": {
     "iopub.execute_input": "2024-05-13T03:24:48.956258Z",
     "iopub.status.busy": "2024-05-13T03:24:48.953905Z",
     "iopub.status.idle": "2024-05-13T03:24:49.173113Z",
     "shell.execute_reply": "2024-05-13T03:24:49.172625Z",
     "shell.execute_reply.started": "2024-05-13T03:24:48.956178Z"
    }
   },
   "outputs": [],
   "source": [
    "import rdkit\n",
    "rxn = rdkit.Chem.rdChemReactions.ReactionFromSmarts(\"[#6:1][*X1:2] >> [#6:1][C:2]\")\n",
    "unsanitized_products = rxn.RunReactants([rdmol])\n",
    "\n",
    "# Since some substitutions won't actually lead to a \"new\" molecule, only keep\n",
    "# unique molecules\n",
    "products = list()\n",
    "for (product,) in unsanitized_products:\n",
    "    mol_copy = rdkit.Chem.Mol(product)\n",
    "    \n",
    "    rdkit.Chem.SanitizeMol(mol_copy, rdkit.Chem.SANITIZE_ALL)\n",
    "    rdkit.Chem.AssignStereochemistryFrom3D(mol_copy)\n",
    "    rdkit.Chem.Kekulize(mol_copy, clearAromaticFlags=True)\n",
    "    rdkit.Chem.SetAromaticity(mol_copy, rdkit.Chem.AromaticityModel.AROMATICITY_MDL)\n",
    "    \n",
    "    products.append(Molecule.from_rdkit(mol_copy))"
   ]
  },
  {
   "cell_type": "code",
   "execution_count": 159,
   "id": "12f8d01c-5e64-4e3c-8c99-8b363e075b58",
   "metadata": {
    "execution": {
     "iopub.execute_input": "2024-05-13T13:35:36.444596Z",
     "iopub.status.busy": "2024-05-13T13:35:36.443958Z",
     "iopub.status.idle": "2024-05-13T13:35:36.454935Z",
     "shell.execute_reply": "2024-05-13T13:35:36.453637Z",
     "shell.execute_reply.started": "2024-05-13T13:35:36.444554Z"
    }
   },
   "outputs": [
    {
     "data": {
      "text/plain": [
       "['Energy',\n",
       " 'Forces',\n",
       " 'IntegratorParameters',\n",
       " 'ParameterDerivatives',\n",
       " 'Parameters',\n",
       " 'Positions',\n",
       " 'Velocities',\n",
       " '__class__',\n",
       " '__copy__',\n",
       " '__deepcopy__',\n",
       " '__delattr__',\n",
       " '__dict__',\n",
       " '__dir__',\n",
       " '__doc__',\n",
       " '__eq__',\n",
       " '__format__',\n",
       " '__ge__',\n",
       " '__getattribute__',\n",
       " '__getstate__',\n",
       " '__gt__',\n",
       " '__hash__',\n",
       " '__init__',\n",
       " '__init_subclass__',\n",
       " '__le__',\n",
       " '__lt__',\n",
       " '__module__',\n",
       " '__ne__',\n",
       " '__new__',\n",
       " '__reduce__',\n",
       " '__reduce_ex__',\n",
       " '__repr__',\n",
       " '__setattr__',\n",
       " '__setstate__',\n",
       " '__sizeof__',\n",
       " '__str__',\n",
       " '__subclasshook__',\n",
       " '__swig_destroy__',\n",
       " '__weakref__',\n",
       " '_getNumParticles',\n",
       " '_getVectorAsNumpy',\n",
       " '_getVectorAsVec3',\n",
       " 'getDataTypes',\n",
       " 'getEnergyParameterDerivatives',\n",
       " 'getForces',\n",
       " 'getKineticEnergy',\n",
       " 'getParameters',\n",
       " 'getPeriodicBoxVectors',\n",
       " 'getPeriodicBoxVolume',\n",
       " 'getPositions',\n",
       " 'getPotentialEnergy',\n",
       " 'getStepCount',\n",
       " 'getTime',\n",
       " 'getVelocities',\n",
       " 'this',\n",
       " 'thisown']"
      ]
     },
     "execution_count": 159,
     "metadata": {},
     "output_type": "execute_result"
    }
   ],
   "source": [
    "dir(state)"
   ]
  },
  {
   "cell_type": "code",
   "execution_count": 157,
   "id": "ce8c28c0-5701-4648-b7f7-7f635c1cbd4e",
   "metadata": {
    "execution": {
     "iopub.execute_input": "2024-05-13T10:05:17.940442Z",
     "iopub.status.busy": "2024-05-13T10:05:17.937843Z",
     "iopub.status.idle": "2024-05-13T10:05:17.999126Z",
     "shell.execute_reply": "2024-05-13T10:05:17.997116Z",
     "shell.execute_reply.started": "2024-05-13T10:05:17.940335Z"
    }
   },
   "outputs": [
    {
     "data": {
      "application/vnd.jupyter.widget-view+json": {
       "model_id": "22c77622191e4039a103c3d7786536af",
       "version_major": 2,
       "version_minor": 0
      },
      "text/plain": [
       "NGLWidget()"
      ]
     },
     "metadata": {},
     "output_type": "display_data"
    }
   ],
   "source": [
    "import nglview\n",
    "nglview.show_file(\"14.pdb\")"
   ]
  },
  {
   "cell_type": "code",
   "execution_count": 32,
   "id": "08868f71-8ff8-4762-9239-59306172f748",
   "metadata": {
    "execution": {
     "iopub.execute_input": "2024-05-12T23:51:14.492398Z",
     "iopub.status.busy": "2024-05-12T23:51:14.489629Z",
     "iopub.status.idle": "2024-05-12T23:51:14.983555Z",
     "shell.execute_reply": "2024-05-12T23:51:14.981131Z",
     "shell.execute_reply.started": "2024-05-12T23:51:14.492294Z"
    }
   },
   "outputs": [],
   "source": [
    "!cat 0.pdb > xxx.pdb\n",
    "!echo \"ENDMDL\" >> xxx.pdb\n",
    "!cat 1.pdb >> xxx.pdb"
   ]
  },
  {
   "cell_type": "code",
   "execution_count": 33,
   "id": "76551bbf-d7cc-4b16-822b-b7a56a415d0b",
   "metadata": {
    "execution": {
     "iopub.execute_input": "2024-05-12T23:51:15.146692Z",
     "iopub.status.busy": "2024-05-12T23:51:15.145801Z",
     "iopub.status.idle": "2024-05-12T23:51:15.182591Z",
     "shell.execute_reply": "2024-05-12T23:51:15.181798Z",
     "shell.execute_reply.started": "2024-05-12T23:51:15.146635Z"
    }
   },
   "outputs": [
    {
     "data": {
      "application/vnd.jupyter.widget-view+json": {
       "model_id": "54a06582f80b4458ae5b8fc4af47f240",
       "version_major": 2,
       "version_minor": 0
      },
      "text/plain": [
       "NGLWidget()"
      ]
     },
     "metadata": {},
     "output_type": "display_data"
    }
   ],
   "source": [
    "nglview.show_file(\"xxx.pdb\")"
   ]
  },
  {
   "cell_type": "code",
   "execution_count": 42,
   "id": "f695dfdd-c4d2-4945-a0bf-0c637d344fef",
   "metadata": {
    "execution": {
     "iopub.execute_input": "2024-05-13T00:21:14.512650Z",
     "iopub.status.busy": "2024-05-13T00:21:14.512075Z",
     "iopub.status.idle": "2024-05-13T00:21:14.524228Z",
     "shell.execute_reply": "2024-05-13T00:21:14.522866Z",
     "shell.execute_reply.started": "2024-05-13T00:21:14.512611Z"
    }
   },
   "outputs": [
    {
     "data": {
      "text/plain": [
       "['AlignMolConformers',\n",
       " 'CanonicalizeConformer',\n",
       " 'Conformer',\n",
       " 'GetConformerRMS',\n",
       " 'GetConformerRMSMatrix',\n",
       " 'NoConformers',\n",
       " 'TransformConformer']"
      ]
     },
     "execution_count": 42,
     "metadata": {},
     "output_type": "execute_result"
    }
   ],
   "source": [
    "import rdkit.Chem.AllChem\n",
    "[i for i in dir(rdkit.Chem.AllChem) if \"onform\" in i]"
   ]
  },
  {
   "cell_type": "markdown",
   "id": "5b429695-1a7f-4df8-9c64-5d604286251c",
   "metadata": {},
   "source": [
    "### Objective function\n",
    "for number_of_generations:\n",
    "    Mutate terminal C-[*X1] moieties using a bunch of prepared reactions\n",
    "    Quickly evaluate whether naive coords make objective function worse\n",
    "    Minimize to get better coords\n",
    "    Check whether the energy is really bad/there are clashes\n",
    "        Eval protein-ligand vdw MINUS protein vdW MINUS ligand vdW\n",
    "        Use some mdanalysis tool to explicitly evaluate contact surface area (unable to find anything here)\n",
    "        \n",
    "    Evaluate objective\n",
    "\n",
    "    "
   ]
  },
  {
   "cell_type": "code",
   "execution_count": 173,
   "id": "e2f846e4-4c83-44b2-99c2-640a069fbfa9",
   "metadata": {
    "execution": {
     "iopub.execute_input": "2024-05-14T03:01:10.344560Z",
     "iopub.status.busy": "2024-05-14T03:01:10.341472Z",
     "iopub.status.idle": "2024-05-14T03:01:28.270443Z",
     "shell.execute_reply": "2024-05-14T03:01:28.268819Z",
     "shell.execute_reply.started": "2024-05-14T03:01:10.344478Z"
    }
   },
   "outputs": [
    {
     "ename": "NotImplementedError",
     "evalue": "If some atoms have residue names, all atoms must have residue names.",
     "output_type": "error",
     "traceback": [
      "\u001b[0;31m---------------------------------------------------------------------------\u001b[0m",
      "\u001b[0;31mNotImplementedError\u001b[0m                       Traceback (most recent call last)",
      "Cell \u001b[0;32mIn[173], line 1\u001b[0m\n\u001b[0;32m----> 1\u001b[0m \u001b[43mcomplex_interchange\u001b[49m\u001b[38;5;241;43m.\u001b[39;49m\u001b[43mto_gromacs\u001b[49m\u001b[43m(\u001b[49m\u001b[38;5;124;43m\"\u001b[39;49m\u001b[38;5;124;43mxxx\u001b[39;49m\u001b[38;5;124;43m\"\u001b[39;49m\u001b[43m)\u001b[49m\n",
      "File \u001b[0;32m~/conda/envs/protein-prep-workshop/lib/python3.10/site-packages/openff/interchange/components/interchange.py:445\u001b[0m, in \u001b[0;36mInterchange.to_gromacs\u001b[0;34m(self, prefix, decimal, hydrogen_mass)\u001b[0m\n\u001b[1;32m    441\u001b[0m \u001b[38;5;28;01mfrom\u001b[39;00m \u001b[38;5;21;01mopenff\u001b[39;00m\u001b[38;5;21;01m.\u001b[39;00m\u001b[38;5;21;01minterchange\u001b[39;00m\u001b[38;5;21;01m.\u001b[39;00m\u001b[38;5;21;01minterop\u001b[39;00m\u001b[38;5;21;01m.\u001b[39;00m\u001b[38;5;21;01mgromacs\u001b[39;00m\u001b[38;5;21;01m.\u001b[39;00m\u001b[38;5;21;01mexport\u001b[39;00m\u001b[38;5;21;01m.\u001b[39;00m\u001b[38;5;21;01m_export\u001b[39;00m \u001b[38;5;28;01mimport\u001b[39;00m GROMACSWriter\n\u001b[1;32m    442\u001b[0m \u001b[38;5;28;01mfrom\u001b[39;00m \u001b[38;5;21;01mopenff\u001b[39;00m\u001b[38;5;21;01m.\u001b[39;00m\u001b[38;5;21;01minterchange\u001b[39;00m\u001b[38;5;21;01m.\u001b[39;00m\u001b[38;5;21;01msmirnoff\u001b[39;00m\u001b[38;5;21;01m.\u001b[39;00m\u001b[38;5;21;01m_gromacs\u001b[39;00m \u001b[38;5;28;01mimport\u001b[39;00m _convert\n\u001b[1;32m    444\u001b[0m writer \u001b[38;5;241m=\u001b[39m GROMACSWriter(\n\u001b[0;32m--> 445\u001b[0m     system\u001b[38;5;241m=\u001b[39m\u001b[43m_convert\u001b[49m\u001b[43m(\u001b[49m\u001b[38;5;28;43mself\u001b[39;49m\u001b[43m,\u001b[49m\u001b[43m \u001b[49m\u001b[43mhydrogen_mass\u001b[49m\u001b[38;5;241;43m=\u001b[39;49m\u001b[43mhydrogen_mass\u001b[49m\u001b[43m)\u001b[49m,\n\u001b[1;32m    446\u001b[0m     top_file\u001b[38;5;241m=\u001b[39mprefix \u001b[38;5;241m+\u001b[39m \u001b[38;5;124m\"\u001b[39m\u001b[38;5;124m.top\u001b[39m\u001b[38;5;124m\"\u001b[39m,\n\u001b[1;32m    447\u001b[0m     gro_file\u001b[38;5;241m=\u001b[39mprefix \u001b[38;5;241m+\u001b[39m \u001b[38;5;124m\"\u001b[39m\u001b[38;5;124m.gro\u001b[39m\u001b[38;5;124m\"\u001b[39m,\n\u001b[1;32m    448\u001b[0m )\n\u001b[1;32m    450\u001b[0m writer\u001b[38;5;241m.\u001b[39mto_top()\n\u001b[1;32m    451\u001b[0m writer\u001b[38;5;241m.\u001b[39mto_gro(decimal\u001b[38;5;241m=\u001b[39mdecimal)\n",
      "File \u001b[0;32m~/conda/envs/protein-prep-workshop/lib/python3.10/site-packages/openff/interchange/smirnoff/_gromacs.py:197\u001b[0m, in \u001b[0;36m_convert\u001b[0;34m(interchange, hydrogen_mass)\u001b[0m\n\u001b[1;32m    195\u001b[0m \u001b[38;5;28;01mif\u001b[39;00m \u001b[38;5;28;01mNone\u001b[39;00m \u001b[38;5;129;01min\u001b[39;00m unique_residue_names:\n\u001b[1;32m    196\u001b[0m     \u001b[38;5;28;01mif\u001b[39;00m \u001b[38;5;28mlen\u001b[39m(unique_residue_names) \u001b[38;5;241m>\u001b[39m \u001b[38;5;241m1\u001b[39m:\n\u001b[0;32m--> 197\u001b[0m         \u001b[38;5;28;01mraise\u001b[39;00m \u001b[38;5;167;01mNotImplementedError\u001b[39;00m(\n\u001b[1;32m    198\u001b[0m             \u001b[38;5;124m\"\u001b[39m\u001b[38;5;124mIf some atoms have residue names, all atoms must have residue names.\u001b[39m\u001b[38;5;124m\"\u001b[39m,\n\u001b[1;32m    199\u001b[0m         )\n\u001b[1;32m    200\u001b[0m     \u001b[38;5;28;01melse\u001b[39;00m:\n\u001b[1;32m    201\u001b[0m         \u001b[38;5;66;03m# Use dummy since we're already iterating over this molecule's atoms\u001b[39;00m\n\u001b[1;32m    202\u001b[0m         \u001b[38;5;28;01mfor\u001b[39;00m _atom \u001b[38;5;129;01min\u001b[39;00m unique_molecule\u001b[38;5;241m.\u001b[39matoms:\n",
      "\u001b[0;31mNotImplementedError\u001b[0m: If some atoms have residue names, all atoms must have residue names."
     ]
    }
   ],
   "source": [
    "complex_interchange.to_gromacs(\"xxx\")"
   ]
  },
  {
   "cell_type": "markdown",
   "id": "6819bb40-05d6-4413-a87d-517d0ce74a9b",
   "metadata": {},
   "source": [
    "# Do a non-looped run of code to parameterize, restrain, and simulate mutated ligand"
   ]
  },
  {
   "cell_type": "code",
   "execution_count": 2,
   "id": "2bcd297c-ad14-4423-af0a-db461cd20e8d",
   "metadata": {
    "execution": {
     "iopub.execute_input": "2024-05-14T03:23:34.694717Z",
     "iopub.status.busy": "2024-05-14T03:23:34.694401Z",
     "iopub.status.idle": "2024-05-14T03:24:00.524071Z",
     "shell.execute_reply": "2024-05-14T03:24:00.523543Z",
     "shell.execute_reply.started": "2024-05-14T03:23:34.694702Z"
    }
   },
   "outputs": [
    {
     "data": {
      "application/vnd.jupyter.widget-view+json": {
       "model_id": "2596c933c58941e8a879eb72f9f1d055",
       "version_major": 2,
       "version_minor": 0
      },
      "text/plain": []
     },
     "metadata": {},
     "output_type": "display_data"
    }
   ],
   "source": [
    "ff14sb = ForceField(\"ff14sb_off_impropers_0.0.4.offxml\")\n",
    "protein_interchange = ff14sb.create_interchange(top.molecule(0).to_topology())"
   ]
  },
  {
   "cell_type": "code",
   "execution_count": 3,
   "id": "0ca28799-9bdc-48db-a711-9cb7349db27e",
   "metadata": {
    "execution": {
     "iopub.execute_input": "2024-05-14T03:24:00.525080Z",
     "iopub.status.busy": "2024-05-14T03:24:00.524809Z",
     "iopub.status.idle": "2024-05-14T03:24:04.809591Z",
     "shell.execute_reply": "2024-05-14T03:24:04.807432Z",
     "shell.execute_reply.started": "2024-05-14T03:24:00.525064Z"
    }
   },
   "outputs": [
    {
     "ename": "NameError",
     "evalue": "name 'products_list' is not defined",
     "output_type": "error",
     "traceback": [
      "\u001b[0;31m---------------------------------------------------------------------------\u001b[0m",
      "\u001b[0;31mNameError\u001b[0m                                 Traceback (most recent call last)",
      "Cell \u001b[0;32mIn[3], line 4\u001b[0m\n\u001b[1;32m      2\u001b[0m ntkw \u001b[38;5;241m=\u001b[39m NAGLToolkitWrapper()\n\u001b[1;32m      3\u001b[0m \u001b[38;5;66;03m#print(NAGLToolkitWrapper.list_available_nagl_models())\u001b[39;00m\n\u001b[0;32m----> 4\u001b[0m product \u001b[38;5;241m=\u001b[39m \u001b[43mproducts_list\u001b[49m[\u001b[38;5;241m0\u001b[39m]\n\u001b[1;32m      5\u001b[0m ntkw\u001b[38;5;241m.\u001b[39massign_partial_charges(product, \u001b[38;5;124m\"\u001b[39m\u001b[38;5;124mopenff-gnn-am1bcc-0.1.0-rc.2.pt\u001b[39m\u001b[38;5;124m\"\u001b[39m)\n\u001b[1;32m      6\u001b[0m sage \u001b[38;5;241m=\u001b[39m ForceField(\u001b[38;5;124m\"\u001b[39m\u001b[38;5;124mopenff-2.2.0.offxml\u001b[39m\u001b[38;5;124m\"\u001b[39m)\n",
      "\u001b[0;31mNameError\u001b[0m: name 'products_list' is not defined"
     ]
    }
   ],
   "source": [
    "from openff.toolkit.utils.nagl_wrapper import NAGLToolkitWrapper\n",
    "ntkw = NAGLToolkitWrapper()\n",
    "#print(NAGLToolkitWrapper.list_available_nagl_models())\n",
    "product = products_list[0]\n",
    "ntkw.assign_partial_charges(product, \"openff-gnn-am1bcc-0.1.0-rc.2.pt\")\n",
    "sage = ForceField(\"openff-2.2.0.offxml\")\n",
    "product_interchange = sage.create_interchange(product.to_topology(), charge_from_molecules=[product])"
   ]
  },
  {
   "cell_type": "code",
   "execution_count": null,
   "id": "6d38a497-255c-4e5d-ad57-0fa3f3729a5f",
   "metadata": {
    "execution": {
     "iopub.status.busy": "2024-05-14T03:24:04.810030Z",
     "iopub.status.idle": "2024-05-14T03:24:04.810202Z",
     "shell.execute_reply": "2024-05-14T03:24:04.810116Z",
     "shell.execute_reply.started": "2024-05-14T03:24:04.810108Z"
    }
   },
   "outputs": [],
   "source": [
    "env INTERCHANGE_EXPERIMENTAL=1"
   ]
  },
  {
   "cell_type": "code",
   "execution_count": null,
   "id": "1cfab3f7-826e-4367-b918-4a93965be1d7",
   "metadata": {
    "execution": {
     "iopub.status.busy": "2024-05-14T03:24:04.810934Z",
     "iopub.status.idle": "2024-05-14T03:24:04.811125Z",
     "shell.execute_reply": "2024-05-14T03:24:04.811032Z",
     "shell.execute_reply.started": "2024-05-14T03:24:04.811024Z"
    }
   },
   "outputs": [],
   "source": [
    "complex_interchange = protein_interchange.combine(product_interchange)\n",
    "complex_interchange.visualize()"
   ]
  },
  {
   "cell_type": "code",
   "execution_count": null,
   "id": "9eb672eb-560a-4d2a-b636-76e32d1b4d8a",
   "metadata": {
    "execution": {
     "iopub.status.busy": "2024-05-14T03:24:04.811885Z",
     "iopub.status.idle": "2024-05-14T03:24:04.812054Z",
     "shell.execute_reply": "2024-05-14T03:24:04.811970Z",
     "shell.execute_reply.started": "2024-05-14T03:24:04.811962Z"
    }
   },
   "outputs": [],
   "source": [
    "import openmm\n",
    "import openmm.unit as omm_unit\n",
    "omm_sys = complex_interchange.to_openmm_system()\n",
    "omm_top = complex_interchange.to_openmm_topology()\n",
    "\n",
    "\n",
    "restraint = openmm.CustomExternalForce('k*periodicdistance(x, y, z, x0, y0, z0)^2')\n",
    "omm_sys.addForce(restraint)\n",
    "restraint.addGlobalParameter('k', 100.0 * omm_unit.kilojoules_per_mole / omm_unit.nanometer)\n",
    "restraint.addPerParticleParameter('x0')\n",
    "restraint.addPerParticleParameter('y0')\n",
    "restraint.addPerParticleParameter('z0')\n",
    "\n",
    "for atom in omm_top.atoms():\n",
    "    if atom.name in ['C', 'O', 'N', 'CA', 'S1X', 'O1X', 'O2X']:\n",
    "        restraint.addParticle(atom.index, complex_interchange.positions[atom.index].to_openmm())\n",
    "\n",
    "# Construct and configure a Langevin integrator at 300 K with an appropriate friction constant and time-step\n",
    "integrator = openmm.LangevinIntegrator(\n",
    "    300 * omm_unit.kelvin,\n",
    "    1 / omm_unit.picosecond,\n",
    "    0.002 * omm_unit.picoseconds,\n",
    ")\n",
    "\n",
    "simulation = openmm.app.Simulation(omm_top, omm_sys, integrator)\n",
    "simulation.context.setPositions(complex_interchange.positions.to_openmm())\n",
    "simulation.context.setVelocitiesToTemperature(300)\n",
    "simulation.step(1000)\n",
    "\n",
    "\n",
    "\n",
    "# Under the hood, this creates *OpenMM* `System` and `Topology` objects, then combines them together\n",
    "#simulation = interchange.to_openmm_simulation(integrator=integrator)"
   ]
  },
  {
   "cell_type": "code",
   "execution_count": null,
   "id": "938f9106-4401-46a3-bb64-e158fe9902a9",
   "metadata": {
    "execution": {
     "iopub.status.busy": "2024-05-14T03:24:04.813064Z",
     "iopub.status.idle": "2024-05-14T03:24:04.813246Z",
     "shell.execute_reply": "2024-05-14T03:24:04.813164Z",
     "shell.execute_reply.started": "2024-05-14T03:24:04.813157Z"
    }
   },
   "outputs": [],
   "source": [
    "dir(simulation.context)"
   ]
  },
  {
   "cell_type": "code",
   "execution_count": null,
   "id": "69015b1a-64f8-479c-a4b2-c0dc8f76f985",
   "metadata": {
    "execution": {
     "iopub.status.busy": "2024-05-14T03:24:04.813724Z",
     "iopub.status.idle": "2024-05-14T03:24:04.813882Z",
     "shell.execute_reply": "2024-05-14T03:24:04.813803Z",
     "shell.execute_reply.started": "2024-05-14T03:24:04.813796Z"
    }
   },
   "outputs": [],
   "source": [
    "from openff.units.openmm import from_openmm\n",
    "omm_positions = simulation.context.getState(getPositions=True).getPositions()\n",
    "openmm.app.PDBFile.writeFile(simulation.topology, omm_positions, open('output.pdb', 'w'))\n",
    "complex_interchange.positions = from_openmm(omm_positions)\n",
    "complex_interchange.visualize()"
   ]
  },
  {
   "cell_type": "code",
   "execution_count": 79,
   "id": "03236b38-da8f-4314-ad68-0c384d781dde",
   "metadata": {
    "execution": {
     "iopub.execute_input": "2024-05-14T05:41:27.549985Z",
     "iopub.status.busy": "2024-05-14T05:41:27.547122Z",
     "iopub.status.idle": "2024-05-14T05:41:27.597934Z",
     "shell.execute_reply": "2024-05-14T05:41:27.597221Z",
     "shell.execute_reply.started": "2024-05-14T05:41:27.549862Z"
    }
   },
   "outputs": [
    {
     "data": {
      "application/vnd.jupyter.widget-view+json": {
       "model_id": "76cfcf82ab534f80b7b4ada7c342ed47",
       "version_major": 2,
       "version_minor": 0
      },
      "text/plain": [
       "NGLWidget()"
      ]
     },
     "metadata": {},
     "output_type": "display_data"
    }
   ],
   "source": [
    "nv = nglview.show_file(\"selected_prediction_aligned.pdb\")\n",
    "nv.add_surface(\"protein\", opacity=0.3)\n",
    "nv"
   ]
  },
  {
   "cell_type": "code",
   "execution_count": 81,
   "id": "4014cdb7-fe41-491f-b20b-0fecae6035ef",
   "metadata": {
    "execution": {
     "iopub.execute_input": "2024-05-14T05:43:22.997780Z",
     "iopub.status.busy": "2024-05-14T05:43:22.996933Z",
     "iopub.status.idle": "2024-05-14T05:43:23.058166Z",
     "shell.execute_reply": "2024-05-14T05:43:23.056459Z",
     "shell.execute_reply.started": "2024-05-14T05:43:22.997737Z"
    }
   },
   "outputs": [
    {
     "data": {
      "application/vnd.jupyter.widget-view+json": {
       "model_id": "3e9ae3f3c2754b66bdb04ae0356fea83",
       "version_major": 2,
       "version_minor": 0
      },
      "text/plain": [
       "NGLWidget()"
      ]
     },
     "metadata": {},
     "output_type": "display_data"
    }
   ],
   "source": [
    "nv = nglview.show_file(\"14.pdb\")\n",
    "nv.add_surface(\"protein\", opacity=0.3)\n",
    "nv"
   ]
  },
  {
   "cell_type": "code",
   "execution_count": 87,
   "id": "cbe5f07e-3fb9-4329-98c5-5b18f28519d5",
   "metadata": {
    "execution": {
     "iopub.execute_input": "2024-05-14T05:52:20.800190Z",
     "iopub.status.busy": "2024-05-14T05:52:20.797278Z",
     "iopub.status.idle": "2024-05-14T05:52:20.819327Z",
     "shell.execute_reply": "2024-05-14T05:52:20.818614Z",
     "shell.execute_reply.started": "2024-05-14T05:52:20.800116Z"
    }
   },
   "outputs": [
    {
     "data": {
      "text/plain": [
       "[34.26784431824785,\n",
       " -37.69383848160029,\n",
       " -41.627593206517496,\n",
       " 0,\n",
       " 0.2801427587500124,\n",
       " 48.87981942700043,\n",
       " -44.03012494511565,\n",
       " 0,\n",
       " 56.15695411682329,\n",
       " 22.75752453960679,\n",
       " 25.621450212939713,\n",
       " 0,\n",
       " 0.15315628051757812,\n",
       " -1.7593145370483398,\n",
       " 3.26180362701416,\n",
       " 1]"
      ]
     },
     "execution_count": 87,
     "metadata": {},
     "output_type": "execute_result"
    }
   ],
   "source": [
    "#nv.stage.viewerControls.getOrientation()\n",
    "nv.get_state()['_camera_orientation']"
   ]
  },
  {
   "cell_type": "code",
   "execution_count": null,
   "id": "4d9a8402-068c-4088-b868-a98db9d43d97",
   "metadata": {
    "execution": {
     "execution_failed": "2024-05-14T13:48:01.795Z"
    }
   },
   "outputs": [],
   "source": [
    "products[0].visualize(\"nglview\")"
   ]
  },
  {
   "cell_type": "code",
   "execution_count": 89,
   "id": "e88a8233-c9a8-4766-81f6-e212fb5eb96b",
   "metadata": {
    "execution": {
     "iopub.execute_input": "2024-05-14T13:00:16.788653Z",
     "iopub.status.busy": "2024-05-14T13:00:16.786149Z",
     "iopub.status.idle": "2024-05-14T13:00:16.842238Z",
     "shell.execute_reply": "2024-05-14T13:00:16.841233Z",
     "shell.execute_reply.started": "2024-05-14T13:00:16.788533Z"
    }
   },
   "outputs": [
    {
     "data": {
      "application/vnd.jupyter.widget-view+json": {
       "model_id": "8ea85647810c4fa1b0fa499454669daf",
       "version_major": 2,
       "version_minor": 0
      },
      "text/plain": [
       "NGLWidget()"
      ]
     },
     "metadata": {},
     "output_type": "display_data"
    }
   ],
   "source": [
    "temp_mol = Molecule(products[0])\n",
    "temp_mol._conformers = [minimized_coords]\n",
    "temp_mol.visualize('nglview')"
   ]
  },
  {
   "cell_type": "code",
   "execution_count": 69,
   "id": "3d8a822c-842d-494c-9f6c-871426a032e7",
   "metadata": {
    "execution": {
     "iopub.execute_input": "2024-05-14T12:50:57.880363Z",
     "iopub.status.busy": "2024-05-14T12:50:57.879341Z",
     "iopub.status.idle": "2024-05-14T12:50:57.891445Z",
     "shell.execute_reply": "2024-05-14T12:50:57.889892Z",
     "shell.execute_reply.started": "2024-05-14T12:50:57.880287Z"
    }
   },
   "outputs": [
    {
     "data": {
      "text/plain": [
       "'0'"
      ]
     },
     "execution_count": 69,
     "metadata": {},
     "output_type": "execute_result"
    }
   ],
   "source": [
    "atoms = [*ligand_simulation.topology.atoms()]\n",
    "#dir(ligand_simulation.system)\n",
    "#ligand_simulation.system.addConstraint?\n",
    "atoms[21].residue.id"
   ]
  },
  {
   "cell_type": "code",
   "execution_count": 99,
   "id": "b22df7a2-32dc-40bc-9ac1-053d65f80654",
   "metadata": {
    "execution": {
     "iopub.execute_input": "2024-05-14T13:06:45.261445Z",
     "iopub.status.busy": "2024-05-14T13:06:45.258503Z",
     "iopub.status.idle": "2024-05-14T13:06:45.277444Z",
     "shell.execute_reply": "2024-05-14T13:06:45.276560Z",
     "shell.execute_reply.started": "2024-05-14T13:06:45.261331Z"
    },
    "scrolled": true
   },
   "outputs": [
    {
     "data": {
      "text/plain": [
       "\u001b[0;31mSignature:\u001b[0m \u001b[0mligand_simulation\u001b[0m\u001b[0;34m.\u001b[0m\u001b[0mcontext\u001b[0m\u001b[0;34m.\u001b[0m\u001b[0mreinitialize\u001b[0m\u001b[0;34m(\u001b[0m\u001b[0mpreserveState\u001b[0m\u001b[0;34m=\u001b[0m\u001b[0;32mFalse\u001b[0m\u001b[0;34m)\u001b[0m\u001b[0;34m\u001b[0m\u001b[0;34m\u001b[0m\u001b[0m\n",
       "\u001b[0;31mDocstring:\u001b[0m\n",
       "reinitialize(self, preserveState=False)\n",
       "When a Context is created, it caches information about the System being simulated and the Force objects contained in it. This means that, if the System or Forces are then modified, the Context does not see the changes. Call reinitialize() to force the Context to rebuild its internal representation of the System and pick up any changes that have been made.\n",
       "\n",
       "This is an expensive operation, so you should try to avoid calling it too frequently. Most Force classes have an updateParametersInContext() method that provides a less expensive way of updating certain types of information. However, this method is the only way to make some types of changes, so it is sometimes necessary to call it.\n",
       "\n",
       "By default, reinitializing a Context causes all state information (positions, velocities, etc.) to be discarded. You can optionally tell it to try to preserve state information. It does this by internally creating a checkpoint, then reinitializing the Context, then loading the checkpoint. Be aware that if the System has changed in a way that prevents the checkpoint from being loaded (such as changing the number of particles), this will throw an exception and the state information will be lost.\n",
       "\u001b[0;31mFile:\u001b[0m      ~/conda/envs/protein-prep-workshop/lib/python3.10/site-packages/openmm/openmm.py\n",
       "\u001b[0;31mType:\u001b[0m      method"
      ]
     },
     "metadata": {},
     "output_type": "display_data"
    }
   ],
   "source": [
    "ligand_simulation.context.reinitialize?"
   ]
  },
  {
   "cell_type": "code",
   "execution_count": 86,
   "id": "e637acc2-c1be-45bf-a61e-0b0f61893533",
   "metadata": {
    "execution": {
     "iopub.execute_input": "2024-05-14T05:44:33.049009Z",
     "iopub.status.busy": "2024-05-14T05:44:33.048338Z",
     "iopub.status.idle": "2024-05-14T05:44:33.077110Z",
     "shell.execute_reply": "2024-05-14T05:44:33.076649Z",
     "shell.execute_reply.started": "2024-05-14T05:44:33.048960Z"
    }
   },
   "outputs": [
    {
     "data": {
      "text/plain": [
       "{'_camera_orientation': [34.26784431824785,\n",
       "  -37.69383848160029,\n",
       "  -41.627593206517496,\n",
       "  0,\n",
       "  0.2801427587500124,\n",
       "  48.87981942700043,\n",
       "  -44.03012494511565,\n",
       "  0,\n",
       "  56.15695411682329,\n",
       "  22.75752453960679,\n",
       "  25.621450212939713,\n",
       "  0,\n",
       "  0.15315628051757812,\n",
       "  -1.7593145370483398,\n",
       "  3.26180362701416,\n",
       "  1],\n",
       " '_camera_str': 'orthographic',\n",
       " '_dom_classes': (),\n",
       " '_gui_theme': None,\n",
       " '_ibtn_fullscreen': 'IPY_MODEL_74aec1543d284357ba9bd04fd5bbacd7',\n",
       " '_igui': None,\n",
       " '_iplayer': 'IPY_MODEL_88fdf8e40fb1486593ee48c389a0206a',\n",
       " '_model_module': 'nglview-js-widgets',\n",
       " '_model_module_version': '3.1.0',\n",
       " '_model_name': 'NGLModel',\n",
       " '_ngl_color_dict': {},\n",
       " '_ngl_coordinate_resource': {},\n",
       " '_ngl_full_stage_parameters': {'impostor': True,\n",
       "  'quality': 'medium',\n",
       "  'workerDefault': True,\n",
       "  'sampleLevel': 0,\n",
       "  'backgroundColor': 'white',\n",
       "  'rotateSpeed': 2,\n",
       "  'zoomSpeed': 1.2,\n",
       "  'panSpeed': 1,\n",
       "  'clipNear': 0,\n",
       "  'clipFar': 100,\n",
       "  'clipDist': 10,\n",
       "  'clipMode': 'scene',\n",
       "  'clipScale': 'relative',\n",
       "  'fogNear': 50,\n",
       "  'fogFar': 100,\n",
       "  'cameraFov': 40,\n",
       "  'cameraEyeSep': 0.3,\n",
       "  'cameraType': 'perspective',\n",
       "  'lightColor': 14540253,\n",
       "  'lightIntensity': 1,\n",
       "  'ambientColor': 14540253,\n",
       "  'ambientIntensity': 0.2,\n",
       "  'hoverTimeout': 0,\n",
       "  'tooltip': True,\n",
       "  'mousePreset': 'default'},\n",
       " '_ngl_msg_archive': [{'target': 'Stage',\n",
       "   'type': 'call_method',\n",
       "   'methodName': 'loadFile',\n",
       "   'reconstruc_color_scheme': False,\n",
       "   'args': [{'type': 'blob',\n",
       "     'data': 'REMARK   1 CREATED WITH OPENMM 8.1.1, 2024-05-14\\nATOM      1  N   GLY A   1     -20.176  -4.691   6.137  1.00  0.00           N  \\nATOM      2  CA  GLY A   1     -18.772  -4.447   5.746  1.00  0.00           C  \\nATOM      3  C   GLY A   1     -18.698  -3.139   4.942  1.00  0.00           C  \\nATOM      4  O   GLY A   1     -19.720  -2.788   4.371  1.00  0.00           O  \\nATOM      5  H   GLY A   1     -20.489  -3.984   6.798  1.00  0.00           H  \\nATOM      6  HA2 GLY A   1     -18.350  -5.210   5.212  1.00  0.00           H  \\nATOM      7  HA3 GLY A   1     -18.239  -4.243   6.657  1.00  0.00           H  \\nATOM      8  H2  GLY A   1     -20.222  -5.616   6.623  1.00  0.00           H  \\nATOM      9  H3  GLY A   1     -20.811  -4.695   5.382  1.00  0.00           H  \\nATOM     10  N   ASP A   2     -17.573  -2.467   4.984  1.00  0.00           N  \\nATOM     11  CA  ASP A   2     -17.298  -1.438   3.969  1.00  0.00           C  \\nATOM     12  C   ASP A   2     -16.411  -1.978   2.796  1.00  0.00           C  \\nATOM     13  O   ASP A   2     -15.372  -2.604   2.955  1.00  0.00           O  \\nATOM     14  CB  ASP A   2     -16.556  -0.261   4.664  1.00  0.00           C  \\nATOM     15  CG  ASP A   2     -16.030   0.788   3.699  1.00  0.00           C  \\nATOM     16  OD1 ASP A   2     -15.271   1.632   4.207  1.00  0.00           O  \\nATOM     17  OD2 ASP A   2     -16.386   0.788   2.516  1.00  0.00           O  \\nATOM     18  H   ASP A   2     -16.853  -2.699   5.606  1.00  0.00           H  \\nATOM     19  HA  ASP A   2     -18.234  -1.004   3.538  1.00  0.00           H  \\nATOM     20  HB2 ASP A   2     -15.692  -0.691   5.214  1.00  0.00           H  \\nATOM     21  HB3 ASP A   2     -17.235   0.214   5.346  1.00  0.00           H  \\nATOM     22  N   GLU A   3     -16.809  -1.721   1.570  1.00  0.00           N  \\nATOM     23  CA  GLU A   3     -16.142  -2.184   0.351  1.00  0.00           C  \\nATOM     24  C   GLU A   3     -15.031  -1.175  -0.064  1.00  0.00           C  \\nATOM     25  O   GLU A   3     -14.032  -1.779  -0.508  1.00  0.00           O  \\nATOM     26  CB  GLU A   3     -17.138  -2.366  -0.846  1.00  0.00           C  \\nATOM     27  CG  GLU A   3     -16.507  -2.911  -2.152  1.00  0.00           C  \\nATOM     28  CD  GLU A   3     -15.866  -4.347  -2.179  1.00  0.00           C  \\nATOM     29  OE1 GLU A   3     -14.914  -4.537  -2.950  1.00  0.00           O  \\nATOM     30  OE2 GLU A   3     -16.297  -5.332  -1.513  1.00  0.00           O  \\nATOM     31  H   GLU A   3     -17.510  -1.008   1.467  1.00  0.00           H  \\nATOM     32  HA  GLU A   3     -15.755  -3.234   0.514  1.00  0.00           H  \\nATOM     33  HB2 GLU A   3     -17.937  -3.181  -0.535  1.00  0.00           H  \\nATOM     34  HB3 GLU A   3     -17.514  -1.368  -1.138  1.00  0.00           H  \\nATOM     35  HG2 GLU A   3     -15.955  -2.159  -2.775  1.00  0.00           H  \\nATOM     36  HG3 GLU A   3     -17.338  -2.985  -2.817  1.00  0.00           H  \\nATOM     37  N   LEU A   4     -15.039   0.110   0.282  1.00  0.00           N  \\nATOM     38  CA  LEU A   4     -13.881   0.979  -0.032  1.00  0.00           C  \\nATOM     39  C   LEU A   4     -12.661   0.537   0.742  1.00  0.00           C  \\nATOM     40  O   LEU A   4     -11.563   0.347   0.185  1.00  0.00           O  \\nATOM     41  CB  LEU A   4     -14.281   2.410   0.208  1.00  0.00           C  \\nATOM     42  CG  LEU A   4     -13.146   3.498   0.065  1.00  0.00           C  \\nATOM     43  CD1 LEU A   4     -12.419   3.531  -1.308  1.00  0.00           C  \\nATOM     44  CD2 LEU A   4     -13.720   4.893   0.145  1.00  0.00           C  \\nATOM     45  H   LEU A   4     -15.788   0.559   0.815  1.00  0.00           H  \\nATOM     46  HA  LEU A   4     -13.631   0.885  -1.126  1.00  0.00           H  \\nATOM     47  HB2 LEU A   4     -15.135   2.568  -0.502  1.00  0.00           H  \\nATOM     48  HB3 LEU A   4     -14.576   2.341   1.232  1.00  0.00           H  \\nATOM     49  HG  LEU A   4     -12.436   3.281   0.771  1.00  0.00           H  \\nATOM     50 HD11 LEU A   4     -13.077   3.684  -2.116  1.00  0.00           H  \\nATOM     51 HD12 LEU A   4     -11.824   2.559  -1.339  1.00  0.00           H  \\nATOM     52 HD13 LEU A   4     -11.898   4.440  -1.426  1.00  0.00           H  \\nATOM     53 HD21 LEU A   4     -14.040   5.235  -0.799  1.00  0.00           H  \\nATOM     54 HD22 LEU A   4     -14.601   4.987   0.856  1.00  0.00           H  \\nATOM     55 HD23 LEU A   4     -12.949   5.620   0.558  1.00  0.00           H  \\nATOM     56  N   TYR A   5     -12.924   0.124   1.974  1.00  0.00           N  \\nATOM     57  CA  TYR A   5     -12.066  -0.608   2.927  1.00  0.00           C  \\nATOM     58  C   TYR A   5     -11.452  -1.929   2.340  1.00  0.00           C  \\nATOM     59  O   TYR A   5     -10.233  -2.029   2.101  1.00  0.00           O  \\nATOM     60  CB  TYR A   5     -12.775  -0.880   4.264  1.00  0.00           C  \\nATOM     61  CG  TYR A   5     -11.865  -1.314   5.371  1.00  0.00           C  \\nATOM     62  CD1 TYR A   5     -11.649  -0.487   6.441  1.00  0.00           C  \\nATOM     63  CD2 TYR A   5     -11.130  -2.500   5.282  1.00  0.00           C  \\nATOM     64  CE1 TYR A   5     -10.892  -0.967   7.576  1.00  0.00           C  \\nATOM     65  CE2 TYR A   5     -10.311  -2.946   6.368  1.00  0.00           C  \\nATOM     66  CZ  TYR A   5     -10.317  -2.266   7.600  1.00  0.00           C  \\nATOM     67  OH  TYR A   5      -9.643  -2.896   8.626  1.00  0.00           O  \\nATOM     68  H   TYR A   5     -13.831   0.454   2.329  1.00  0.00           H  \\nATOM     69  HA  TYR A   5     -11.186   0.037   3.171  1.00  0.00           H  \\nATOM     70  HB2 TYR A   5     -13.262  -0.009   4.584  1.00  0.00           H  \\nATOM     71  HB3 TYR A   5     -13.410  -1.723   4.188  1.00  0.00           H  \\nATOM     72  HD1 TYR A   5     -12.026   0.512   6.507  1.00  0.00           H  \\nATOM     73  HD2 TYR A   5     -10.982  -3.115   4.366  1.00  0.00           H  \\nATOM     74  HE1 TYR A   5     -10.864  -0.329   8.408  1.00  0.00           H  \\nATOM     75  HE2 TYR A   5      -9.683  -3.817   6.287  1.00  0.00           H  \\nATOM     76  HH  TYR A   5      -9.335  -3.758   8.402  1.00  0.00           H  \\nATOM     77  N   ARG A   6     -12.356  -2.842   1.933  1.00  0.00           N  \\nATOM     78  CA  ARG A   6     -12.013  -4.155   1.456  1.00  0.00           C  \\nATOM     79  C   ARG A   6     -11.367  -4.151   0.006  1.00  0.00           C  \\nATOM     80  O   ARG A   6     -10.582  -5.026  -0.285  1.00  0.00           O  \\nATOM     81  CB  ARG A   6     -13.256  -4.935   1.727  1.00  0.00           C  \\nATOM     82  CG  ARG A   6     -13.065  -6.429   1.829  1.00  0.00           C  \\nATOM     83  CD  ARG A   6     -13.922  -7.151   0.743  1.00  0.00           C  \\nATOM     84  NE  ARG A   6     -13.779  -6.647  -0.589  1.00  0.00           N  \\nATOM     85  CZ  ARG A   6     -12.924  -7.029  -1.528  1.00  0.00           C  \\nATOM     86  NH1 ARG A   6     -11.981  -7.927  -1.344  1.00  0.00           N  \\nATOM     87  NH2 ARG A   6     -12.891  -6.454  -2.686  1.00  0.00           N  \\nATOM     88  H   ARG A   6     -13.327  -2.663   2.093  1.00  0.00           H  \\nATOM     89  HA  ARG A   6     -11.298  -4.573   2.198  1.00  0.00           H  \\nATOM     90  HB2 ARG A   6     -14.109  -4.658   1.047  1.00  0.00           H  \\nATOM     91  HB3 ARG A   6     -13.736  -4.568   2.643  1.00  0.00           H  \\nATOM     92  HG2 ARG A   6     -13.534  -6.792   2.811  1.00  0.00           H  \\nATOM     93  HG3 ARG A   6     -12.037  -6.654   1.632  1.00  0.00           H  \\nATOM     94  HD2 ARG A   6     -14.983  -7.155   1.117  1.00  0.00           H  \\nATOM     95  HD3 ARG A   6     -13.658  -8.161   0.726  1.00  0.00           H  \\nATOM     96  HE  ARG A   6     -14.535  -6.070  -0.952  1.00  0.00           H  \\nATOM     97 HH11 ARG A   6     -11.391  -8.175  -2.175  1.00  0.00           H  \\nATOM     98 HH12 ARG A   6     -11.676  -8.220  -0.509  1.00  0.00           H  \\nATOM     99 HH21 ARG A   6     -12.118  -6.755  -3.369  1.00  0.00           H  \\nATOM    100 HH22 ARG A   6     -13.397  -5.590  -2.890  1.00  0.00           H  \\nATOM    101  N   GLN A   7     -11.716  -3.130  -0.783  1.00  0.00           N  \\nATOM    102  CA  GLN A   7     -11.005  -2.820  -2.055  1.00  0.00           C  \\nATOM    103  C   GLN A   7      -9.600  -2.278  -1.829  1.00  0.00           C  \\nATOM    104  O   GLN A   7      -8.702  -2.743  -2.497  1.00  0.00           O  \\nATOM    105  CB  GLN A   7     -11.857  -1.800  -2.840  1.00  0.00           C  \\nATOM    106  CG  GLN A   7     -11.303  -1.233  -4.153  1.00  0.00           C  \\nATOM    107  CD  GLN A   7     -12.171  -0.041  -4.531  1.00  0.00           C  \\nATOM    108  NE2 GLN A   7     -13.345  -0.260  -5.080  1.00  0.00           N  \\nATOM    109  OE1 GLN A   7     -11.766   1.063  -4.429  1.00  0.00           O  \\nATOM    110  H   GLN A   7     -12.351  -2.412  -0.463  1.00  0.00           H  \\nATOM    111  HA  GLN A   7     -10.728  -3.677  -2.646  1.00  0.00           H  \\nATOM    112  HB2 GLN A   7     -11.987  -0.918  -2.144  1.00  0.00           H  \\nATOM    113  HB3 GLN A   7     -12.844  -2.314  -3.075  1.00  0.00           H  \\nATOM    114  HG2 GLN A   7     -10.326  -0.804  -3.959  1.00  0.00           H  \\nATOM    115  HG3 GLN A   7     -11.306  -1.984  -4.895  1.00  0.00           H  \\nATOM    116 HE21 GLN A   7     -13.697  -1.159  -5.176  1.00  0.00           H  \\nATOM    117 HE22 GLN A   7     -13.748   0.539  -5.545  1.00  0.00           H  \\nATOM    118  N   SER A   8      -9.420  -1.339  -0.894  1.00  0.00           N  \\nATOM    119  CA  SER A   8      -8.088  -0.933  -0.494  1.00  0.00           C  \\nATOM    120  C   SER A   8      -7.260  -2.076  -0.012  1.00  0.00           C  \\nATOM    121  O   SER A   8      -6.144  -2.294  -0.441  1.00  0.00           O  \\nATOM    122  CB  SER A   8      -8.128   0.225   0.596  1.00  0.00           C  \\nATOM    123  OG  SER A   8      -8.823   1.246  -0.017  1.00  0.00           O  \\nATOM    124  H   SER A   8     -10.210  -0.916  -0.464  1.00  0.00           H  \\nATOM    125  HA  SER A   8      -7.589  -0.494  -1.447  1.00  0.00           H  \\nATOM    126  HB2 SER A   8      -7.121   0.627   0.742  1.00  0.00           H  \\nATOM    127  HB3 SER A   8      -8.603  -0.024   1.576  1.00  0.00           H  \\nATOM    128  HG  SER A   8      -9.769   1.119   0.133  1.00  0.00           H  \\nATOM    129  N   LEU A   9      -7.904  -3.012   0.782  1.00  0.00           N  \\nATOM    130  CA  LEU A   9      -7.212  -4.179   1.407  1.00  0.00           C  \\nATOM    131  C   LEU A   9      -6.740  -5.065   0.312  1.00  0.00           C  \\nATOM    132  O   LEU A   9      -5.561  -5.323   0.286  1.00  0.00           O  \\nATOM    133  CB  LEU A   9      -8.082  -4.933   2.370  1.00  0.00           C  \\nATOM    134  CG  LEU A   9      -7.387  -6.093   3.134  1.00  0.00           C  \\nATOM    135  CD1 LEU A   9      -6.198  -5.758   4.057  1.00  0.00           C  \\nATOM    136  CD2 LEU A   9      -8.417  -6.918   3.896  1.00  0.00           C  \\nATOM    137  H   LEU A   9      -8.795  -2.782   1.166  1.00  0.00           H  \\nATOM    138  HA  LEU A   9      -6.330  -3.870   1.871  1.00  0.00           H  \\nATOM    139  HB2 LEU A   9      -9.006  -5.285   1.885  1.00  0.00           H  \\nATOM    140  HB3 LEU A   9      -8.349  -4.252   3.174  1.00  0.00           H  \\nATOM    141  HG  LEU A   9      -7.017  -6.739   2.374  1.00  0.00           H  \\nATOM    142 HD11 LEU A   9      -6.543  -5.096   4.896  1.00  0.00           H  \\nATOM    143 HD12 LEU A   9      -5.480  -5.301   3.457  1.00  0.00           H  \\nATOM    144 HD13 LEU A   9      -5.664  -6.686   4.463  1.00  0.00           H  \\nATOM    145 HD21 LEU A   9      -9.233  -7.243   3.182  1.00  0.00           H  \\nATOM    146 HD22 LEU A   9      -8.858  -6.273   4.673  1.00  0.00           H  \\nATOM    147 HD23 LEU A   9      -8.043  -7.751   4.472  1.00  0.00           H  \\nATOM    148  N   GLU A  10      -7.608  -5.478  -0.579  1.00  0.00           N  \\nATOM    149  CA  GLU A  10      -7.254  -6.434  -1.715  1.00  0.00           C  \\nATOM    150  C   GLU A  10      -6.107  -5.851  -2.626  1.00  0.00           C  \\nATOM    151  O   GLU A  10      -5.410  -6.645  -3.252  1.00  0.00           O  \\nATOM    152  CB  GLU A  10      -8.538  -6.774  -2.462  1.00  0.00           C  \\nATOM    153  CG  GLU A  10      -8.298  -7.645  -3.722  1.00  0.00           C  \\nATOM    154  CD  GLU A  10      -9.559  -8.119  -4.364  1.00  0.00           C  \\nATOM    155  OE1 GLU A  10      -9.512  -8.800  -5.412  1.00  0.00           O  \\nATOM    156  OE2 GLU A  10     -10.695  -7.971  -3.781  1.00  0.00           O  \\nATOM    157  H   GLU A  10      -8.534  -5.055  -0.659  1.00  0.00           H  \\nATOM    158  HA  GLU A  10      -6.859  -7.337  -1.307  1.00  0.00           H  \\nATOM    159  HB2 GLU A  10      -9.086  -5.800  -2.739  1.00  0.00           H  \\nATOM    160  HB3 GLU A  10      -9.063  -7.274  -1.676  1.00  0.00           H  \\nATOM    161  HG2 GLU A  10      -7.941  -7.044  -4.529  1.00  0.00           H  \\nATOM    162  HG3 GLU A  10      -7.605  -8.468  -3.562  1.00  0.00           H  \\nATOM    163  N   ILE A  11      -6.141  -4.521  -2.713  1.00  0.00           N  \\nATOM    164  CA  ILE A  11      -5.097  -3.902  -3.555  1.00  0.00           C  \\nATOM    165  C   ILE A  11      -3.769  -4.007  -2.774  1.00  0.00           C  \\nATOM    166  O   ILE A  11      -2.778  -4.413  -3.363  1.00  0.00           O  \\nATOM    167  CB  ILE A  11      -5.470  -2.430  -3.932  1.00  0.00           C  \\nATOM    168  CG1 ILE A  11      -6.616  -2.537  -4.967  1.00  0.00           C  \\nATOM    169  CG2 ILE A  11      -4.401  -1.583  -4.554  1.00  0.00           C  \\nATOM    170  CD1 ILE A  11      -7.342  -1.266  -5.305  1.00  0.00           C  \\nATOM    171  H   ILE A  11      -6.831  -3.894  -2.285  1.00  0.00           H  \\nATOM    172  HA  ILE A  11      -4.954  -4.442  -4.471  1.00  0.00           H  \\nATOM    173  HB  ILE A  11      -5.878  -1.863  -3.011  1.00  0.00           H  \\nATOM    174 HG12 ILE A  11      -6.388  -2.971  -5.987  1.00  0.00           H  \\nATOM    175 HG13 ILE A  11      -7.375  -3.207  -4.534  1.00  0.00           H  \\nATOM    176 HG21 ILE A  11      -4.731  -0.569  -4.769  1.00  0.00           H  \\nATOM    177 HG22 ILE A  11      -3.446  -1.450  -4.021  1.00  0.00           H  \\nATOM    178 HG23 ILE A  11      -4.180  -2.175  -5.402  1.00  0.00           H  \\nATOM    179 HD11 ILE A  11      -7.550  -0.775  -4.356  1.00  0.00           H  \\nATOM    180 HD12 ILE A  11      -8.269  -1.477  -5.885  1.00  0.00           H  \\nATOM    181 HD13 ILE A  11      -6.725  -0.690  -5.915  1.00  0.00           H  \\nATOM    182  N   ILE A  12      -3.767  -3.625  -1.486  1.00  0.00           N  \\nATOM    183  CA  ILE A  12      -2.609  -3.587  -0.628  1.00  0.00           C  \\nATOM    184  C   ILE A  12      -2.031  -4.997  -0.440  1.00  0.00           C  \\nATOM    185  O   ILE A  12      -0.892  -5.278  -0.742  1.00  0.00           O  \\nATOM    186  CB  ILE A  12      -2.951  -2.916   0.705  1.00  0.00           C  \\nATOM    187  CG1 ILE A  12      -3.163  -1.358   0.434  1.00  0.00           C  \\nATOM    188  CG2 ILE A  12      -1.874  -3.039   1.784  1.00  0.00           C  \\nATOM    189  CD1 ILE A  12      -3.948  -0.632   1.523  1.00  0.00           C  \\nATOM    190  H   ILE A  12      -4.622  -3.323  -1.133  1.00  0.00           H  \\nATOM    191  HA  ILE A  12      -1.742  -3.006  -1.079  1.00  0.00           H  \\nATOM    192  HB  ILE A  12      -3.892  -3.314   1.158  1.00  0.00           H  \\nATOM    193 HG12 ILE A  12      -2.239  -0.794   0.260  1.00  0.00           H  \\nATOM    194 HG13 ILE A  12      -3.694  -1.156  -0.433  1.00  0.00           H  \\nATOM    195 HG21 ILE A  12      -1.505  -4.035   1.780  1.00  0.00           H  \\nATOM    196 HG22 ILE A  12      -2.312  -2.633   2.757  1.00  0.00           H  \\nATOM    197 HG23 ILE A  12      -1.096  -2.398   1.592  1.00  0.00           H  \\nATOM    198 HD11 ILE A  12      -4.309   0.300   1.111  1.00  0.00           H  \\nATOM    199 HD12 ILE A  12      -4.897  -1.228   1.679  1.00  0.00           H  \\nATOM    200 HD13 ILE A  12      -3.418  -0.445   2.457  1.00  0.00           H  \\nATOM    201  N   SER A  13      -2.866  -5.907   0.023  1.00  0.00           N  \\nATOM    202  CA  SER A  13      -2.544  -7.321   0.321  1.00  0.00           C  \\nATOM    203  C   SER A  13      -1.932  -7.989  -0.900  1.00  0.00           C  \\nATOM    204  O   SER A  13      -1.003  -8.811  -0.806  1.00  0.00           O  \\nATOM    205  CB  SER A  13      -3.851  -8.080   0.635  1.00  0.00           C  \\nATOM    206  OG  SER A  13      -4.338  -7.804   1.947  1.00  0.00           O  \\nATOM    207  H   SER A  13      -3.790  -5.703   0.300  1.00  0.00           H  \\nATOM    208  HA  SER A  13      -1.769  -7.490   1.048  1.00  0.00           H  \\nATOM    209  HB2 SER A  13      -4.651  -7.718  -0.066  1.00  0.00           H  \\nATOM    210  HB3 SER A  13      -3.780  -9.144   0.560  1.00  0.00           H  \\nATOM    211  HG  SER A  13      -3.817  -8.365   2.569  1.00  0.00           H  \\nATOM    212  N   ARG A  14      -2.431  -7.788  -2.142  1.00  0.00           N  \\nATOM    213  CA  ARG A  14      -1.738  -8.278  -3.381  1.00  0.00           C  \\nATOM    214  C   ARG A  14      -0.378  -7.666  -3.524  1.00  0.00           C  \\nATOM    215  O   ARG A  14       0.672  -8.374  -3.573  1.00  0.00           O  \\nATOM    216  CB  ARG A  14      -2.715  -7.912  -4.564  1.00  0.00           C  \\nATOM    217  CG  ARG A  14      -3.854  -8.849  -4.632  1.00  0.00           C  \\nATOM    218  CD  ARG A  14      -4.659  -8.489  -5.943  1.00  0.00           C  \\nATOM    219  NE  ARG A  14      -5.983  -9.064  -6.006  1.00  0.00           N  \\nATOM    220  CZ  ARG A  14      -6.343 -10.286  -6.296  1.00  0.00           C  \\nATOM    221  NH1 ARG A  14      -5.469 -11.238  -6.490  1.00  0.00           N  \\nATOM    222  NH2 ARG A  14      -7.639 -10.601  -6.379  1.00  0.00           N  \\nATOM    223  H   ARG A  14      -3.245  -7.264  -2.176  1.00  0.00           H  \\nATOM    224  HA  ARG A  14      -1.642  -9.366  -3.274  1.00  0.00           H  \\nATOM    225  HB2 ARG A  14      -3.095  -6.901  -4.411  1.00  0.00           H  \\nATOM    226  HB3 ARG A  14      -2.073  -8.011  -5.538  1.00  0.00           H  \\nATOM    227  HG2 ARG A  14      -4.554  -8.738  -3.829  1.00  0.00           H  \\nATOM    228  HG3 ARG A  14      -3.540  -9.884  -4.543  1.00  0.00           H  \\nATOM    229  HD2 ARG A  14      -4.797  -7.439  -5.916  1.00  0.00           H  \\nATOM    230  HD3 ARG A  14      -4.055  -8.832  -6.798  1.00  0.00           H  \\nATOM    231  HE  ARG A  14      -6.801  -8.548  -5.790  1.00  0.00           H  \\nATOM    232 HH11 ARG A  14      -4.517 -11.062  -6.557  1.00  0.00           H  \\nATOM    233 HH12 ARG A  14      -5.845 -12.043  -6.879  1.00  0.00           H  \\nATOM    234 HH21 ARG A  14      -7.758 -11.533  -6.573  1.00  0.00           H  \\nATOM    235 HH22 ARG A  14      -8.286  -9.870  -6.179  1.00  0.00           H  \\nATOM    236  N   TYR A  15      -0.340  -6.310  -3.548  1.00  0.00           N  \\nATOM    237  CA  TYR A  15       0.806  -5.465  -3.745  1.00  0.00           C  \\nATOM    238  C   TYR A  15       2.000  -5.774  -2.784  1.00  0.00           C  \\nATOM    239  O   TYR A  15       3.112  -5.993  -3.135  1.00  0.00           O  \\nATOM    240  CB  TYR A  15       0.563  -3.971  -3.665  1.00  0.00           C  \\nATOM    241  CG  TYR A  15       1.757  -3.150  -4.136  1.00  0.00           C  \\nATOM    242  CD1 TYR A  15       2.407  -3.398  -5.386  1.00  0.00           C  \\nATOM    243  CD2 TYR A  15       2.278  -2.086  -3.386  1.00  0.00           C  \\nATOM    244  CE1 TYR A  15       3.510  -2.575  -5.865  1.00  0.00           C  \\nATOM    245  CE2 TYR A  15       3.396  -1.351  -3.814  1.00  0.00           C  \\nATOM    246  CZ  TYR A  15       4.010  -1.530  -5.092  1.00  0.00           C  \\nATOM    247  OH  TYR A  15       5.236  -0.901  -5.336  1.00  0.00           O  \\nATOM    248  H   TYR A  15      -1.167  -5.767  -3.587  1.00  0.00           H  \\nATOM    249  HA  TYR A  15       1.008  -5.695  -4.816  1.00  0.00           H  \\nATOM    250  HB2 TYR A  15       0.317  -3.602  -2.661  1.00  0.00           H  \\nATOM    251  HB3 TYR A  15      -0.205  -3.687  -4.324  1.00  0.00           H  \\nATOM    252  HD1 TYR A  15       2.130  -4.202  -6.011  1.00  0.00           H  \\nATOM    253  HD2 TYR A  15       1.821  -1.853  -2.428  1.00  0.00           H  \\nATOM    254  HE1 TYR A  15       3.899  -2.797  -6.821  1.00  0.00           H  \\nATOM    255  HE2 TYR A  15       3.888  -0.663  -3.067  1.00  0.00           H  \\nATOM    256  HH  TYR A  15       5.684  -1.203  -6.142  1.00  0.00           H  \\nATOM    257  N   LEU A  16       1.733  -5.828  -1.461  1.00  0.00           N  \\nATOM    258  CA  LEU A  16       2.719  -6.147  -0.426  1.00  0.00           C  \\nATOM    259  C   LEU A  16       3.206  -7.574  -0.723  1.00  0.00           C  \\nATOM    260  O   LEU A  16       4.416  -7.741  -0.801  1.00  0.00           O  \\nATOM    261  CB  LEU A  16       2.127  -5.996   0.945  1.00  0.00           C  \\nATOM    262  CG  LEU A  16       1.841  -4.530   1.335  1.00  0.00           C  \\nATOM    263  CD1 LEU A  16       1.069  -4.675   2.676  1.00  0.00           C  \\nATOM    264  CD2 LEU A  16       3.006  -3.560   1.570  1.00  0.00           C  \\nATOM    265  H   LEU A  16       0.765  -5.702  -1.265  1.00  0.00           H  \\nATOM    266  HA  LEU A  16       3.639  -5.405  -0.517  1.00  0.00           H  \\nATOM    267  HB2 LEU A  16       1.221  -6.575   1.030  1.00  0.00           H  \\nATOM    268  HB3 LEU A  16       2.882  -6.384   1.632  1.00  0.00           H  \\nATOM    269  HG  LEU A  16       1.128  -4.009   0.633  1.00  0.00           H  \\nATOM    270 HD11 LEU A  16       1.687  -5.205   3.363  1.00  0.00           H  \\nATOM    271 HD12 LEU A  16       0.805  -3.689   3.168  1.00  0.00           H  \\nATOM    272 HD13 LEU A  16       0.265  -5.335   2.465  1.00  0.00           H  \\nATOM    273 HD21 LEU A  16       3.712  -3.628   0.796  1.00  0.00           H  \\nATOM    274 HD22 LEU A  16       3.495  -3.709   2.495  1.00  0.00           H  \\nATOM    275 HD23 LEU A  16       2.565  -2.602   1.627  1.00  0.00           H  \\nATOM    276  N   ARG A  17       2.385  -8.559  -1.034  1.00  0.00           N  \\nATOM    277  CA  ARG A  17       2.830  -9.952  -1.209  1.00  0.00           C  \\nATOM    278  C   ARG A  17       3.582 -10.141  -2.541  1.00  0.00           C  \\nATOM    279  O   ARG A  17       4.456 -11.038  -2.641  1.00  0.00           O  \\nATOM    280  CB  ARG A  17       1.597 -10.844  -1.150  1.00  0.00           C  \\nATOM    281  CG  ARG A  17       1.109 -10.916   0.326  1.00  0.00           C  \\nATOM    282  CD  ARG A  17      -0.018 -11.954   0.421  1.00  0.00           C  \\nATOM    283  NE  ARG A  17      -1.127 -11.800  -0.477  1.00  0.00           N  \\nATOM    284  CZ  ARG A  17      -2.381 -11.433  -0.156  1.00  0.00           C  \\nATOM    285  NH1 ARG A  17      -2.802 -11.445   1.081  1.00  0.00           N  \\nATOM    286  NH2 ARG A  17      -3.206 -11.123  -1.077  1.00  0.00           N  \\nATOM    287  H   ARG A  17       1.318  -8.347  -1.127  1.00  0.00           H  \\nATOM    288  HA  ARG A  17       3.600 -10.247  -0.542  1.00  0.00           H  \\nATOM    289  HB2 ARG A  17       1.759 -11.828  -1.453  1.00  0.00           H  \\nATOM    290  HB3 ARG A  17       0.807 -10.509  -1.828  1.00  0.00           H  \\nATOM    291  HG2 ARG A  17       1.995 -11.323   0.905  1.00  0.00           H  \\nATOM    292  HG3 ARG A  17       0.838  -9.994   0.737  1.00  0.00           H  \\nATOM    293  HD2 ARG A  17      -0.371 -11.962   1.424  1.00  0.00           H  \\nATOM    294  HD3 ARG A  17       0.393 -12.949   0.160  1.00  0.00           H  \\nATOM    295  HE  ARG A  17      -0.880 -11.647  -1.457  1.00  0.00           H  \\nATOM    296 HH11 ARG A  17      -3.623 -10.949   1.413  1.00  0.00           H  \\nATOM    297 HH12 ARG A  17      -2.114 -11.585   1.834  1.00  0.00           H  \\nATOM    298 HH21 ARG A  17      -2.873 -11.094  -1.994  1.00  0.00           H  \\nATOM    299 HH22 ARG A  17      -4.101 -10.700  -0.773  1.00  0.00           H  \\nATOM    300  N   GLU A  18       3.264  -9.419  -3.655  1.00  0.00           N  \\nATOM    301  CA  GLU A  18       4.080  -9.411  -4.898  1.00  0.00           C  \\nATOM    302  C   GLU A  18       5.437  -8.783  -4.711  1.00  0.00           C  \\nATOM    303  O   GLU A  18       6.443  -9.347  -5.148  1.00  0.00           O  \\nATOM    304  CB  GLU A  18       3.320  -8.610  -5.998  1.00  0.00           C  \\nATOM    305  CG  GLU A  18       2.074  -9.342  -6.485  1.00  0.00           C  \\nATOM    306  CD  GLU A  18       1.328  -8.646  -7.681  1.00  0.00           C  \\nATOM    307  OE1 GLU A  18       0.530  -9.256  -8.436  1.00  0.00           O  \\nATOM    308  OE2 GLU A  18       1.747  -7.490  -8.003  1.00  0.00           O  \\nATOM    309  H   GLU A  18       2.494  -8.746  -3.560  1.00  0.00           H  \\nATOM    310  HA  GLU A  18       4.164 -10.446  -5.181  1.00  0.00           H  \\nATOM    311  HB2 GLU A  18       2.991  -7.623  -5.649  1.00  0.00           H  \\nATOM    312  HB3 GLU A  18       3.989  -8.486  -6.813  1.00  0.00           H  \\nATOM    313  HG2 GLU A  18       1.335  -9.396  -5.667  1.00  0.00           H  \\nATOM    314  HG3 GLU A  18       2.272 -10.369  -6.681  1.00  0.00           H  \\nATOM    315  N   GLN A  19       5.526  -7.707  -3.952  1.00  0.00           N  \\nATOM    316  CA  GLN A  19       6.763  -7.053  -3.576  1.00  0.00           C  \\nATOM    317  C   GLN A  19       7.647  -7.879  -2.668  1.00  0.00           C  \\nATOM    318  O   GLN A  19       8.872  -7.848  -2.800  1.00  0.00           O  \\nATOM    319  CB  GLN A  19       6.416  -5.745  -2.926  1.00  0.00           C  \\nATOM    320  CG  GLN A  19       5.883  -4.794  -3.985  1.00  0.00           C  \\nATOM    321  CD  GLN A  19       6.772  -4.668  -5.223  1.00  0.00           C  \\nATOM    322  NE2 GLN A  19       6.324  -5.067  -6.343  1.00  0.00           N  \\nATOM    323  OE1 GLN A  19       7.896  -4.179  -5.118  1.00  0.00           O  \\nATOM    324  H   GLN A  19       4.727  -7.276  -3.616  1.00  0.00           H  \\nATOM    325  HA  GLN A  19       7.213  -6.892  -4.551  1.00  0.00           H  \\nATOM    326  HB2 GLN A  19       7.278  -5.254  -2.522  1.00  0.00           H  \\nATOM    327  HB3 GLN A  19       5.592  -5.801  -2.226  1.00  0.00           H  \\nATOM    328  HG2 GLN A  19       5.802  -3.776  -3.563  1.00  0.00           H  \\nATOM    329  HG3 GLN A  19       4.852  -5.002  -4.201  1.00  0.00           H  \\nATOM    330 HE21 GLN A  19       5.374  -5.304  -6.438  1.00  0.00           H  \\nATOM    331 HE22 GLN A  19       6.929  -4.864  -7.131  1.00  0.00           H  \\nATOM    332  N   ALA A  20       7.029  -8.664  -1.708  1.00  0.00           N  \\nATOM    333  CA  ALA A  20       7.675  -9.493  -0.805  1.00  0.00           C  \\nATOM    334  C   ALA A  20       8.250 -10.733  -1.510  1.00  0.00           C  \\nATOM    335  O   ALA A  20       9.273 -11.235  -1.061  1.00  0.00           O  \\nATOM    336  CB  ALA A  20       6.773  -9.762   0.382  1.00  0.00           C  \\nATOM    337  H   ALA A  20       6.015  -8.576  -1.679  1.00  0.00           H  \\nATOM    338  HA  ALA A  20       8.519  -8.875  -0.504  1.00  0.00           H  \\nATOM    339  HB1 ALA A  20       7.390 -10.296   1.132  1.00  0.00           H  \\nATOM    340  HB2 ALA A  20       6.563  -8.778   0.731  1.00  0.00           H  \\nATOM    341  HB3 ALA A  20       5.866 -10.255   0.070  1.00  0.00           H  \\nATOM    342  N   THR A  21       7.569 -11.271  -2.593  1.00  0.00           N  \\nATOM    343  CA  THR A  21       8.012 -12.555  -3.176  1.00  0.00           C  \\nATOM    344  C   THR A  21       8.576 -12.529  -4.607  1.00  0.00           C  \\nATOM    345  O   THR A  21       9.079 -13.556  -5.085  1.00  0.00           O  \\nATOM    346  CB  THR A  21       6.913 -13.615  -3.160  1.00  0.00           C  \\nATOM    347  CG2 THR A  21       6.350 -13.822  -1.779  1.00  0.00           C  \\nATOM    348  OG1 THR A  21       5.865 -13.035  -3.992  1.00  0.00           O  \\nATOM    349  H   THR A  21       6.675 -10.848  -2.909  1.00  0.00           H  \\nATOM    350  HA  THR A  21       8.740 -13.079  -2.546  1.00  0.00           H  \\nATOM    351  HB  THR A  21       7.280 -14.643  -3.550  1.00  0.00           H  \\nATOM    352  HG1 THR A  21       5.253 -12.490  -3.481  1.00  0.00           H  \\nATOM    353 HG21 THR A  21       5.803 -12.903  -1.506  1.00  0.00           H  \\nATOM    354 HG22 THR A  21       7.119 -14.182  -1.125  1.00  0.00           H  \\nATOM    355 HG23 THR A  21       5.574 -14.610  -1.893  1.00  0.00           H  \\nATOM    356  N   GLY A  22       8.502 -11.384  -5.290  1.00  0.00           N  \\nATOM    357  CA  GLY A  22       8.791 -11.167  -6.644  1.00  0.00           C  \\nATOM    358  C   GLY A  22       7.851 -11.845  -7.535  1.00  0.00           C  \\nATOM    359  O   GLY A  22       8.080 -11.782  -8.752  1.00  0.00           O  \\nATOM    360  H   GLY A  22       7.995 -10.676  -4.840  1.00  0.00           H  \\nATOM    361  HA2 GLY A  22       9.829 -11.621  -6.836  1.00  0.00           H  \\nATOM    362  HA3 GLY A  22       8.741 -10.076  -6.852  1.00  0.00           H  \\nATOM    363  N   ALA A  23       6.780 -12.554  -7.029  1.00  0.00           N  \\nATOM    364  CA  ALA A  23       5.823 -13.218  -7.833  1.00  0.00           C  \\nATOM    365  C   ALA A  23       4.427 -12.670  -7.825  1.00  0.00           C  \\nATOM    366  O   ALA A  23       3.969 -12.261  -6.767  1.00  0.00           O  \\nATOM    367  CB  ALA A  23       5.881 -14.723  -7.476  1.00  0.00           C  \\nATOM    368  H   ALA A  23       6.619 -12.400  -6.039  1.00  0.00           H  \\nATOM    369  HA  ALA A  23       6.108 -13.211  -8.917  1.00  0.00           H  \\nATOM    370  HB1 ALA A  23       6.916 -15.142  -7.442  1.00  0.00           H  \\nATOM    371  HB2 ALA A  23       5.267 -15.273  -8.253  1.00  0.00           H  \\nATOM    372  HB3 ALA A  23       5.456 -14.911  -6.551  1.00  0.00           H  \\nATOM    373  N   LYS A  24       3.777 -12.693  -8.955  1.00  0.00           N  \\nATOM    374  CA  LYS A  24       2.397 -12.126  -9.053  1.00  0.00           C  \\nATOM    375  C   LYS A  24       1.363 -12.870  -8.236  1.00  0.00           C  \\nATOM    376  O   LYS A  24       1.192 -14.051  -8.313  1.00  0.00           O  \\nATOM    377  CB  LYS A  24       1.868 -11.949 -10.504  1.00  0.00           C  \\nATOM    378  CG  LYS A  24       2.133 -10.528 -11.087  1.00  0.00           C  \\nATOM    379  CD  LYS A  24       1.021 -10.211 -12.194  1.00  0.00           C  \\nATOM    380  CE  LYS A  24       1.440  -8.874 -12.906  1.00  0.00           C  \\nATOM    381  NZ  LYS A  24       0.331  -8.305 -13.709  1.00  0.00           N  \\nATOM    382  H   LYS A  24       4.151 -13.031  -9.857  1.00  0.00           H  \\nATOM    383  HA  LYS A  24       2.458 -11.104  -8.604  1.00  0.00           H  \\nATOM    384  HB2 LYS A  24       0.864 -12.056 -10.479  1.00  0.00           H  \\nATOM    385  HB3 LYS A  24       2.187 -12.687 -11.226  1.00  0.00           H  \\nATOM    386  HG2 LYS A  24       1.978  -9.781 -10.298  1.00  0.00           H  \\nATOM    387  HG3 LYS A  24       3.166 -10.471 -11.468  1.00  0.00           H  \\nATOM    388  HD2 LYS A  24       0.917 -11.011 -12.978  1.00  0.00           H  \\nATOM    389  HD3 LYS A  24       0.058  -9.999 -11.711  1.00  0.00           H  \\nATOM    390  HE2 LYS A  24       2.337  -9.026 -13.611  1.00  0.00           H  \\nATOM    391  HE3 LYS A  24       1.791  -8.134 -12.185  1.00  0.00           H  \\nATOM    392  HZ1 LYS A  24       0.069  -8.926 -14.448  1.00  0.00           H  \\nATOM    393  HZ2 LYS A  24       0.578  -7.356 -14.046  1.00  0.00           H  \\nATOM    394  HZ3 LYS A  24      -0.432  -8.145 -13.094  1.00  0.00           H  \\nATOM    395  N   ASP A  25       0.506 -12.059  -7.580  1.00  0.00           N  \\nATOM    396  CA  ASP A  25      -0.596 -12.610  -6.744  1.00  0.00           C  \\nATOM    397  C   ASP A  25      -1.867 -12.918  -7.564  1.00  0.00           C  \\nATOM    398  O   ASP A  25      -2.769 -12.055  -7.742  1.00  0.00           O  \\nATOM    399  CB  ASP A  25      -0.911 -11.702  -5.522  1.00  0.00           C  \\nATOM    400  CG  ASP A  25      -1.875 -12.286  -4.436  1.00  0.00           C  \\nATOM    401  OD1 ASP A  25      -1.878 -11.805  -3.308  1.00  0.00           O  \\nATOM    402  OD2 ASP A  25      -2.607 -13.229  -4.774  1.00  0.00           O  \\nATOM    403  H   ASP A  25       0.667 -11.033  -7.604  1.00  0.00           H  \\nATOM    404  HA  ASP A  25      -0.326 -13.653  -6.327  1.00  0.00           H  \\nATOM    405  HB2 ASP A  25      -0.016 -11.519  -4.957  1.00  0.00           H  \\nATOM    406  HB3 ASP A  25      -1.307 -10.837  -5.816  1.00  0.00           H  \\nATOM    407  N   THR A  26      -1.871 -14.151  -8.127  1.00  0.00           N  \\nATOM    408  CA  THR A  26      -2.821 -14.595  -9.182  1.00  0.00           C  \\nATOM    409  C   THR A  26      -4.116 -15.140  -8.570  1.00  0.00           C  \\nATOM    410  O   THR A  26      -4.968 -15.640  -9.298  1.00  0.00           O  \\nATOM    411  CB  THR A  26      -2.274 -15.548 -10.226  1.00  0.00           C  \\nATOM    412  CG2 THR A  26      -0.906 -15.089 -10.877  1.00  0.00           C  \\nATOM    413  OG1 THR A  26      -2.031 -16.838  -9.643  1.00  0.00           O  \\nATOM    414  H   THR A  26      -1.052 -14.702  -7.860  1.00  0.00           H  \\nATOM    415  HA  THR A  26      -3.158 -13.704  -9.603  1.00  0.00           H  \\nATOM    416  HB  THR A  26      -3.072 -15.575 -10.952  1.00  0.00           H  \\nATOM    417  HG1 THR A  26      -2.434 -17.384 -10.220  1.00  0.00           H  \\nATOM    418 HG21 THR A  26      -0.776 -15.631 -11.801  1.00  0.00           H  \\nATOM    419 HG22 THR A  26      -0.056 -15.399 -10.297  1.00  0.00           H  \\nATOM    420 HG23 THR A  26      -1.022 -13.988 -11.081  1.00  0.00           H  \\nATOM    421  N   LYS A  27      -4.302 -14.950  -7.246  1.00  0.00           N  \\nATOM    422  CA  LYS A  27      -5.602 -15.324  -6.600  1.00  0.00           C  \\nATOM    423  C   LYS A  27      -6.831 -14.659  -7.240  1.00  0.00           C  \\nATOM    424  O   LYS A  27      -6.664 -13.425  -7.506  1.00  0.00           O  \\nATOM    425  CB  LYS A  27      -5.568 -14.834  -5.129  1.00  0.00           C  \\nATOM    426  CG  LYS A  27      -4.554 -15.497  -4.236  1.00  0.00           C  \\nATOM    427  CD  LYS A  27      -4.523 -14.743  -2.888  1.00  0.00           C  \\nATOM    428  CE  LYS A  27      -3.403 -15.231  -1.927  1.00  0.00           C  \\nATOM    429  NZ  LYS A  27      -2.121 -14.704  -2.366  1.00  0.00           N  \\nATOM    430  H   LYS A  27      -3.738 -14.337  -6.812  1.00  0.00           H  \\nATOM    431  HA  LYS A  27      -5.669 -16.338  -6.659  1.00  0.00           H  \\nATOM    432  HB2 LYS A  27      -5.390 -13.767  -5.197  1.00  0.00           H  \\nATOM    433  HB3 LYS A  27      -6.548 -15.074  -4.653  1.00  0.00           H  \\nATOM    434  HG2 LYS A  27      -4.853 -16.472  -4.055  1.00  0.00           H  \\nATOM    435  HG3 LYS A  27      -3.560 -15.552  -4.661  1.00  0.00           H  \\nATOM    436  HD2 LYS A  27      -4.474 -13.656  -2.936  1.00  0.00           H  \\nATOM    437  HD3 LYS A  27      -5.532 -14.970  -2.338  1.00  0.00           H  \\nATOM    438  HE2 LYS A  27      -3.623 -14.864  -0.973  1.00  0.00           H  \\nATOM    439  HE3 LYS A  27      -3.392 -16.378  -1.955  1.00  0.00           H  \\nATOM    440  HZ1 LYS A  27      -2.213 -13.660  -2.388  1.00  0.00           H  \\nATOM    441  HZ2 LYS A  27      -1.462 -14.994  -1.684  1.00  0.00           H  \\nATOM    442  HZ3 LYS A  27      -1.838 -15.040  -3.345  1.00  0.00           H  \\nATOM    443  N   PRO A  28      -7.991 -15.316  -7.440  1.00  0.00           N  \\nATOM    444  CA  PRO A  28      -9.342 -14.762  -7.803  1.00  0.00           C  \\nATOM    445  C   PRO A  28      -9.623 -13.413  -7.069  1.00  0.00           C  \\nATOM    446  O   PRO A  28      -9.040 -13.241  -5.970  1.00  0.00           O  \\nATOM    447  CB  PRO A  28     -10.379 -15.877  -7.474  1.00  0.00           C  \\nATOM    448  CG  PRO A  28      -9.489 -17.051  -7.892  1.00  0.00           C  \\nATOM    449  CD  PRO A  28      -8.029 -16.761  -7.405  1.00  0.00           C  \\nATOM    450  HA  PRO A  28      -9.389 -14.644  -8.884  1.00  0.00           H  \\nATOM    451  HB2 PRO A  28     -11.266 -15.828  -8.033  1.00  0.00           H  \\nATOM    452  HB3 PRO A  28     -10.527 -15.890  -6.415  1.00  0.00           H  \\nATOM    453  HG2 PRO A  28      -9.908 -17.890  -7.387  1.00  0.00           H  \\nATOM    454  HG3 PRO A  28      -9.552 -17.211  -8.908  1.00  0.00           H  \\nATOM    455  HD2 PRO A  28      -7.935 -17.123  -6.347  1.00  0.00           H  \\nATOM    456  HD3 PRO A  28      -7.287 -17.191  -8.027  1.00  0.00           H  \\nATOM    457  N   MET A  29     -10.450 -12.577  -7.671  1.00  0.00           N  \\nATOM    458  CA  MET A  29     -10.784 -11.155  -7.235  1.00  0.00           C  \\nATOM    459  C   MET A  29     -12.132 -10.972  -6.520  1.00  0.00           C  \\nATOM    460  O   MET A  29     -13.126 -11.594  -6.897  1.00  0.00           O  \\nATOM    461  CB  MET A  29     -10.734 -10.288  -8.480  1.00  0.00           C  \\nATOM    462  CG  MET A  29      -9.485 -10.629  -9.347  1.00  0.00           C  \\nATOM    463  SD  MET A  29      -9.001  -9.163 -10.312  1.00  0.00           S  \\nATOM    464  CE  MET A  29      -7.986  -8.314  -9.029  1.00  0.00           C  \\nATOM    465  H   MET A  29     -10.842 -12.935  -8.490  1.00  0.00           H  \\nATOM    466  HA  MET A  29      -9.998 -10.852  -6.502  1.00  0.00           H  \\nATOM    467  HB2 MET A  29     -11.652 -10.306  -9.066  1.00  0.00           H  \\nATOM    468  HB3 MET A  29     -10.699  -9.261  -8.104  1.00  0.00           H  \\nATOM    469  HG2 MET A  29      -9.835 -11.460  -9.986  1.00  0.00           H  \\nATOM    470  HG3 MET A  29      -8.621 -10.966  -8.776  1.00  0.00           H  \\nATOM    471  HE1 MET A  29      -7.738  -7.346  -9.389  1.00  0.00           H  \\nATOM    472  HE2 MET A  29      -8.512  -8.175  -8.031  1.00  0.00           H  \\nATOM    473  HE3 MET A  29      -7.088  -8.802  -8.830  1.00  0.00           H  \\nATOM    474  N   GLY A  30     -12.178 -10.046  -5.565  1.00  0.00           N  \\nATOM    475  CA  GLY A  30     -13.405  -9.633  -4.919  1.00  0.00           C  \\nATOM    476  C   GLY A  30     -14.441  -9.006  -5.831  1.00  0.00           C  \\nATOM    477  O   GLY A  30     -14.422  -9.037  -7.046  1.00  0.00           O  \\nATOM    478  H   GLY A  30     -11.369  -9.421  -5.367  1.00  0.00           H  \\nATOM    479  HA2 GLY A  30     -13.846 -10.544  -4.454  1.00  0.00           H  \\nATOM    480  HA3 GLY A  30     -13.212  -8.904  -4.079  1.00  0.00           H  \\nATOM    481  N   ARG A  31     -15.454  -8.424  -5.179  1.00  0.00           N  \\nATOM    482  CA  ARG A  31     -16.483  -7.656  -5.843  1.00  0.00           C  \\nATOM    483  C   ARG A  31     -15.976  -6.459  -6.683  1.00  0.00           C  \\nATOM    484  O   ARG A  31     -16.432  -6.184  -7.830  1.00  0.00           O  \\nATOM    485  CB  ARG A  31     -17.478  -7.108  -4.791  1.00  0.00           C  \\nATOM    486  CG  ARG A  31     -18.094  -8.253  -3.935  1.00  0.00           C  \\nATOM    487  CD  ARG A  31     -19.125  -7.739  -2.894  1.00  0.00           C  \\nATOM    488  NE  ARG A  31     -19.865  -6.570  -3.447  1.00  0.00           N  \\nATOM    489  CZ  ARG A  31     -19.722  -5.280  -3.027  1.00  0.00           C  \\nATOM    490  NH1 ARG A  31     -19.072  -5.022  -1.917  1.00  0.00           N  \\nATOM    491  NH2 ARG A  31     -20.104  -4.295  -3.802  1.00  0.00           N  \\nATOM    492  H   ARG A  31     -15.216  -8.247  -4.199  1.00  0.00           H  \\nATOM    493  HA  ARG A  31     -17.012  -8.234  -6.591  1.00  0.00           H  \\nATOM    494  HB2 ARG A  31     -18.280  -6.604  -5.340  1.00  0.00           H  \\nATOM    495  HB3 ARG A  31     -16.990  -6.431  -4.182  1.00  0.00           H  \\nATOM    496  HG2 ARG A  31     -17.374  -8.759  -3.362  1.00  0.00           H  \\nATOM    497  HG3 ARG A  31     -18.697  -9.002  -4.568  1.00  0.00           H  \\nATOM    498  HD2 ARG A  31     -18.749  -7.551  -1.887  1.00  0.00           H  \\nATOM    499  HD3 ARG A  31     -19.934  -8.482  -2.750  1.00  0.00           H  \\nATOM    500  HE  ARG A  31     -20.443  -6.733  -4.163  1.00  0.00           H  \\nATOM    501 HH11 ARG A  31     -18.577  -5.762  -1.435  1.00  0.00           H  \\nATOM    502 HH12 ARG A  31     -18.871  -4.059  -1.703  1.00  0.00           H  \\nATOM    503 HH21 ARG A  31     -19.873  -3.302  -3.615  1.00  0.00           H  \\nATOM    504 HH22 ARG A  31     -20.632  -4.493  -4.663  1.00  0.00           H  \\nATOM    505  N   SER A  32     -14.879  -5.812  -6.211  1.00  0.00           N  \\nATOM    506  CA  SER A  32     -14.116  -4.766  -6.906  1.00  0.00           C  \\nATOM    507  C   SER A  32     -13.138  -5.270  -7.989  1.00  0.00           C  \\nATOM    508  O   SER A  32     -12.414  -4.463  -8.572  1.00  0.00           O  \\nATOM    509  CB  SER A  32     -13.366  -3.844  -5.935  1.00  0.00           C  \\nATOM    510  OG  SER A  32     -14.353  -3.228  -5.124  1.00  0.00           O  \\nATOM    511  H   SER A  32     -14.562  -6.047  -5.279  1.00  0.00           H  \\nATOM    512  HA  SER A  32     -14.843  -4.167  -7.466  1.00  0.00           H  \\nATOM    513  HB2 SER A  32     -12.833  -4.483  -5.388  1.00  0.00           H  \\nATOM    514  HB3 SER A  32     -12.744  -3.112  -6.471  1.00  0.00           H  \\nATOM    515  HG  SER A  32     -14.429  -3.678  -4.282  1.00  0.00           H  \\nATOM    516  N   GLY A  33     -13.176  -6.546  -8.339  1.00  0.00           N  \\nATOM    517  CA  GLY A  33     -12.212  -7.145  -9.285  1.00  0.00           C  \\nATOM    518  C   GLY A  33     -12.167  -6.585 -10.723  1.00  0.00           C  \\nATOM    519  O   GLY A  33     -11.313  -6.964 -11.477  1.00  0.00           O  \\nATOM    520  H   GLY A  33     -13.770  -7.199  -7.802  1.00  0.00           H  \\nATOM    521  HA2 GLY A  33     -11.279  -7.081  -8.778  1.00  0.00           H  \\nATOM    522  HA3 GLY A  33     -12.518  -8.169  -9.402  1.00  0.00           H  \\nATOM    523  N   ALA A  34     -13.073  -5.662 -10.969  1.00  0.00           N  \\nATOM    524  CA  ALA A  34     -13.136  -4.598 -12.053  1.00  0.00           C  \\nATOM    525  C   ALA A  34     -12.059  -3.585 -11.738  1.00  0.00           C  \\nATOM    526  O   ALA A  34     -11.003  -3.760 -12.360  1.00  0.00           O  \\nATOM    527  CB  ALA A  34     -14.543  -3.906 -11.973  1.00  0.00           C  \\nATOM    528  H   ALA A  34     -13.544  -5.441 -10.115  1.00  0.00           H  \\nATOM    529  HA  ALA A  34     -13.040  -5.035 -13.008  1.00  0.00           H  \\nATOM    530  HB1 ALA A  34     -15.340  -4.670 -12.185  1.00  0.00           H  \\nATOM    531  HB2 ALA A  34     -14.607  -3.151 -12.726  1.00  0.00           H  \\nATOM    532  HB3 ALA A  34     -14.783  -3.591 -10.967  1.00  0.00           H  \\nATOM    533  N   THR A  35     -12.292  -2.691 -10.766  1.00  0.00           N  \\nATOM    534  CA  THR A  35     -11.337  -1.698 -10.264  1.00  0.00           C  \\nATOM    535  C   THR A  35      -9.935  -2.153  -9.931  1.00  0.00           C  \\nATOM    536  O   THR A  35      -8.971  -1.804 -10.634  1.00  0.00           O  \\nATOM    537  CB  THR A  35     -12.099  -1.115  -9.040  1.00  0.00           C  \\nATOM    538  CG2 THR A  35     -11.269  -0.122  -8.261  1.00  0.00           C  \\nATOM    539  OG1 THR A  35     -13.296  -0.583  -9.311  1.00  0.00           O  \\nATOM    540  H   THR A  35     -13.248  -2.549 -10.511  1.00  0.00           H  \\nATOM    541  HA  THR A  35     -11.286  -0.964 -11.072  1.00  0.00           H  \\nATOM    542  HB  THR A  35     -12.261  -1.931  -8.375  1.00  0.00           H  \\nATOM    543  HG1 THR A  35     -12.956   0.265  -9.679  1.00  0.00           H  \\nATOM    544 HG21 THR A  35     -11.779   0.295  -7.388  1.00  0.00           H  \\nATOM    545 HG22 THR A  35     -10.400  -0.572  -7.795  1.00  0.00           H  \\nATOM    546 HG23 THR A  35     -10.816   0.543  -8.905  1.00  0.00           H  \\nATOM    547  N   SER A  36      -9.762  -2.953  -8.882  1.00  0.00           N  \\nATOM    548  CA  SER A  36      -8.483  -3.521  -8.259  1.00  0.00           C  \\nATOM    549  C   SER A  36      -7.540  -4.214  -9.227  1.00  0.00           C  \\nATOM    550  O   SER A  36      -6.530  -4.779  -8.759  1.00  0.00           O  \\nATOM    551  CB  SER A  36      -8.844  -4.431  -7.101  1.00  0.00           C  \\nATOM    552  OG  SER A  36      -9.662  -3.935  -6.037  1.00  0.00           O  \\nATOM    553  H   SER A  36     -10.607  -3.380  -8.531  1.00  0.00           H  \\nATOM    554  HA  SER A  36      -7.875  -2.758  -7.783  1.00  0.00           H  \\nATOM    555  HB2 SER A  36      -7.870  -4.744  -6.601  1.00  0.00           H  \\nATOM    556  HB3 SER A  36      -9.255  -5.366  -7.452  1.00  0.00           H  \\nATOM    557  HG  SER A  36      -9.253  -3.242  -5.559  1.00  0.00           H  \\nATOM    558  N   ARG A  37      -7.879  -4.256 -10.546  1.00  0.00           N  \\nATOM    559  CA  ARG A  37      -7.138  -4.766 -11.669  1.00  0.00           C  \\nATOM    560  C   ARG A  37      -6.193  -3.813 -12.298  1.00  0.00           C  \\nATOM    561  O   ARG A  37      -5.111  -3.772 -11.734  1.00  0.00           O  \\nATOM    562  CB  ARG A  37      -8.127  -5.432 -12.650  1.00  0.00           C  \\nATOM    563  CG  ARG A  37      -7.662  -6.713 -13.383  1.00  0.00           C  \\nATOM    564  CD  ARG A  37      -8.700  -7.080 -14.417  1.00  0.00           C  \\nATOM    565  NE  ARG A  37     -10.085  -7.405 -13.953  1.00  0.00           N  \\nATOM    566  CZ  ARG A  37     -11.140  -7.287 -14.746  1.00  0.00           C  \\nATOM    567  NH1 ARG A  37     -11.071  -7.302 -16.070  1.00  0.00           N  \\nATOM    568  NH2 ARG A  37     -12.260  -7.242 -14.144  1.00  0.00           N  \\nATOM    569  H   ARG A  37      -8.683  -3.663 -10.759  1.00  0.00           H  \\nATOM    570  HA  ARG A  37      -6.491  -5.486 -11.202  1.00  0.00           H  \\nATOM    571  HB2 ARG A  37      -8.351  -4.717 -13.484  1.00  0.00           H  \\nATOM    572  HB3 ARG A  37      -8.945  -5.719 -12.063  1.00  0.00           H  \\nATOM    573  HG2 ARG A  37      -6.670  -6.716 -13.790  1.00  0.00           H  \\nATOM    574  HG3 ARG A  37      -7.633  -7.439 -12.554  1.00  0.00           H  \\nATOM    575  HD2 ARG A  37      -8.221  -7.948 -14.942  1.00  0.00           H  \\nATOM    576  HD3 ARG A  37      -8.708  -6.254 -15.151  1.00  0.00           H  \\nATOM    577  HE  ARG A  37     -10.299  -7.413 -12.964  1.00  0.00           H  \\nATOM    578 HH11 ARG A  37     -11.862  -7.158 -16.648  1.00  0.00           H  \\nATOM    579 HH12 ARG A  37     -10.168  -7.359 -16.469  1.00  0.00           H  \\nATOM    580 HH21 ARG A  37     -13.157  -7.089 -14.647  1.00  0.00           H  \\nATOM    581 HH22 ARG A  37     -12.222  -7.390 -13.132  1.00  0.00           H  \\nATOM    582  N   LYS A  38      -6.639  -2.832 -13.178  1.00  0.00           N  \\nATOM    583  CA  LYS A  38      -5.708  -1.775 -13.630  1.00  0.00           C  \\nATOM    584  C   LYS A  38      -5.220  -0.975 -12.356  1.00  0.00           C  \\nATOM    585  O   LYS A  38      -4.082  -0.442 -12.471  1.00  0.00           O  \\nATOM    586  CB  LYS A  38      -6.234  -0.954 -14.823  1.00  0.00           C  \\nATOM    587  CG  LYS A  38      -5.084  -0.078 -15.497  1.00  0.00           C  \\nATOM    588  CD  LYS A  38      -5.406   0.843 -16.720  1.00  0.00           C  \\nATOM    589  CE  LYS A  38      -4.121   1.560 -17.178  1.00  0.00           C  \\nATOM    590  NZ  LYS A  38      -4.400   2.324 -18.442  1.00  0.00           N  \\nATOM    591  H   LYS A  38      -7.567  -2.883 -13.540  1.00  0.00           H  \\nATOM    592  HA  LYS A  38      -4.818  -2.225 -13.905  1.00  0.00           H  \\nATOM    593  HB2 LYS A  38      -6.726  -1.540 -15.521  1.00  0.00           H  \\nATOM    594  HB3 LYS A  38      -6.997  -0.302 -14.380  1.00  0.00           H  \\nATOM    595  HG2 LYS A  38      -4.744   0.624 -14.673  1.00  0.00           H  \\nATOM    596  HG3 LYS A  38      -4.250  -0.787 -15.749  1.00  0.00           H  \\nATOM    597  HD2 LYS A  38      -6.114   1.670 -16.539  1.00  0.00           H  \\nATOM    598  HD3 LYS A  38      -5.784   0.265 -17.557  1.00  0.00           H  \\nATOM    599  HE2 LYS A  38      -3.357   0.852 -17.326  1.00  0.00           H  \\nATOM    600  HE3 LYS A  38      -3.848   2.212 -16.407  1.00  0.00           H  \\nATOM    601  HZ1 LYS A  38      -5.355   2.689 -18.508  1.00  0.00           H  \\nATOM    602  HZ2 LYS A  38      -3.640   3.061 -18.566  1.00  0.00           H  \\nATOM    603  HZ3 LYS A  38      -4.258   1.676 -19.201  1.00  0.00           H  \\nATOM    604  N   ALA A  39      -5.847  -1.071 -11.187  1.00  0.00           N  \\nATOM    605  CA  ALA A  39      -5.411  -0.369 -10.032  1.00  0.00           C  \\nATOM    606  C   ALA A  39      -4.221  -0.966  -9.274  1.00  0.00           C  \\nATOM    607  O   ALA A  39      -3.280  -0.236  -8.967  1.00  0.00           O  \\nATOM    608  CB  ALA A  39      -6.548  -0.078  -8.983  1.00  0.00           C  \\nATOM    609  H   ALA A  39      -6.787  -1.555 -11.146  1.00  0.00           H  \\nATOM    610  HA  ALA A  39      -5.068   0.663 -10.339  1.00  0.00           H  \\nATOM    611  HB1 ALA A  39      -6.137   0.741  -8.351  1.00  0.00           H  \\nATOM    612  HB2 ALA A  39      -6.879  -1.072  -8.429  1.00  0.00           H  \\nATOM    613  HB3 ALA A  39      -7.339   0.314  -9.556  1.00  0.00           H  \\nATOM    614  N   LEU A  40      -4.187  -2.262  -9.113  1.00  0.00           N  \\nATOM    615  CA  LEU A  40      -2.980  -3.022  -8.725  1.00  0.00           C  \\nATOM    616  C   LEU A  40      -1.915  -2.909  -9.821  1.00  0.00           C  \\nATOM    617  O   LEU A  40      -0.747  -2.678  -9.429  1.00  0.00           O  \\nATOM    618  CB  LEU A  40      -3.350  -4.472  -8.403  1.00  0.00           C  \\nATOM    619  CG  LEU A  40      -2.158  -5.382  -8.092  1.00  0.00           C  \\nATOM    620  CD1 LEU A  40      -1.588  -5.106  -6.643  1.00  0.00           C  \\nATOM    621  CD2 LEU A  40      -2.608  -6.899  -8.282  1.00  0.00           C  \\nATOM    622  H   LEU A  40      -4.934  -2.865  -9.422  1.00  0.00           H  \\nATOM    623  HA  LEU A  40      -2.552  -2.546  -7.831  1.00  0.00           H  \\nATOM    624  HB2 LEU A  40      -3.997  -4.772  -9.249  1.00  0.00           H  \\nATOM    625  HB3 LEU A  40      -3.980  -4.488  -7.434  1.00  0.00           H  \\nATOM    626  HG  LEU A  40      -1.380  -5.199  -8.888  1.00  0.00           H  \\nATOM    627 HD11 LEU A  40      -1.182  -4.162  -6.489  1.00  0.00           H  \\nATOM    628 HD12 LEU A  40      -2.469  -5.236  -6.005  1.00  0.00           H  \\nATOM    629 HD13 LEU A  40      -0.843  -5.924  -6.402  1.00  0.00           H  \\nATOM    630 HD21 LEU A  40      -2.532  -7.211  -9.318  1.00  0.00           H  \\nATOM    631 HD22 LEU A  40      -1.840  -7.494  -7.800  1.00  0.00           H  \\nATOM    632 HD23 LEU A  40      -3.586  -7.031  -7.742  1.00  0.00           H  \\nATOM    633  N   GLU A  41      -2.258  -2.979 -11.079  1.00  0.00           N  \\nATOM    634  CA  GLU A  41      -1.263  -2.935 -12.159  1.00  0.00           C  \\nATOM    635  C   GLU A  41      -0.481  -1.613 -12.289  1.00  0.00           C  \\nATOM    636  O   GLU A  41       0.739  -1.641 -12.200  1.00  0.00           O  \\nATOM    637  CB  GLU A  41      -1.936  -3.400 -13.496  1.00  0.00           C  \\nATOM    638  CG  GLU A  41      -2.499  -4.820 -13.532  1.00  0.00           C  \\nATOM    639  CD  GLU A  41      -1.364  -5.726 -13.083  1.00  0.00           C  \\nATOM    640  OE1 GLU A  41      -0.262  -5.616 -13.632  1.00  0.00           O  \\nATOM    641  OE2 GLU A  41      -1.592  -6.717 -12.292  1.00  0.00           O  \\nATOM    642  H   GLU A  41      -3.213  -3.110 -11.249  1.00  0.00           H  \\nATOM    643  HA  GLU A  41      -0.608  -3.703 -11.862  1.00  0.00           H  \\nATOM    644  HB2 GLU A  41      -1.247  -3.304 -14.378  1.00  0.00           H  \\nATOM    645  HB3 GLU A  41      -2.819  -2.723 -13.627  1.00  0.00           H  \\nATOM    646  HG2 GLU A  41      -2.726  -5.095 -14.548  1.00  0.00           H  \\nATOM    647  HG3 GLU A  41      -3.327  -4.871 -12.875  1.00  0.00           H  \\nATOM    648  N   THR A  42      -1.206  -0.441 -12.241  1.00  0.00           N  \\nATOM    649  CA  THR A  42      -0.774   0.931 -12.134  1.00  0.00           C  \\nATOM    650  C   THR A  42      -0.171   1.237 -10.776  1.00  0.00           C  \\nATOM    651  O   THR A  42       0.899   1.930 -10.718  1.00  0.00           O  \\nATOM    652  CB  THR A  42      -1.955   1.874 -12.446  1.00  0.00           C  \\nATOM    653  CG2 THR A  42      -1.697   3.350 -12.463  1.00  0.00           C  \\nATOM    654  OG1 THR A  42      -2.534   1.632 -13.665  1.00  0.00           O  \\nATOM    655  H   THR A  42      -2.213  -0.496 -12.047  1.00  0.00           H  \\nATOM    656  HA  THR A  42       0.119   1.090 -12.818  1.00  0.00           H  \\nATOM    657  HB  THR A  42      -2.769   1.747 -11.642  1.00  0.00           H  \\nATOM    658  HG1 THR A  42      -2.878   0.797 -13.651  1.00  0.00           H  \\nATOM    659 HG21 THR A  42      -2.694   3.726 -12.554  1.00  0.00           H  \\nATOM    660 HG22 THR A  42      -1.095   3.624 -13.406  1.00  0.00           H  \\nATOM    661 HG23 THR A  42      -1.262   3.672 -11.603  1.00  0.00           H  \\nATOM    662  N   LEU A  43      -0.607   0.646  -9.646  1.00  0.00           N  \\nATOM    663  CA  LEU A  43       0.146   0.736  -8.449  1.00  0.00           C  \\nATOM    664  C   LEU A  43       1.536   0.100  -8.542  1.00  0.00           C  \\nATOM    665  O   LEU A  43       2.466   0.621  -7.899  1.00  0.00           O  \\nATOM    666  CB  LEU A  43      -0.717   0.148  -7.302  1.00  0.00           C  \\nATOM    667  CG  LEU A  43      -0.026   0.032  -5.982  1.00  0.00           C  \\nATOM    668  CD1 LEU A  43       0.430   1.390  -5.470  1.00  0.00           C  \\nATOM    669  CD2 LEU A  43      -1.003  -0.593  -4.982  1.00  0.00           C  \\nATOM    670  H   LEU A  43      -1.483   0.115  -9.701  1.00  0.00           H  \\nATOM    671  HA  LEU A  43       0.223   1.732  -8.194  1.00  0.00           H  \\nATOM    672  HB2 LEU A  43      -0.917  -0.840  -7.528  1.00  0.00           H  \\nATOM    673  HB3 LEU A  43      -1.639   0.704  -7.126  1.00  0.00           H  \\nATOM    674  HG  LEU A  43       0.811  -0.688  -6.077  1.00  0.00           H  \\nATOM    675 HD11 LEU A  43      -0.378   2.088  -5.613  1.00  0.00           H  \\nATOM    676 HD12 LEU A  43       0.663   1.231  -4.468  1.00  0.00           H  \\nATOM    677 HD13 LEU A  43       1.234   1.748  -6.081  1.00  0.00           H  \\nATOM    678 HD21 LEU A  43      -1.304  -1.521  -5.387  1.00  0.00           H  \\nATOM    679 HD22 LEU A  43      -0.556  -0.805  -4.052  1.00  0.00           H  \\nATOM    680 HD23 LEU A  43      -1.894   0.036  -4.897  1.00  0.00           H  \\nATOM    681  N   ARG A  44       1.724  -0.993  -9.250  1.00  0.00           N  \\nATOM    682  CA  ARG A  44       3.075  -1.468  -9.583  1.00  0.00           C  \\nATOM    683  C   ARG A  44       3.916  -0.568 -10.473  1.00  0.00           C  \\nATOM    684  O   ARG A  44       5.024  -0.155 -10.131  1.00  0.00           O  \\nATOM    685  CB  ARG A  44       2.980  -2.966 -10.024  1.00  0.00           C  \\nATOM    686  CG  ARG A  44       4.205  -3.864  -9.580  1.00  0.00           C  \\nATOM    687  CD  ARG A  44       4.161  -5.268 -10.117  1.00  0.00           C  \\nATOM    688  NE  ARG A  44       2.869  -5.932  -9.971  1.00  0.00           N  \\nATOM    689  CZ  ARG A  44       1.825  -6.028 -10.812  1.00  0.00           C  \\nATOM    690  NH1 ARG A  44       1.763  -5.427 -11.947  1.00  0.00           N  \\nATOM    691  NH2 ARG A  44       0.830  -6.834 -10.562  1.00  0.00           N  \\nATOM    692  H   ARG A  44       0.979  -1.338  -9.875  1.00  0.00           H  \\nATOM    693  HA  ARG A  44       3.620  -1.327  -8.647  1.00  0.00           H  \\nATOM    694  HB2 ARG A  44       2.079  -3.308  -9.490  1.00  0.00           H  \\nATOM    695  HB3 ARG A  44       2.940  -2.981 -11.165  1.00  0.00           H  \\nATOM    696  HG2 ARG A  44       4.232  -3.927  -8.521  1.00  0.00           H  \\nATOM    697  HG3 ARG A  44       5.181  -3.355  -9.808  1.00  0.00           H  \\nATOM    698  HD2 ARG A  44       4.987  -5.800  -9.543  1.00  0.00           H  \\nATOM    699  HD3 ARG A  44       4.358  -5.203 -11.169  1.00  0.00           H  \\nATOM    700  HE  ARG A  44       2.732  -6.395  -9.041  1.00  0.00           H  \\nATOM    701 HH11 ARG A  44       0.952  -5.658 -12.505  1.00  0.00           H  \\nATOM    702 HH12 ARG A  44       2.451  -4.726 -12.100  1.00  0.00           H  \\nATOM    703 HH21 ARG A  44      -0.087  -6.580 -10.908  1.00  0.00           H  \\nATOM    704 HH22 ARG A  44       0.884  -7.454  -9.745  1.00  0.00           H  \\nATOM    705  N   ARG A  45       3.339  -0.236 -11.645  1.00  0.00           N  \\nATOM    706  CA  ARG A  45       3.862   0.699 -12.680  1.00  0.00           C  \\nATOM    707  C   ARG A  45       4.247   2.037 -12.022  1.00  0.00           C  \\nATOM    708  O   ARG A  45       5.264   2.714 -12.386  1.00  0.00           O  \\nATOM    709  CB  ARG A  45       2.931   0.783 -13.922  1.00  0.00           C  \\nATOM    710  CG  ARG A  45       3.365   1.895 -14.974  1.00  0.00           C  \\nATOM    711  CD  ARG A  45       2.722   2.006 -16.338  1.00  0.00           C  \\nATOM    712  NE  ARG A  45       1.325   2.573 -16.423  1.00  0.00           N  \\nATOM    713  CZ  ARG A  45       0.700   3.574 -15.888  1.00  0.00           C  \\nATOM    714  NH1 ARG A  45       1.263   4.434 -15.100  1.00  0.00           N  \\nATOM    715  NH2 ARG A  45      -0.608   3.628 -15.973  1.00  0.00           N  \\nATOM    716  H   ARG A  45       2.340  -0.507 -11.676  1.00  0.00           H  \\nATOM    717  HA  ARG A  45       4.773   0.328 -12.950  1.00  0.00           H  \\nATOM    718  HB2 ARG A  45       2.986  -0.171 -14.497  1.00  0.00           H  \\nATOM    719  HB3 ARG A  45       1.969   1.020 -13.518  1.00  0.00           H  \\nATOM    720  HG2 ARG A  45       4.436   1.732 -15.142  1.00  0.00           H  \\nATOM    721  HG3 ARG A  45       3.264   2.864 -14.481  1.00  0.00           H  \\nATOM    722  HD2 ARG A  45       2.800   1.107 -16.829  1.00  0.00           H  \\nATOM    723  HD3 ARG A  45       3.341   2.728 -16.883  1.00  0.00           H  \\nATOM    724  HE  ARG A  45       0.667   2.077 -17.131  1.00  0.00           H  \\nATOM    725 HH11 ARG A  45       0.612   5.200 -14.958  1.00  0.00           H  \\nATOM    726 HH12 ARG A  45       2.236   4.413 -14.960  1.00  0.00           H  \\nATOM    727 HH21 ARG A  45      -1.138   2.874 -16.561  1.00  0.00           H  \\nATOM    728 HH22 ARG A  45      -1.166   4.325 -15.551  1.00  0.00           H  \\nATOM    729  N   VAL A  46       3.602   2.551 -11.033  1.00  0.00           N  \\nATOM    730  CA  VAL A  46       4.008   3.775 -10.308  1.00  0.00           C  \\nATOM    731  C   VAL A  46       4.860   3.458  -9.049  1.00  0.00           C  \\nATOM    732  O   VAL A  46       5.986   3.856  -8.977  1.00  0.00           O  \\nATOM    733  CB  VAL A  46       2.705   4.634 -10.051  1.00  0.00           C  \\nATOM    734  CG1 VAL A  46       3.147   5.919  -9.323  1.00  0.00           C  \\nATOM    735  CG2 VAL A  46       2.048   5.022 -11.349  1.00  0.00           C  \\nATOM    736  H   VAL A  46       2.669   2.101 -10.817  1.00  0.00           H  \\nATOM    737  HA  VAL A  46       4.724   4.312 -10.890  1.00  0.00           H  \\nATOM    738  HB  VAL A  46       2.079   4.067  -9.406  1.00  0.00           H  \\nATOM    739 HG11 VAL A  46       3.647   5.685  -8.339  1.00  0.00           H  \\nATOM    740 HG12 VAL A  46       4.004   6.360  -9.884  1.00  0.00           H  \\nATOM    741 HG13 VAL A  46       2.414   6.716  -9.226  1.00  0.00           H  \\nATOM    742 HG21 VAL A  46       1.251   5.800 -11.162  1.00  0.00           H  \\nATOM    743 HG22 VAL A  46       2.692   5.429 -12.134  1.00  0.00           H  \\nATOM    744 HG23 VAL A  46       1.516   4.186 -11.765  1.00  0.00           H  \\nATOM    745  N   GLY A  47       4.457   2.487  -8.228  1.00  0.00           N  \\nATOM    746  CA  GLY A  47       5.015   2.197  -6.927  1.00  0.00           C  \\nATOM    747  C   GLY A  47       6.462   1.651  -7.020  1.00  0.00           C  \\nATOM    748  O   GLY A  47       7.321   2.175  -6.306  1.00  0.00           O  \\nATOM    749  H   GLY A  47       3.579   1.972  -8.470  1.00  0.00           H  \\nATOM    750  HA2 GLY A  47       4.979   3.055  -6.422  1.00  0.00           H  \\nATOM    751  HA3 GLY A  47       4.387   1.440  -6.345  1.00  0.00           H  \\nATOM    752  N   ASP A  48       6.829   0.710  -7.907  1.00  0.00           N  \\nATOM    753  CA  ASP A  48       8.142   0.133  -8.198  1.00  0.00           C  \\nATOM    754  C   ASP A  48       9.112   1.079  -8.947  1.00  0.00           C  \\nATOM    755  O   ASP A  48      10.319   0.917  -9.015  1.00  0.00           O  \\nATOM    756  CB  ASP A  48       8.113  -1.246  -8.919  1.00  0.00           C  \\nATOM    757  CG  ASP A  48       7.198  -2.339  -8.250  1.00  0.00           C  \\nATOM    758  OD1 ASP A  48       7.399  -3.494  -8.621  1.00  0.00           O  \\nATOM    759  OD2 ASP A  48       6.306  -2.008  -7.416  1.00  0.00           O  \\nATOM    760  H   ASP A  48       6.021   0.209  -8.343  1.00  0.00           H  \\nATOM    761  HA  ASP A  48       8.602  -0.105  -7.274  1.00  0.00           H  \\nATOM    762  HB2 ASP A  48       7.815  -1.049 -10.006  1.00  0.00           H  \\nATOM    763  HB3 ASP A  48       9.133  -1.657  -8.918  1.00  0.00           H  \\nATOM    764  N   GLY A  49       8.579   2.215  -9.504  1.00  0.00           N  \\nATOM    765  CA  GLY A  49       9.357   3.385  -9.853  1.00  0.00           C  \\nATOM    766  C   GLY A  49       9.712   4.212  -8.537  1.00  0.00           C  \\nATOM    767  O   GLY A  49      10.832   4.453  -8.204  1.00  0.00           O  \\nATOM    768  H   GLY A  49       7.586   2.322  -9.512  1.00  0.00           H  \\nATOM    769  HA2 GLY A  49      10.270   3.234 -10.370  1.00  0.00           H  \\nATOM    770  HA3 GLY A  49       8.696   3.985 -10.478  1.00  0.00           H  \\nATOM    771  N   VAL A  50       8.677   4.497  -7.769  1.00  0.00           N  \\nATOM    772  CA  VAL A  50       8.704   5.181  -6.439  1.00  0.00           C  \\nATOM    773  C   VAL A  50       9.567   4.529  -5.368  1.00  0.00           C  \\nATOM    774  O   VAL A  50      10.257   5.288  -4.610  1.00  0.00           O  \\nATOM    775  CB  VAL A  50       7.332   5.474  -5.944  1.00  0.00           C  \\nATOM    776  CG1 VAL A  50       7.374   6.165  -4.554  1.00  0.00           C  \\nATOM    777  CG2 VAL A  50       6.637   6.391  -6.930  1.00  0.00           C  \\nATOM    778  H   VAL A  50       7.713   4.273  -8.111  1.00  0.00           H  \\nATOM    779  HA  VAL A  50       9.213   6.119  -6.571  1.00  0.00           H  \\nATOM    780  HB  VAL A  50       6.741   4.604  -5.826  1.00  0.00           H  \\nATOM    781 HG11 VAL A  50       8.024   5.737  -3.829  1.00  0.00           H  \\nATOM    782 HG12 VAL A  50       6.406   6.071  -4.154  1.00  0.00           H  \\nATOM    783 HG13 VAL A  50       7.593   7.247  -4.584  1.00  0.00           H  \\nATOM    784 HG21 VAL A  50       5.749   6.873  -6.480  1.00  0.00           H  \\nATOM    785 HG22 VAL A  50       7.366   7.171  -7.163  1.00  0.00           H  \\nATOM    786 HG23 VAL A  50       6.412   5.742  -7.782  1.00  0.00           H  \\nATOM    787  N   GLN A  51       9.679   3.169  -5.318  1.00  0.00           N  \\nATOM    788  CA  GLN A  51      10.708   2.469  -4.500  1.00  0.00           C  \\nATOM    789  C   GLN A  51      12.091   2.818  -4.917  1.00  0.00           C  \\nATOM    790  O   GLN A  51      12.677   3.652  -4.233  1.00  0.00           O  \\nATOM    791  CB  GLN A  51      10.525   0.919  -4.570  1.00  0.00           C  \\nATOM    792  CG  GLN A  51       9.177   0.451  -3.911  1.00  0.00           C  \\nATOM    793  CD  GLN A  51       9.039  -1.035  -4.154  1.00  0.00           C  \\nATOM    794  NE2 GLN A  51       7.948  -1.463  -4.767  1.00  0.00           N  \\nATOM    795  OE1 GLN A  51       9.946  -1.822  -3.968  1.00  0.00           O  \\nATOM    796  H   GLN A  51       9.091   2.647  -5.990  1.00  0.00           H  \\nATOM    797  HA  GLN A  51      10.595   2.810  -3.468  1.00  0.00           H  \\nATOM    798  HB2 GLN A  51      10.527   0.563  -5.610  1.00  0.00           H  \\nATOM    799  HB3 GLN A  51      11.284   0.490  -3.928  1.00  0.00           H  \\nATOM    800  HG2 GLN A  51       9.360   0.579  -2.759  1.00  0.00           H  \\nATOM    801  HG3 GLN A  51       8.324   0.999  -4.310  1.00  0.00           H  \\nATOM    802 HE21 GLN A  51       7.181  -0.824  -4.847  1.00  0.00           H  \\nATOM    803 HE22 GLN A  51       7.838  -2.382  -5.078  1.00  0.00           H  \\nATOM    804  N   ARG A  52      12.593   2.408  -6.050  1.00  0.00           N  \\nATOM    805  CA  ARG A  52      14.000   2.629  -6.518  1.00  0.00           C  \\nATOM    806  C   ARG A  52      14.480   4.002  -6.769  1.00  0.00           C  \\nATOM    807  O   ARG A  52      15.641   4.297  -6.687  1.00  0.00           O  \\nATOM    808  CB  ARG A  52      14.146   1.830  -7.852  1.00  0.00           C  \\nATOM    809  CG  ARG A  52      14.217   0.317  -7.528  1.00  0.00           C  \\nATOM    810  CD  ARG A  52      14.099  -0.543  -8.788  1.00  0.00           C  \\nATOM    811  NE  ARG A  52      12.710  -0.642  -9.332  1.00  0.00           N  \\nATOM    812  CZ  ARG A  52      12.288  -1.422 -10.247  1.00  0.00           C  \\nATOM    813  NH1 ARG A  52      13.060  -2.446 -10.676  1.00  0.00           N  \\nATOM    814  NH2 ARG A  52      11.184  -1.139 -10.797  1.00  0.00           N  \\nATOM    815  H   ARG A  52      11.999   1.839  -6.634  1.00  0.00           H  \\nATOM    816  HA  ARG A  52      14.646   2.220  -5.804  1.00  0.00           H  \\nATOM    817  HB2 ARG A  52      15.113   2.050  -8.346  1.00  0.00           H  \\nATOM    818  HB3 ARG A  52      13.311   2.025  -8.452  1.00  0.00           H  \\nATOM    819  HG2 ARG A  52      15.134   0.078  -7.098  1.00  0.00           H  \\nATOM    820  HG3 ARG A  52      13.392  -0.050  -6.818  1.00  0.00           H  \\nATOM    821  HD2 ARG A  52      14.452  -1.479  -8.465  1.00  0.00           H  \\nATOM    822  HD3 ARG A  52      14.796  -0.187  -9.583  1.00  0.00           H  \\nATOM    823  HE  ARG A  52      12.050   0.151  -9.187  1.00  0.00           H  \\nATOM    824 HH11 ARG A  52      12.837  -2.843 -11.581  1.00  0.00           H  \\nATOM    825 HH12 ARG A  52      13.977  -2.589 -10.300  1.00  0.00           H  \\nATOM    826 HH21 ARG A  52      10.773  -1.520 -11.622  1.00  0.00           H  \\nATOM    827 HH22 ARG A  52      10.714  -0.330 -10.404  1.00  0.00           H  \\nATOM    828  N   ASN A  53      13.533   4.997  -7.094  1.00  0.00           N  \\nATOM    829  CA  ASN A  53      13.976   6.395  -7.180  1.00  0.00           C  \\nATOM    830  C   ASN A  53      14.380   6.976  -5.837  1.00  0.00           C  \\nATOM    831  O   ASN A  53      15.377   7.719  -5.787  1.00  0.00           O  \\nATOM    832  CB  ASN A  53      12.777   7.237  -7.587  1.00  0.00           C  \\nATOM    833  CG  ASN A  53      12.210   7.182  -9.060  1.00  0.00           C  \\nATOM    834  ND2 ASN A  53      11.423   8.197  -9.304  1.00  0.00           N  \\nATOM    835  OD1 ASN A  53      12.509   6.337  -9.886  1.00  0.00           O  \\nATOM    836  H   ASN A  53      12.535   4.767  -7.315  1.00  0.00           H  \\nATOM    837  HA  ASN A  53      14.796   6.566  -7.872  1.00  0.00           H  \\nATOM    838  HB2 ASN A  53      11.938   6.937  -6.969  1.00  0.00           H  \\nATOM    839  HB3 ASN A  53      12.988   8.347  -7.510  1.00  0.00           H  \\nATOM    840 HD21 ASN A  53      10.943   8.274 -10.133  1.00  0.00           H  \\nATOM    841 HD22 ASN A  53      11.329   8.895  -8.552  1.00  0.00           H  \\nATOM    842  N   HIS A  54      13.748   6.579  -4.759  1.00  0.00           N  \\nATOM    843  CA  HIS A  54      13.964   7.090  -3.474  1.00  0.00           C  \\nATOM    844  C   HIS A  54      14.526   6.025  -2.495  1.00  0.00           C  \\nATOM    845  O   HIS A  54      14.478   6.201  -1.271  1.00  0.00           O  \\nATOM    846  CB  HIS A  54      12.656   7.625  -2.927  1.00  0.00           C  \\nATOM    847  CG  HIS A  54      11.874   8.422  -3.859  1.00  0.00           C  \\nATOM    848  CD2 HIS A  54      12.288   9.565  -4.539  1.00  0.00           C  \\nATOM    849  ND1 HIS A  54      10.680   8.116  -4.266  1.00  0.00           N  \\nATOM    850  CE1 HIS A  54      10.229   9.104  -5.136  1.00  0.00           C  \\nATOM    851  NE2 HIS A  54      11.259   9.911  -5.423  1.00  0.00           N  \\nATOM    852  H   HIS A  54      12.915   5.994  -4.911  1.00  0.00           H  \\nATOM    853  HA  HIS A  54      14.722   7.816  -3.550  1.00  0.00           H  \\nATOM    854  HB2 HIS A  54      12.873   8.276  -2.107  1.00  0.00           H  \\nATOM    855  HB3 HIS A  54      12.006   6.870  -2.539  1.00  0.00           H  \\nATOM    856  HD1 HIS A  54      10.112   7.221  -3.998  1.00  0.00           H  \\nATOM    857  HD2 HIS A  54      13.274   9.938  -4.564  1.00  0.00           H  \\nATOM    858  HE1 HIS A  54       9.248   9.068  -5.527  1.00  0.00           H  \\nATOM    859  N   GLU A  55      15.041   4.876  -2.974  1.00  0.00           N  \\nATOM    860  CA  GLU A  55      15.362   3.680  -2.134  1.00  0.00           C  \\nATOM    861  C   GLU A  55      16.364   3.997  -1.029  1.00  0.00           C  \\nATOM    862  O   GLU A  55      16.119   3.607   0.141  1.00  0.00           O  \\nATOM    863  CB  GLU A  55      15.719   2.444  -2.977  1.00  0.00           C  \\nATOM    864  CG  GLU A  55      16.074   1.281  -1.988  1.00  0.00           C  \\nATOM    865  CD  GLU A  55      16.626   0.009  -2.653  1.00  0.00           C  \\nATOM    866  OE1 GLU A  55      17.301  -0.711  -1.891  1.00  0.00           O  \\nATOM    867  OE2 GLU A  55      16.305  -0.302  -3.804  1.00  0.00           O  \\nATOM    868  H   GLU A  55      14.920   4.677  -3.919  1.00  0.00           H  \\nATOM    869  HA  GLU A  55      14.373   3.466  -1.680  1.00  0.00           H  \\nATOM    870  HB2 GLU A  55      14.768   2.224  -3.484  1.00  0.00           H  \\nATOM    871  HB3 GLU A  55      16.538   2.615  -3.680  1.00  0.00           H  \\nATOM    872  HG2 GLU A  55      15.142   1.056  -1.477  1.00  0.00           H  \\nATOM    873  HG3 GLU A  55      16.852   1.557  -1.251  1.00  0.00           H  \\nATOM    874  N   THR A  56      17.382   4.784  -1.325  1.00  0.00           N  \\nATOM    875  CA  THR A  56      18.456   5.211  -0.344  1.00  0.00           C  \\nATOM    876  C   THR A  56      17.844   6.023   0.769  1.00  0.00           C  \\nATOM    877  O   THR A  56      18.316   5.996   1.930  1.00  0.00           O  \\nATOM    878  CB  THR A  56      19.673   5.904  -1.025  1.00  0.00           C  \\nATOM    879  CG2 THR A  56      20.973   5.957  -0.150  1.00  0.00           C  \\nATOM    880  OG1 THR A  56      20.038   5.206  -2.169  1.00  0.00           O  \\nATOM    881  H   THR A  56      17.468   5.097  -2.261  1.00  0.00           H  \\nATOM    882  HA  THR A  56      18.919   4.296   0.134  1.00  0.00           H  \\nATOM    883  HB  THR A  56      19.538   6.965  -1.215  1.00  0.00           H  \\nATOM    884  HG1 THR A  56      20.993   4.997  -2.106  1.00  0.00           H  \\nATOM    885 HG21 THR A  56      21.013   6.864   0.422  1.00  0.00           H  \\nATOM    886 HG22 THR A  56      21.894   5.940  -0.785  1.00  0.00           H  \\nATOM    887 HG23 THR A  56      20.950   5.055   0.474  1.00  0.00           H  \\nATOM    888  N   ALA A  57      16.776   6.773   0.412  1.00  0.00           N  \\nATOM    889  CA  ALA A  57      16.042   7.557   1.438  1.00  0.00           C  \\nATOM    890  C   ALA A  57      15.053   6.708   2.224  1.00  0.00           C  \\nATOM    891  O   ALA A  57      14.991   6.878   3.447  1.00  0.00           O  \\nATOM    892  CB  ALA A  57      15.267   8.707   0.770  1.00  0.00           C  \\nATOM    893  H   ALA A  57      16.374   6.737  -0.430  1.00  0.00           H  \\nATOM    894  HA  ALA A  57      16.803   7.994   2.107  1.00  0.00           H  \\nATOM    895  HB1 ALA A  57      16.019   9.452   0.416  1.00  0.00           H  \\nATOM    896  HB2 ALA A  57      14.648   8.379   0.000  1.00  0.00           H  \\nATOM    897  HB3 ALA A  57      14.569   9.324   1.399  1.00  0.00           H  \\nATOM    898  N   PHE A  58      14.350   5.832   1.582  1.00  0.00           N  \\nATOM    899  CA  PHE A  58      13.357   4.855   2.087  1.00  0.00           C  \\nATOM    900  C   PHE A  58      14.019   3.860   3.077  1.00  0.00           C  \\nATOM    901  O   PHE A  58      13.635   3.830   4.228  1.00  0.00           O  \\nATOM    902  CB  PHE A  58      12.701   4.216   0.910  1.00  0.00           C  \\nATOM    903  CG  PHE A  58      11.583   4.980   0.194  1.00  0.00           C  \\nATOM    904  CD1 PHE A  58      10.767   4.300  -0.729  1.00  0.00           C  \\nATOM    905  CD2 PHE A  58      11.300   6.357   0.407  1.00  0.00           C  \\nATOM    906  CE1 PHE A  58       9.838   5.027  -1.529  1.00  0.00           C  \\nATOM    907  CE2 PHE A  58      10.263   6.999  -0.240  1.00  0.00           C  \\nATOM    908  CZ  PHE A  58       9.567   6.364  -1.234  1.00  0.00           C  \\nATOM    909  H   PHE A  58      14.415   5.919   0.577  1.00  0.00           H  \\nATOM    910  HA  PHE A  58      12.575   5.328   2.690  1.00  0.00           H  \\nATOM    911  HB2 PHE A  58      13.522   4.056   0.139  1.00  0.00           H  \\nATOM    912  HB3 PHE A  58      12.199   3.271   1.275  1.00  0.00           H  \\nATOM    913  HD1 PHE A  58      10.819   3.250  -0.875  1.00  0.00           H  \\nATOM    914  HD2 PHE A  58      11.780   6.866   1.223  1.00  0.00           H  \\nATOM    915  HE1 PHE A  58       9.240   4.479  -2.308  1.00  0.00           H  \\nATOM    916  HE2 PHE A  58      10.079   8.085  -0.112  1.00  0.00           H  \\nATOM    917  HZ  PHE A  58       8.846   6.875  -1.831  1.00  0.00           H  \\nATOM    918  N   GLN A  59      15.069   3.211   2.663  1.00  0.00           N  \\nATOM    919  CA  GLN A  59      15.918   2.461   3.563  1.00  0.00           C  \\nATOM    920  C   GLN A  59      16.649   3.318   4.600  1.00  0.00           C  \\nATOM    921  O   GLN A  59      16.822   2.879   5.752  1.00  0.00           O  \\nATOM    922  CB  GLN A  59      16.781   1.586   2.762  1.00  0.00           C  \\nATOM    923  CG  GLN A  59      16.127   0.393   2.037  1.00  0.00           C  \\nATOM    924  CD  GLN A  59      17.031  -0.830   1.972  1.00  0.00           C  \\nATOM    925  NE2 GLN A  59      17.469  -1.284   0.837  1.00  0.00           N  \\nATOM    926  OE1 GLN A  59      17.367  -1.402   2.958  1.00  0.00           O  \\nATOM    927  H   GLN A  59      15.289   3.147   1.636  1.00  0.00           H  \\nATOM    928  HA  GLN A  59      15.294   1.867   4.126  1.00  0.00           H  \\nATOM    929  HB2 GLN A  59      17.409   2.050   2.068  1.00  0.00           H  \\nATOM    930  HB3 GLN A  59      17.281   1.175   3.631  1.00  0.00           H  \\nATOM    931  HG2 GLN A  59      15.288   0.118   2.657  1.00  0.00           H  \\nATOM    932  HG3 GLN A  59      15.681   0.656   1.068  1.00  0.00           H  \\nATOM    933 HE21 GLN A  59      18.124  -2.072   0.973  1.00  0.00           H  \\nATOM    934 HE22 GLN A  59      17.342  -0.847  -0.045  1.00  0.00           H  \\nATOM    935  N   GLY A  60      17.115   4.508   4.185  1.00  0.00           N  \\nATOM    936  CA  GLY A  60      17.787   5.452   5.055  1.00  0.00           C  \\nATOM    937  C   GLY A  60      16.980   5.730   6.353  1.00  0.00           C  \\nATOM    938  O   GLY A  60      17.654   6.031   7.343  1.00  0.00           O  \\nATOM    939  H   GLY A  60      16.943   4.760   3.300  1.00  0.00           H  \\nATOM    940  HA2 GLY A  60      18.812   5.138   5.324  1.00  0.00           H  \\nATOM    941  HA3 GLY A  60      17.869   6.455   4.574  1.00  0.00           H  \\nATOM    942  N   MET A  61      15.640   5.543   6.361  1.00  0.00           N  \\nATOM    943  CA  MET A  61      14.671   5.820   7.469  1.00  0.00           C  \\nATOM    944  C   MET A  61      13.947   4.587   8.066  1.00  0.00           C  \\nATOM    945  O   MET A  61      13.730   4.495   9.271  1.00  0.00           O  \\nATOM    946  CB  MET A  61      13.662   6.913   7.041  1.00  0.00           C  \\nATOM    947  CG  MET A  61      14.388   8.312   7.045  1.00  0.00           C  \\nATOM    948  SD  MET A  61      13.194   9.547   6.691  1.00  0.00           S  \\nATOM    949  CE  MET A  61      13.057   9.418   4.899  1.00  0.00           C  \\nATOM    950  H   MET A  61      15.205   5.326   5.461  1.00  0.00           H  \\nATOM    951  HA  MET A  61      15.292   6.226   8.298  1.00  0.00           H  \\nATOM    952  HB2 MET A  61      12.784   6.926   7.795  1.00  0.00           H  \\nATOM    953  HB3 MET A  61      13.220   6.831   6.044  1.00  0.00           H  \\nATOM    954  HG2 MET A  61      15.113   8.416   6.282  1.00  0.00           H  \\nATOM    955  HG3 MET A  61      14.919   8.495   7.950  1.00  0.00           H  \\nATOM    956  HE1 MET A  61      13.986   9.575   4.531  1.00  0.00           H  \\nATOM    957  HE2 MET A  61      12.684   8.555   4.494  1.00  0.00           H  \\nATOM    958  HE3 MET A  61      12.473  10.143   4.372  1.00  0.00           H  \\nATOM    959  N   LEU A  62      13.716   3.543   7.235  1.00  0.00           N  \\nATOM    960  CA  LEU A  62      13.457   2.167   7.710  1.00  0.00           C  \\nATOM    961  C   LEU A  62      14.485   1.701   8.745  1.00  0.00           C  \\nATOM    962  O   LEU A  62      14.173   1.114   9.722  1.00  0.00           O  \\nATOM    963  CB  LEU A  62      13.340   1.243   6.458  1.00  0.00           C  \\nATOM    964  CG  LEU A  62      13.291  -0.264   6.748  1.00  0.00           C  \\nATOM    965  CD1 LEU A  62      12.130  -0.638   7.576  1.00  0.00           C  \\nATOM    966  CD2 LEU A  62      13.172  -1.009   5.374  1.00  0.00           C  \\nATOM    967  H   LEU A  62      13.850   3.613   6.210  1.00  0.00           H  \\nATOM    968  HA  LEU A  62      12.501   2.151   8.208  1.00  0.00           H  \\nATOM    969  HB2 LEU A  62      12.489   1.522   5.939  1.00  0.00           H  \\nATOM    970  HB3 LEU A  62      14.303   1.443   5.876  1.00  0.00           H  \\nATOM    971  HG  LEU A  62      14.209  -0.601   7.268  1.00  0.00           H  \\nATOM    972 HD11 LEU A  62      12.175  -0.101   8.395  1.00  0.00           H  \\nATOM    973 HD12 LEU A  62      12.206  -1.717   7.773  1.00  0.00           H  \\nATOM    974 HD13 LEU A  62      11.176  -0.551   7.018  1.00  0.00           H  \\nATOM    975 HD21 LEU A  62      13.286  -2.113   5.601  1.00  0.00           H  \\nATOM    976 HD22 LEU A  62      12.158  -0.829   4.962  1.00  0.00           H  \\nATOM    977 HD23 LEU A  62      14.051  -0.702   4.747  1.00  0.00           H  \\nATOM    978  N   ARG A  63      15.771   2.108   8.573  1.00  0.00           N  \\nATOM    979  CA  ARG A  63      16.865   1.752   9.384  1.00  0.00           C  \\nATOM    980  C   ARG A  63      17.226   2.864  10.375  1.00  0.00           C  \\nATOM    981  O   ARG A  63      18.397   3.117  10.759  1.00  0.00           O  \\nATOM    982  CB  ARG A  63      18.009   1.249   8.417  1.00  0.00           C  \\nATOM    983  CG  ARG A  63      17.423   0.218   7.427  1.00  0.00           C  \\nATOM    984  CD  ARG A  63      18.398  -0.822   6.773  1.00  0.00           C  \\nATOM    985  NE  ARG A  63      17.649  -1.783   5.936  1.00  0.00           N  \\nATOM    986  CZ  ARG A  63      17.139  -2.921   6.205  1.00  0.00           C  \\nATOM    987  NH1 ARG A  63      17.087  -3.395   7.458  1.00  0.00           N  \\nATOM    988  NH2 ARG A  63      16.675  -3.682   5.197  1.00  0.00           N  \\nATOM    989  H   ARG A  63      15.957   2.610   7.704  1.00  0.00           H  \\nATOM    990  HA  ARG A  63      16.517   0.908  10.000  1.00  0.00           H  \\nATOM    991  HB2 ARG A  63      18.860   0.919   8.923  1.00  0.00           H  \\nATOM    992  HB3 ARG A  63      18.348   2.178   7.954  1.00  0.00           H  \\nATOM    993  HG2 ARG A  63      16.653  -0.446   7.931  1.00  0.00           H  \\nATOM    994  HG3 ARG A  63      16.654   0.585   6.684  1.00  0.00           H  \\nATOM    995  HD2 ARG A  63      19.058  -1.393   7.409  1.00  0.00           H  \\nATOM    996  HD3 ARG A  63      19.042  -0.319   6.013  1.00  0.00           H  \\nATOM    997  HE  ARG A  63      17.788  -1.577   4.952  1.00  0.00           H  \\nATOM    998 HH11 ARG A  63      16.642  -4.320   7.647  1.00  0.00           H  \\nATOM    999 HH12 ARG A  63      17.192  -2.702   8.193  1.00  0.00           H  \\nATOM   1000 HH21 ARG A  63      16.696  -3.350   4.226  1.00  0.00           H  \\nATOM   1001 HH22 ARG A  63      16.208  -4.577   5.459  1.00  0.00           H  \\nATOM   1002  N   LYS A  64      16.250   3.622  10.773  1.00  0.00           N  \\nATOM   1003  CA  LYS A  64      16.218   4.522  11.953  1.00  0.00           C  \\nATOM   1004  C   LYS A  64      15.119   4.079  12.953  1.00  0.00           C  \\nATOM   1005  O   LYS A  64      15.035   4.593  14.013  1.00  0.00           O  \\nATOM   1006  CB  LYS A  64      16.120   5.945  11.515  1.00  0.00           C  \\nATOM   1007  CG  LYS A  64      17.513   6.471  11.112  1.00  0.00           C  \\nATOM   1008  CD  LYS A  64      17.448   7.832  10.401  1.00  0.00           C  \\nATOM   1009  CE  LYS A  64      18.811   8.388   9.943  1.00  0.00           C  \\nATOM   1010  NZ  LYS A  64      19.517   7.466   9.012  1.00  0.00           N  \\nATOM   1011  H   LYS A  64      15.450   3.587  10.199  1.00  0.00           H  \\nATOM   1012  HA  LYS A  64      17.078   4.337  12.566  1.00  0.00           H  \\nATOM   1013  HB2 LYS A  64      15.724   6.605  12.346  1.00  0.00           H  \\nATOM   1014  HB3 LYS A  64      15.466   6.069  10.577  1.00  0.00           H  \\nATOM   1015  HG2 LYS A  64      18.156   6.590  12.062  1.00  0.00           H  \\nATOM   1016  HG3 LYS A  64      18.001   5.758  10.387  1.00  0.00           H  \\nATOM   1017  HD2 LYS A  64      17.143   8.499  11.275  1.00  0.00           H  \\nATOM   1018  HD3 LYS A  64      16.783   7.920   9.499  1.00  0.00           H  \\nATOM   1019  HE2 LYS A  64      19.372   8.549  10.896  1.00  0.00           H  \\nATOM   1020  HE3 LYS A  64      18.607   9.296   9.385  1.00  0.00           H  \\nATOM   1021  HZ1 LYS A  64      18.861   7.151   8.340  1.00  0.00           H  \\nATOM   1022  HZ2 LYS A  64      20.313   7.865   8.567  1.00  0.00           H  \\nATOM   1023  HZ3 LYS A  64      19.872   6.587   9.513  1.00  0.00           H  \\nATOM   1024  N   LEU A  65      14.309   3.118  12.591  1.00  0.00           N  \\nATOM   1025  CA  LEU A  65      13.349   2.393  13.421  1.00  0.00           C  \\nATOM   1026  C   LEU A  65      13.446   0.828  13.370  1.00  0.00           C  \\nATOM   1027  O   LEU A  65      13.364   0.173  14.398  1.00  0.00           O  \\nATOM   1028  CB  LEU A  65      11.910   2.895  13.181  1.00  0.00           C  \\nATOM   1029  CG  LEU A  65      11.798   4.429  13.280  1.00  0.00           C  \\nATOM   1030  CD1 LEU A  65      10.422   4.889  12.665  1.00  0.00           C  \\nATOM   1031  CD2 LEU A  65      11.862   4.906  14.682  1.00  0.00           C  \\nATOM   1032  H   LEU A  65      14.364   2.915  11.616  1.00  0.00           H  \\nATOM   1033  HA  LEU A  65      13.497   2.563  14.453  1.00  0.00           H  \\nATOM   1034  HB2 LEU A  65      11.639   2.509  12.168  1.00  0.00           H  \\nATOM   1035  HB3 LEU A  65      11.392   2.498  14.014  1.00  0.00           H  \\nATOM   1036  HG  LEU A  65      12.634   4.977  12.764  1.00  0.00           H  \\nATOM   1037 HD11 LEU A  65      10.441   4.571  11.602  1.00  0.00           H  \\nATOM   1038 HD12 LEU A  65      10.288   5.970  12.756  1.00  0.00           H  \\nATOM   1039 HD13 LEU A  65       9.579   4.452  13.147  1.00  0.00           H  \\nATOM   1040 HD21 LEU A  65      12.705   4.637  15.178  1.00  0.00           H  \\nATOM   1041 HD22 LEU A  65      10.989   4.490  15.180  1.00  0.00           H  \\nATOM   1042 HD23 LEU A  65      11.741   5.912  14.818  1.00  0.00           H  \\nATOM   1043  N   ASP A  66      13.516   0.179  12.197  1.00  0.00           N  \\nATOM   1044  CA  ASP A  66      13.946  -1.261  12.021  1.00  0.00           C  \\nATOM   1045  C   ASP A  66      13.176  -2.406  12.742  1.00  0.00           C  \\nATOM   1046  O   ASP A  66      13.695  -3.031  13.701  1.00  0.00           O  \\nATOM   1047  CB  ASP A  66      15.480  -1.287  12.140  1.00  0.00           C  \\nATOM   1048  CG  ASP A  66      16.182  -2.314  11.194  1.00  0.00           C  \\nATOM   1049  OD1 ASP A  66      16.322  -3.472  11.591  1.00  0.00           O  \\nATOM   1050  OD2 ASP A  66      16.358  -1.945  10.044  1.00  0.00           O  \\nATOM   1051  H   ASP A  66      13.365   0.710  11.320  1.00  0.00           H  \\nATOM   1052  HA  ASP A  66      13.900  -1.396  10.960  1.00  0.00           H  \\nATOM   1053  HB2 ASP A  66      15.783  -0.187  12.014  1.00  0.00           H  \\nATOM   1054  HB3 ASP A  66      15.737  -1.424  13.164  1.00  0.00           H  \\nATOM   1055  N   ILE A  67      11.935  -2.644  12.277  1.00  0.00           N  \\nATOM   1056  CA  ILE A  67      11.027  -3.696  12.720  1.00  0.00           C  \\nATOM   1057  C   ILE A  67      11.692  -5.093  12.921  1.00  0.00           C  \\nATOM   1058  O   ILE A  67      12.486  -5.526  12.069  1.00  0.00           O  \\nATOM   1059  CB  ILE A  67       9.919  -3.741  11.633  1.00  0.00           C  \\nATOM   1060  CG1 ILE A  67       9.130  -2.405  11.624  1.00  0.00           C  \\nATOM   1061  CG2 ILE A  67       8.998  -4.936  11.468  1.00  0.00           C  \\nATOM   1062  CD1 ILE A  67       8.409  -2.165  10.263  1.00  0.00           C  \\nATOM   1063  H   ILE A  67      11.649  -2.134  11.461  1.00  0.00           H  \\nATOM   1064  HA  ILE A  67      10.597  -3.318  13.607  1.00  0.00           H  \\nATOM   1065  HB  ILE A  67      10.506  -3.653  10.749  1.00  0.00           H  \\nATOM   1066 HG12 ILE A  67       9.842  -1.522  11.708  1.00  0.00           H  \\nATOM   1067 HG13 ILE A  67       8.375  -2.300  12.463  1.00  0.00           H  \\nATOM   1068 HG21 ILE A  67       8.321  -5.195  12.250  1.00  0.00           H  \\nATOM   1069 HG22 ILE A  67       8.384  -4.946  10.554  1.00  0.00           H  \\nATOM   1070 HG23 ILE A  67       9.564  -5.819  11.476  1.00  0.00           H  \\nATOM   1071 HD11 ILE A  67       8.894  -2.640   9.439  1.00  0.00           H  \\nATOM   1072 HD12 ILE A  67       7.421  -2.632  10.236  1.00  0.00           H  \\nATOM   1073 HD13 ILE A  67       8.406  -1.106  10.075  1.00  0.00           H  \\nATOM   1074  N   LYS A  68      11.295  -5.850  13.876  1.00  0.00           N  \\nATOM   1075  CA  LYS A  68      11.528  -7.281  14.159  1.00  0.00           C  \\nATOM   1076  C   LYS A  68      10.224  -8.082  14.343  1.00  0.00           C  \\nATOM   1077  O   LYS A  68      10.088  -9.226  13.962  1.00  0.00           O  \\nATOM   1078  CB  LYS A  68      12.432  -7.480  15.360  1.00  0.00           C  \\nATOM   1079  CG  LYS A  68      14.007  -7.254  15.139  1.00  0.00           C  \\nATOM   1080  CD  LYS A  68      14.655  -5.844  15.128  1.00  0.00           C  \\nATOM   1081  CE  LYS A  68      15.838  -5.647  14.260  1.00  0.00           C  \\nATOM   1082  NZ  LYS A  68      16.158  -4.237  14.185  1.00  0.00           N  \\nATOM   1083  H   LYS A  68      10.701  -5.365  14.464  1.00  0.00           H  \\nATOM   1084  HA  LYS A  68      11.993  -7.782  13.290  1.00  0.00           H  \\nATOM   1085  HB2 LYS A  68      12.263  -8.505  15.768  1.00  0.00           H  \\nATOM   1086  HB3 LYS A  68      12.158  -6.679  16.068  1.00  0.00           H  \\nATOM   1087  HG2 LYS A  68      14.504  -7.827  16.013  1.00  0.00           H  \\nATOM   1088  HG3 LYS A  68      14.148  -7.759  14.215  1.00  0.00           H  \\nATOM   1089  HD2 LYS A  68      13.835  -5.095  14.942  1.00  0.00           H  \\nATOM   1090  HD3 LYS A  68      14.900  -5.736  16.162  1.00  0.00           H  \\nATOM   1091  HE2 LYS A  68      16.685  -6.302  14.454  1.00  0.00           H  \\nATOM   1092  HE3 LYS A  68      15.492  -5.917  13.274  1.00  0.00           H  \\nATOM   1093  HZ1 LYS A  68      15.266  -3.722  14.077  1.00  0.00           H  \\nATOM   1094  HZ2 LYS A  68      16.498  -3.844  14.998  1.00  0.00           H  \\nATOM   1095  HZ3 LYS A  68      16.597  -4.069  13.325  1.00  0.00           H  \\nATOM   1096  N   ASN A  69       9.214  -7.480  15.075  1.00  0.00           N  \\nATOM   1097  CA  ASN A  69       7.950  -8.002  15.555  1.00  0.00           C  \\nATOM   1098  C   ASN A  69       6.675  -7.323  14.990  1.00  0.00           C  \\nATOM   1099  O   ASN A  69       6.698  -6.287  14.317  1.00  0.00           O  \\nATOM   1100  CB  ASN A  69       7.901  -8.107  17.093  1.00  0.00           C  \\nATOM   1101  CG  ASN A  69       7.144  -6.996  17.781  1.00  0.00           C  \\nATOM   1102  ND2 ASN A  69       7.790  -5.929  18.105  1.00  0.00           N  \\nATOM   1103  OD1 ASN A  69       5.939  -7.020  18.075  1.00  0.00           O  \\nATOM   1104  H   ASN A  69       9.429  -6.497  15.427  1.00  0.00           H  \\nATOM   1105  HA  ASN A  69       7.811  -9.087  15.288  1.00  0.00           H  \\nATOM   1106  HB2 ASN A  69       8.904  -8.263  17.431  1.00  0.00           H  \\nATOM   1107  HB3 ASN A  69       7.469  -8.989  17.368  1.00  0.00           H  \\nATOM   1108 HD21 ASN A  69       8.660  -5.639  17.624  1.00  0.00           H  \\nATOM   1109 HD22 ASN A  69       7.355  -5.166  18.577  1.00  0.00           H  \\nATOM   1110  N   GLU A  70       5.575  -7.937  15.315  1.00  0.00           N  \\nATOM   1111  CA  GLU A  70       4.237  -7.612  14.782  1.00  0.00           C  \\nATOM   1112  C   GLU A  70       3.697  -6.267  15.264  1.00  0.00           C  \\nATOM   1113  O   GLU A  70       3.198  -5.527  14.401  1.00  0.00           O  \\nATOM   1114  CB  GLU A  70       3.389  -8.839  15.144  1.00  0.00           C  \\nATOM   1115  CG  GLU A  70       2.032  -8.937  14.376  1.00  0.00           C  \\nATOM   1116  CD  GLU A  70       0.956  -7.930  14.765  1.00  0.00           C  \\nATOM   1117  OE1 GLU A  70       0.703  -7.773  15.974  1.00  0.00           O  \\nATOM   1118  OE2 GLU A  70       0.192  -7.513  13.914  1.00  0.00           O  \\nATOM   1119  H   GLU A  70       5.614  -8.742  15.993  1.00  0.00           H  \\nATOM   1120  HA  GLU A  70       4.287  -7.486  13.653  1.00  0.00           H  \\nATOM   1121  HB2 GLU A  70       3.915  -9.688  14.788  1.00  0.00           H  \\nATOM   1122  HB3 GLU A  70       3.308  -8.908  16.267  1.00  0.00           H  \\nATOM   1123  HG2 GLU A  70       2.178  -8.678  13.331  1.00  0.00           H  \\nATOM   1124  HG3 GLU A  70       1.580  -9.948  14.484  1.00  0.00           H  \\nATOM   1125  N   ASP A  71       3.809  -5.848  16.505  1.00  0.00           N  \\nATOM   1126  CA  ASP A  71       3.564  -4.399  16.922  1.00  0.00           C  \\nATOM   1127  C   ASP A  71       4.779  -3.485  16.622  1.00  0.00           C  \\nATOM   1128  O   ASP A  71       4.590  -2.312  16.794  1.00  0.00           O  \\nATOM   1129  CB  ASP A  71       3.078  -4.296  18.370  1.00  0.00           C  \\nATOM   1130  CG  ASP A  71       1.718  -3.538  18.536  1.00  0.00           C  \\nATOM   1131  OD1 ASP A  71       1.763  -2.467  19.168  1.00  0.00           O  \\nATOM   1132  OD2 ASP A  71       0.683  -3.946  17.962  1.00  0.00           O  \\nATOM   1133  H   ASP A  71       4.291  -6.449  17.137  1.00  0.00           H  \\nATOM   1134  HA  ASP A  71       2.701  -4.126  16.302  1.00  0.00           H  \\nATOM   1135  HB2 ASP A  71       3.833  -3.962  19.084  1.00  0.00           H  \\nATOM   1136  HB3 ASP A  71       2.912  -5.321  18.718  1.00  0.00           H  \\nATOM   1137  N   ASP A  72       5.874  -3.976  16.023  1.00  0.00           N  \\nATOM   1138  CA  ASP A  72       6.795  -3.023  15.364  1.00  0.00           C  \\nATOM   1139  C   ASP A  72       6.136  -2.591  14.086  1.00  0.00           C  \\nATOM   1140  O   ASP A  72       6.316  -1.402  13.728  1.00  0.00           O  \\nATOM   1141  CB  ASP A  72       8.261  -3.526  15.141  1.00  0.00           C  \\nATOM   1142  CG  ASP A  72       9.067  -4.006  16.288  1.00  0.00           C  \\nATOM   1143  OD1 ASP A  72       9.856  -4.922  16.042  1.00  0.00           O  \\nATOM   1144  OD2 ASP A  72       8.970  -3.528  17.445  1.00  0.00           O  \\nATOM   1145  H   ASP A  72       5.998  -4.935  15.912  1.00  0.00           H  \\nATOM   1146  HA  ASP A  72       6.964  -2.255  16.011  1.00  0.00           H  \\nATOM   1147  HB2 ASP A  72       8.833  -2.736  14.730  1.00  0.00           H  \\nATOM   1148  HB3 ASP A  72       8.249  -4.330  14.335  1.00  0.00           H  \\nATOM   1149  N   VAL A  73       5.331  -3.437  13.438  1.00  0.00           N  \\nATOM   1150  CA  VAL A  73       4.509  -2.943  12.328  1.00  0.00           C  \\nATOM   1151  C   VAL A  73       3.331  -2.122  12.860  1.00  0.00           C  \\nATOM   1152  O   VAL A  73       3.199  -0.939  12.458  1.00  0.00           O  \\nATOM   1153  CB  VAL A  73       3.981  -4.155  11.440  1.00  0.00           C  \\nATOM   1154  CG1 VAL A  73       2.569  -4.000  10.816  1.00  0.00           C  \\nATOM   1155  CG2 VAL A  73       4.894  -4.378  10.251  1.00  0.00           C  \\nATOM   1156  H   VAL A  73       5.166  -4.321  13.840  1.00  0.00           H  \\nATOM   1157  HA  VAL A  73       5.080  -2.258  11.681  1.00  0.00           H  \\nATOM   1158  HB  VAL A  73       4.027  -5.075  12.068  1.00  0.00           H  \\nATOM   1159 HG11 VAL A  73       2.431  -4.894  10.184  1.00  0.00           H  \\nATOM   1160 HG12 VAL A  73       1.710  -4.009  11.509  1.00  0.00           H  \\nATOM   1161 HG13 VAL A  73       2.440  -3.107  10.118  1.00  0.00           H  \\nATOM   1162 HG21 VAL A  73       4.703  -5.417   9.841  1.00  0.00           H  \\nATOM   1163 HG22 VAL A  73       5.975  -4.311  10.592  1.00  0.00           H  \\nATOM   1164 HG23 VAL A  73       4.789  -3.743   9.449  1.00  0.00           H  \\nATOM   1165  N   LYS A  74       2.525  -2.689  13.764  1.00  0.00           N  \\nATOM   1166  CA  LYS A  74       1.364  -1.948  14.300  1.00  0.00           C  \\nATOM   1167  C   LYS A  74       1.744  -0.733  15.260  1.00  0.00           C  \\nATOM   1168  O   LYS A  74       0.803   0.035  15.567  1.00  0.00           O  \\nATOM   1169  CB  LYS A  74       0.380  -2.946  14.964  1.00  0.00           C  \\nATOM   1170  CG  LYS A  74      -0.663  -3.493  13.953  1.00  0.00           C  \\nATOM   1171  CD  LYS A  74      -1.947  -3.928  14.628  1.00  0.00           C  \\nATOM   1172  CE  LYS A  74      -1.914  -5.313  15.155  1.00  0.00           C  \\nATOM   1173  NZ  LYS A  74      -0.768  -5.558  15.971  1.00  0.00           N  \\nATOM   1174  H   LYS A  74       2.632  -3.636  14.192  1.00  0.00           H  \\nATOM   1175  HA  LYS A  74       0.885  -1.328  13.511  1.00  0.00           H  \\nATOM   1176  HB2 LYS A  74       0.908  -3.826  15.494  1.00  0.00           H  \\nATOM   1177  HB3 LYS A  74      -0.041  -2.492  15.792  1.00  0.00           H  \\nATOM   1178  HG2 LYS A  74      -0.250  -4.236  13.264  1.00  0.00           H  \\nATOM   1179  HG3 LYS A  74      -0.971  -2.580  13.463  1.00  0.00           H  \\nATOM   1180  HD2 LYS A  74      -2.796  -3.872  13.853  1.00  0.00           H  \\nATOM   1181  HD3 LYS A  74      -2.110  -3.218  15.424  1.00  0.00           H  \\nATOM   1182  HE2 LYS A  74      -2.831  -5.516  15.752  1.00  0.00           H  \\nATOM   1183  HE3 LYS A  74      -1.745  -6.054  14.353  1.00  0.00           H  \\nATOM   1184  HZ1 LYS A  74      -0.060  -6.071  15.439  1.00  0.00           H  \\nATOM   1185  HZ2 LYS A  74      -0.988  -6.287  16.661  1.00  0.00           H  \\nATOM   1186  HZ3 LYS A  74      -0.321  -4.772  16.520  1.00  0.00           H  \\nATOM   1187  N   SER A  75       3.021  -0.489  15.626  1.00  0.00           N  \\nATOM   1188  CA  SER A  75       3.390   0.726  16.348  1.00  0.00           C  \\nATOM   1189  C   SER A  75       3.783   1.794  15.380  1.00  0.00           C  \\nATOM   1190  O   SER A  75       3.403   2.985  15.452  1.00  0.00           O  \\nATOM   1191  CB  SER A  75       4.484   0.531  17.368  1.00  0.00           C  \\nATOM   1192  OG  SER A  75       5.686   0.195  16.755  1.00  0.00           O  \\nATOM   1193  H   SER A  75       3.649  -1.192  15.511  1.00  0.00           H  \\nATOM   1194  HA  SER A  75       2.548   1.146  16.768  1.00  0.00           H  \\nATOM   1195  HB2 SER A  75       4.224  -0.262  18.120  1.00  0.00           H  \\nATOM   1196  HB3 SER A  75       4.747   1.501  17.843  1.00  0.00           H  \\nATOM   1197  HG  SER A  75       5.666  -0.781  16.440  1.00  0.00           H  \\nATOM   1198  N   LEU A  76       4.556   1.487  14.351  1.00  0.00           N  \\nATOM   1199  CA  LEU A  76       5.113   2.422  13.309  1.00  0.00           C  \\nATOM   1200  C   LEU A  76       3.956   2.860  12.364  1.00  0.00           C  \\nATOM   1201  O   LEU A  76       4.025   3.964  11.753  1.00  0.00           O  \\nATOM   1202  CB  LEU A  76       6.325   1.797  12.569  1.00  0.00           C  \\nATOM   1203  CG  LEU A  76       7.582   1.630  13.439  1.00  0.00           C  \\nATOM   1204  CD1 LEU A  76       8.799   1.347  12.563  1.00  0.00           C  \\nATOM   1205  CD2 LEU A  76       7.849   2.676  14.513  1.00  0.00           C  \\nATOM   1206  H   LEU A  76       4.957   0.547  14.192  1.00  0.00           H  \\nATOM   1207  HA  LEU A  76       5.459   3.267  13.782  1.00  0.00           H  \\nATOM   1208  HB2 LEU A  76       6.601   2.518  11.766  1.00  0.00           H  \\nATOM   1209  HB3 LEU A  76       6.101   0.846  12.050  1.00  0.00           H  \\nATOM   1210  HG  LEU A  76       7.481   0.741  13.995  1.00  0.00           H  \\nATOM   1211 HD11 LEU A  76       9.533   0.821  13.096  1.00  0.00           H  \\nATOM   1212 HD12 LEU A  76       8.424   0.812  11.692  1.00  0.00           H  \\nATOM   1213 HD13 LEU A  76       9.223   2.281  12.268  1.00  0.00           H  \\nATOM   1214 HD21 LEU A  76       8.810   2.500  14.933  1.00  0.00           H  \\nATOM   1215 HD22 LEU A  76       7.173   2.671  15.416  1.00  0.00           H  \\nATOM   1216 HD23 LEU A  76       7.708   3.708  14.172  1.00  0.00           H  \\nATOM   1217  N   SER A  77       2.929   2.050  12.259  1.00  0.00           N  \\nATOM   1218  CA  SER A  77       1.607   2.521  11.755  1.00  0.00           C  \\nATOM   1219  C   SER A  77       1.069   3.798  12.356  1.00  0.00           C  \\nATOM   1220  O   SER A  77       0.515   4.704  11.727  1.00  0.00           O  \\nATOM   1221  CB  SER A  77       0.541   1.404  11.830  1.00  0.00           C  \\nATOM   1222  OG  SER A  77       0.178   1.285  13.168  1.00  0.00           O  \\nATOM   1223  H   SER A  77       3.001   1.160  12.645  1.00  0.00           H  \\nATOM   1224  HA  SER A  77       1.863   2.709  10.716  1.00  0.00           H  \\nATOM   1225  HB2 SER A  77       0.855   0.488  11.312  1.00  0.00           H  \\nATOM   1226  HB3 SER A  77      -0.262   1.626  11.142  1.00  0.00           H  \\nATOM   1227  HG  SER A  77      -0.610   0.717  13.327  1.00  0.00           H  \\nATOM   1228  N   ARG A  78       1.450   3.979  13.628  1.00  0.00           N  \\nATOM   1229  CA  ARG A  78       1.001   5.180  14.433  1.00  0.00           C  \\nATOM   1230  C   ARG A  78       1.827   6.384  14.069  1.00  0.00           C  \\nATOM   1231  O   ARG A  78       1.473   7.529  14.351  1.00  0.00           O  \\nATOM   1232  CB  ARG A  78       0.887   4.849  16.000  1.00  0.00           C  \\nATOM   1233  CG  ARG A  78       0.253   3.455  16.300  1.00  0.00           C  \\nATOM   1234  CD  ARG A  78       0.519   2.817  17.716  1.00  0.00           C  \\nATOM   1235  NE  ARG A  78      -0.107   1.460  17.956  1.00  0.00           N  \\nATOM   1236  CZ  ARG A  78       0.486   0.353  18.516  1.00  0.00           C  \\nATOM   1237  NH1 ARG A  78       1.625   0.297  19.105  1.00  0.00           N  \\nATOM   1238  NH2 ARG A  78      -0.077  -0.778  18.413  1.00  0.00           N  \\nATOM   1239  H   ARG A  78       1.846   3.189  14.099  1.00  0.00           H  \\nATOM   1240  HA  ARG A  78       0.079   5.460  13.957  1.00  0.00           H  \\nATOM   1241  HB2 ARG A  78       0.235   5.595  16.504  1.00  0.00           H  \\nATOM   1242  HB3 ARG A  78       1.889   4.814  16.368  1.00  0.00           H  \\nATOM   1243  HG2 ARG A  78      -0.752   3.513  15.982  1.00  0.00           H  \\nATOM   1244  HG3 ARG A  78       0.653   2.700  15.587  1.00  0.00           H  \\nATOM   1245  HD2 ARG A  78       1.628   2.793  17.851  1.00  0.00           H  \\nATOM   1246  HD3 ARG A  78       0.130   3.451  18.505  1.00  0.00           H  \\nATOM   1247  HE  ARG A  78      -1.082   1.186  17.614  1.00  0.00           H  \\nATOM   1248 HH11 ARG A  78       2.168   1.147  19.237  1.00  0.00           H  \\nATOM   1249 HH12 ARG A  78       1.838  -0.626  19.433  1.00  0.00           H  \\nATOM   1250 HH21 ARG A  78       0.563  -1.577  18.597  1.00  0.00           H  \\nATOM   1251 HH22 ARG A  78      -0.894  -0.933  17.930  1.00  0.00           H  \\nATOM   1252  N   VAL A  79       2.983   6.180  13.400  1.00  0.00           N  \\nATOM   1253  CA  VAL A  79       3.825   7.195  12.713  1.00  0.00           C  \\nATOM   1254  C   VAL A  79       3.312   7.543  11.296  1.00  0.00           C  \\nATOM   1255  O   VAL A  79       3.318   8.694  10.941  1.00  0.00           O  \\nATOM   1256  CB  VAL A  79       5.345   6.938  12.790  1.00  0.00           C  \\nATOM   1257  CG1 VAL A  79       6.161   8.127  12.213  1.00  0.00           C  \\nATOM   1258  CG2 VAL A  79       5.711   6.886  14.247  1.00  0.00           C  \\nATOM   1259  H   VAL A  79       3.132   5.234  13.168  1.00  0.00           H  \\nATOM   1260  HA  VAL A  79       3.774   8.048  13.284  1.00  0.00           H  \\nATOM   1261  HB  VAL A  79       5.565   6.014  12.200  1.00  0.00           H  \\nATOM   1262 HG11 VAL A  79       5.973   9.047  12.826  1.00  0.00           H  \\nATOM   1263 HG12 VAL A  79       5.871   8.335  11.154  1.00  0.00           H  \\nATOM   1264 HG13 VAL A  79       7.202   7.859  12.280  1.00  0.00           H  \\nATOM   1265 HG21 VAL A  79       5.244   6.077  14.742  1.00  0.00           H  \\nATOM   1266 HG22 VAL A  79       6.763   6.687  14.330  1.00  0.00           H  \\nATOM   1267 HG23 VAL A  79       5.530   7.811  14.793  1.00  0.00           H  \\nATOM   1268  N   MET A  80       2.729   6.574  10.570  1.00  0.00           N  \\nATOM   1269  CA  MET A  80       2.215   6.900   9.222  1.00  0.00           C  \\nATOM   1270  C   MET A  80       1.163   8.002   9.265  1.00  0.00           C  \\nATOM   1271  O   MET A  80       1.020   8.777   8.302  1.00  0.00           O  \\nATOM   1272  CB  MET A  80       1.510   5.626   8.674  1.00  0.00           C  \\nATOM   1273  CG  MET A  80       2.451   4.470   8.155  1.00  0.00           C  \\nATOM   1274  SD  MET A  80       1.776   3.295   6.989  1.00  0.00           S  \\nATOM   1275  CE  MET A  80       0.564   2.589   8.100  1.00  0.00           C  \\nATOM   1276  H   MET A  80       2.887   5.577  10.809  1.00  0.00           H  \\nATOM   1277  HA  MET A  80       3.013   7.101   8.544  1.00  0.00           H  \\nATOM   1278  HB2 MET A  80       0.852   5.890   7.826  1.00  0.00           H  \\nATOM   1279  HB3 MET A  80       0.762   5.270   9.365  1.00  0.00           H  \\nATOM   1280  HG2 MET A  80       2.831   4.011   9.075  1.00  0.00           H  \\nATOM   1281  HG3 MET A  80       3.343   4.910   7.751  1.00  0.00           H  \\nATOM   1282  HE1 MET A  80       0.208   3.333   8.721  1.00  0.00           H  \\nATOM   1283  HE2 MET A  80       1.024   1.838   8.809  1.00  0.00           H  \\nATOM   1284  HE3 MET A  80      -0.176   2.116   7.548  1.00  0.00           H  \\nATOM   1285  N   ILE A  81       0.312   8.025  10.317  1.00  0.00           N  \\nATOM   1286  CA  ILE A  81      -0.728   9.082  10.457  1.00  0.00           C  \\nATOM   1287  C   ILE A  81      -0.220  10.487  10.319  1.00  0.00           C  \\nATOM   1288  O   ILE A  81      -0.949  11.336   9.740  1.00  0.00           O  \\nATOM   1289  CB  ILE A  81      -1.475   8.934  11.765  1.00  0.00           C  \\nATOM   1290  CG1 ILE A  81      -2.154   7.569  11.908  1.00  0.00           C  \\nATOM   1291  CG2 ILE A  81      -2.575   9.964  11.978  1.00  0.00           C  \\nATOM   1292  CD1 ILE A  81      -2.881   7.334  13.246  1.00  0.00           C  \\nATOM   1293  H   ILE A  81       0.498   7.396  11.036  1.00  0.00           H  \\nATOM   1294  HA  ILE A  81      -1.449   8.985   9.582  1.00  0.00           H  \\nATOM   1295  HB  ILE A  81      -0.678   8.999  12.503  1.00  0.00           H  \\nATOM   1296 HG12 ILE A  81      -2.855   7.450  11.077  1.00  0.00           H  \\nATOM   1297 HG13 ILE A  81      -1.363   6.840  11.835  1.00  0.00           H  \\nATOM   1298 HG21 ILE A  81      -2.805  10.207  13.032  1.00  0.00           H  \\nATOM   1299 HG22 ILE A  81      -2.308  10.946  11.656  1.00  0.00           H  \\nATOM   1300 HG23 ILE A  81      -3.481   9.692  11.529  1.00  0.00           H  \\nATOM   1301 HD11 ILE A  81      -2.250   7.688  14.024  1.00  0.00           H  \\nATOM   1302 HD12 ILE A  81      -3.777   7.939  13.390  1.00  0.00           H  \\nATOM   1303 HD13 ILE A  81      -3.202   6.266  13.337  1.00  0.00           H  \\nATOM   1304  N   HIS A  82       1.010  10.647  10.779  1.00  0.00           N  \\nATOM   1305  CA  HIS A  82       1.629  11.947  10.889  1.00  0.00           C  \\nATOM   1306  C   HIS A  82       2.212  12.524   9.572  1.00  0.00           C  \\nATOM   1307  O   HIS A  82       2.381  13.728   9.478  1.00  0.00           O  \\nATOM   1308  CB  HIS A  82       2.706  11.874  11.972  1.00  0.00           C  \\nATOM   1309  CG  HIS A  82       3.521  13.090  12.198  1.00  0.00           C  \\nATOM   1310  CD2 HIS A  82       4.910  13.242  12.110  1.00  0.00           C  \\nATOM   1311  ND1 HIS A  82       3.038  14.298  12.625  1.00  0.00           N  \\nATOM   1312  CE1 HIS A  82       4.081  15.137  12.759  1.00  0.00           C  \\nATOM   1313  NE2 HIS A  82       5.241  14.574  12.337  1.00  0.00           N  \\nATOM   1314  H   HIS A  82       1.501   9.902  11.107  1.00  0.00           H  \\nATOM   1315  HA  HIS A  82       0.957  12.715  11.240  1.00  0.00           H  \\nATOM   1316  HB2 HIS A  82       2.232  11.473  12.871  1.00  0.00           H  \\nATOM   1317  HB3 HIS A  82       3.449  11.069  11.565  1.00  0.00           H  \\nATOM   1318  HD1 HIS A  82       2.097  14.679  12.356  1.00  0.00           H  \\nATOM   1319  HD2 HIS A  82       5.644  12.455  11.868  1.00  0.00           H  \\nATOM   1320  HE1 HIS A  82       3.839  16.184  12.906  1.00  0.00           H  \\nATOM   1321  N   VAL A  83       2.448  11.767   8.492  1.00  0.00           N  \\nATOM   1322  CA  VAL A  83       3.017  12.300   7.229  1.00  0.00           C  \\nATOM   1323  C   VAL A  83       1.951  13.186   6.496  1.00  0.00           C  \\nATOM   1324  O   VAL A  83       2.322  14.009   5.613  1.00  0.00           O  \\nATOM   1325  CB  VAL A  83       3.381  11.036   6.313  1.00  0.00           C  \\nATOM   1326  CG1 VAL A  83       4.039  11.370   4.967  1.00  0.00           C  \\nATOM   1327  CG2 VAL A  83       4.272   9.985   6.911  1.00  0.00           C  \\nATOM   1328  H   VAL A  83       2.341  10.778   8.529  1.00  0.00           H  \\nATOM   1329  HA  VAL A  83       3.921  12.896   7.317  1.00  0.00           H  \\nATOM   1330  HB  VAL A  83       2.377  10.547   6.111  1.00  0.00           H  \\nATOM   1331 HG11 VAL A  83       4.266  10.467   4.518  1.00  0.00           H  \\nATOM   1332 HG12 VAL A  83       3.360  11.916   4.366  1.00  0.00           H  \\nATOM   1333 HG13 VAL A  83       4.957  12.004   5.076  1.00  0.00           H  \\nATOM   1334 HG21 VAL A  83       5.339  10.283   6.960  1.00  0.00           H  \\nATOM   1335 HG22 VAL A  83       4.271   9.151   6.239  1.00  0.00           H  \\nATOM   1336 HG23 VAL A  83       3.918   9.660   7.887  1.00  0.00           H  \\nATOM   1337  N   PHE A  84       0.648  13.038   6.754  1.00  0.00           N  \\nATOM   1338  CA  PHE A  84      -0.434  13.819   6.199  1.00  0.00           C  \\nATOM   1339  C   PHE A  84      -1.202  14.635   7.252  1.00  0.00           C  \\nATOM   1340  O   PHE A  84      -2.375  15.085   7.021  1.00  0.00           O  \\nATOM   1341  CB  PHE A  84      -1.357  12.883   5.392  1.00  0.00           C  \\nATOM   1342  CG  PHE A  84      -0.850  11.702   4.679  1.00  0.00           C  \\nATOM   1343  CD1 PHE A  84      -1.368  10.354   4.918  1.00  0.00           C  \\nATOM   1344  CD2 PHE A  84       0.224  11.874   3.804  1.00  0.00           C  \\nATOM   1345  CE1 PHE A  84      -0.852   9.256   4.300  1.00  0.00           C  \\nATOM   1346  CE2 PHE A  84       0.808  10.736   3.242  1.00  0.00           C  \\nATOM   1347  CZ  PHE A  84       0.297   9.479   3.493  1.00  0.00           C  \\nATOM   1348  H   PHE A  84       0.335  12.401   7.448  1.00  0.00           H  \\nATOM   1349  HA  PHE A  84       0.118  14.425   5.395  1.00  0.00           H  \\nATOM   1350  HB2 PHE A  84      -1.827  13.491   4.681  1.00  0.00           H  \\nATOM   1351  HB3 PHE A  84      -2.138  12.517   6.080  1.00  0.00           H  \\nATOM   1352  HD1 PHE A  84      -2.120  10.247   5.625  1.00  0.00           H  \\nATOM   1353  HD2 PHE A  84       0.613  12.891   3.661  1.00  0.00           H  \\nATOM   1354  HE1 PHE A  84      -1.309   8.260   4.426  1.00  0.00           H  \\nATOM   1355  HE2 PHE A  84       1.756  10.771   2.684  1.00  0.00           H  \\nATOM   1356  HZ  PHE A  84       0.827   8.634   3.109  1.00  0.00           H  \\nATOM   1357  N   SER A  85      -0.620  14.765   8.468  1.00  0.00           N  \\nATOM   1358  CA  SER A  85      -1.181  15.536   9.588  1.00  0.00           C  \\nATOM   1359  C   SER A  85      -0.998  17.029   9.409  1.00  0.00           C  \\nATOM   1360  O   SER A  85      -1.694  17.847   9.989  1.00  0.00           O  \\nATOM   1361  CB  SER A  85      -0.605  15.024  10.953  1.00  0.00           C  \\nATOM   1362  OG  SER A  85       0.743  15.314  11.079  1.00  0.00           O  \\nATOM   1363  H   SER A  85       0.409  14.629   8.434  1.00  0.00           H  \\nATOM   1364  HA  SER A  85      -2.255  15.355   9.565  1.00  0.00           H  \\nATOM   1365  HB2 SER A  85      -1.104  15.474  11.857  1.00  0.00           H  \\nATOM   1366  HB3 SER A  85      -0.721  13.988  11.043  1.00  0.00           H  \\nATOM   1367  HG  SER A  85       1.157  14.811  10.296  1.00  0.00           H  \\nATOM   1368  N   ASP A  86      -0.179  17.466   8.428  1.00  0.00           N  \\nATOM   1369  CA  ASP A  86      -0.223  18.785   7.790  1.00  0.00           C  \\nATOM   1370  C   ASP A  86      -1.517  19.087   7.000  1.00  0.00           C  \\nATOM   1371  O   ASP A  86      -1.722  20.128   6.370  1.00  0.00           O  \\nATOM   1372  CB  ASP A  86       0.972  18.825   6.811  1.00  0.00           C  \\nATOM   1373  CG  ASP A  86       0.749  17.892   5.598  1.00  0.00           C  \\nATOM   1374  OD1 ASP A  86       1.610  17.960   4.712  1.00  0.00           O  \\nATOM   1375  OD2 ASP A  86      -0.176  17.101   5.568  1.00  0.00           O  \\nATOM   1376  H   ASP A  86       0.324  16.782   7.855  1.00  0.00           H  \\nATOM   1377  HA  ASP A  86      -0.270  19.539   8.595  1.00  0.00           H  \\nATOM   1378  HB2 ASP A  86       1.903  18.545   7.259  1.00  0.00           H  \\nATOM   1379  HB3 ASP A  86       1.146  19.856   6.519  1.00  0.00           H  \\nATOM   1380  N   GLY A  87      -2.456  18.112   6.890  1.00  0.00           N  \\nATOM   1381  CA  GLY A  87      -3.781  18.291   6.302  1.00  0.00           C  \\nATOM   1382  C   GLY A  87      -3.801  18.006   4.818  1.00  0.00           C  \\nATOM   1383  O   GLY A  87      -4.740  17.349   4.323  1.00  0.00           O  \\nATOM   1384  H   GLY A  87      -2.277  17.196   7.280  1.00  0.00           H  \\nATOM   1385  HA2 GLY A  87      -4.076  19.341   6.505  1.00  0.00           H  \\nATOM   1386  HA3 GLY A  87      -4.546  17.644   6.779  1.00  0.00           H  \\nATOM   1387  N   VAL A  88      -2.714  18.196   4.106  1.00  0.00           N  \\nATOM   1388  CA  VAL A  88      -2.574  18.088   2.690  1.00  0.00           C  \\nATOM   1389  C   VAL A  88      -2.733  16.667   2.203  1.00  0.00           C  \\nATOM   1390  O   VAL A  88      -2.338  15.668   2.870  1.00  0.00           O  \\nATOM   1391  CB  VAL A  88      -1.213  18.689   2.282  1.00  0.00           C  \\nATOM   1392  CG1 VAL A  88      -0.692  18.381   0.887  1.00  0.00           C  \\nATOM   1393  CG2 VAL A  88      -1.161  20.169   2.595  1.00  0.00           C  \\nATOM   1394  H   VAL A  88      -1.921  18.550   4.745  1.00  0.00           H  \\nATOM   1395  HA  VAL A  88      -3.340  18.722   2.292  1.00  0.00           H  \\nATOM   1396  HB  VAL A  88      -0.421  18.225   2.926  1.00  0.00           H  \\nATOM   1397 HG11 VAL A  88      -0.240  17.388   0.857  1.00  0.00           H  \\nATOM   1398 HG12 VAL A  88       0.182  18.958   0.694  1.00  0.00           H  \\nATOM   1399 HG13 VAL A  88      -1.457  18.453   0.155  1.00  0.00           H  \\nATOM   1400 HG21 VAL A  88      -1.068  20.182   3.671  1.00  0.00           H  \\nATOM   1401 HG22 VAL A  88      -0.258  20.637   2.121  1.00  0.00           H  \\nATOM   1402 HG23 VAL A  88      -2.019  20.648   2.178  1.00  0.00           H  \\nATOM   1403  N   THR A  89      -3.408  16.427   1.060  1.00  0.00           N  \\nATOM   1404  CA  THR A  89      -3.980  15.113   0.710  1.00  0.00           C  \\nATOM   1405  C   THR A  89      -4.072  15.100  -0.765  1.00  0.00           C  \\nATOM   1406  O   THR A  89      -4.786  15.993  -1.271  1.00  0.00           O  \\nATOM   1407  CB  THR A  89      -5.290  14.907   1.396  1.00  0.00           C  \\nATOM   1408  CG2 THR A  89      -6.045  13.592   0.998  1.00  0.00           C  \\nATOM   1409  OG1 THR A  89      -5.201  15.027   2.822  1.00  0.00           O  \\nATOM   1410  H   THR A  89      -3.729  17.246   0.616  1.00  0.00           H  \\nATOM   1411  HA  THR A  89      -3.332  14.295   1.019  1.00  0.00           H  \\nATOM   1412  HB  THR A  89      -5.929  15.649   1.000  1.00  0.00           H  \\nATOM   1413  HG1 THR A  89      -5.226  15.977   2.925  1.00  0.00           H  \\nATOM   1414 HG21 THR A  89      -6.668  13.212   1.795  1.00  0.00           H  \\nATOM   1415 HG22 THR A  89      -5.337  12.825   0.772  1.00  0.00           H  \\nATOM   1416 HG23 THR A  89      -6.613  13.900   0.109  1.00  0.00           H  \\nATOM   1417  N   ASN A  90      -3.384  14.123  -1.339  1.00  0.00           N  \\nATOM   1418  CA  ASN A  90      -3.575  13.653  -2.724  1.00  0.00           C  \\nATOM   1419  C   ASN A  90      -2.928  12.217  -2.928  1.00  0.00           C  \\nATOM   1420  O   ASN A  90      -2.100  11.787  -2.111  1.00  0.00           O  \\nATOM   1421  CB  ASN A  90      -3.025  14.726  -3.777  1.00  0.00           C  \\nATOM   1422  CG  ASN A  90      -1.497  14.812  -3.755  1.00  0.00           C  \\nATOM   1423  ND2 ASN A  90      -0.884  15.935  -3.450  1.00  0.00           N  \\nATOM   1424  OD1 ASN A  90      -0.894  13.799  -4.098  1.00  0.00           O  \\nATOM   1425  H   ASN A  90      -2.911  13.508  -0.731  1.00  0.00           H  \\nATOM   1426  HA  ASN A  90      -4.573  13.643  -3.012  1.00  0.00           H  \\nATOM   1427  HB2 ASN A  90      -3.252  14.325  -4.807  1.00  0.00           H  \\nATOM   1428  HB3 ASN A  90      -3.406  15.726  -3.517  1.00  0.00           H  \\nATOM   1429 HD21 ASN A  90      -1.473  16.804  -3.271  1.00  0.00           H  \\nATOM   1430 HD22 ASN A  90       0.085  15.864  -3.479  1.00  0.00           H  \\nATOM   1431  N   TRP A  91      -3.184  11.579  -4.069  1.00  0.00           N  \\nATOM   1432  CA  TRP A  91      -2.777  10.229  -4.403  1.00  0.00           C  \\nATOM   1433  C   TRP A  91      -1.237  10.137  -4.478  1.00  0.00           C  \\nATOM   1434  O   TRP A  91      -0.816   8.992  -4.237  1.00  0.00           O  \\nATOM   1435  CB  TRP A  91      -3.295   9.653  -5.702  1.00  0.00           C  \\nATOM   1436  CG  TRP A  91      -4.736   9.318  -5.690  1.00  0.00           C  \\nATOM   1437  CD1 TRP A  91      -5.704   9.716  -6.604  1.00  0.00           C  \\nATOM   1438  CD2 TRP A  91      -5.402   8.309  -4.915  1.00  0.00           C  \\nATOM   1439  CE2 TRP A  91      -6.828   8.238  -5.330  1.00  0.00           C  \\nATOM   1440  CE3 TRP A  91      -4.939   7.329  -4.012  1.00  0.00           C  \\nATOM   1441  NE1 TRP A  91      -6.877   9.024  -6.421  1.00  0.00           N  \\nATOM   1442  CZ2 TRP A  91      -7.668   7.234  -4.824  1.00  0.00           C  \\nATOM   1443  CZ3 TRP A  91      -5.805   6.328  -3.489  1.00  0.00           C  \\nATOM   1444  CH2 TRP A  91      -7.139   6.302  -3.926  1.00  0.00           C  \\nATOM   1445  H   TRP A  91      -3.630  11.985  -4.917  1.00  0.00           H  \\nATOM   1446  HA  TRP A  91      -3.082   9.503  -3.628  1.00  0.00           H  \\nATOM   1447  HB2 TRP A  91      -2.951  10.375  -6.516  1.00  0.00           H  \\nATOM   1448  HB3 TRP A  91      -2.803   8.697  -5.908  1.00  0.00           H  \\nATOM   1449  HD1 TRP A  91      -5.496  10.411  -7.353  1.00  0.00           H  \\nATOM   1450  HE1 TRP A  91      -7.529   8.848  -7.201  1.00  0.00           H  \\nATOM   1451  HE3 TRP A  91      -3.881   7.306  -3.665  1.00  0.00           H  \\nATOM   1452  HZ2 TRP A  91      -8.651   7.133  -5.179  1.00  0.00           H  \\nATOM   1453  HZ3 TRP A  91      -5.521   5.580  -2.755  1.00  0.00           H  \\nATOM   1454  HH2 TRP A  91      -7.923   5.576  -3.670  1.00  0.00           H  \\nATOM   1455  N   GLY A  92      -0.379  11.170  -4.730  1.00  0.00           N  \\nATOM   1456  CA  GLY A  92       1.107  11.051  -4.738  1.00  0.00           C  \\nATOM   1457  C   GLY A  92       1.598  10.771  -3.341  1.00  0.00           C  \\nATOM   1458  O   GLY A  92       2.506   9.946  -3.225  1.00  0.00           O  \\nATOM   1459  H   GLY A  92      -0.757  12.155  -4.777  1.00  0.00           H  \\nATOM   1460  HA2 GLY A  92       1.404  12.057  -5.045  1.00  0.00           H  \\nATOM   1461  HA3 GLY A  92       1.544  10.345  -5.440  1.00  0.00           H  \\nATOM   1462  N   ARG A  93       1.069  11.354  -2.253  1.00  0.00           N  \\nATOM   1463  CA  ARG A  93       1.510  11.016  -0.826  1.00  0.00           C  \\nATOM   1464  C   ARG A  93       1.098   9.611  -0.464  1.00  0.00           C  \\nATOM   1465  O   ARG A  93       1.912   8.904   0.154  1.00  0.00           O  \\nATOM   1466  CB  ARG A  93       0.957  12.125   0.140  1.00  0.00           C  \\nATOM   1467  CG  ARG A  93       0.764  13.444  -0.494  1.00  0.00           C  \\nATOM   1468  CD  ARG A  93       0.551  14.618   0.496  1.00  0.00           C  \\nATOM   1469  NE  ARG A  93       1.708  14.963   1.308  1.00  0.00           N  \\nATOM   1470  CZ  ARG A  93       1.690  15.531   2.436  1.00  0.00           C  \\nATOM   1471  NH1 ARG A  93       0.599  15.723   3.184  1.00  0.00           N  \\nATOM   1472  NH2 ARG A  93       2.745  16.033   2.886  1.00  0.00           N  \\nATOM   1473  H   ARG A  93       0.350  12.037  -2.338  1.00  0.00           H  \\nATOM   1474  HA  ARG A  93       2.602  10.992  -0.810  1.00  0.00           H  \\nATOM   1475  HB2 ARG A  93       1.539  12.102   0.976  1.00  0.00           H  \\nATOM   1476  HB3 ARG A  93       0.026  11.754   0.564  1.00  0.00           H  \\nATOM   1477  HG2 ARG A  93       1.605  13.732  -1.122  1.00  0.00           H  \\nATOM   1478  HG3 ARG A  93      -0.134  13.306  -1.080  1.00  0.00           H  \\nATOM   1479  HD2 ARG A  93       0.278  15.454  -0.094  1.00  0.00           H  \\nATOM   1480  HD3 ARG A  93      -0.302  14.391   1.098  1.00  0.00           H  \\nATOM   1481  HE  ARG A  93       2.614  14.890   0.887  1.00  0.00           H  \\nATOM   1482 HH11 ARG A  93      -0.359  15.558   2.834  1.00  0.00           H  \\nATOM   1483 HH12 ARG A  93       0.784  16.419   3.976  1.00  0.00           H  \\nATOM   1484 HH21 ARG A  93       2.622  16.750   3.583  1.00  0.00           H  \\nATOM   1485 HH22 ARG A  93       3.586  15.826   2.397  1.00  0.00           H  \\nATOM   1486  N   ILE A  94      -0.087   9.222  -0.871  1.00  0.00           N  \\nATOM   1487  CA  ILE A  94      -0.649   7.879  -0.693  1.00  0.00           C  \\nATOM   1488  C   ILE A  94       0.237   6.829  -1.335  1.00  0.00           C  \\nATOM   1489  O   ILE A  94       0.619   5.848  -0.646  1.00  0.00           O  \\nATOM   1490  CB  ILE A  94      -2.130   7.777  -1.094  1.00  0.00           C  \\nATOM   1491  CG1 ILE A  94      -2.938   8.760  -0.161  1.00  0.00           C  \\nATOM   1492  CG2 ILE A  94      -2.586   6.334  -0.948  1.00  0.00           C  \\nATOM   1493  CD1 ILE A  94      -4.335   8.878  -0.590  1.00  0.00           C  \\nATOM   1494  H   ILE A  94      -0.603   9.810  -1.438  1.00  0.00           H  \\nATOM   1495  HA  ILE A  94      -0.482   7.628   0.376  1.00  0.00           H  \\nATOM   1496  HB  ILE A  94      -2.220   8.163  -2.135  1.00  0.00           H  \\nATOM   1497 HG12 ILE A  94      -2.547   9.818  -0.256  1.00  0.00           H  \\nATOM   1498 HG13 ILE A  94      -2.972   8.372   0.851  1.00  0.00           H  \\nATOM   1499 HG21 ILE A  94      -2.334   6.008   0.095  1.00  0.00           H  \\nATOM   1500 HG22 ILE A  94      -2.103   5.680  -1.673  1.00  0.00           H  \\nATOM   1501 HG23 ILE A  94      -3.601   6.272  -1.230  1.00  0.00           H  \\nATOM   1502 HD11 ILE A  94      -4.932   9.719  -0.101  1.00  0.00           H  \\nATOM   1503 HD12 ILE A  94      -4.407   8.822  -1.674  1.00  0.00           H  \\nATOM   1504 HD13 ILE A  94      -4.812   7.916  -0.217  1.00  0.00           H  \\nATOM   1505  N   VAL A  95       0.496   6.830  -2.618  1.00  0.00           N  \\nATOM   1506  CA  VAL A  95       1.266   5.807  -3.302  1.00  0.00           C  \\nATOM   1507  C   VAL A  95       2.673   5.800  -2.783  1.00  0.00           C  \\nATOM   1508  O   VAL A  95       3.214   4.695  -2.666  1.00  0.00           O  \\nATOM   1509  CB  VAL A  95       1.253   5.984  -4.832  1.00  0.00           C  \\nATOM   1510  CG1 VAL A  95       2.171   7.155  -5.314  1.00  0.00           C  \\nATOM   1511  CG2 VAL A  95       1.724   4.760  -5.600  1.00  0.00           C  \\nATOM   1512  H   VAL A  95      -0.009   7.548  -3.161  1.00  0.00           H  \\nATOM   1513  HA  VAL A  95       0.963   4.828  -3.134  1.00  0.00           H  \\nATOM   1514  HB  VAL A  95       0.242   6.185  -5.195  1.00  0.00           H  \\nATOM   1515 HG11 VAL A  95       3.230   7.012  -5.065  1.00  0.00           H  \\nATOM   1516 HG12 VAL A  95       2.144   7.208  -6.398  1.00  0.00           H  \\nATOM   1517 HG13 VAL A  95       1.790   8.092  -4.882  1.00  0.00           H  \\nATOM   1518 HG21 VAL A  95       1.335   4.883  -6.562  1.00  0.00           H  \\nATOM   1519 HG22 VAL A  95       2.811   4.673  -5.592  1.00  0.00           H  \\nATOM   1520 HG23 VAL A  95       1.363   3.830  -5.165  1.00  0.00           H  \\nATOM   1521  N   THR A  96       3.315   6.906  -2.479  1.00  0.00           N  \\nATOM   1522  CA  THR A  96       4.673   6.985  -1.888  1.00  0.00           C  \\nATOM   1523  C   THR A  96       4.718   6.275  -0.513  1.00  0.00           C  \\nATOM   1524  O   THR A  96       5.649   5.455  -0.376  1.00  0.00           O  \\nATOM   1525  CB  THR A  96       5.031   8.454  -1.832  1.00  0.00           C  \\nATOM   1526  CG2 THR A  96       6.388   8.906  -1.304  1.00  0.00           C  \\nATOM   1527  OG1 THR A  96       5.099   8.921  -3.167  1.00  0.00           O  \\nATOM   1528  H   THR A  96       2.893   7.724  -2.798  1.00  0.00           H  \\nATOM   1529  HA  THR A  96       5.395   6.500  -2.507  1.00  0.00           H  \\nATOM   1530  HB  THR A  96       4.306   8.963  -1.270  1.00  0.00           H  \\nATOM   1531  HG1 THR A  96       4.199   9.253  -3.427  1.00  0.00           H  \\nATOM   1532 HG21 THR A  96       6.475   8.613  -0.279  1.00  0.00           H  \\nATOM   1533 HG22 THR A  96       7.126   8.437  -1.989  1.00  0.00           H  \\nATOM   1534 HG23 THR A  96       6.525  10.014  -1.391  1.00  0.00           H  \\nATOM   1535  N   LEU A  97       3.818   6.421   0.424  1.00  0.00           N  \\nATOM   1536  CA  LEU A  97       3.752   5.636   1.624  1.00  0.00           C  \\nATOM   1537  C   LEU A  97       3.479   4.147   1.358  1.00  0.00           C  \\nATOM   1538  O   LEU A  97       3.994   3.311   2.142  1.00  0.00           O  \\nATOM   1539  CB  LEU A  97       2.798   6.387   2.611  1.00  0.00           C  \\nATOM   1540  CG  LEU A  97       2.757   5.767   3.973  1.00  0.00           C  \\nATOM   1541  CD1 LEU A  97       4.118   5.672   4.651  1.00  0.00           C  \\nATOM   1542  CD2 LEU A  97       1.808   6.534   4.855  1.00  0.00           C  \\nATOM   1543  H   LEU A  97       3.081   7.169   0.369  1.00  0.00           H  \\nATOM   1544  HA  LEU A  97       4.749   5.759   2.035  1.00  0.00           H  \\nATOM   1545  HB2 LEU A  97       3.183   7.405   2.698  1.00  0.00           H  \\nATOM   1546  HB3 LEU A  97       1.835   6.475   2.115  1.00  0.00           H  \\nATOM   1547  HG  LEU A  97       2.411   4.757   3.821  1.00  0.00           H  \\nATOM   1548 HD11 LEU A  97       3.960   5.469   5.726  1.00  0.00           H  \\nATOM   1549 HD12 LEU A  97       4.712   6.551   4.581  1.00  0.00           H  \\nATOM   1550 HD13 LEU A  97       4.758   4.890   4.203  1.00  0.00           H  \\nATOM   1551 HD21 LEU A  97       0.817   6.468   4.391  1.00  0.00           H  \\nATOM   1552 HD22 LEU A  97       2.101   7.578   4.932  1.00  0.00           H  \\nATOM   1553 HD23 LEU A  97       1.866   6.183   5.882  1.00  0.00           H  \\nATOM   1554  N   ILE A  98       2.756   3.688   0.308  1.00  0.00           N  \\nATOM   1555  CA  ILE A  98       2.546   2.260  -0.012  1.00  0.00           C  \\nATOM   1556  C   ILE A  98       3.866   1.732  -0.590  1.00  0.00           C  \\nATOM   1557  O   ILE A  98       4.233   0.599  -0.314  1.00  0.00           O  \\nATOM   1558  CB  ILE A  98       1.196   2.052  -0.844  1.00  0.00           C  \\nATOM   1559  CG1 ILE A  98      -0.059   2.603  -0.074  1.00  0.00           C  \\nATOM   1560  CG2 ILE A  98       1.130   0.604  -1.290  1.00  0.00           C  \\nATOM   1561  CD1 ILE A  98      -1.304   2.658  -0.884  1.00  0.00           C  \\nATOM   1562  H   ILE A  98       2.308   4.388  -0.356  1.00  0.00           H  \\nATOM   1563  HA  ILE A  98       2.407   1.770   0.893  1.00  0.00           H  \\nATOM   1564  HB  ILE A  98       1.293   2.723  -1.770  1.00  0.00           H  \\nATOM   1565 HG12 ILE A  98       0.219   3.570   0.341  1.00  0.00           H  \\nATOM   1566 HG13 ILE A  98      -0.279   1.878   0.724  1.00  0.00           H  \\nATOM   1567 HG21 ILE A  98       1.516  -0.087  -0.553  1.00  0.00           H  \\nATOM   1568 HG22 ILE A  98       1.709   0.399  -2.175  1.00  0.00           H  \\nATOM   1569 HG23 ILE A  98       0.070   0.352  -1.553  1.00  0.00           H  \\nATOM   1570 HD11 ILE A  98      -1.513   1.651  -1.337  1.00  0.00           H  \\nATOM   1571 HD12 ILE A  98      -1.025   3.525  -1.586  1.00  0.00           H  \\nATOM   1572 HD13 ILE A  98      -2.065   2.913  -0.226  1.00  0.00           H  \\nATOM   1573  N   SER A  99       4.597   2.501  -1.417  1.00  0.00           N  \\nATOM   1574  CA  SER A  99       5.977   2.232  -1.807  1.00  0.00           C  \\nATOM   1575  C   SER A  99       7.015   2.263  -0.726  1.00  0.00           C  \\nATOM   1576  O   SER A  99       8.074   1.653  -0.885  1.00  0.00           O  \\nATOM   1577  CB  SER A  99       6.332   3.182  -2.932  1.00  0.00           C  \\nATOM   1578  OG  SER A  99       5.606   2.937  -4.176  1.00  0.00           O  \\nATOM   1579  H   SER A  99       4.185   3.381  -1.809  1.00  0.00           H  \\nATOM   1580  HA  SER A  99       5.925   1.159  -2.145  1.00  0.00           H  \\nATOM   1581  HB2 SER A  99       5.966   4.147  -2.582  1.00  0.00           H  \\nATOM   1582  HB3 SER A  99       7.346   3.174  -3.136  1.00  0.00           H  \\nATOM   1583  HG  SER A  99       6.288   2.660  -4.856  1.00  0.00           H  \\nATOM   1584  N   PHE A 100       6.831   2.931   0.411  1.00  0.00           N  \\nATOM   1585  CA  PHE A 100       7.502   2.691   1.657  1.00  0.00           C  \\nATOM   1586  C   PHE A 100       7.048   1.351   2.336  1.00  0.00           C  \\nATOM   1587  O   PHE A 100       7.851   0.467   2.668  1.00  0.00           O  \\nATOM   1588  CB  PHE A 100       7.514   3.931   2.611  1.00  0.00           C  \\nATOM   1589  CG  PHE A 100       8.597   3.828   3.673  1.00  0.00           C  \\nATOM   1590  CD1 PHE A 100       9.583   4.803   3.729  1.00  0.00           C  \\nATOM   1591  CD2 PHE A 100       8.566   2.788   4.616  1.00  0.00           C  \\nATOM   1592  CE1 PHE A 100      10.599   4.819   4.739  1.00  0.00           C  \\nATOM   1593  CE2 PHE A 100       9.500   2.817   5.653  1.00  0.00           C  \\nATOM   1594  CZ  PHE A 100      10.573   3.748   5.639  1.00  0.00           C  \\nATOM   1595  H   PHE A 100       6.067   3.490   0.393  1.00  0.00           H  \\nATOM   1596  HA  PHE A 100       8.490   2.578   1.299  1.00  0.00           H  \\nATOM   1597  HB2 PHE A 100       7.686   4.790   1.982  1.00  0.00           H  \\nATOM   1598  HB3 PHE A 100       6.547   4.120   3.077  1.00  0.00           H  \\nATOM   1599  HD1 PHE A 100       9.618   5.555   2.959  1.00  0.00           H  \\nATOM   1600  HD2 PHE A 100       7.761   2.089   4.716  1.00  0.00           H  \\nATOM   1601  HE1 PHE A 100      11.243   5.637   4.874  1.00  0.00           H  \\nATOM   1602  HE2 PHE A 100       9.518   2.028   6.322  1.00  0.00           H  \\nATOM   1603  HZ  PHE A 100      11.300   3.697   6.451  1.00  0.00           H  \\nATOM   1604  N   GLY A 101       5.747   1.102   2.514  1.00  0.00           N  \\nATOM   1605  CA  GLY A 101       5.128  -0.128   2.832  1.00  0.00           C  \\nATOM   1606  C   GLY A 101       5.599  -1.369   2.128  1.00  0.00           C  \\nATOM   1607  O   GLY A 101       5.785  -2.387   2.742  1.00  0.00           O  \\nATOM   1608  H   GLY A 101       5.173   1.912   2.271  1.00  0.00           H  \\nATOM   1609  HA2 GLY A 101       5.311  -0.139   3.887  1.00  0.00           H  \\nATOM   1610  HA3 GLY A 101       4.051   0.056   2.683  1.00  0.00           H  \\nATOM   1611  N   ALA A 102       5.947  -1.222   0.861  1.00  0.00           N  \\nATOM   1612  CA  ALA A 102       6.655  -2.180   0.044  1.00  0.00           C  \\nATOM   1613  C   ALA A 102       8.077  -2.519   0.507  1.00  0.00           C  \\nATOM   1614  O   ALA A 102       8.414  -3.669   0.571  1.00  0.00           O  \\nATOM   1615  CB  ALA A 102       6.789  -1.731  -1.411  1.00  0.00           C  \\nATOM   1616  H   ALA A 102       5.510  -0.456   0.448  1.00  0.00           H  \\nATOM   1617  HA  ALA A 102       6.030  -3.067   0.094  1.00  0.00           H  \\nATOM   1618  HB1 ALA A 102       5.795  -1.436  -1.631  1.00  0.00           H  \\nATOM   1619  HB2 ALA A 102       7.436  -0.817  -1.505  1.00  0.00           H  \\nATOM   1620  HB3 ALA A 102       7.260  -2.558  -2.087  1.00  0.00           H  \\nATOM   1621  N   PHE A 103       8.863  -1.488   0.910  1.00  0.00           N  \\nATOM   1622  CA  PHE A 103      10.172  -1.748   1.480  1.00  0.00           C  \\nATOM   1623  C   PHE A 103      10.086  -2.313   2.925  1.00  0.00           C  \\nATOM   1624  O   PHE A 103      10.998  -3.083   3.302  1.00  0.00           O  \\nATOM   1625  CB  PHE A 103      11.047  -0.439   1.320  1.00  0.00           C  \\nATOM   1626  CG  PHE A 103      12.116  -0.629   0.303  1.00  0.00           C  \\nATOM   1627  CD1 PHE A 103      12.109   0.018  -0.889  1.00  0.00           C  \\nATOM   1628  CD2 PHE A 103      13.087  -1.630   0.596  1.00  0.00           C  \\nATOM   1629  CE1 PHE A 103      13.084  -0.346  -1.833  1.00  0.00           C  \\nATOM   1630  CE2 PHE A 103      14.060  -2.044  -0.352  1.00  0.00           C  \\nATOM   1631  CZ  PHE A 103      14.020  -1.414  -1.601  1.00  0.00           C  \\nATOM   1632  H   PHE A 103       8.472  -0.539   0.997  1.00  0.00           H  \\nATOM   1633  HA  PHE A 103      10.643  -2.563   0.919  1.00  0.00           H  \\nATOM   1634  HB2 PHE A 103      10.429   0.413   1.048  1.00  0.00           H  \\nATOM   1635  HB3 PHE A 103      11.490  -0.127   2.262  1.00  0.00           H  \\nATOM   1636  HD1 PHE A 103      11.397   0.867  -1.059  1.00  0.00           H  \\nATOM   1637  HD2 PHE A 103      13.066  -2.196   1.498  1.00  0.00           H  \\nATOM   1638  HE1 PHE A 103      13.276   0.213  -2.739  1.00  0.00           H  \\nATOM   1639  HE2 PHE A 103      14.778  -2.838  -0.103  1.00  0.00           H  \\nATOM   1640  HZ  PHE A 103      14.676  -1.711  -2.352  1.00  0.00           H  \\nATOM   1641  N   VAL A 104       9.027  -2.128   3.687  1.00  0.00           N  \\nATOM   1642  CA  VAL A 104       8.813  -2.905   4.947  1.00  0.00           C  \\nATOM   1643  C   VAL A 104       8.443  -4.350   4.734  1.00  0.00           C  \\nATOM   1644  O   VAL A 104       8.886  -5.190   5.423  1.00  0.00           O  \\nATOM   1645  CB  VAL A 104       7.731  -2.219   5.824  1.00  0.00           C  \\nATOM   1646  CG1 VAL A 104       7.527  -3.096   7.034  1.00  0.00           C  \\nATOM   1647  CG2 VAL A 104       8.073  -0.813   6.218  1.00  0.00           C  \\nATOM   1648  H   VAL A 104       8.483  -1.367   3.522  1.00  0.00           H  \\nATOM   1649  HA  VAL A 104       9.712  -2.961   5.514  1.00  0.00           H  \\nATOM   1650  HB  VAL A 104       6.846  -2.123   5.291  1.00  0.00           H  \\nATOM   1651 HG11 VAL A 104       6.885  -2.723   7.773  1.00  0.00           H  \\nATOM   1652 HG12 VAL A 104       8.467  -3.203   7.494  1.00  0.00           H  \\nATOM   1653 HG13 VAL A 104       7.257  -4.113   6.736  1.00  0.00           H  \\nATOM   1654 HG21 VAL A 104       9.035  -1.002   6.740  1.00  0.00           H  \\nATOM   1655 HG22 VAL A 104       7.270  -0.552   6.908  1.00  0.00           H  \\nATOM   1656 HG23 VAL A 104       8.081  -0.123   5.393  1.00  0.00           H  \\nATOM   1657  N   ALA A 105       7.563  -4.649   3.765  1.00  0.00           N  \\nATOM   1658  CA  ALA A 105       7.203  -6.028   3.368  1.00  0.00           C  \\nATOM   1659  C   ALA A 105       8.463  -6.742   2.799  1.00  0.00           C  \\nATOM   1660  O   ALA A 105       8.706  -7.913   3.113  1.00  0.00           O  \\nATOM   1661  CB  ALA A 105       6.206  -5.975   2.232  1.00  0.00           C  \\nATOM   1662  H   ALA A 105       7.203  -3.910   3.125  1.00  0.00           H  \\nATOM   1663  HA  ALA A 105       6.752  -6.495   4.153  1.00  0.00           H  \\nATOM   1664  HB1 ALA A 105       5.261  -5.648   2.678  1.00  0.00           H  \\nATOM   1665  HB2 ALA A 105       5.974  -6.893   1.765  1.00  0.00           H  \\nATOM   1666  HB3 ALA A 105       6.594  -5.345   1.416  1.00  0.00           H  \\nATOM   1667  N   LYS A 106       9.346  -6.074   2.072  1.00  0.00           N  \\nATOM   1668  CA  LYS A 106      10.725  -6.516   1.697  1.00  0.00           C  \\nATOM   1669  C   LYS A 106      11.643  -6.745   2.911  1.00  0.00           C  \\nATOM   1670  O   LYS A 106      12.252  -7.833   2.971  1.00  0.00           O  \\nATOM   1671  CB  LYS A 106      11.318  -5.531   0.691  1.00  0.00           C  \\nATOM   1672  CG  LYS A 106      10.818  -5.888  -0.730  1.00  0.00           C  \\nATOM   1673  CD  LYS A 106      11.041  -4.858  -1.826  1.00  0.00           C  \\nATOM   1674  CE  LYS A 106      10.337  -5.415  -3.113  1.00  0.00           C  \\nATOM   1675  NZ  LYS A 106      10.543  -4.498  -4.285  1.00  0.00           N  \\nATOM   1676  H   LYS A 106       9.078  -5.073   1.836  1.00  0.00           H  \\nATOM   1677  HA  LYS A 106      10.595  -7.469   1.292  1.00  0.00           H  \\nATOM   1678  HB2 LYS A 106      10.993  -4.546   1.013  1.00  0.00           H  \\nATOM   1679  HB3 LYS A 106      12.420  -5.521   0.788  1.00  0.00           H  \\nATOM   1680  HG2 LYS A 106       9.753  -6.122  -0.616  1.00  0.00           H  \\nATOM   1681  HG3 LYS A 106      11.389  -6.750  -0.960  1.00  0.00           H  \\nATOM   1682  HD2 LYS A 106      10.597  -3.908  -1.600  1.00  0.00           H  \\nATOM   1683  HD3 LYS A 106      12.068  -4.657  -2.057  1.00  0.00           H  \\nATOM   1684  HE2 LYS A 106       9.266  -5.527  -2.931  1.00  0.00           H  \\nATOM   1685  HE3 LYS A 106      10.728  -6.361  -3.274  1.00  0.00           H  \\nATOM   1686  HZ1 LYS A 106      10.318  -3.550  -4.031  1.00  0.00           H  \\nATOM   1687  HZ2 LYS A 106       9.937  -4.733  -5.161  1.00  0.00           H  \\nATOM   1688  HZ3 LYS A 106      11.506  -4.514  -4.539  1.00  0.00           H  \\nATOM   1689  N   HIS A 107      11.648  -5.948   3.975  1.00  0.00           N  \\nATOM   1690  CA  HIS A 107      12.515  -6.169   5.184  1.00  0.00           C  \\nATOM   1691  C   HIS A 107      11.939  -7.362   6.011  1.00  0.00           C  \\nATOM   1692  O   HIS A 107      12.698  -8.220   6.427  1.00  0.00           O  \\nATOM   1693  CB  HIS A 107      12.593  -4.905   6.006  1.00  0.00           C  \\nATOM   1694  CG  HIS A 107      13.173  -5.073   7.360  1.00  0.00           C  \\nATOM   1695  CD2 HIS A 107      12.350  -4.913   8.420  1.00  0.00           C  \\nATOM   1696  ND1 HIS A 107      14.479  -5.137   7.751  1.00  0.00           N  \\nATOM   1697  CE1 HIS A 107      14.425  -5.116   9.092  1.00  0.00           C  \\nATOM   1698  NE2 HIS A 107      13.138  -5.004   9.508  1.00  0.00           N  \\nATOM   1699  H   HIS A 107      11.086  -5.084   3.891  1.00  0.00           H  \\nATOM   1700  HA  HIS A 107      13.499  -6.434   4.827  1.00  0.00           H  \\nATOM   1701  HB2 HIS A 107      13.173  -4.197   5.429  1.00  0.00           H  \\nATOM   1702  HB3 HIS A 107      11.580  -4.541   6.094  1.00  0.00           H  \\nATOM   1703  HD2 HIS A 107      11.264  -4.730   8.351  1.00  0.00           H  \\nATOM   1704  HE1 HIS A 107      15.296  -4.959   9.786  1.00  0.00           H  \\nATOM   1705  HE2 HIS A 107      12.898  -4.862  10.449  1.00  0.00           H  \\nATOM   1706  N   LEU A 108      10.649  -7.428   6.095  1.00  0.00           N  \\nATOM   1707  CA  LEU A 108       9.992  -8.562   6.799  1.00  0.00           C  \\nATOM   1708  C   LEU A 108      10.157  -9.959   6.149  1.00  0.00           C  \\nATOM   1709  O   LEU A 108      10.455 -11.000   6.786  1.00  0.00           O  \\nATOM   1710  CB  LEU A 108       8.464  -8.235   6.744  1.00  0.00           C  \\nATOM   1711  CG  LEU A 108       7.967  -7.132   7.765  1.00  0.00           C  \\nATOM   1712  CD1 LEU A 108       6.474  -6.787   7.474  1.00  0.00           C  \\nATOM   1713  CD2 LEU A 108       8.182  -7.634   9.169  1.00  0.00           C  \\nATOM   1714  H   LEU A 108      10.128  -6.694   5.631  1.00  0.00           H  \\nATOM   1715  HA  LEU A 108      10.377  -8.503   7.836  1.00  0.00           H  \\nATOM   1716  HB2 LEU A 108       8.192  -7.934   5.746  1.00  0.00           H  \\nATOM   1717  HB3 LEU A 108       7.853  -9.123   6.890  1.00  0.00           H  \\nATOM   1718  HG  LEU A 108       8.615  -6.232   7.743  1.00  0.00           H  \\nATOM   1719 HD11 LEU A 108       6.013  -6.160   8.210  1.00  0.00           H  \\nATOM   1720 HD12 LEU A 108       6.323  -6.337   6.536  1.00  0.00           H  \\nATOM   1721 HD13 LEU A 108       5.855  -7.789   7.518  1.00  0.00           H  \\nATOM   1722 HD21 LEU A 108       9.271  -7.664   9.451  1.00  0.00           H  \\nATOM   1723 HD22 LEU A 108       7.541  -7.063   9.834  1.00  0.00           H  \\nATOM   1724 HD23 LEU A 108       7.718  -8.560   9.277  1.00  0.00           H  \\nATOM   1725  N   LYS A 109      10.150 -10.004   4.858  1.00  0.00           N  \\nATOM   1726  CA  LYS A 109      10.576 -11.188   4.035  1.00  0.00           C  \\nATOM   1727  C   LYS A 109      12.035 -11.510   4.403  1.00  0.00           C  \\nATOM   1728  O   LYS A 109      12.350 -12.715   4.487  1.00  0.00           O  \\nATOM   1729  CB  LYS A 109      10.482 -10.991   2.536  1.00  0.00           C  \\nATOM   1730  CG  LYS A 109      11.146 -12.105   1.676  1.00  0.00           C  \\nATOM   1731  CD  LYS A 109      10.369 -13.415   1.592  1.00  0.00           C  \\nATOM   1732  CE  LYS A 109      11.154 -14.652   1.993  1.00  0.00           C  \\nATOM   1733  NZ  LYS A 109      11.161 -15.044   3.437  1.00  0.00           N  \\nATOM   1734  H   LYS A 109       9.799  -9.187   4.465  1.00  0.00           H  \\nATOM   1735  HA  LYS A 109      10.002 -12.078   4.387  1.00  0.00           H  \\nATOM   1736  HB2 LYS A 109      11.038 -10.069   2.228  1.00  0.00           H  \\nATOM   1737  HB3 LYS A 109       9.494 -10.886   2.202  1.00  0.00           H  \\nATOM   1738  HG2 LYS A 109      11.035 -11.696   0.706  1.00  0.00           H  \\nATOM   1739  HG3 LYS A 109      12.228 -12.269   1.945  1.00  0.00           H  \\nATOM   1740  HD2 LYS A 109      10.059 -13.534   0.581  1.00  0.00           H  \\nATOM   1741  HD3 LYS A 109       9.420 -13.362   2.203  1.00  0.00           H  \\nATOM   1742  HE2 LYS A 109      10.828 -15.443   1.360  1.00  0.00           H  \\nATOM   1743  HE3 LYS A 109      12.177 -14.648   1.614  1.00  0.00           H  \\nATOM   1744  HZ1 LYS A 109      10.203 -15.409   3.724  1.00  0.00           H  \\nATOM   1745  HZ2 LYS A 109      11.410 -14.300   4.022  1.00  0.00           H  \\nATOM   1746  HZ3 LYS A 109      11.858 -15.710   3.679  1.00  0.00           H  \\nATOM   1747  N   THR A 110      12.970 -10.516   4.503  1.00  0.00           N  \\nATOM   1748  CA  THR A 110      14.375 -10.796   4.752  1.00  0.00           C  \\nATOM   1749  C   THR A 110      14.698 -11.249   6.181  1.00  0.00           C  \\nATOM   1750  O   THR A 110      15.810 -11.711   6.474  1.00  0.00           O  \\nATOM   1751  CB  THR A 110      15.347  -9.685   4.351  1.00  0.00           C  \\nATOM   1752  CG2 THR A 110      15.395  -9.537   2.799  1.00  0.00           C  \\nATOM   1753  OG1 THR A 110      15.082  -8.439   4.983  1.00  0.00           O  \\nATOM   1754  H   THR A 110      12.707  -9.595   4.228  1.00  0.00           H  \\nATOM   1755  HA  THR A 110      14.555 -11.658   4.108  1.00  0.00           H  \\nATOM   1756  HB  THR A 110      16.340 -10.010   4.658  1.00  0.00           H  \\nATOM   1757  HG1 THR A 110      14.637  -8.562   5.789  1.00  0.00           H  \\nATOM   1758 HG21 THR A 110      16.235  -9.062   2.463  1.00  0.00           H  \\nATOM   1759 HG22 THR A 110      15.115 -10.498   2.284  1.00  0.00           H  \\nATOM   1760 HG23 THR A 110      14.689  -8.725   2.578  1.00  0.00           H  \\nATOM   1761  N   ILE A 111      13.733 -11.013   7.055  1.00  0.00           N  \\nATOM   1762  CA  ILE A 111      13.689 -11.568   8.406  1.00  0.00           C  \\nATOM   1763  C   ILE A 111      12.698 -12.754   8.522  1.00  0.00           C  \\nATOM   1764  O   ILE A 111      12.407 -13.226   9.619  1.00  0.00           O  \\nATOM   1765  CB  ILE A 111      13.751 -10.550   9.580  1.00  0.00           C  \\nATOM   1766  CG1 ILE A 111      12.465  -9.679   9.603  1.00  0.00           C  \\nATOM   1767  CG2 ILE A 111      15.041  -9.672   9.809  1.00  0.00           C  \\nATOM   1768  CD1 ILE A 111      12.217  -8.809  10.819  1.00  0.00           C  \\nATOM   1769  H   ILE A 111      13.002 -10.383   6.820  1.00  0.00           H  \\nATOM   1770  HA  ILE A 111      14.701 -12.053   8.437  1.00  0.00           H  \\nATOM   1771  HB  ILE A 111      13.653 -11.113  10.480  1.00  0.00           H  \\nATOM   1772 HG12 ILE A 111      12.619  -8.967   8.743  1.00  0.00           H  \\nATOM   1773 HG13 ILE A 111      11.635 -10.282   9.426  1.00  0.00           H  \\nATOM   1774 HG21 ILE A 111      15.090  -9.386  10.983  1.00  0.00           H  \\nATOM   1775 HG22 ILE A 111      15.018  -8.826   9.090  1.00  0.00           H  \\nATOM   1776 HG23 ILE A 111      15.935 -10.295   9.561  1.00  0.00           H  \\nATOM   1777 HD11 ILE A 111      12.426  -9.314  11.764  1.00  0.00           H  \\nATOM   1778 HD12 ILE A 111      11.055  -8.599  10.840  1.00  0.00           H  \\nATOM   1779 HD13 ILE A 111      12.863  -7.953  10.861  1.00  0.00           H  \\nATOM   1780  N   ASN A 112      12.124 -13.290   7.412  1.00  0.00           N  \\nATOM   1781  CA  ASN A 112      11.233 -14.439   7.332  1.00  0.00           C  \\nATOM   1782  C   ASN A 112      10.057 -14.288   8.277  1.00  0.00           C  \\nATOM   1783  O   ASN A 112       9.763 -15.223   9.037  1.00  0.00           O  \\nATOM   1784  CB  ASN A 112      11.980 -15.794   7.346  1.00  0.00           C  \\nATOM   1785  CG  ASN A 112      13.159 -15.905   6.403  1.00  0.00           C  \\nATOM   1786  ND2 ASN A 112      14.335 -15.876   6.941  1.00  0.00           N  \\nATOM   1787  OD1 ASN A 112      12.982 -15.840   5.201  1.00  0.00           O  \\nATOM   1788  H   ASN A 112      12.296 -12.823   6.467  1.00  0.00           H  \\nATOM   1789  HA  ASN A 112      10.889 -14.352   6.286  1.00  0.00           H  \\nATOM   1790  HB2 ASN A 112      12.310 -16.105   8.367  1.00  0.00           H  \\nATOM   1791  HB3 ASN A 112      11.222 -16.615   7.014  1.00  0.00           H  \\nATOM   1792 HD21 ASN A 112      14.420 -16.056   7.891  1.00  0.00           H  \\nATOM   1793 HD22 ASN A 112      15.160 -15.933   6.314  1.00  0.00           H  \\nATOM   1794  N   GLN A 113       9.389 -13.125   8.282  1.00  0.00           N  \\nATOM   1795  CA  GLN A 113       8.157 -12.769   8.931  1.00  0.00           C  \\nATOM   1796  C   GLN A 113       7.098 -12.218   7.977  1.00  0.00           C  \\nATOM   1797  O   GLN A 113       6.423 -11.177   8.149  1.00  0.00           O  \\nATOM   1798  CB  GLN A 113       8.488 -11.878  10.110  1.00  0.00           C  \\nATOM   1799  CG  GLN A 113       9.291 -12.538  11.223  1.00  0.00           C  \\nATOM   1800  CD  GLN A 113       8.669 -13.684  11.976  1.00  0.00           C  \\nATOM   1801  NE2 GLN A 113       9.061 -14.883  11.654  1.00  0.00           N  \\nATOM   1802  OE1 GLN A 113       7.869 -13.480  12.860  1.00  0.00           O  \\nATOM   1803  H   GLN A 113       9.789 -12.503   7.504  1.00  0.00           H  \\nATOM   1804  HA  GLN A 113       7.787 -13.665   9.373  1.00  0.00           H  \\nATOM   1805  HB2 GLN A 113       7.545 -11.554  10.601  1.00  0.00           H  \\nATOM   1806  HB3 GLN A 113       9.009 -11.004   9.812  1.00  0.00           H  \\nATOM   1807  HG2 GLN A 113      10.333 -12.759  10.958  1.00  0.00           H  \\nATOM   1808  HG3 GLN A 113       9.374 -11.802  12.000  1.00  0.00           H  \\nATOM   1809 HE21 GLN A 113       9.523 -14.840  10.739  1.00  0.00           H  \\nATOM   1810 HE22 GLN A 113       8.762 -15.706  12.179  1.00  0.00           H  \\nATOM   1811  N   GLU A 114       6.807 -13.039   6.980  1.00  0.00           N  \\nATOM   1812  CA  GLU A 114       5.686 -12.938   6.093  1.00  0.00           C  \\nATOM   1813  C   GLU A 114       4.308 -12.913   6.824  1.00  0.00           C  \\nATOM   1814  O   GLU A 114       3.367 -12.281   6.357  1.00  0.00           O  \\nATOM   1815  CB  GLU A 114       5.765 -13.963   4.883  1.00  0.00           C  \\nATOM   1816  CG  GLU A 114       7.029 -13.804   4.010  1.00  0.00           C  \\nATOM   1817  CD  GLU A 114       8.208 -14.653   4.474  1.00  0.00           C  \\nATOM   1818  OE1 GLU A 114       8.440 -15.781   3.962  1.00  0.00           O  \\nATOM   1819  OE2 GLU A 114       9.013 -14.129   5.273  1.00  0.00           O  \\nATOM   1820  H   GLU A 114       7.618 -13.711   6.692  1.00  0.00           H  \\nATOM   1821  HA  GLU A 114       5.657 -11.964   5.621  1.00  0.00           H  \\nATOM   1822  HB2 GLU A 114       4.939 -13.670   4.227  1.00  0.00           H  \\nATOM   1823  HB3 GLU A 114       5.569 -14.980   5.172  1.00  0.00           H  \\nATOM   1824  HG2 GLU A 114       6.881 -14.013   2.943  1.00  0.00           H  \\nATOM   1825  HG3 GLU A 114       7.342 -12.760   4.052  1.00  0.00           H  \\nATOM   1826  N   SER A 115       4.279 -13.512   8.015  1.00  0.00           N  \\nATOM   1827  CA  SER A 115       3.272 -13.479   9.110  1.00  0.00           C  \\nATOM   1828  C   SER A 115       2.934 -12.059   9.571  1.00  0.00           C  \\nATOM   1829  O   SER A 115       1.987 -11.872  10.313  1.00  0.00           O  \\nATOM   1830  CB  SER A 115       3.826 -14.250  10.380  1.00  0.00           C  \\nATOM   1831  OG  SER A 115       5.154 -13.718  10.648  1.00  0.00           O  \\nATOM   1832  H   SER A 115       5.125 -14.053   8.143  1.00  0.00           H  \\nATOM   1833  HA  SER A 115       2.421 -13.950   8.789  1.00  0.00           H  \\nATOM   1834  HB2 SER A 115       3.206 -14.072  11.229  1.00  0.00           H  \\nATOM   1835  HB3 SER A 115       3.913 -15.318  10.146  1.00  0.00           H  \\nATOM   1836  HG  SER A 115       5.344 -13.537  11.612  1.00  0.00           H  \\nATOM   1837  N   CYS A 116       3.807 -11.033   9.313  1.00  0.00           N  \\nATOM   1838  CA  CYS A 116       3.533  -9.650   9.716  1.00  0.00           C  \\nATOM   1839  C   CYS A 116       3.150  -8.781   8.437  1.00  0.00           C  \\nATOM   1840  O   CYS A 116       2.934  -7.591   8.598  1.00  0.00           O  \\nATOM   1841  CB  CYS A 116       4.811  -9.024  10.349  1.00  0.00           C  \\nATOM   1842  SG  CYS A 116       4.813  -9.514  12.058  1.00  0.00           S  \\nATOM   1843  H   CYS A 116       4.636 -11.198   8.827  1.00  0.00           H  \\nATOM   1844  HA  CYS A 116       2.588  -9.581  10.340  1.00  0.00           H  \\nATOM   1845  HB2 CYS A 116       4.679  -7.943  10.405  1.00  0.00           H  \\nATOM   1846  HB3 CYS A 116       5.624  -9.539   9.793  1.00  0.00           H  \\nATOM   1847  HG  CYS A 116       5.111 -10.882  11.779  1.00  0.00           H  \\nATOM   1848  N   ILE A 117       3.090  -9.337   7.229  1.00  0.00           N  \\nATOM   1849  CA  ILE A 117       2.875  -8.555   5.983  1.00  0.00           C  \\nATOM   1850  C   ILE A 117       1.373  -8.361   5.896  1.00  0.00           C  \\nATOM   1851  O   ILE A 117       0.891  -7.335   5.359  1.00  0.00           O  \\nATOM   1852  CB  ILE A 117       3.565  -9.246   4.761  1.00  0.00           C  \\nATOM   1853  CG1 ILE A 117       5.060  -9.312   4.957  1.00  0.00           C  \\nATOM   1854  CG2 ILE A 117       3.151  -8.642   3.368  1.00  0.00           C  \\nATOM   1855  CD1 ILE A 117       5.808  -9.858   3.793  1.00  0.00           C  \\nATOM   1856  H   ILE A 117       3.603 -10.281   7.108  1.00  0.00           H  \\nATOM   1857  HA  ILE A 117       3.339  -7.590   6.016  1.00  0.00           H  \\nATOM   1858  HB  ILE A 117       3.046 -10.225   4.807  1.00  0.00           H  \\nATOM   1859 HG12 ILE A 117       5.452  -8.310   5.043  1.00  0.00           H  \\nATOM   1860 HG13 ILE A 117       5.272  -9.766   5.912  1.00  0.00           H  \\nATOM   1861 HG21 ILE A 117       3.658  -9.012   2.557  1.00  0.00           H  \\nATOM   1862 HG22 ILE A 117       2.086  -8.767   3.160  1.00  0.00           H  \\nATOM   1863 HG23 ILE A 117       3.378  -7.548   3.484  1.00  0.00           H  \\nATOM   1864 HD11 ILE A 117       5.511 -10.801   3.426  1.00  0.00           H  \\nATOM   1865 HD12 ILE A 117       5.955  -9.209   2.995  1.00  0.00           H  \\nATOM   1866 HD13 ILE A 117       6.826  -9.998   4.034  1.00  0.00           H  \\nATOM   1867  N   GLU A 118       0.607  -9.333   6.354  1.00  0.00           N  \\nATOM   1868  CA  GLU A 118      -0.875  -9.286   6.318  1.00  0.00           C  \\nATOM   1869  C   GLU A 118      -1.403  -8.268   7.351  1.00  0.00           C  \\nATOM   1870  O   GLU A 118      -2.239  -7.486   6.916  1.00  0.00           O  \\nATOM   1871  CB  GLU A 118      -1.578 -10.650   6.433  1.00  0.00           C  \\nATOM   1872  CG  GLU A 118      -2.861 -10.706   5.506  1.00  0.00           C  \\nATOM   1873  CD  GLU A 118      -2.713 -10.868   4.067  1.00  0.00           C  \\nATOM   1874  OE1 GLU A 118      -3.224  -9.968   3.309  1.00  0.00           O  \\nATOM   1875  OE2 GLU A 118      -2.029 -11.821   3.635  1.00  0.00           O  \\nATOM   1876  H   GLU A 118       1.080 -10.160   6.598  1.00  0.00           H  \\nATOM   1877  HA  GLU A 118      -1.220  -9.032   5.352  1.00  0.00           H  \\nATOM   1878  HB2 GLU A 118      -1.762 -10.845   7.485  1.00  0.00           H  \\nATOM   1879  HB3 GLU A 118      -0.989 -11.449   6.114  1.00  0.00           H  \\nATOM   1880  HG2 GLU A 118      -3.547 -11.513   5.826  1.00  0.00           H  \\nATOM   1881  HG3 GLU A 118      -3.465  -9.817   5.766  1.00  0.00           H  \\nATOM   1882  N   PRO A 119      -1.002  -8.292   8.651  1.00  0.00           N  \\nATOM   1883  CA  PRO A 119      -1.372  -7.187   9.527  1.00  0.00           C  \\nATOM   1884  C   PRO A 119      -0.760  -5.816   8.995  1.00  0.00           C  \\nATOM   1885  O   PRO A 119      -1.341  -4.730   9.144  1.00  0.00           O  \\nATOM   1886  CB  PRO A 119      -0.804  -7.480  10.914  1.00  0.00           C  \\nATOM   1887  CG  PRO A 119      -0.569  -9.015  10.922  1.00  0.00           C  \\nATOM   1888  CD  PRO A 119      -0.201  -9.243   9.423  1.00  0.00           C  \\nATOM   1889  HA  PRO A 119      -2.492  -6.958   9.490  1.00  0.00           H  \\nATOM   1890  HB2 PRO A 119       0.127  -6.955  11.160  1.00  0.00           H  \\nATOM   1891  HB3 PRO A 119      -1.608  -7.256  11.588  1.00  0.00           H  \\nATOM   1892  HG2 PRO A 119       0.251  -9.233  11.624  1.00  0.00           H  \\nATOM   1893  HG3 PRO A 119      -1.499  -9.466  11.304  1.00  0.00           H  \\nATOM   1894  HD2 PRO A 119      -0.384 -10.335   9.215  1.00  0.00           H  \\nATOM   1895  HD3 PRO A 119       0.884  -8.913   9.306  1.00  0.00           H  \\nATOM   1896  N   LEU A 120       0.363  -5.800   8.252  1.00  0.00           N  \\nATOM   1897  CA  LEU A 120       0.832  -4.566   7.619  1.00  0.00           C  \\nATOM   1898  C   LEU A 120      -0.160  -4.054   6.547  1.00  0.00           C  \\nATOM   1899  O   LEU A 120      -0.420  -2.810   6.459  1.00  0.00           O  \\nATOM   1900  CB  LEU A 120       2.239  -4.874   7.150  1.00  0.00           C  \\nATOM   1901  CG  LEU A 120       2.838  -3.772   6.148  1.00  0.00           C  \\nATOM   1902  CD1 LEU A 120       3.330  -2.493   6.880  1.00  0.00           C  \\nATOM   1903  CD2 LEU A 120       4.040  -4.368   5.442  1.00  0.00           C  \\nATOM   1904  H   LEU A 120       0.988  -6.635   8.276  1.00  0.00           H  \\nATOM   1905  HA  LEU A 120       0.860  -3.733   8.364  1.00  0.00           H  \\nATOM   1906  HB2 LEU A 120       2.231  -5.859   6.713  1.00  0.00           H  \\nATOM   1907  HB3 LEU A 120       2.855  -5.023   8.044  1.00  0.00           H  \\nATOM   1908  HG  LEU A 120       2.167  -3.618   5.341  1.00  0.00           H  \\nATOM   1909 HD11 LEU A 120       3.735  -1.853   6.145  1.00  0.00           H  \\nATOM   1910 HD12 LEU A 120       4.067  -2.759   7.608  1.00  0.00           H  \\nATOM   1911 HD13 LEU A 120       2.530  -1.917   7.395  1.00  0.00           H  \\nATOM   1912 HD21 LEU A 120       4.777  -4.781   6.185  1.00  0.00           H  \\nATOM   1913 HD22 LEU A 120       4.436  -3.614   4.796  1.00  0.00           H  \\nATOM   1914 HD23 LEU A 120       3.717  -5.173   4.892  1.00  0.00           H  \\nATOM   1915  N   ALA A 121      -0.812  -5.007   5.861  1.00  0.00           N  \\nATOM   1916  CA  ALA A 121      -1.868  -4.718   4.916  1.00  0.00           C  \\nATOM   1917  C   ALA A 121      -3.133  -4.071   5.492  1.00  0.00           C  \\nATOM   1918  O   ALA A 121      -3.446  -2.987   4.994  1.00  0.00           O  \\nATOM   1919  CB  ALA A 121      -2.210  -5.965   4.050  1.00  0.00           C  \\nATOM   1920  H   ALA A 121      -0.546  -6.023   6.097  1.00  0.00           H  \\nATOM   1921  HA  ALA A 121      -1.366  -3.969   4.259  1.00  0.00           H  \\nATOM   1922  HB1 ALA A 121      -2.771  -6.601   4.570  1.00  0.00           H  \\nATOM   1923  HB2 ALA A 121      -1.264  -6.475   3.817  1.00  0.00           H  \\nATOM   1924  HB3 ALA A 121      -2.678  -5.645   3.115  1.00  0.00           H  \\nATOM   1925  N   GLU A 122      -3.674  -4.653   6.524  1.00  0.00           N  \\nATOM   1926  CA  GLU A 122      -4.712  -3.996   7.243  1.00  0.00           C  \\nATOM   1927  C   GLU A 122      -4.282  -2.642   7.934  1.00  0.00           C  \\nATOM   1928  O   GLU A 122      -5.061  -1.685   7.860  1.00  0.00           O  \\nATOM   1929  CB  GLU A 122      -5.214  -4.954   8.391  1.00  0.00           C  \\nATOM   1930  CG  GLU A 122      -6.056  -6.195   8.038  1.00  0.00           C  \\nATOM   1931  CD  GLU A 122      -7.584  -6.044   7.947  1.00  0.00           C  \\nATOM   1932  OE1 GLU A 122      -8.088  -4.896   7.766  1.00  0.00           O  \\nATOM   1933  OE2 GLU A 122      -8.344  -7.026   7.919  1.00  0.00           O  \\nATOM   1934  H   GLU A 122      -3.407  -5.534   6.793  1.00  0.00           H  \\nATOM   1935  HA  GLU A 122      -5.502  -3.774   6.525  1.00  0.00           H  \\nATOM   1936  HB2 GLU A 122      -4.424  -5.287   9.025  1.00  0.00           H  \\nATOM   1937  HB3 GLU A 122      -5.898  -4.339   9.074  1.00  0.00           H  \\nATOM   1938  HG2 GLU A 122      -6.031  -6.841   8.911  1.00  0.00           H  \\nATOM   1939  HG3 GLU A 122      -5.795  -6.681   7.068  1.00  0.00           H  \\nATOM   1940  N   SER A 123      -3.080  -2.490   8.527  1.00  0.00           N  \\nATOM   1941  CA  SER A 123      -2.597  -1.264   9.123  1.00  0.00           C  \\nATOM   1942  C   SER A 123      -2.443  -0.080   8.194  1.00  0.00           C  \\nATOM   1943  O   SER A 123      -2.816   1.018   8.598  1.00  0.00           O  \\nATOM   1944  CB  SER A 123      -1.211  -1.447   9.732  1.00  0.00           C  \\nATOM   1945  OG  SER A 123      -1.374  -2.453  10.711  1.00  0.00           O  \\nATOM   1946  H   SER A 123      -2.462  -3.278   8.573  1.00  0.00           H  \\nATOM   1947  HA  SER A 123      -3.258  -1.022   9.904  1.00  0.00           H  \\nATOM   1948  HB2 SER A 123      -0.495  -1.654   8.985  1.00  0.00           H  \\nATOM   1949  HB3 SER A 123      -0.934  -0.493  10.255  1.00  0.00           H  \\nATOM   1950  HG  SER A 123      -1.484  -3.309  10.244  1.00  0.00           H  \\nATOM   1951  N   ILE A 124      -2.017  -0.282   6.917  1.00  0.00           N  \\nATOM   1952  CA  ILE A 124      -2.021   0.648   5.807  1.00  0.00           C  \\nATOM   1953  C   ILE A 124      -3.450   0.952   5.337  1.00  0.00           C  \\nATOM   1954  O   ILE A 124      -3.757   2.120   5.083  1.00  0.00           O  \\nATOM   1955  CB  ILE A 124      -1.109   0.124   4.684  1.00  0.00           C  \\nATOM   1956  CG1 ILE A 124       0.414  -0.098   5.129  1.00  0.00           C  \\nATOM   1957  CG2 ILE A 124      -1.052   0.947   3.359  1.00  0.00           C  \\nATOM   1958  CD1 ILE A 124       1.386  -0.833   4.122  1.00  0.00           C  \\nATOM   1959  H   ILE A 124      -1.575  -1.243   6.798  1.00  0.00           H  \\nATOM   1960  HA  ILE A 124      -1.601   1.496   6.347  1.00  0.00           H  \\nATOM   1961  HB  ILE A 124      -1.466  -0.858   4.384  1.00  0.00           H  \\nATOM   1962 HG12 ILE A 124       0.484  -0.563   6.099  1.00  0.00           H  \\nATOM   1963 HG13 ILE A 124       0.839   0.884   5.263  1.00  0.00           H  \\nATOM   1964 HG21 ILE A 124      -0.890   0.204   2.500  1.00  0.00           H  \\nATOM   1965 HG22 ILE A 124      -2.014   1.425   3.154  1.00  0.00           H  \\nATOM   1966 HG23 ILE A 124      -0.359   1.794   3.452  1.00  0.00           H  \\nATOM   1967 HD11 ILE A 124       1.378  -0.174   3.281  1.00  0.00           H  \\nATOM   1968 HD12 ILE A 124       1.030  -1.846   4.128  1.00  0.00           H  \\nATOM   1969 HD13 ILE A 124       2.430  -0.917   4.515  1.00  0.00           H  \\nATOM   1970  N   THR A 125      -4.320  -0.046   5.227  1.00  0.00           N  \\nATOM   1971  CA  THR A 125      -5.710   0.076   4.867  1.00  0.00           C  \\nATOM   1972  C   THR A 125      -6.474   1.013   5.754  1.00  0.00           C  \\nATOM   1973  O   THR A 125      -7.114   1.990   5.269  1.00  0.00           O  \\nATOM   1974  CB  THR A 125      -6.382  -1.280   4.903  1.00  0.00           C  \\nATOM   1975  CG2 THR A 125      -7.888  -1.229   4.558  1.00  0.00           C  \\nATOM   1976  OG1 THR A 125      -5.784  -2.081   3.871  1.00  0.00           O  \\nATOM   1977  H   THR A 125      -4.110  -1.012   5.526  1.00  0.00           H  \\nATOM   1978  HA  THR A 125      -5.880   0.517   3.920  1.00  0.00           H  \\nATOM   1979  HB  THR A 125      -6.240  -1.778   5.889  1.00  0.00           H  \\nATOM   1980  HG1 THR A 125      -4.894  -2.363   4.227  1.00  0.00           H  \\nATOM   1981 HG21 THR A 125      -8.544  -0.791   5.280  1.00  0.00           H  \\nATOM   1982 HG22 THR A 125      -8.118  -0.664   3.646  1.00  0.00           H  \\nATOM   1983 HG23 THR A 125      -8.211  -2.230   4.369  1.00  0.00           H  \\nATOM   1984  N   ASP A 126      -6.584   0.655   7.019  1.00  0.00           N  \\nATOM   1985  CA  ASP A 126      -7.342   1.413   8.024  1.00  0.00           C  \\nATOM   1986  C   ASP A 126      -6.880   2.888   8.226  1.00  0.00           C  \\nATOM   1987  O   ASP A 126      -7.667   3.773   8.468  1.00  0.00           O  \\nATOM   1988  CB  ASP A 126      -7.282   0.591   9.300  1.00  0.00           C  \\nATOM   1989  CG  ASP A 126      -8.413   0.849  10.345  1.00  0.00           C  \\nATOM   1990  OD1 ASP A 126      -8.106   0.779  11.556  1.00  0.00           O  \\nATOM   1991  OD2 ASP A 126      -9.538   1.162   9.917  1.00  0.00           O  \\nATOM   1992  H   ASP A 126      -6.080  -0.171   7.370  1.00  0.00           H  \\nATOM   1993  HA  ASP A 126      -8.329   1.523   7.562  1.00  0.00           H  \\nATOM   1994  HB2 ASP A 126      -6.346   0.707   9.760  1.00  0.00           H  \\nATOM   1995  HB3 ASP A 126      -7.296  -0.462   9.009  1.00  0.00           H  \\nATOM   1996  N   VAL A 127      -5.592   3.164   8.216  1.00  0.00           N  \\nATOM   1997  CA  VAL A 127      -5.042   4.545   8.444  1.00  0.00           C  \\nATOM   1998  C   VAL A 127      -5.666   5.513   7.423  1.00  0.00           C  \\nATOM   1999  O   VAL A 127      -6.182   6.554   7.765  1.00  0.00           O  \\nATOM   2000  CB  VAL A 127      -3.506   4.566   8.434  1.00  0.00           C  \\nATOM   2001  CG1 VAL A 127      -3.022   6.037   8.327  1.00  0.00           C  \\nATOM   2002  CG2 VAL A 127      -3.017   3.940   9.774  1.00  0.00           C  \\nATOM   2003  H   VAL A 127      -4.951   2.481   7.889  1.00  0.00           H  \\nATOM   2004  HA  VAL A 127      -5.335   4.886   9.479  1.00  0.00           H  \\nATOM   2005  HB  VAL A 127      -3.252   3.960   7.639  1.00  0.00           H  \\nATOM   2006 HG11 VAL A 127      -3.583   6.556   9.015  1.00  0.00           H  \\nATOM   2007 HG12 VAL A 127      -1.950   6.068   8.579  1.00  0.00           H  \\nATOM   2008 HG13 VAL A 127      -3.214   6.393   7.311  1.00  0.00           H  \\nATOM   2009 HG21 VAL A 127      -1.938   3.790   9.825  1.00  0.00           H  \\nATOM   2010 HG22 VAL A 127      -3.377   4.491  10.659  1.00  0.00           H  \\nATOM   2011 HG23 VAL A 127      -3.389   2.917   9.879  1.00  0.00           H  \\nATOM   2012  N   LEU A 128      -5.652   5.132   6.124  1.00  0.00           N  \\nATOM   2013  CA  LEU A 128      -6.156   5.885   4.970  1.00  0.00           C  \\nATOM   2014  C   LEU A 128      -7.681   6.014   5.016  1.00  0.00           C  \\nATOM   2015  O   LEU A 128      -8.266   7.095   5.017  1.00  0.00           O  \\nATOM   2016  CB  LEU A 128      -5.759   5.054   3.759  1.00  0.00           C  \\nATOM   2017  CG  LEU A 128      -4.268   5.141   3.420  1.00  0.00           C  \\nATOM   2018  CD1 LEU A 128      -3.933   4.122   2.295  1.00  0.00           C  \\nATOM   2019  CD2 LEU A 128      -3.900   6.575   2.984  1.00  0.00           C  \\nATOM   2020  H   LEU A 128      -5.089   4.308   5.961  1.00  0.00           H  \\nATOM   2021  HA  LEU A 128      -5.669   6.881   4.938  1.00  0.00           H  \\nATOM   2022  HB2 LEU A 128      -6.095   4.057   3.948  1.00  0.00           H  \\nATOM   2023  HB3 LEU A 128      -6.162   5.418   2.785  1.00  0.00           H  \\nATOM   2024  HG  LEU A 128      -3.765   4.851   4.343  1.00  0.00           H  \\nATOM   2025 HD11 LEU A 128      -4.604   4.290   1.441  1.00  0.00           H  \\nATOM   2026 HD12 LEU A 128      -2.855   4.354   1.989  1.00  0.00           H  \\nATOM   2027 HD13 LEU A 128      -3.913   3.088   2.723  1.00  0.00           H  \\nATOM   2028 HD21 LEU A 128      -2.874   6.578   2.542  1.00  0.00           H  \\nATOM   2029 HD22 LEU A 128      -4.527   6.992   2.291  1.00  0.00           H  \\nATOM   2030 HD23 LEU A 128      -3.683   7.223   3.755  1.00  0.00           H  \\nATOM   2031  N   VAL A 129      -8.305   4.889   5.103  1.00  0.00           N  \\nATOM   2032  CA  VAL A 129      -9.705   4.602   4.913  1.00  0.00           C  \\nATOM   2033  C   VAL A 129     -10.474   5.010   6.203  1.00  0.00           C  \\nATOM   2034  O   VAL A 129     -11.713   5.132   6.056  1.00  0.00           O  \\nATOM   2035  CB  VAL A 129      -9.949   3.201   4.484  1.00  0.00           C  \\nATOM   2036  CG1 VAL A 129     -11.330   2.646   4.612  1.00  0.00           C  \\nATOM   2037  CG2 VAL A 129      -9.357   2.846   3.150  1.00  0.00           C  \\nATOM   2038  H   VAL A 129      -7.661   4.052   5.210  1.00  0.00           H  \\nATOM   2039  HA  VAL A 129     -10.032   5.287   4.155  1.00  0.00           H  \\nATOM   2040  HB  VAL A 129      -9.444   2.643   5.302  1.00  0.00           H  \\nATOM   2041 HG11 VAL A 129     -11.526   1.682   4.252  1.00  0.00           H  \\nATOM   2042 HG12 VAL A 129     -11.548   2.594   5.662  1.00  0.00           H  \\nATOM   2043 HG13 VAL A 129     -12.113   3.175   4.106  1.00  0.00           H  \\nATOM   2044 HG21 VAL A 129      -9.842   3.492   2.392  1.00  0.00           H  \\nATOM   2045 HG22 VAL A 129      -8.262   3.129   3.177  1.00  0.00           H  \\nATOM   2046 HG23 VAL A 129      -9.401   1.771   2.930  1.00  0.00           H  \\nATOM   2047  N   ARG A 130      -9.811   5.339   7.317  1.00  0.00           N  \\nATOM   2048  CA  ARG A 130     -10.308   6.294   8.328  1.00  0.00           C  \\nATOM   2049  C   ARG A 130     -10.062   7.712   7.860  1.00  0.00           C  \\nATOM   2050  O   ARG A 130     -10.957   8.451   7.492  1.00  0.00           O  \\nATOM   2051  CB  ARG A 130      -9.821   5.971   9.780  1.00  0.00           C  \\nATOM   2052  CG  ARG A 130     -10.524   4.663  10.271  1.00  0.00           C  \\nATOM   2053  CD  ARG A 130     -10.236   4.543  11.786  1.00  0.00           C  \\nATOM   2054  NE  ARG A 130      -9.918   3.136  12.125  1.00  0.00           N  \\nATOM   2055  CZ  ARG A 130      -9.959   2.592  13.325  1.00  0.00           C  \\nATOM   2056  NH1 ARG A 130     -10.113   3.350  14.411  1.00  0.00           N  \\nATOM   2057  NH2 ARG A 130      -9.974   1.320  13.425  1.00  0.00           N  \\nATOM   2058  H   ARG A 130      -8.832   5.128   7.300  1.00  0.00           H  \\nATOM   2059  HA  ARG A 130     -11.403   6.231   8.503  1.00  0.00           H  \\nATOM   2060  HB2 ARG A 130     -10.050   6.861  10.449  1.00  0.00           H  \\nATOM   2061  HB3 ARG A 130      -8.761   5.956   9.743  1.00  0.00           H  \\nATOM   2062  HG2 ARG A 130     -11.605   4.614  10.007  1.00  0.00           H  \\nATOM   2063  HG3 ARG A 130     -10.039   3.843   9.658  1.00  0.00           H  \\nATOM   2064  HD2 ARG A 130      -9.324   5.128  12.002  1.00  0.00           H  \\nATOM   2065  HD3 ARG A 130     -10.959   4.950  12.364  1.00  0.00           H  \\nATOM   2066  HE  ARG A 130      -9.807   2.479  11.325  1.00  0.00           H  \\nATOM   2067 HH11 ARG A 130     -10.229   4.312  14.293  1.00  0.00           H  \\nATOM   2068 HH12 ARG A 130      -9.974   2.912  15.282  1.00  0.00           H  \\nATOM   2069 HH21 ARG A 130      -9.656   0.864  12.561  1.00  0.00           H  \\nATOM   2070 HH22 ARG A 130     -10.028   0.908  14.291  1.00  0.00           H  \\nATOM   2071  N   THR A 131      -8.754   8.120   7.997  1.00  0.00           N  \\nATOM   2072  CA  THR A 131      -8.330   9.533   8.295  1.00  0.00           C  \\nATOM   2073  C   THR A 131      -8.400  10.462   7.070  1.00  0.00           C  \\nATOM   2074  O   THR A 131      -8.234  11.677   7.228  1.00  0.00           O  \\nATOM   2075  CB  THR A 131      -6.969   9.661   8.886  1.00  0.00           C  \\nATOM   2076  CG2 THR A 131      -6.831   8.968  10.239  1.00  0.00           C  \\nATOM   2077  OG1 THR A 131      -5.997   9.125   7.986  1.00  0.00           O  \\nATOM   2078  H   THR A 131      -8.118   7.336   8.202  1.00  0.00           H  \\nATOM   2079  HA  THR A 131      -9.065   9.943   9.091  1.00  0.00           H  \\nATOM   2080  HB  THR A 131      -6.742  10.742   9.015  1.00  0.00           H  \\nATOM   2081  HG1 THR A 131      -6.132   8.138   8.018  1.00  0.00           H  \\nATOM   2082 HG21 THR A 131      -7.308   8.068  10.202  1.00  0.00           H  \\nATOM   2083 HG22 THR A 131      -5.809   8.942  10.440  1.00  0.00           H  \\nATOM   2084 HG23 THR A 131      -7.335   9.546  10.990  1.00  0.00           H  \\nATOM   2085  N   LYS A 132      -8.575   9.895   5.826  1.00  0.00           N  \\nATOM   2086  CA  LYS A 132      -8.566  10.649   4.489  1.00  0.00           C  \\nATOM   2087  C   LYS A 132      -9.845  10.159   3.658  1.00  0.00           C  \\nATOM   2088  O   LYS A 132      -9.869  10.483   2.469  1.00  0.00           O  \\nATOM   2089  CB  LYS A 132      -7.152  10.473   3.802  1.00  0.00           C  \\nATOM   2090  CG  LYS A 132      -6.042  11.076   4.613  1.00  0.00           C  \\nATOM   2091  CD  LYS A 132      -6.099  12.613   4.684  1.00  0.00           C  \\nATOM   2092  CE  LYS A 132      -5.087  13.086   5.706  1.00  0.00           C  \\nATOM   2093  NZ  LYS A 132      -4.756  14.492   5.506  1.00  0.00           N  \\nATOM   2094  H   LYS A 132      -8.580   8.900   5.858  1.00  0.00           H  \\nATOM   2095  HA  LYS A 132      -8.693  11.752   4.687  1.00  0.00           H  \\nATOM   2096  HB2 LYS A 132      -7.182  10.870   2.885  1.00  0.00           H  \\nATOM   2097  HB3 LYS A 132      -6.869   9.421   3.790  1.00  0.00           H  \\nATOM   2098  HG2 LYS A 132      -5.983  10.614   5.615  1.00  0.00           H  \\nATOM   2099  HG3 LYS A 132      -5.138  10.779   4.104  1.00  0.00           H  \\nATOM   2100  HD2 LYS A 132      -5.846  12.905   3.687  1.00  0.00           H  \\nATOM   2101  HD3 LYS A 132      -7.079  12.905   5.240  1.00  0.00           H  \\nATOM   2102  HE2 LYS A 132      -4.133  12.593   5.599  1.00  0.00           H  \\nATOM   2103  HE3 LYS A 132      -5.475  12.972   6.717  1.00  0.00           H  \\nATOM   2104  HZ1 LYS A 132      -5.537  15.027   5.835  1.00  0.00           H  \\nATOM   2105  HZ2 LYS A 132      -3.909  14.861   6.009  1.00  0.00           H  \\nATOM   2106  HZ3 LYS A 132      -4.457  14.680   4.533  1.00  0.00           H  \\nATOM   2107  N   ARG A 133     -10.768   9.340   4.141  1.00  0.00           N  \\nATOM   2108  CA  ARG A 133     -11.857   8.662   3.285  1.00  0.00           C  \\nATOM   2109  C   ARG A 133     -12.529   9.591   2.249  1.00  0.00           C  \\nATOM   2110  O   ARG A 133     -12.623   9.196   1.034  1.00  0.00           O  \\nATOM   2111  CB  ARG A 133     -12.922   8.214   4.232  1.00  0.00           C  \\nATOM   2112  CG  ARG A 133     -14.335   7.850   3.678  1.00  0.00           C  \\nATOM   2113  CD  ARG A 133     -15.181   7.129   4.727  1.00  0.00           C  \\nATOM   2114  NE  ARG A 133     -14.526   5.886   5.195  1.00  0.00           N  \\nATOM   2115  CZ  ARG A 133     -14.825   4.612   4.869  1.00  0.00           C  \\nATOM   2116  NH1 ARG A 133     -15.709   4.274   3.950  1.00  0.00           N  \\nATOM   2117  NH2 ARG A 133     -14.183   3.681   5.533  1.00  0.00           N  \\nATOM   2118  H   ARG A 133     -10.815   9.257   5.155  1.00  0.00           H  \\nATOM   2119  HA  ARG A 133     -11.571   7.767   2.677  1.00  0.00           H  \\nATOM   2120  HB2 ARG A 133     -13.103   9.020   4.960  1.00  0.00           H  \\nATOM   2121  HB3 ARG A 133     -12.448   7.385   4.716  1.00  0.00           H  \\nATOM   2122  HG2 ARG A 133     -14.905   8.761   3.409  1.00  0.00           H  \\nATOM   2123  HG3 ARG A 133     -14.400   7.146   2.835  1.00  0.00           H  \\nATOM   2124  HD2 ARG A 133     -16.168   6.848   4.245  1.00  0.00           H  \\nATOM   2125  HD3 ARG A 133     -15.358   7.754   5.546  1.00  0.00           H  \\nATOM   2126  HE  ARG A 133     -13.810   6.040   5.849  1.00  0.00           H  \\nATOM   2127 HH11 ARG A 133     -15.699   3.293   3.703  1.00  0.00           H  \\nATOM   2128 HH12 ARG A 133     -16.236   5.028   3.493  1.00  0.00           H  \\nATOM   2129 HH21 ARG A 133     -13.254   3.950   6.002  1.00  0.00           H  \\nATOM   2130 HH22 ARG A 133     -14.412   2.694   5.184  1.00  0.00           H  \\nATOM   2131  N   ASP A 134     -12.729  10.855   2.610  1.00  0.00           N  \\nATOM   2132  CA  ASP A 134     -13.600  11.701   1.849  1.00  0.00           C  \\nATOM   2133  C   ASP A 134     -12.954  12.215   0.608  1.00  0.00           C  \\nATOM   2134  O   ASP A 134     -13.672  12.362  -0.429  1.00  0.00           O  \\nATOM   2135  CB  ASP A 134     -14.078  12.783   2.745  1.00  0.00           C  \\nATOM   2136  CG  ASP A 134     -14.561  12.129   4.051  1.00  0.00           C  \\nATOM   2137  OD1 ASP A 134     -13.733  12.082   4.983  1.00  0.00           O  \\nATOM   2138  OD2 ASP A 134     -15.680  11.622   3.992  1.00  0.00           O  \\nATOM   2139  H   ASP A 134     -12.673  11.055   3.627  1.00  0.00           H  \\nATOM   2140  HA  ASP A 134     -14.470  11.166   1.517  1.00  0.00           H  \\nATOM   2141  HB2 ASP A 134     -14.905  13.233   2.152  1.00  0.00           H  \\nATOM   2142  HB3 ASP A 134     -13.362  13.571   3.090  1.00  0.00           H  \\nATOM   2143  N   TRP A 135     -11.591  12.364   0.615  1.00  0.00           N  \\nATOM   2144  CA  TRP A 135     -10.942  12.606  -0.707  1.00  0.00           C  \\nATOM   2145  C   TRP A 135     -10.843  11.312  -1.557  1.00  0.00           C  \\nATOM   2146  O   TRP A 135     -10.827  11.384  -2.764  1.00  0.00           O  \\nATOM   2147  CB  TRP A 135      -9.528  13.119  -0.391  1.00  0.00           C  \\nATOM   2148  CG  TRP A 135      -8.857  13.832  -1.513  1.00  0.00           C  \\nATOM   2149  CD1 TRP A 135      -8.947  15.140  -1.730  1.00  0.00           C  \\nATOM   2150  CD2 TRP A 135      -8.040  13.325  -2.664  1.00  0.00           C  \\nATOM   2151  CE2 TRP A 135      -7.595  14.429  -3.452  1.00  0.00           C  \\nATOM   2152  CE3 TRP A 135      -7.482  12.028  -2.891  1.00  0.00           C  \\nATOM   2153  NE1 TRP A 135      -8.111  15.527  -2.797  1.00  0.00           N  \\nATOM   2154  CZ2 TRP A 135      -6.872  14.247  -4.594  1.00  0.00           C  \\nATOM   2155  CZ3 TRP A 135      -6.865  11.800  -4.108  1.00  0.00           C  \\nATOM   2156  CH2 TRP A 135      -6.602  12.935  -4.949  1.00  0.00           C  \\nATOM   2157  H   TRP A 135     -10.899  12.323   1.416  1.00  0.00           H  \\nATOM   2158  HA  TRP A 135     -11.453  13.299  -1.454  1.00  0.00           H  \\nATOM   2159  HB2 TRP A 135      -8.912  12.290   0.010  1.00  0.00           H  \\nATOM   2160  HB3 TRP A 135      -9.500  13.805   0.464  1.00  0.00           H  \\nATOM   2161  HD1 TRP A 135      -9.442  15.763  -1.088  1.00  0.00           H  \\nATOM   2162  HE1 TRP A 135      -7.831  16.463  -3.042  1.00  0.00           H  \\nATOM   2163  HE3 TRP A 135      -7.743  11.200  -2.222  1.00  0.00           H  \\nATOM   2164  HZ2 TRP A 135      -6.648  15.107  -5.245  1.00  0.00           H  \\nATOM   2165  HZ3 TRP A 135      -6.757  10.736  -4.444  1.00  0.00           H  \\nATOM   2166  HH2 TRP A 135      -6.031  12.763  -5.881  1.00  0.00           H  \\nATOM   2167  N   LEU A 136     -10.838  10.083  -1.033  1.00  0.00           N  \\nATOM   2168  CA  LEU A 136     -10.873   8.836  -1.852  1.00  0.00           C  \\nATOM   2169  C   LEU A 136     -12.292   8.657  -2.415  1.00  0.00           C  \\nATOM   2170  O   LEU A 136     -12.412   8.306  -3.560  1.00  0.00           O  \\nATOM   2171  CB  LEU A 136     -10.519   7.549  -1.119  1.00  0.00           C  \\nATOM   2172  CG  LEU A 136      -9.556   7.710   0.042  1.00  0.00           C  \\nATOM   2173  CD1 LEU A 136      -9.599   6.300   0.726  1.00  0.00           C  \\nATOM   2174  CD2 LEU A 136      -8.150   7.989  -0.419  1.00  0.00           C  \\nATOM   2175  H   LEU A 136     -10.931   9.985  -0.042  1.00  0.00           H  \\nATOM   2176  HA  LEU A 136     -10.098   8.926  -2.632  1.00  0.00           H  \\nATOM   2177  HB2 LEU A 136     -10.130   6.889  -1.939  1.00  0.00           H  \\nATOM   2178  HB3 LEU A 136     -11.480   7.096  -0.861  1.00  0.00           H  \\nATOM   2179  HG  LEU A 136      -9.978   8.448   0.639  1.00  0.00           H  \\nATOM   2180 HD11 LEU A 136     -10.573   6.156   1.026  1.00  0.00           H  \\nATOM   2181 HD12 LEU A 136      -9.313   5.628  -0.050  1.00  0.00           H  \\nATOM   2182 HD13 LEU A 136      -8.924   6.372   1.556  1.00  0.00           H  \\nATOM   2183 HD21 LEU A 136      -7.741   7.177  -0.967  1.00  0.00           H  \\nATOM   2184 HD22 LEU A 136      -7.564   8.370   0.343  1.00  0.00           H  \\nATOM   2185 HD23 LEU A 136      -8.242   8.804  -1.073  1.00  0.00           H  \\nATOM   2186  N   VAL A 137     -13.323   9.027  -1.690  1.00  0.00           N  \\nATOM   2187  CA  VAL A 137     -14.714   9.061  -2.236  1.00  0.00           C  \\nATOM   2188  C   VAL A 137     -14.900  10.050  -3.401  1.00  0.00           C  \\nATOM   2189  O   VAL A 137     -15.432   9.614  -4.438  1.00  0.00           O  \\nATOM   2190  CB  VAL A 137     -15.818   9.237  -1.157  1.00  0.00           C  \\nATOM   2191  CG1 VAL A 137     -17.194   9.333  -1.748  1.00  0.00           C  \\nATOM   2192  CG2 VAL A 137     -15.828   8.086  -0.134  1.00  0.00           C  \\nATOM   2193  H   VAL A 137     -13.141   9.303  -0.772  1.00  0.00           H  \\nATOM   2194  HA  VAL A 137     -14.958   8.128  -2.773  1.00  0.00           H  \\nATOM   2195  HB  VAL A 137     -15.690  10.145  -0.559  1.00  0.00           H  \\nATOM   2196 HG11 VAL A 137     -17.470   8.430  -2.335  1.00  0.00           H  \\nATOM   2197 HG12 VAL A 137     -17.904   9.571  -0.968  1.00  0.00           H  \\nATOM   2198 HG13 VAL A 137     -17.248  10.203  -2.462  1.00  0.00           H  \\nATOM   2199 HG21 VAL A 137     -14.803   8.074   0.327  1.00  0.00           H  \\nATOM   2200 HG22 VAL A 137     -16.523   8.377   0.599  1.00  0.00           H  \\nATOM   2201 HG23 VAL A 137     -16.036   7.006  -0.553  1.00  0.00           H  \\nATOM   2202  N   LYS A 138     -14.447  11.335  -3.232  1.00  0.00           N  \\nATOM   2203  CA  LYS A 138     -14.360  12.303  -4.301  1.00  0.00           C  \\nATOM   2204  C   LYS A 138     -13.443  11.867  -5.501  1.00  0.00           C  \\nATOM   2205  O   LYS A 138     -13.521  12.511  -6.527  1.00  0.00           O  \\nATOM   2206  CB  LYS A 138     -13.757  13.605  -3.708  1.00  0.00           C  \\nATOM   2207  CG  LYS A 138     -13.688  14.858  -4.615  1.00  0.00           C  \\nATOM   2208  CD  LYS A 138     -12.321  15.030  -5.254  1.00  0.00           C  \\nATOM   2209  CE  LYS A 138     -12.452  15.711  -6.651  1.00  0.00           C  \\nATOM   2210  NZ  LYS A 138     -12.525  14.683  -7.708  1.00  0.00           N  \\nATOM   2211  H   LYS A 138     -14.272  11.619  -2.246  1.00  0.00           H  \\nATOM   2212  HA  LYS A 138     -15.339  12.496  -4.715  1.00  0.00           H  \\nATOM   2213  HB2 LYS A 138     -14.508  13.841  -2.938  1.00  0.00           H  \\nATOM   2214  HB3 LYS A 138     -12.761  13.395  -3.237  1.00  0.00           H  \\nATOM   2215  HG2 LYS A 138     -14.488  14.776  -5.261  1.00  0.00           H  \\nATOM   2216  HG3 LYS A 138     -13.920  15.757  -3.902  1.00  0.00           H  \\nATOM   2217  HD2 LYS A 138     -11.691  15.692  -4.610  1.00  0.00           H  \\nATOM   2218  HD3 LYS A 138     -11.752  14.092  -5.354  1.00  0.00           H  \\nATOM   2219  HE2 LYS A 138     -11.672  16.491  -6.849  1.00  0.00           H  \\nATOM   2220  HE3 LYS A 138     -13.434  16.234  -6.740  1.00  0.00           H  \\nATOM   2221  HZ1 LYS A 138     -12.952  15.014  -8.492  1.00  0.00           H  \\nATOM   2222  HZ2 LYS A 138     -13.124  13.926  -7.434  1.00  0.00           H  \\nATOM   2223  HZ3 LYS A 138     -11.588  14.272  -7.888  1.00  0.00           H  \\nATOM   2224  N   GLN A 139     -12.808  10.701  -5.471  1.00  0.00           N  \\nATOM   2225  CA  GLN A 139     -12.088  10.127  -6.543  1.00  0.00           C  \\nATOM   2226  C   GLN A 139     -12.686   8.855  -7.053  1.00  0.00           C  \\nATOM   2227  O   GLN A 139     -12.003   8.198  -7.880  1.00  0.00           O  \\nATOM   2228  CB  GLN A 139     -10.620   9.880  -6.009  1.00  0.00           C  \\nATOM   2229  CG  GLN A 139      -9.900  11.228  -6.139  1.00  0.00           C  \\nATOM   2230  CD  GLN A 139      -9.861  11.877  -7.478  1.00  0.00           C  \\nATOM   2231  NE2 GLN A 139      -9.489  11.151  -8.567  1.00  0.00           N  \\nATOM   2232  OE1 GLN A 139     -10.454  12.919  -7.704  1.00  0.00           O  \\nATOM   2233  H   GLN A 139     -12.634  10.315  -4.534  1.00  0.00           H  \\nATOM   2234  HA  GLN A 139     -12.039  10.797  -7.405  1.00  0.00           H  \\nATOM   2235  HB2 GLN A 139     -10.602   9.544  -4.974  1.00  0.00           H  \\nATOM   2236  HB3 GLN A 139     -10.140   9.155  -6.740  1.00  0.00           H  \\nATOM   2237  HG2 GLN A 139     -10.206  11.941  -5.372  1.00  0.00           H  \\nATOM   2238  HG3 GLN A 139      -8.824  11.121  -6.103  1.00  0.00           H  \\nATOM   2239 HE21 GLN A 139      -8.955  10.263  -8.547  1.00  0.00           H  \\nATOM   2240 HE22 GLN A 139      -9.615  11.530  -9.477  1.00  0.00           H  \\nATOM   2241  N   ARG A 140     -13.945   8.505  -6.665  1.00  0.00           N  \\nATOM   2242  CA  ARG A 140     -14.541   7.153  -6.918  1.00  0.00           C  \\nATOM   2243  C   ARG A 140     -13.679   6.033  -6.477  1.00  0.00           C  \\nATOM   2244  O   ARG A 140     -13.607   4.927  -7.016  1.00  0.00           O  \\nATOM   2245  CB  ARG A 140     -14.936   7.101  -8.405  1.00  0.00           C  \\nATOM   2246  CG  ARG A 140     -16.140   6.151  -8.749  1.00  0.00           C  \\nATOM   2247  CD  ARG A 140     -16.565   6.159 -10.255  1.00  0.00           C  \\nATOM   2248  NE  ARG A 140     -15.440   5.606 -11.031  1.00  0.00           N  \\nATOM   2249  CZ  ARG A 140     -14.888   6.176 -12.094  1.00  0.00           C  \\nATOM   2250  NH1 ARG A 140     -14.684   7.427 -12.276  1.00  0.00           N  \\nATOM   2251  NH2 ARG A 140     -14.366   5.431 -13.053  1.00  0.00           N  \\nATOM   2252  H   ARG A 140     -14.495   9.184  -6.132  1.00  0.00           H  \\nATOM   2253  HA  ARG A 140     -15.410   7.143  -6.275  1.00  0.00           H  \\nATOM   2254  HB2 ARG A 140     -15.140   8.082  -8.828  1.00  0.00           H  \\nATOM   2255  HB3 ARG A 140     -14.042   6.776  -8.905  1.00  0.00           H  \\nATOM   2256  HG2 ARG A 140     -16.937   6.488  -8.114  1.00  0.00           H  \\nATOM   2257  HG3 ARG A 140     -15.783   5.078  -8.497  1.00  0.00           H  \\nATOM   2258  HD2 ARG A 140     -17.443   5.483 -10.425  1.00  0.00           H  \\nATOM   2259  HD3 ARG A 140     -16.735   7.179 -10.550  1.00  0.00           H  \\nATOM   2260  HE  ARG A 140     -15.234   4.602 -11.035  1.00  0.00           H  \\nATOM   2261 HH11 ARG A 140     -14.586   8.099 -11.567  1.00  0.00           H  \\nATOM   2262 HH12 ARG A 140     -13.979   7.653 -13.053  1.00  0.00           H  \\nATOM   2263 HH21 ARG A 140     -13.750   5.944 -13.705  1.00  0.00           H  \\nATOM   2264 HH22 ARG A 140     -14.294   4.444 -12.895  1.00  0.00           H  \\nATOM   2265  N   GLY A 141     -12.983   6.255  -5.360  1.00  0.00           N  \\nATOM   2266  CA  GLY A 141     -12.006   5.258  -4.889  1.00  0.00           C  \\nATOM   2267  C   GLY A 141     -10.898   4.958  -5.886  1.00  0.00           C  \\nATOM   2268  O   GLY A 141     -10.377   5.908  -6.491  1.00  0.00           O  \\nATOM   2269  H   GLY A 141     -12.874   7.199  -5.067  1.00  0.00           H  \\nATOM   2270  HA2 GLY A 141     -12.524   4.324  -4.598  1.00  0.00           H  \\nATOM   2271  HA3 GLY A 141     -11.415   5.771  -4.018  1.00  0.00           H  \\nATOM   2272  N   TRP A 142     -10.439   3.726  -5.893  1.00  0.00           N  \\nATOM   2273  CA  TRP A 142      -9.337   3.182  -6.698  1.00  0.00           C  \\nATOM   2274  C   TRP A 142      -9.654   3.137  -8.235  1.00  0.00           C  \\nATOM   2275  O   TRP A 142      -8.739   2.857  -9.008  1.00  0.00           O  \\nATOM   2276  CB  TRP A 142      -8.807   1.912  -6.090  1.00  0.00           C  \\nATOM   2277  CG  TRP A 142      -8.118   2.021  -4.787  1.00  0.00           C  \\nATOM   2278  CD1 TRP A 142      -8.676   1.908  -3.547  1.00  0.00           C  \\nATOM   2279  CD2 TRP A 142      -6.675   2.132  -4.529  1.00  0.00           C  \\nATOM   2280  CE2 TRP A 142      -6.431   2.152  -3.157  1.00  0.00           C  \\nATOM   2281  CE3 TRP A 142      -5.502   2.257  -5.326  1.00  0.00           C  \\nATOM   2282  NE1 TRP A 142      -7.715   2.000  -2.606  1.00  0.00           N  \\nATOM   2283  CZ2 TRP A 142      -5.140   2.195  -2.568  1.00  0.00           C  \\nATOM   2284  CZ3 TRP A 142      -4.170   2.257  -4.804  1.00  0.00           C  \\nATOM   2285  CH2 TRP A 142      -3.982   2.121  -3.446  1.00  0.00           C  \\nATOM   2286  H   TRP A 142     -10.890   2.987  -5.373  1.00  0.00           H  \\nATOM   2287  HA  TRP A 142      -8.529   3.914  -6.613  1.00  0.00           H  \\nATOM   2288  HB2 TRP A 142      -8.073   1.396  -6.744  1.00  0.00           H  \\nATOM   2289  HB3 TRP A 142      -9.551   1.163  -5.968  1.00  0.00           H  \\nATOM   2290  HD1 TRP A 142      -9.747   1.847  -3.309  1.00  0.00           H  \\nATOM   2291  HE1 TRP A 142      -7.835   1.943  -1.624  1.00  0.00           H  \\nATOM   2292  HE3 TRP A 142      -5.651   2.287  -6.334  1.00  0.00           H  \\nATOM   2293  HZ2 TRP A 142      -5.072   2.153  -1.563  1.00  0.00           H  \\nATOM   2294  HZ3 TRP A 142      -3.213   2.244  -5.439  1.00  0.00           H  \\nATOM   2295  HH2 TRP A 142      -2.952   1.989  -3.019  1.00  0.00           H  \\nATOM   2296  N   ASP A 143     -10.845   3.595  -8.658  1.00  0.00           N  \\nATOM   2297  CA  ASP A 143     -10.947   4.072 -10.071  1.00  0.00           C  \\nATOM   2298  C   ASP A 143     -10.128   5.320 -10.303  1.00  0.00           C  \\nATOM   2299  O   ASP A 143      -9.378   5.255 -11.284  1.00  0.00           O  \\nATOM   2300  CB  ASP A 143     -12.461   4.200 -10.439  1.00  0.00           C  \\nATOM   2301  CG  ASP A 143     -13.138   2.917 -10.884  1.00  0.00           C  \\nATOM   2302  OD1 ASP A 143     -14.257   3.117 -11.409  1.00  0.00           O  \\nATOM   2303  OD2 ASP A 143     -12.652   1.788 -10.691  1.00  0.00           O  \\nATOM   2304  H   ASP A 143     -11.466   3.944  -8.000  1.00  0.00           H  \\nATOM   2305  HA  ASP A 143     -10.540   3.301 -10.745  1.00  0.00           H  \\nATOM   2306  HB2 ASP A 143     -12.458   4.934 -11.291  1.00  0.00           H  \\nATOM   2307  HB3 ASP A 143     -13.038   4.623  -9.581  1.00  0.00           H  \\nATOM   2308  N   GLY A 144     -10.484   6.370  -9.661  1.00  0.00           N  \\nATOM   2309  CA  GLY A 144      -9.889   7.658  -9.862  1.00  0.00           C  \\nATOM   2310  C   GLY A 144      -8.486   7.735  -9.282  1.00  0.00           C  \\nATOM   2311  O   GLY A 144      -7.945   8.845  -9.112  1.00  0.00           O  \\nATOM   2312  H   GLY A 144     -11.149   6.249  -8.895  1.00  0.00           H  \\nATOM   2313  HA2 GLY A 144      -9.809   7.814 -10.903  1.00  0.00           H  \\nATOM   2314  HA3 GLY A 144     -10.540   8.530  -9.542  1.00  0.00           H  \\nATOM   2315  N   PHE A 145      -7.889   6.650  -8.829  1.00  0.00           N  \\nATOM   2316  CA  PHE A 145      -6.494   6.389  -8.764  1.00  0.00           C  \\nATOM   2317  C   PHE A 145      -5.871   5.969 -10.139  1.00  0.00           C  \\nATOM   2318  O   PHE A 145      -4.730   6.347 -10.401  1.00  0.00           O  \\nATOM   2319  CB  PHE A 145      -6.201   5.207  -7.814  1.00  0.00           C  \\nATOM   2320  CG  PHE A 145      -4.680   4.738  -7.781  1.00  0.00           C  \\nATOM   2321  CD1 PHE A 145      -3.748   5.305  -6.900  1.00  0.00           C  \\nATOM   2322  CD2 PHE A 145      -4.201   3.735  -8.736  1.00  0.00           C  \\nATOM   2323  CE1 PHE A 145      -2.406   4.859  -6.797  1.00  0.00           C  \\nATOM   2324  CE2 PHE A 145      -2.863   3.394  -8.760  1.00  0.00           C  \\nATOM   2325  CZ  PHE A 145      -1.966   3.922  -7.806  1.00  0.00           C  \\nATOM   2326  H   PHE A 145      -8.492   5.832  -8.847  1.00  0.00           H  \\nATOM   2327  HA  PHE A 145      -5.950   7.226  -8.386  1.00  0.00           H  \\nATOM   2328  HB2 PHE A 145      -6.533   5.492  -6.799  1.00  0.00           H  \\nATOM   2329  HB3 PHE A 145      -6.797   4.311  -8.104  1.00  0.00           H  \\nATOM   2330  HD1 PHE A 145      -4.167   6.027  -6.255  1.00  0.00           H  \\nATOM   2331  HD2 PHE A 145      -4.931   3.266  -9.392  1.00  0.00           H  \\nATOM   2332  HE1 PHE A 145      -1.692   5.133  -6.056  1.00  0.00           H  \\nATOM   2333  HE2 PHE A 145      -2.454   2.574  -9.503  1.00  0.00           H  \\nATOM   2334  HZ  PHE A 145      -0.967   3.564  -7.805  1.00  0.00           H  \\nATOM   2335  N   VAL A 146      -6.610   5.122 -10.937  1.00  0.00           N  \\nATOM   2336  CA  VAL A 146      -6.148   4.725 -12.250  1.00  0.00           C  \\nATOM   2337  C   VAL A 146      -6.191   5.955 -13.169  1.00  0.00           C  \\nATOM   2338  O   VAL A 146      -5.216   6.368 -13.747  1.00  0.00           O  \\nATOM   2339  CB  VAL A 146      -6.969   3.629 -12.878  1.00  0.00           C  \\nATOM   2340  CG1 VAL A 146      -6.748   3.349 -14.344  1.00  0.00           C  \\nATOM   2341  CG2 VAL A 146      -6.759   2.321 -12.115  1.00  0.00           C  \\nATOM   2342  H   VAL A 146      -7.486   4.901 -10.636  1.00  0.00           H  \\nATOM   2343  HA  VAL A 146      -5.123   4.356 -12.030  1.00  0.00           H  \\nATOM   2344  HB  VAL A 146      -8.053   3.857 -12.787  1.00  0.00           H  \\nATOM   2345 HG11 VAL A 146      -7.235   2.411 -14.591  1.00  0.00           H  \\nATOM   2346 HG12 VAL A 146      -7.320   4.045 -14.905  1.00  0.00           H  \\nATOM   2347 HG13 VAL A 146      -5.641   3.261 -14.612  1.00  0.00           H  \\nATOM   2348 HG21 VAL A 146      -5.700   1.982 -12.058  1.00  0.00           H  \\nATOM   2349 HG22 VAL A 146      -7.392   1.453 -12.420  1.00  0.00           H  \\nATOM   2350 HG23 VAL A 146      -7.074   2.501 -11.079  1.00  0.00           H  \\nATOM   2351  N   GLU A 147      -7.304   6.718 -13.090  1.00  0.00           N  \\nATOM   2352  CA  GLU A 147      -7.587   7.910 -13.895  1.00  0.00           C  \\nATOM   2353  C   GLU A 147      -6.655   9.107 -13.540  1.00  0.00           C  \\nATOM   2354  O   GLU A 147      -6.535  10.076 -14.268  1.00  0.00           O  \\nATOM   2355  CB  GLU A 147      -9.005   8.427 -13.574  1.00  0.00           C  \\nATOM   2356  CG  GLU A 147     -10.116   7.390 -13.950  1.00  0.00           C  \\nATOM   2357  CD  GLU A 147     -11.573   7.825 -13.597  1.00  0.00           C  \\nATOM   2358  OE1 GLU A 147     -12.511   7.052 -13.981  1.00  0.00           O  \\nATOM   2359  OE2 GLU A 147     -11.746   8.764 -12.817  1.00  0.00           O  \\nATOM   2360  H   GLU A 147      -8.048   6.210 -12.625  1.00  0.00           H  \\nATOM   2361  HA  GLU A 147      -7.516   7.792 -15.043  1.00  0.00           H  \\nATOM   2362  HB2 GLU A 147      -9.310   9.365 -14.081  1.00  0.00           H  \\nATOM   2363  HB3 GLU A 147      -9.138   8.631 -12.473  1.00  0.00           H  \\nATOM   2364  HG2 GLU A 147     -10.044   7.178 -15.056  1.00  0.00           H  \\nATOM   2365  HG3 GLU A 147     -10.071   6.406 -13.497  1.00  0.00           H  \\nATOM   2366  N   PHE A 148      -5.984   9.097 -12.386  1.00  0.00           N  \\nATOM   2367  CA  PHE A 148      -4.899  10.020 -11.924  1.00  0.00           C  \\nATOM   2368  C   PHE A 148      -3.404   9.635 -12.320  1.00  0.00           C  \\nATOM   2369  O   PHE A 148      -2.483  10.445 -12.241  1.00  0.00           O  \\nATOM   2370  CB  PHE A 148      -5.089  10.081 -10.407  1.00  0.00           C  \\nATOM   2371  CG  PHE A 148      -4.181  11.041  -9.723  1.00  0.00           C  \\nATOM   2372  CD1 PHE A 148      -4.688  12.306  -9.290  1.00  0.00           C  \\nATOM   2373  CD2 PHE A 148      -2.840  10.832  -9.483  1.00  0.00           C  \\nATOM   2374  CE1 PHE A 148      -3.883  13.310  -8.786  1.00  0.00           C  \\nATOM   2375  CE2 PHE A 148      -2.037  11.837  -8.837  1.00  0.00           C  \\nATOM   2376  CZ  PHE A 148      -2.525  13.074  -8.569  1.00  0.00           C  \\nATOM   2377  H   PHE A 148      -5.957   8.242 -11.892  1.00  0.00           H  \\nATOM   2378  HA  PHE A 148      -5.067  10.953 -12.424  1.00  0.00           H  \\nATOM   2379  HB2 PHE A 148      -5.019   9.086 -10.013  1.00  0.00           H  \\nATOM   2380  HB3 PHE A 148      -6.150  10.401 -10.300  1.00  0.00           H  \\nATOM   2381  HD1 PHE A 148      -5.758  12.556  -9.542  1.00  0.00           H  \\nATOM   2382  HD2 PHE A 148      -2.396   9.855  -9.635  1.00  0.00           H  \\nATOM   2383  HE1 PHE A 148      -4.278  14.323  -8.585  1.00  0.00           H  \\nATOM   2384  HE2 PHE A 148      -0.997  11.600  -8.713  1.00  0.00           H  \\nATOM   2385  HZ  PHE A 148      -1.920  13.817  -8.051  1.00  0.00           H  \\nATOM   2386  N   PHE A 149      -3.202   8.394 -12.664  1.00  0.00           N  \\nATOM   2387  CA  PHE A 149      -1.929   7.798 -13.116  1.00  0.00           C  \\nATOM   2388  C   PHE A 149      -2.067   7.065 -14.506  1.00  0.00           C  \\nATOM   2389  O   PHE A 149      -1.229   6.198 -14.835  1.00  0.00           O  \\nATOM   2390  CB  PHE A 149      -1.356   6.909 -12.013  1.00  0.00           C  \\nATOM   2391  CG  PHE A 149      -0.950   7.589 -10.746  1.00  0.00           C  \\nATOM   2392  CD1 PHE A 149      -1.355   7.049  -9.526  1.00  0.00           C  \\nATOM   2393  CD2 PHE A 149      -0.005   8.600 -10.737  1.00  0.00           C  \\nATOM   2394  CE1 PHE A 149      -0.745   7.444  -8.315  1.00  0.00           C  \\nATOM   2395  CE2 PHE A 149       0.583   9.026  -9.521  1.00  0.00           C  \\nATOM   2396  CZ  PHE A 149       0.235   8.420  -8.280  1.00  0.00           C  \\nATOM   2397  H   PHE A 149      -3.945   7.676 -12.611  1.00  0.00           H  \\nATOM   2398  HA  PHE A 149      -1.210   8.589 -13.311  1.00  0.00           H  \\nATOM   2399  HB2 PHE A 149      -2.028   6.039 -11.712  1.00  0.00           H  \\nATOM   2400  HB3 PHE A 149      -0.444   6.460 -12.414  1.00  0.00           H  \\nATOM   2401  HD1 PHE A 149      -2.059   6.305  -9.539  1.00  0.00           H  \\nATOM   2402  HD2 PHE A 149       0.407   9.041 -11.582  1.00  0.00           H  \\nATOM   2403  HE1 PHE A 149      -1.086   7.027  -7.347  1.00  0.00           H  \\nATOM   2404  HE2 PHE A 149       1.228   9.882  -9.451  1.00  0.00           H  \\nATOM   2405  HZ  PHE A 149       0.538   8.905  -7.314  1.00  0.00           H  \\nATOM   2406  N   HIS A 150      -3.041   7.498 -15.322  1.00  0.00           N  \\nATOM   2407  CA  HIS A 150      -3.293   6.975 -16.688  1.00  0.00           C  \\nATOM   2408  C   HIS A 150      -2.228   7.516 -17.662  1.00  0.00           C  \\nATOM   2409  O   HIS A 150      -1.913   8.722 -17.748  1.00  0.00           O  \\nATOM   2410  CB  HIS A 150      -4.649   7.337 -17.201  1.00  0.00           C  \\nATOM   2411  CG  HIS A 150      -5.322   6.266 -18.054  1.00  0.00           C  \\nATOM   2412  CD2 HIS A 150      -6.201   5.331 -17.567  1.00  0.00           C  \\nATOM   2413  ND1 HIS A 150      -5.028   5.907 -19.322  1.00  0.00           N  \\nATOM   2414  CE1 HIS A 150      -5.739   4.750 -19.599  1.00  0.00           C  \\nATOM   2415  NE2 HIS A 150      -6.476   4.347 -18.512  1.00  0.00           N  \\nATOM   2416  H   HIS A 150      -3.496   8.352 -15.103  1.00  0.00           H  \\nATOM   2417  HA  HIS A 150      -3.293   5.862 -16.570  1.00  0.00           H  \\nATOM   2418  HB2 HIS A 150      -5.343   7.642 -16.368  1.00  0.00           H  \\nATOM   2419  HB3 HIS A 150      -4.622   8.315 -17.754  1.00  0.00           H  \\nATOM   2420  HD1 HIS A 150      -4.242   6.208 -19.917  1.00  0.00           H  \\nATOM   2421  HD2 HIS A 150      -6.619   5.341 -16.534  1.00  0.00           H  \\nATOM   2422  HE1 HIS A 150      -5.632   4.199 -20.486  1.00  0.00           H  \\nATOM   2423  N   VAL A 151      -1.722   6.621 -18.446  1.00  0.00           N  \\nATOM   2424  CA  VAL A 151      -0.875   6.948 -19.614  1.00  0.00           C  \\nATOM   2425  C   VAL A 151      -1.602   6.507 -20.915  1.00  0.00           C  \\nATOM   2426  O   VAL A 151      -2.779   6.017 -20.849  1.00  0.00           O  \\nATOM   2427  CB  VAL A 151       0.471   6.481 -19.326  1.00  0.00           C  \\nATOM   2428  CG1 VAL A 151       1.543   6.473 -20.423  1.00  0.00           C  \\nATOM   2429  CG2 VAL A 151       1.039   7.010 -17.931  1.00  0.00           C  \\nATOM   2430  H   VAL A 151      -2.080   5.682 -18.434  1.00  0.00           H  \\nATOM   2431  HA  VAL A 151      -0.920   8.021 -19.686  1.00  0.00           H  \\nATOM   2432  HB  VAL A 151       0.322   5.449 -19.100  1.00  0.00           H  \\nATOM   2433 HG11 VAL A 151       2.588   6.219 -20.076  1.00  0.00           H  \\nATOM   2434 HG12 VAL A 151       1.747   7.470 -20.905  1.00  0.00           H  \\nATOM   2435 HG13 VAL A 151       1.242   5.731 -21.160  1.00  0.00           H  \\nATOM   2436 HG21 VAL A 151       0.784   8.005 -17.886  1.00  0.00           H  \\nATOM   2437 HG22 VAL A 151       2.184   6.886 -17.960  1.00  0.00           H  \\nATOM   2438 HG23 VAL A 151       0.744   6.529 -17.021  1.00  0.00           H  \\nATOM   2439  N   GLU A 152      -0.968   6.564 -22.064  1.00  0.00           N  \\nATOM   2440  CA  GLU A 152      -1.278   5.879 -23.287  1.00  0.00           C  \\nATOM   2441  C   GLU A 152      -1.055   4.362 -23.158  1.00  0.00           C  \\nATOM   2442  O   GLU A 152      -0.188   3.750 -23.791  1.00  0.00           O  \\nATOM   2443  CB  GLU A 152      -0.492   6.462 -24.465  1.00  0.00           C  \\nATOM   2444  CG  GLU A 152      -0.795   7.945 -24.806  1.00  0.00           C  \\nATOM   2445  CD  GLU A 152       0.050   8.992 -24.054  1.00  0.00           C  \\nATOM   2446  OE1 GLU A 152       0.727   8.636 -23.105  1.00  0.00           O  \\nATOM   2447  OE2 GLU A 152       0.225  10.087 -24.636  1.00  0.00           O  \\nATOM   2448  H   GLU A 152      -0.033   6.913 -22.054  1.00  0.00           H  \\nATOM   2449  HA  GLU A 152      -2.328   6.005 -23.560  1.00  0.00           H  \\nATOM   2450  HB2 GLU A 152      -0.867   5.968 -25.381  1.00  0.00           H  \\nATOM   2451  HB3 GLU A 152       0.625   6.342 -24.398  1.00  0.00           H  \\nATOM   2452  HG2 GLU A 152      -0.544   8.040 -25.884  1.00  0.00           H  \\nATOM   2453  HG3 GLU A 152      -1.778   8.272 -24.645  1.00  0.00           H  \\nATOM   2454  N   ASP A 153      -1.831   3.759 -22.204  1.00  0.00           N  \\nATOM   2455  CA  ASP A 153      -1.771   2.374 -21.620  1.00  0.00           C  \\nATOM   2456  C   ASP A 153      -3.212   1.929 -21.121  1.00  0.00           C  \\nATOM   2457  O   ASP A 153      -4.115   2.788 -21.072  1.00  0.00           O  \\nATOM   2458  CB  ASP A 153      -0.780   2.213 -20.404  1.00  0.00           C  \\nATOM   2459  CG  ASP A 153      -1.219   2.554 -18.946  1.00  0.00           C  \\nATOM   2460  OD1 ASP A 153      -1.928   3.555 -18.797  1.00  0.00           O  \\nATOM   2461  OD2 ASP A 153      -1.001   1.789 -17.969  1.00  0.00           O  \\nATOM   2462  OXT ASP A 153      -3.438   0.858 -20.536  1.00  0.00           O  \\nATOM   2463  H   ASP A 153      -2.479   4.409 -21.761  1.00  0.00           H  \\nATOM   2464  HA  ASP A 153      -1.430   1.759 -22.459  1.00  0.00           H  \\nATOM   2465  HB2 ASP A 153       0.271   2.554 -20.681  1.00  0.00           H  \\nATOM   2466  HB3 ASP A 153      -0.688   1.110 -20.394  1.00  0.00           H  \\nTER    2467      ASP A 153\\nHETATM 2468  C1x UNK B   1       4.852  -0.005   9.360  1.00  0.00           C  \\nHETATM 2469  C2x UNK B   1       3.357   0.294   9.046  1.00  0.00           C  \\nHETATM 2470  C3x UNK B   1       5.865   1.137   9.114  1.00  0.00           C  \\nHETATM 2471  H1x UNK B   1       5.196  -0.811   8.705  1.00  0.00           H  \\nHETATM 2472  H2x UNK B   1       4.913  -0.318  10.407  1.00  0.00           H  \\nHETATM 2473  C4x UNK B   1       5.507   2.113   7.862  1.00  0.00           C  \\nHETATM 2474  H3x UNK B   1       5.896   1.763  10.010  1.00  0.00           H  \\nHETATM 2475  H4x UNK B   1       6.847   0.688   8.936  1.00  0.00           H  \\nHETATM 2476  C5x UNK B   1       6.533   3.239   7.787  1.00  0.00           C  \\nHETATM 2477  H5x UNK B   1       4.503   2.534   7.965  1.00  0.00           H  \\nHETATM 2478  H6x UNK B   1       5.509   1.573   6.911  1.00  0.00           H  \\nHETATM 2479  C6x UNK B   1       6.694   4.011   9.123  1.00  0.00           C  \\nHETATM 2480  H7x UNK B   1       7.437   2.763   7.396  1.00  0.00           H  \\nHETATM 2481  H8x UNK B   1       6.181   3.912   6.999  1.00  0.00           H  \\nHETATM 2482  C7x UNK B   1       7.243   5.463   8.949  1.00  0.00           C  \\nHETATM 2483  H9x UNK B   1       5.685   4.014   9.546  1.00  0.00           H  \\nHETATM 2484 H10x UNK B   1       7.513   3.508   9.646  1.00  0.00           H  \\nHETATM 2485  C8x UNK B   1       6.223   6.454   8.481  1.00  0.00           C  \\nHETATM 2486 H11x UNK B   1       8.065   5.504   8.228  1.00  0.00           H  \\nHETATM 2487 H12x UNK B   1       7.647   5.843   9.893  1.00  0.00           H  \\nHETATM 2488  C9x UNK B   1       6.781   7.628   7.670  1.00  0.00           C  \\nHETATM 2489 H13x UNK B   1       5.784   6.879   9.388  1.00  0.00           H  \\nHETATM 2490 H14x UNK B   1       5.450   6.010   7.846  1.00  0.00           H  \\nHETATM 2491 C10x UNK B   1       7.969   8.448   8.374  1.00  0.00           C  \\nHETATM 2492 H15x UNK B   1       5.955   8.336   7.554  1.00  0.00           H  \\nHETATM 2493 H16x UNK B   1       7.042   7.334   6.649  1.00  0.00           H  \\nHETATM 2494 C11x UNK B   1       8.203   9.830   7.656  1.00  0.00           C  \\nHETATM 2495 H17x UNK B   1       7.601   8.639   9.386  1.00  0.00           H  \\nHETATM 2496 H18x UNK B   1       8.887   7.852   8.359  1.00  0.00           H  \\nHETATM 2497 C12x UNK B   1       8.205   9.766   6.050  1.00  0.00           C  \\nHETATM 2498 H19x UNK B   1       9.035  10.434   8.029  1.00  0.00           H  \\nHETATM 2499 H20x UNK B   1       7.385  10.508   7.921  1.00  0.00           H  \\nHETATM 2500 C13x UNK B   1       9.422   8.992   5.470  1.00  0.00           C  \\nHETATM 2501 H21x UNK B   1       8.345  10.820   5.790  1.00  0.00           H  \\nHETATM 2502 H22x UNK B   1       7.287   9.305   5.675  1.00  0.00           H  \\nHETATM 2503 C14x UNK B   1       9.223   8.509   4.030  1.00  0.00           C  \\nHETATM 2504 H23x UNK B   1      10.312   9.620   5.574  1.00  0.00           H  \\nHETATM 2505 H24x UNK B   1       9.641   8.117   6.089  1.00  0.00           H  \\nHETATM 2506 C15x UNK B   1       8.941   9.710   3.034  1.00  0.00           C  \\nHETATM 2507 H25x UNK B   1       8.465   7.721   4.003  1.00  0.00           H  \\nHETATM 2508 H26x UNK B   1      10.075   7.927   3.664  1.00  0.00           H  \\nHETATM 2509 C16x UNK B   1       9.936  10.578   2.641  1.00  0.00           C  \\nHETATM 2510 C17x UNK B   1       7.624   9.947   2.667  1.00  0.00           C  \\nHETATM 2511 C18x UNK B   1       9.653  11.812   2.062  1.00  0.00           C  \\nHETATM 2512 H27x UNK B   1      10.981  10.456   2.909  1.00  0.00           H  \\nHETATM 2513 Cl1x UNK B   1       6.443   8.655   2.862  1.00  0.00          Cl  \\nHETATM 2514 C19x UNK B   1       7.328  11.209   2.016  1.00  0.00           C  \\nHETATM 2515 C20x UNK B   1       8.359  12.144   1.785  1.00  0.00           C  \\nHETATM 2516 H28x UNK B   1      10.405  12.591   1.984  1.00  0.00           H  \\nHETATM 2517 C21x UNK B   1       6.061  11.671   1.415  1.00  0.00           C  \\nHETATM 2518  S1x UNK B   1       7.665  13.655   1.266  1.00  0.00           S  \\nHETATM 2519 Cl2x UNK B   1       4.653  10.598   1.363  1.00  0.00          Cl  \\nHETATM 2520 C22x UNK B   1       6.058  12.962   0.998  1.00  0.00           C  \\nHETATM 2521 C23x UNK B   1       4.789  13.754   0.668  1.00  0.00           C  \\nHETATM 2522  O1x UNK B   1       3.925  13.264  -0.050  1.00  0.00           O  \\nHETATM 2523  O2x UNK B   1       4.529  14.856   1.184  1.00  0.00           O  \\nHETATM 2524 H29x UNK B   1       3.102   1.154   9.672  1.00  0.00           H  \\nHETATM 2525 H30x UNK B   1       3.221   0.611   8.007  1.00  0.00           H  \\nHETATM 2526 H31x UNK B   1       2.777  -0.551   9.430  1.00  0.00           H  \\nTER    2527      UNK B   1\\nCONECT 2468 2469 2470 2471 2472\\nCONECT 2469 2468 2524 2525 2526\\nCONECT 2470 2468 2473 2474 2475\\nCONECT 2471 2468\\nCONECT 2472 2468\\nCONECT 2473 2470 2476 2477 2478\\nCONECT 2474 2470\\nCONECT 2475 2470\\nCONECT 2476 2473 2479 2480 2481\\nCONECT 2477 2473\\nCONECT 2478 2473\\nCONECT 2479 2476 2482 2483 2484\\nCONECT 2480 2476\\nCONECT 2481 2476\\nCONECT 2482 2479 2485 2486 2487\\nCONECT 2483 2479\\nCONECT 2484 2479\\nCONECT 2485 2482 2488 2489 2490\\nCONECT 2486 2482\\nCONECT 2487 2482\\nCONECT 2488 2485 2491 2492 2493\\nCONECT 2489 2485\\nCONECT 2490 2485\\nCONECT 2491 2488 2494 2495 2496\\nCONECT 2492 2488\\nCONECT 2493 2488\\nCONECT 2494 2491 2497 2498 2499\\nCONECT 2495 2491\\nCONECT 2496 2491\\nCONECT 2497 2494 2500 2501 2502\\nCONECT 2498 2494\\nCONECT 2499 2494\\nCONECT 2500 2497 2503 2504 2505\\nCONECT 2501 2497\\nCONECT 2502 2497\\nCONECT 2503 2500 2506 2507 2508\\nCONECT 2504 2500\\nCONECT 2505 2500\\nCONECT 2506 2503 2509 2510\\nCONECT 2507 2503\\nCONECT 2508 2503\\nCONECT 2509 2506 2511 2512\\nCONECT 2510 2506 2513 2514\\nCONECT 2511 2509 2515 2516\\nCONECT 2512 2509\\nCONECT 2513 2510\\nCONECT 2514 2510 2517 2515\\nCONECT 2515 2511 2514 2518\\nCONECT 2516 2511\\nCONECT 2517 2514 2519 2520\\nCONECT 2518 2515 2520\\nCONECT 2519 2517\\nCONECT 2520 2517 2518 2521\\nCONECT 2521 2520 2522 2523\\nCONECT 2522 2521\\nCONECT 2523 2521\\nCONECT 2524 2469\\nCONECT 2525 2469\\nCONECT 2526 2469\\nEND\\n',\n",
       "     'binary': False}],\n",
       "   'kwargs': {'defaultRepresentation': True, 'ext': 'pdb'}},\n",
       "  {'component_index': 0,\n",
       "   'target': 'compList',\n",
       "   'type': 'call_method',\n",
       "   'methodName': 'addRepresentation',\n",
       "   'reconstruc_color_scheme': False,\n",
       "   'args': ['surface'],\n",
       "   'kwargs': {'sele': 'protein', 'opacity': 0.3, 'useWorker': False}}],\n",
       " '_ngl_original_stage_parameters': {'impostor': True,\n",
       "  'quality': 'medium',\n",
       "  'workerDefault': True,\n",
       "  'sampleLevel': 0,\n",
       "  'backgroundColor': 'white',\n",
       "  'rotateSpeed': 2,\n",
       "  'zoomSpeed': 1.2,\n",
       "  'panSpeed': 1,\n",
       "  'clipNear': 0,\n",
       "  'clipFar': 100,\n",
       "  'clipDist': 10,\n",
       "  'clipMode': 'scene',\n",
       "  'clipScale': 'relative',\n",
       "  'fogNear': 50,\n",
       "  'fogFar': 100,\n",
       "  'cameraFov': 40,\n",
       "  'cameraEyeSep': 0.3,\n",
       "  'cameraType': 'perspective',\n",
       "  'lightColor': 14540253,\n",
       "  'lightIntensity': 1,\n",
       "  'ambientColor': 14540253,\n",
       "  'ambientIntensity': 0.2,\n",
       "  'hoverTimeout': 0,\n",
       "  'tooltip': True,\n",
       "  'mousePreset': 'default'},\n",
       " '_ngl_repr_dict': {'0': {'0': {'type': 'cartoon',\n",
       "    'params': {'lazy': False,\n",
       "     'visible': True,\n",
       "     'quality': 'high',\n",
       "     'aspectRatio': 5,\n",
       "     'subdiv': 6,\n",
       "     'radialSegments': 20,\n",
       "     'tension': None,\n",
       "     'capped': True,\n",
       "     'smoothSheet': False,\n",
       "     'radiusType': 'sstruc',\n",
       "     'radiusData': {},\n",
       "     'radiusSize': 1,\n",
       "     'radiusScale': 0.7,\n",
       "     'assembly': 'default',\n",
       "     'defaultAssembly': '',\n",
       "     'clipNear': 0,\n",
       "     'clipRadius': 0,\n",
       "     'clipCenter': {'x': 0, 'y': 0, 'z': 0},\n",
       "     'flatShaded': False,\n",
       "     'opacity': 1,\n",
       "     'depthWrite': True,\n",
       "     'side': 'double',\n",
       "     'wireframe': False,\n",
       "     'colorScheme': 'chainname',\n",
       "     'colorScale': 'RdYlBu',\n",
       "     'colorReverse': False,\n",
       "     'colorValue': 9474192,\n",
       "     'colorMode': 'hcl',\n",
       "     'roughness': 0.4,\n",
       "     'metalness': 0,\n",
       "     'diffuse': 16777215,\n",
       "     'diffuseInterior': False,\n",
       "     'useInteriorColor': True,\n",
       "     'interiorColor': 2236962,\n",
       "     'interiorDarkening': 0,\n",
       "     'matrix': {'elements': [1, 0, 0, 0, 0, 1, 0, 0, 0, 0, 1, 0, 0, 0, 0, 1]},\n",
       "     'disablePicking': False,\n",
       "     'sele': ''}},\n",
       "   '1': {'type': 'base',\n",
       "    'params': {'lazy': False,\n",
       "     'visible': True,\n",
       "     'quality': 'high',\n",
       "     'sphereDetail': 2,\n",
       "     'radialSegments': 20,\n",
       "     'openEnded': True,\n",
       "     'disableImpostor': False,\n",
       "     'aspectRatio': 1,\n",
       "     'lineOnly': False,\n",
       "     'cylinderOnly': False,\n",
       "     'bondScale': 0.4,\n",
       "     'linewidth': 2,\n",
       "     'radiusType': 'size',\n",
       "     'radiusData': {},\n",
       "     'radiusSize': 0.3,\n",
       "     'radiusScale': 1,\n",
       "     'assembly': 'default',\n",
       "     'defaultAssembly': '',\n",
       "     'clipNear': 0,\n",
       "     'clipRadius': 0,\n",
       "     'clipCenter': {'x': 0, 'y': 0, 'z': 0},\n",
       "     'flatShaded': False,\n",
       "     'opacity': 1,\n",
       "     'depthWrite': True,\n",
       "     'side': 'double',\n",
       "     'wireframe': False,\n",
       "     'colorScheme': 'chainname',\n",
       "     'colorScale': 'RdYlBu',\n",
       "     'colorReverse': False,\n",
       "     'colorValue': 9474192,\n",
       "     'colorMode': 'hcl',\n",
       "     'roughness': 0.4,\n",
       "     'metalness': 0,\n",
       "     'diffuse': 16777215,\n",
       "     'diffuseInterior': False,\n",
       "     'useInteriorColor': True,\n",
       "     'interiorColor': 2236962,\n",
       "     'interiorDarkening': 0,\n",
       "     'matrix': {'elements': [1, 0, 0, 0, 0, 1, 0, 0, 0, 0, 1, 0, 0, 0, 0, 1]},\n",
       "     'disablePicking': False,\n",
       "     'sele': ''}},\n",
       "   '2': {'type': 'ball+stick',\n",
       "    'params': {'lazy': False,\n",
       "     'visible': True,\n",
       "     'quality': 'high',\n",
       "     'sphereDetail': 2,\n",
       "     'radialSegments': 20,\n",
       "     'openEnded': True,\n",
       "     'disableImpostor': False,\n",
       "     'aspectRatio': 1.5,\n",
       "     'lineOnly': False,\n",
       "     'cylinderOnly': False,\n",
       "     'multipleBond': 'off',\n",
       "     'bondScale': 0.3,\n",
       "     'bondSpacing': 0.75,\n",
       "     'linewidth': 2,\n",
       "     'radiusType': 'size',\n",
       "     'radiusData': {},\n",
       "     'radiusSize': 0.15,\n",
       "     'radiusScale': 2,\n",
       "     'assembly': 'default',\n",
       "     'defaultAssembly': '',\n",
       "     'clipNear': 0,\n",
       "     'clipRadius': 0,\n",
       "     'clipCenter': {'x': 0, 'y': 0, 'z': 0},\n",
       "     'flatShaded': False,\n",
       "     'opacity': 1,\n",
       "     'depthWrite': True,\n",
       "     'side': 'double',\n",
       "     'wireframe': False,\n",
       "     'colorScheme': 'element',\n",
       "     'colorScale': '',\n",
       "     'colorReverse': False,\n",
       "     'colorValue': 9474192,\n",
       "     'colorMode': 'hcl',\n",
       "     'roughness': 0.4,\n",
       "     'metalness': 0,\n",
       "     'diffuse': 16777215,\n",
       "     'diffuseInterior': False,\n",
       "     'useInteriorColor': True,\n",
       "     'interiorColor': 2236962,\n",
       "     'interiorDarkening': 0,\n",
       "     'matrix': {'elements': [1, 0, 0, 0, 0, 1, 0, 0, 0, 0, 1, 0, 0, 0, 0, 1]},\n",
       "     'disablePicking': False,\n",
       "     'sele': 'ligand'}},\n",
       "   '3': {'type': 'surface',\n",
       "    'params': {'lazy': False,\n",
       "     'visible': True,\n",
       "     'quality': 'medium',\n",
       "     'surfaceType': 'ms',\n",
       "     'probeRadius': 1.4,\n",
       "     'smooth': 2,\n",
       "     'scaleFactor': 2,\n",
       "     'cutoff': 0,\n",
       "     'contour': False,\n",
       "     'background': False,\n",
       "     'opaqueBack': True,\n",
       "     'filterSele': '',\n",
       "     'useWorker': False,\n",
       "     'radiusType': 'vdw',\n",
       "     'radiusData': {},\n",
       "     'radiusSize': 1,\n",
       "     'radiusScale': 1,\n",
       "     'assembly': 'default',\n",
       "     'defaultAssembly': '',\n",
       "     'clipNear': 0,\n",
       "     'clipRadius': 0,\n",
       "     'clipCenter': {'x': 0, 'y': 0, 'z': 0},\n",
       "     'flatShaded': False,\n",
       "     'opacity': 0.3,\n",
       "     'depthWrite': True,\n",
       "     'side': 'double',\n",
       "     'wireframe': False,\n",
       "     'colorScheme': 'uniform',\n",
       "     'colorScale': '',\n",
       "     'colorReverse': False,\n",
       "     'colorValue': 14540253,\n",
       "     'colorMode': 'hcl',\n",
       "     'roughness': 0.4,\n",
       "     'metalness': 0,\n",
       "     'diffuse': 16777215,\n",
       "     'diffuseInterior': False,\n",
       "     'useInteriorColor': False,\n",
       "     'interiorColor': 2236962,\n",
       "     'interiorDarkening': 0,\n",
       "     'matrix': {'elements': [1, 0, 0, 0, 0, 1, 0, 0, 0, 0, 1, 0, 0, 0, 0, 1]},\n",
       "     'disablePicking': True,\n",
       "     'sele': 'protein'}}}},\n",
       " '_ngl_serialize': False,\n",
       " '_ngl_version': '2.2.2',\n",
       " '_ngl_view_id': ['93DE0970-46BA-4EE3-960C-C532AB0C2B36'],\n",
       " '_player_dict': {},\n",
       " '_scene_position': {},\n",
       " '_scene_rotation': {},\n",
       " '_synced_model_ids': [],\n",
       " '_synced_repr_model_ids': [],\n",
       " '_view_count': None,\n",
       " '_view_height': '',\n",
       " '_view_module': 'nglview-js-widgets',\n",
       " '_view_module_version': '3.1.0',\n",
       " '_view_name': 'NGLView',\n",
       " '_view_width': '',\n",
       " 'background': 'white',\n",
       " 'frame': 0,\n",
       " 'gui_style': None,\n",
       " 'layout': 'IPY_MODEL_cc2512b666e1444fbb831a161e9aebb3',\n",
       " 'max_frame': 0,\n",
       " 'n_components': 1,\n",
       " 'picked': {},\n",
       " 'tabbable': None,\n",
       " 'tooltip': None}"
      ]
     },
     "execution_count": 86,
     "metadata": {},
     "output_type": "execute_result"
    }
   ],
   "source": [
    "nv.get_state()"
   ]
  },
  {
   "cell_type": "code",
   "execution_count": 83,
   "id": "d3bff35c-3e1f-4bb4-b661-4427f9bc2c20",
   "metadata": {
    "execution": {
     "iopub.execute_input": "2024-05-14T05:43:53.488070Z",
     "iopub.status.busy": "2024-05-14T05:43:53.485862Z",
     "iopub.status.idle": "2024-05-14T05:43:53.503147Z",
     "shell.execute_reply": "2024-05-14T05:43:53.502229Z",
     "shell.execute_reply.started": "2024-05-14T05:43:53.487984Z"
    }
   },
   "outputs": [
    {
     "data": {
      "text/plain": [
       "['__class__',\n",
       " '__delattr__',\n",
       " '__dict__',\n",
       " '__dir__',\n",
       " '__doc__',\n",
       " '__eq__',\n",
       " '__format__',\n",
       " '__ge__',\n",
       " '__getattribute__',\n",
       " '__gt__',\n",
       " '__hash__',\n",
       " '__init__',\n",
       " '__init_subclass__',\n",
       " '__le__',\n",
       " '__lt__',\n",
       " '__module__',\n",
       " '__ne__',\n",
       " '__new__',\n",
       " '__reduce__',\n",
       " '__reduce_ex__',\n",
       " '__repr__',\n",
       " '__setattr__',\n",
       " '__sizeof__',\n",
       " '__str__',\n",
       " '__subclasshook__',\n",
       " '__weakref__',\n",
       " '_view',\n",
       " 'set_parameters']"
      ]
     },
     "execution_count": 83,
     "metadata": {},
     "output_type": "execute_result"
    }
   ],
   "source": [
    "dir(nv.stage)"
   ]
  },
  {
   "cell_type": "code",
   "execution_count": 84,
   "id": "73bd6a03-52ba-498a-8a48-7133a8602e62",
   "metadata": {
    "execution": {
     "iopub.execute_input": "2024-05-14T05:44:03.248808Z",
     "iopub.status.busy": "2024-05-14T05:44:03.247096Z",
     "iopub.status.idle": "2024-05-14T05:44:03.270818Z",
     "shell.execute_reply": "2024-05-14T05:44:03.269873Z",
     "shell.execute_reply.started": "2024-05-14T05:44:03.248715Z"
    }
   },
   "outputs": [
    {
     "data": {
      "text/plain": [
       "['__annotations__',\n",
       " '__class__',\n",
       " '__copy__',\n",
       " '__deepcopy__',\n",
       " '__del__',\n",
       " '__delattr__',\n",
       " '__dict__',\n",
       " '__dir__',\n",
       " '__doc__',\n",
       " '__eq__',\n",
       " '__format__',\n",
       " '__ge__',\n",
       " '__getattribute__',\n",
       " '__getitem__',\n",
       " '__getstate__',\n",
       " '__gt__',\n",
       " '__hash__',\n",
       " '__init__',\n",
       " '__init_subclass__',\n",
       " '__iter__',\n",
       " '__le__',\n",
       " '__lt__',\n",
       " '__module__',\n",
       " '__ne__',\n",
       " '__new__',\n",
       " '__reduce__',\n",
       " '__reduce_ex__',\n",
       " '__repr__',\n",
       " '__setattr__',\n",
       " '__setstate__',\n",
       " '__sizeof__',\n",
       " '__str__',\n",
       " '__subclasshook__',\n",
       " '__weakref__',\n",
       " '_active_widgets',\n",
       " '_add_notifiers',\n",
       " '_add_shape',\n",
       " '_all_trait_default_generators',\n",
       " '_call_widget_constructed',\n",
       " '_camera_orientation',\n",
       " '_camera_str',\n",
       " '_clear_component_auto_completion',\n",
       " '_comm_changed',\n",
       " '_compare',\n",
       " '_control_comm',\n",
       " '_coordinates_dict',\n",
       " '_create_ibtn_fullscreen',\n",
       " '_create_player',\n",
       " '_cross_validation_lock',\n",
       " '_default_keys',\n",
       " '_descriptors',\n",
       " '_display_image',\n",
       " '_display_repr',\n",
       " '_dom_classes',\n",
       " '_dry_run',\n",
       " '_event',\n",
       " '_execute_js_code',\n",
       " '_fire_callbacks',\n",
       " '_gen_repr_from_keys',\n",
       " '_get_embed_state',\n",
       " '_get_full_params',\n",
       " '_get_remote_call_msg',\n",
       " '_get_trait_default_generator',\n",
       " '_get_traj_by_id',\n",
       " '_gui',\n",
       " '_gui_theme',\n",
       " '_handle_control_comm_msg',\n",
       " '_handle_custom_msg',\n",
       " '_handle_msg',\n",
       " '_handle_msg_thread',\n",
       " '_handle_n_components_changed',\n",
       " '_handle_nglview_custom_msg',\n",
       " '_handle_repr_dict_changed',\n",
       " '_holding_sync',\n",
       " '_ibtn_fullscreen',\n",
       " '_igui',\n",
       " '_image_array',\n",
       " '_image_data',\n",
       " '_init_gui',\n",
       " '_instance_inits',\n",
       " '_iplayer',\n",
       " '_ipython_display_',\n",
       " '_is_numpy',\n",
       " '_js',\n",
       " '_js_console',\n",
       " '_load_data',\n",
       " '_lock_property',\n",
       " '_log_default',\n",
       " '_model_id',\n",
       " '_model_module',\n",
       " '_model_module_version',\n",
       " '_model_name',\n",
       " '_msg_callbacks',\n",
       " '_ngl_color_dict',\n",
       " '_ngl_component_ids',\n",
       " '_ngl_component_names',\n",
       " '_ngl_coordinate_resource',\n",
       " '_ngl_displayed_callbacks_before_loaded',\n",
       " '_ngl_full_stage_parameters',\n",
       " '_ngl_msg',\n",
       " '_ngl_msg_archive',\n",
       " '_ngl_original_stage_parameters',\n",
       " '_ngl_repr_dict',\n",
       " '_ngl_serialize',\n",
       " '_ngl_version',\n",
       " '_ngl_view_id',\n",
       " '_notify_observers',\n",
       " '_notify_trait',\n",
       " '_on_frame_changed',\n",
       " '_on_picked',\n",
       " '_on_render_image',\n",
       " '_on_theme_changed',\n",
       " '_parameters',\n",
       " '_player_dict',\n",
       " '_property_lock',\n",
       " '_register_validator',\n",
       " '_remote_call',\n",
       " '_remote_call_thread',\n",
       " '_remove_notifiers',\n",
       " '_remove_representation',\n",
       " '_remove_representations_by_name',\n",
       " '_repr_keys',\n",
       " '_repr_mimebundle_',\n",
       " '_representations',\n",
       " '_request_repr_parameters',\n",
       " '_request_stage_parameters',\n",
       " '_run_on_another_thread',\n",
       " '_scene_position',\n",
       " '_scene_rotation',\n",
       " '_send',\n",
       " '_send_binary',\n",
       " '_set_camera_orientation',\n",
       " '_set_coordinates',\n",
       " '_set_selection',\n",
       " '_set_serialization',\n",
       " '_set_size',\n",
       " '_set_spin',\n",
       " '_set_sync_camera',\n",
       " '_set_sync_repr',\n",
       " '_set_unsync_camera',\n",
       " '_set_unsync_repr',\n",
       " '_should_send_property',\n",
       " '_states_to_send',\n",
       " '_static_immutable_initial_values',\n",
       " '_sync_with_layout',\n",
       " '_synced_model_ids',\n",
       " '_synced_repr_model_ids',\n",
       " '_theme',\n",
       " '_trait_default_generators',\n",
       " '_trait_from_json',\n",
       " '_trait_notifiers',\n",
       " '_trait_to_json',\n",
       " '_trait_validators',\n",
       " '_trait_values',\n",
       " '_traits',\n",
       " '_trajlist',\n",
       " '_trim_message',\n",
       " '_unset_serialization',\n",
       " '_update_background_color',\n",
       " '_update_component_auto_completion',\n",
       " '_update_max_frame',\n",
       " '_update_repr_dict',\n",
       " '_update_representations_by_name',\n",
       " '_validate_gui_style',\n",
       " '_view_count',\n",
       " '_view_height',\n",
       " '_view_module',\n",
       " '_view_module_version',\n",
       " '_view_name',\n",
       " '_view_width',\n",
       " '_wait_until_finished',\n",
       " '_widget_construction_callback',\n",
       " '_widget_image',\n",
       " '_widget_theme',\n",
       " '_widget_types',\n",
       " 'add_axes',\n",
       " 'add_backbone',\n",
       " 'add_ball_and_stick',\n",
       " 'add_cartoon',\n",
       " 'add_class',\n",
       " 'add_component',\n",
       " 'add_contact',\n",
       " 'add_distance',\n",
       " 'add_helixorient',\n",
       " 'add_hyperball',\n",
       " 'add_label',\n",
       " 'add_licorice',\n",
       " 'add_line',\n",
       " 'add_pdbid',\n",
       " 'add_point',\n",
       " 'add_principal_axes',\n",
       " 'add_representation',\n",
       " 'add_ribbon',\n",
       " 'add_rocket',\n",
       " 'add_rope',\n",
       " 'add_simplified_base',\n",
       " 'add_slice',\n",
       " 'add_spacefill',\n",
       " 'add_structure',\n",
       " 'add_surface',\n",
       " 'add_trace',\n",
       " 'add_traits',\n",
       " 'add_trajectory',\n",
       " 'add_tube',\n",
       " 'add_unitcell',\n",
       " 'background',\n",
       " 'blur',\n",
       " 'camera',\n",
       " 'center',\n",
       " 'center_view',\n",
       " 'class_own_trait_events',\n",
       " 'class_own_traits',\n",
       " 'class_trait_names',\n",
       " 'class_traits',\n",
       " 'clear',\n",
       " 'clear_representations',\n",
       " 'close',\n",
       " 'close_all',\n",
       " 'color_by',\n",
       " 'comm',\n",
       " 'component_0',\n",
       " 'control',\n",
       " 'cross_validation_lock',\n",
       " 'display',\n",
       " 'download_image',\n",
       " 'focus',\n",
       " 'frame',\n",
       " 'get_manager_state',\n",
       " 'get_state',\n",
       " 'get_view_spec',\n",
       " 'gui_style',\n",
       " 'handle_comm_opened',\n",
       " 'handle_control_comm_opened',\n",
       " 'handle_resize',\n",
       " 'has_trait',\n",
       " 'hide',\n",
       " 'hold_sync',\n",
       " 'hold_trait_notifications',\n",
       " 'keys',\n",
       " 'layout',\n",
       " 'loaded',\n",
       " 'log',\n",
       " 'max_frame',\n",
       " 'model_id',\n",
       " 'n_components',\n",
       " 'notify_change',\n",
       " 'observe',\n",
       " 'on_loaded',\n",
       " 'on_msg',\n",
       " 'on_trait_change',\n",
       " 'on_widget_constructed',\n",
       " 'open',\n",
       " 'parameters',\n",
       " 'picked',\n",
       " 'player',\n",
       " 'remove_axes',\n",
       " 'remove_backbone',\n",
       " 'remove_ball_and_stick',\n",
       " 'remove_cartoon',\n",
       " 'remove_class',\n",
       " 'remove_component',\n",
       " 'remove_contact',\n",
       " 'remove_distance',\n",
       " 'remove_helixorient',\n",
       " 'remove_hyperball',\n",
       " 'remove_label',\n",
       " 'remove_licorice',\n",
       " 'remove_line',\n",
       " 'remove_point',\n",
       " 'remove_principal_axes',\n",
       " 'remove_ribbon',\n",
       " 'remove_rocket',\n",
       " 'remove_rope',\n",
       " 'remove_simplified_base',\n",
       " 'remove_slice',\n",
       " 'remove_spacefill',\n",
       " 'remove_surface',\n",
       " 'remove_trace',\n",
       " 'remove_tube',\n",
       " 'remove_unitcell',\n",
       " 'render_image',\n",
       " 'representations',\n",
       " 'send',\n",
       " 'send_state',\n",
       " 'set_coordinates',\n",
       " 'set_representations',\n",
       " 'set_state',\n",
       " 'set_trait',\n",
       " 'setup_instance',\n",
       " 'shape',\n",
       " 'show',\n",
       " 'show_only',\n",
       " 'stage',\n",
       " 'tabbable',\n",
       " 'tooltip',\n",
       " 'trait_defaults',\n",
       " 'trait_events',\n",
       " 'trait_has_value',\n",
       " 'trait_metadata',\n",
       " 'trait_names',\n",
       " 'trait_values',\n",
       " 'traits',\n",
       " 'unobserve',\n",
       " 'unobserve_all',\n",
       " 'update_axes',\n",
       " 'update_backbone',\n",
       " 'update_ball_and_stick',\n",
       " 'update_cartoon',\n",
       " 'update_contact',\n",
       " 'update_distance',\n",
       " 'update_helixorient',\n",
       " 'update_hyperball',\n",
       " 'update_label',\n",
       " 'update_licorice',\n",
       " 'update_line',\n",
       " 'update_point',\n",
       " 'update_principal_axes',\n",
       " 'update_representation',\n",
       " 'update_ribbon',\n",
       " 'update_rocket',\n",
       " 'update_rope',\n",
       " 'update_simplified_base',\n",
       " 'update_slice',\n",
       " 'update_spacefill',\n",
       " 'update_surface',\n",
       " 'update_trace',\n",
       " 'update_tube',\n",
       " 'update_unitcell',\n",
       " 'widget_types',\n",
       " 'widgets']"
      ]
     },
     "execution_count": 84,
     "metadata": {},
     "output_type": "execute_result"
    }
   ],
   "source": [
    "dir(nv)"
   ]
  },
  {
   "cell_type": "code",
   "execution_count": null,
   "id": "ce41a158-cabf-4222-96e1-b4a6a01046dc",
   "metadata": {},
   "outputs": [],
   "source": []
  }
 ],
 "metadata": {
  "kernelspec": {
   "display_name": "Python 3 (ipykernel)",
   "language": "python",
   "name": "python3"
  },
  "language_info": {
   "codemirror_mode": {
    "name": "ipython",
    "version": 3
   },
   "file_extension": ".py",
   "mimetype": "text/x-python",
   "name": "python",
   "nbconvert_exporter": "python",
   "pygments_lexer": "ipython3",
   "version": "3.10.14"
  }
 },
 "nbformat": 4,
 "nbformat_minor": 5
}
