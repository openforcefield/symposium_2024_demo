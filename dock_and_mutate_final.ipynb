{
 "cells": [
  {
   "cell_type": "code",
   "execution_count": 1,
   "id": "36ca0998-8f40-49f9-844d-264f59f11c1d",
   "metadata": {
    "execution": {
     "iopub.execute_input": "2024-05-15T21:21:29.187061Z",
     "iopub.status.busy": "2024-05-15T21:21:29.186791Z",
     "iopub.status.idle": "2024-05-15T21:21:35.884720Z",
     "shell.execute_reply": "2024-05-15T21:21:35.884188Z",
     "shell.execute_reply.started": "2024-05-15T21:21:29.187036Z"
    }
   },
   "outputs": [],
   "source": [
    "from openff.toolkit import Molecule, Topology, ForceField\n",
    "top = Topology.from_pdb(\"last_frame_lig.pdb\",\n",
    "                       unique_molecules=[Molecule.from_smiles(\"c12c(Cl)cccc1sc(C(=O)[O-])c(Cl)2\")])\n",
    "protein = top.molecule(0)\n",
    "ligand = top.molecule(1)"
   ]
  },
  {
   "cell_type": "code",
   "execution_count": 21,
   "id": "82bf2162-89f7-4b0a-9048-c7541500928d",
   "metadata": {
    "execution": {
     "iopub.execute_input": "2024-05-15T21:51:12.913502Z",
     "iopub.status.busy": "2024-05-15T21:51:12.904039Z",
     "iopub.status.idle": "2024-05-15T21:51:13.021554Z",
     "shell.execute_reply": "2024-05-15T21:51:13.020704Z",
     "shell.execute_reply.started": "2024-05-15T21:51:12.912953Z"
    }
   },
   "outputs": [],
   "source": [
    "import rdkit\n",
    "def mutate_ligand(ligand):\n",
    "    ligand.partial_charges = None\n",
    "    rdmol = ligand.to_rdkit()\n",
    "    reactions = [\"[*:1]-[*X1:2] >> [*:1][C:2]\",\n",
    "                 \"[#6:1]-[#1:2] >> [*:1][N:2]\",\n",
    "                 \"[#6:1]-[#1:2] >> [*:1][O:2]\"\n",
    "                     \n",
    "                ]\n",
    "    unsanitized_products = []\n",
    "    for reaction in reactions:\n",
    "        rxn = rdkit.Chem.rdChemReactions.ReactionFromSmarts(reaction)\n",
    "        unsanitized_products.extend(rxn.RunReactants([rdmol]))\n",
    "    \n",
    "    products = list()\n",
    "    for (product,) in unsanitized_products:\n",
    "        mol_copy = rdkit.Chem.Mol(product)\n",
    "        \n",
    "        rdkit.Chem.SanitizeMol(mol_copy, rdkit.Chem.SANITIZE_ALL)\n",
    "        rdkit.Chem.AssignStereochemistryFrom3D(mol_copy)\n",
    "        rdkit.Chem.Kekulize(mol_copy, clearAromaticFlags=True)\n",
    "        rdkit.Chem.SetAromaticity(mol_copy, rdkit.Chem.AromaticityModel.AROMATICITY_MDL)\n",
    "        offmol = Molecule.from_rdkit(mol_copy)\n",
    "        existing_metadata = [atom.metadata for atom in offmol.atoms if atom.metadata != {}][0]\n",
    "        for atom in offmol.atoms:\n",
    "            atom.metadata.update(existing_metadata)\n",
    "            #print(atom.metadata)\n",
    "        #print()\n",
    "        products.append(offmol)\n",
    "    return products\n",
    "\n",
    "\n",
    "def display_molecule_grid(molecules, item_width=200):\n",
    "    import ipywidgets as widgets\n",
    "    \n",
    "    items = []\n",
    "    for product in molecules:\n",
    "        item = widgets.Output()\n",
    "        item.append_display_data(product.visualize('rdkit', width=item_width))\n",
    "        items.append(item)\n",
    "        \n",
    "    return widgets.GridBox(\n",
    "        items, \n",
    "        layout=widgets.Layout(grid_template_columns=f\"repeat(3, {item_width+10}px)\")\n",
    "    )"
   ]
  },
  {
   "cell_type": "code",
   "execution_count": 5,
   "id": "83517d01-cf5e-4232-ae93-7323477c6b5f",
   "metadata": {
    "execution": {
     "iopub.execute_input": "2024-05-15T21:22:04.256015Z",
     "iopub.status.busy": "2024-05-15T21:22:04.248798Z",
     "iopub.status.idle": "2024-05-15T21:22:04.919672Z",
     "shell.execute_reply": "2024-05-15T21:22:04.919211Z",
     "shell.execute_reply.started": "2024-05-15T21:22:04.255866Z"
    }
   },
   "outputs": [
    {
     "data": {
      "application/vnd.jupyter.widget-view+json": {
       "model_id": "ff2dadc9a59d4f2ebcf567ceaa70540f",
       "version_major": 2,
       "version_minor": 0
      },
      "text/plain": [
       "GridBox(children=(Output(outputs=({'output_type': 'display_data', 'data': {'text/plain': '<IPython.core.displa…"
      ]
     },
     "execution_count": 5,
     "metadata": {},
     "output_type": "execute_result"
    }
   ],
   "source": [
    "products = mutate_ligand(ligand)\n",
    "display_molecule_grid(products)"
   ]
  },
  {
   "cell_type": "code",
   "execution_count": null,
   "id": "ebcb86e7-a294-4684-98fc-f4a998179dca",
   "metadata": {},
   "outputs": [],
   "source": []
  },
  {
   "cell_type": "code",
   "execution_count": 19,
   "id": "72714834-6142-4e4d-a683-226042c15700",
   "metadata": {
    "execution": {
     "iopub.execute_input": "2024-05-15T21:38:10.845663Z",
     "iopub.status.busy": "2024-05-15T21:38:10.842157Z",
     "iopub.status.idle": "2024-05-15T21:38:10.875345Z",
     "shell.execute_reply": "2024-05-15T21:38:10.871538Z",
     "shell.execute_reply.started": "2024-05-15T21:38:10.845561Z"
    }
   },
   "outputs": [],
   "source": [
    "import openmm\n",
    "import openmm.unit as omm_unit\n",
    "def relax_ligand(protein_interchange, ligand_offmol, ligand_ff, name=\"\"):\n",
    "    from openff.toolkit.utils.nagl_wrapper import NAGLToolkitWrapper\n",
    "    from openff.interchange import Interchange\n",
    "    ntkw = NAGLToolkitWrapper()\n",
    "    ntkw.assign_partial_charges(ligand_offmol, \"openff-gnn-am1bcc-0.1.0-rc.2.pt\")\n",
    "    ligand_interchange = sage.create_interchange(ligand_offmol.to_topology(), charge_from_molecules=[ligand_offmol])\n",
    "    complex_interchange = protein_interchange.combine(ligand_interchange)\n",
    "    omm_sys = complex_interchange.to_openmm_system()\n",
    "    omm_top = complex_interchange.to_openmm_topology()\n",
    "    \n",
    "    \n",
    "    restraint = openmm.CustomExternalForce('k*periodicdistance(x, y, z, x0, y0, z0)^2')\n",
    "    omm_sys.addForce(restraint)\n",
    "    restraint.addGlobalParameter('k', 4000.0 * omm_unit.kilojoules_per_mole / omm_unit.angstrom)\n",
    "    restraint.addPerParticleParameter('x0')\n",
    "    restraint.addPerParticleParameter('y0')\n",
    "    restraint.addPerParticleParameter('z0')\n",
    "    \n",
    "    for atom in omm_top.atoms():\n",
    "        if atom.name in ['C', 'O', 'N', 'CA', 'S1X', 'O1X', 'O2X', 'Cl1x', 'Cl2x']:\n",
    "            restraint.addParticle(atom.index, complex_interchange.positions[atom.index].to_openmm())\n",
    "        #elif ligand_offmol..atomatom.index \n",
    "    \n",
    "    # Construct and configure a Langevin integrator at 300 K with an appropriate friction constant and time-step\n",
    "    integrator = openmm.LangevinIntegrator(\n",
    "        300 * omm_unit.kelvin,\n",
    "        1 / omm_unit.picosecond,\n",
    "        0.002 * omm_unit.picoseconds,\n",
    "    )\n",
    "    \n",
    "    simulation = openmm.app.Simulation(omm_top, omm_sys, integrator)\n",
    "    simulation.context.setPositions(complex_interchange.positions.to_openmm())\n",
    "    simulation.minimizeEnergy()\n",
    "    simulation.context.setVelocitiesToTemperature(300)\n",
    "    simulation.step(1000)\n",
    "    from openff.units.openmm import from_openmm\n",
    "    state = simulation.context.getState(getPositions=True, getForces=True, getEnergy=True)\n",
    "    omm_positions = state.getPositions()\n",
    "    openmm.app.PDBFile.writeFile(simulation.topology, omm_positions, open(f'{name}.pdb', 'w'))\n",
    "    complex_interchange.positions = from_openmm(omm_positions)\n",
    "    \n",
    "    return complex_interchange, state\n",
    "    "
   ]
  },
  {
   "cell_type": "code",
   "execution_count": 7,
   "id": "69fb466a-add2-411e-a039-68d81c1b3e6c",
   "metadata": {
    "execution": {
     "iopub.execute_input": "2024-05-15T21:22:07.619100Z",
     "iopub.status.busy": "2024-05-15T21:22:07.618591Z",
     "iopub.status.idle": "2024-05-15T21:22:08.098055Z",
     "shell.execute_reply": "2024-05-15T21:22:08.097545Z",
     "shell.execute_reply.started": "2024-05-15T21:22:07.619065Z"
    }
   },
   "outputs": [],
   "source": [
    "sage = ForceField(\"openff-2.2.0.offxml\")\n"
   ]
  },
  {
   "cell_type": "code",
   "execution_count": 8,
   "id": "22cf88a9-8476-4441-98b5-6f820acbb265",
   "metadata": {
    "execution": {
     "iopub.execute_input": "2024-05-15T21:22:08.223901Z",
     "iopub.status.busy": "2024-05-15T21:22:08.223532Z",
     "iopub.status.idle": "2024-05-15T21:22:36.254687Z",
     "shell.execute_reply": "2024-05-15T21:22:36.253594Z",
     "shell.execute_reply.started": "2024-05-15T21:22:08.223873Z"
    }
   },
   "outputs": [
    {
     "data": {
      "application/vnd.jupyter.widget-view+json": {
       "model_id": "ca7b7efea7914094a658aaaa859298fc",
       "version_major": 2,
       "version_minor": 0
      },
      "text/plain": []
     },
     "metadata": {},
     "output_type": "display_data"
    }
   ],
   "source": [
    "ff14sb = ForceField(\"ff14sb_off_impropers_0.0.4.offxml\")\n",
    "protein_interchange = ff14sb.create_interchange(protein.to_topology())\n"
   ]
  },
  {
   "cell_type": "code",
   "execution_count": 9,
   "id": "b567c804-34dd-4c59-8b15-33af3c3cbf89",
   "metadata": {
    "execution": {
     "iopub.execute_input": "2024-05-15T21:22:36.259056Z",
     "iopub.status.busy": "2024-05-15T21:22:36.258923Z",
     "iopub.status.idle": "2024-05-15T21:22:36.263662Z",
     "shell.execute_reply": "2024-05-15T21:22:36.263207Z",
     "shell.execute_reply.started": "2024-05-15T21:22:36.259040Z"
    }
   },
   "outputs": [
    {
     "name": "stdout",
     "output_type": "stream",
     "text": [
      "env: INTERCHANGE_EXPERIMENTAL=1\n"
     ]
    }
   ],
   "source": [
    "env INTERCHANGE_EXPERIMENTAL=1"
   ]
  },
  {
   "cell_type": "code",
   "execution_count": 10,
   "id": "a2c04cf1-6f75-43b8-9825-484b147c18d7",
   "metadata": {
    "execution": {
     "iopub.execute_input": "2024-05-15T21:22:36.265510Z",
     "iopub.status.busy": "2024-05-15T21:22:36.265200Z",
     "iopub.status.idle": "2024-05-15T21:22:36.268707Z",
     "shell.execute_reply": "2024-05-15T21:22:36.268294Z",
     "shell.execute_reply.started": "2024-05-15T21:22:36.265495Z"
    }
   },
   "outputs": [],
   "source": [
    "import numpy as np\n",
    "from openff.units import unit\n",
    "def naive_objective(ligand):\n",
    "    # CD of LEU76\n",
    "    target_coord = (4.278,   1.307,   9.049)\n",
    "    ligand_com = np.mean(ligand.conformers[0], axis=0).m_as(unit.angstrom)\n",
    "    return np.linalg.norm(target_coord - ligand_com)\n"
   ]
  },
  {
   "cell_type": "code",
   "execution_count": 23,
   "id": "464bc616-d8ab-4d22-92ac-e4834e77c1ed",
   "metadata": {
    "execution": {
     "iopub.execute_input": "2024-05-15T21:58:10.832569Z",
     "iopub.status.busy": "2024-05-15T21:58:10.827231Z",
     "iopub.status.idle": "2024-05-15T21:58:11.323408Z",
     "shell.execute_reply": "2024-05-15T21:58:11.322964Z",
     "shell.execute_reply.started": "2024-05-15T21:58:10.832485Z"
    }
   },
   "outputs": [],
   "source": [
    "from openff.toolkit import Molecule, ForceField, Topology\n",
    "from openff.toolkit.utils.nagl_wrapper import NAGLToolkitWrapper\n",
    "from openff.units import Quantity, unit, ensure_quantity\n",
    "from openmm.app import Simulation\n",
    "from openff.interchange import Interchange\n",
    "from openff.interchange.drivers.openmm import get_openmm_energies\n",
    "\n",
    "softened_ff = ForceField(\"openff-2.2.0.offxml\")\n",
    "for parameter in softened_ff.get_parameter_handler('vdW'):\n",
    "    parameter.rmin_half *= 0.5\n",
    "\n",
    "def single_point_energy(simulation: Simulation, positions: Quantity, box_vectors: Quantity | None) -> Quantity:\n",
    "    \"\"\"Calculate a single point energy with OpenMM\"\"\"\n",
    "    simulation.context.setPositions(ensure_quantity(positions, 'openmm'))\n",
    "    if box_vectors is not None:\n",
    "        simulation.context.setPeriodicBoxVectors(*ensure_quantity(box_vectors, 'openmm'))\n",
    "    state = simulation.context.getState(getEnergy=True)\n",
    "    return ensure_quantity(state.getPotentialEnergy(), 'openff')\n",
    "\n",
    "def create_integrator() -> openmm.Integrator:\n",
    "    return openmm.LangevinMiddleIntegrator(\n",
    "        300 * omm_unit.kelvin,\n",
    "        1 / omm_unit.picosecond,\n",
    "        0.002 * omm_unit.picoseconds,\n",
    "    )\n",
    "\n",
    "def interaction_objective(\n",
    "    ligand: Molecule,\n",
    "    previous_complex: Topology,\n",
    "    protein_energy: Quantity,\n",
    "    protein_interchange: Interchange,\n",
    "    force_field: ForceField = softened_ff,\n",
    ") -> Quantity:\n",
    "    \"\"\"\n",
    "    Interaction energy between ligand and all but the last molecule in previous_complex.\n",
    "\n",
    "    \"\"\"\n",
    "    ntkw = NAGLToolkitWrapper()\n",
    "    ntkw.assign_partial_charges(ligand, \"openff-gnn-am1bcc-0.1.0-rc.2.pt\")\n",
    "\n",
    "    ligand_interchange = force_field.create_interchange(ligand.to_topology(), charge_from_molecules=[ligand])\n",
    "    ligand_energy = get_openmm_energies(ligand_interchange).total_energy\n",
    "\n",
    "    complex_interchange = protein_interchange.combine(ligand_interchange)\n",
    "    complex_energy = get_openmm_energies(complex_interchange).total_energy\n",
    "    \n",
    "    interaction_energy = complex_energy - protein_energy - ligand_energy\n",
    "    return interaction_energy"
   ]
  },
  {
   "cell_type": "code",
   "execution_count": 12,
   "id": "fead8fa5-8d97-4898-92c8-10b543a38a89",
   "metadata": {
    "execution": {
     "iopub.execute_input": "2024-05-15T21:22:38.368801Z",
     "iopub.status.busy": "2024-05-15T21:22:38.365581Z",
     "iopub.status.idle": "2024-05-15T21:22:40.994996Z",
     "shell.execute_reply": "2024-05-15T21:22:40.990829Z",
     "shell.execute_reply.started": "2024-05-15T21:22:38.368705Z"
    }
   },
   "outputs": [],
   "source": [
    "protein_simulation = protein_interchange.to_openmm_simulation(create_integrator())"
   ]
  },
  {
   "cell_type": "code",
   "execution_count": 24,
   "id": "3f5cd728-4f4f-46f0-a158-0788509887a3",
   "metadata": {
    "execution": {
     "iopub.execute_input": "2024-05-15T21:58:24.253680Z",
     "iopub.status.busy": "2024-05-15T21:58:24.249029Z",
     "iopub.status.idle": "2024-05-15T22:05:21.697227Z",
     "shell.execute_reply": "2024-05-15T22:05:21.690234Z",
     "shell.execute_reply.started": "2024-05-15T21:58:24.253608Z"
    }
   },
   "outputs": [
    {
     "name": "stdout",
     "output_type": "stream",
     "text": [
      "round 0\n",
      "Relaxing candidate\n",
      "Computing protein point energy\n",
      "generating mutations\n",
      "pruning mutations by naive objective\n",
      "computing mutations\n",
      "computing Molecule with name '' and SMILES '[H][c]1[c]([H])[c]([C]([H])([H])[H])[c]([Cl])[c]2[c]1[S][C]([C](=[O])[O-])=[C]2[Cl]'\n",
      "finished with energy -426.91946343479606 kilojoule / mole\n",
      "computing Molecule with name '' and SMILES '[H][c]1[c]([H])[c]2[c]([c]([C]([H])([H])[H])[c]1[H])[C]([Cl])=[C]([C](=[O])[O-])[S]2'\n",
      "finished with energy -427.11972828915543 kilojoule / mole\n",
      "computing Molecule with name '' and SMILES '[H][c]1[c]([H])[c]([N]([H])[H])[c]([Cl])[c]2[c]1[S][C]([C](=[O])[O-])=[C]2[Cl]'\n",
      "finished with energy -433.62663389310205 kilojoule / mole\n",
      "round 1\n",
      "Relaxing candidate\n",
      "Computing protein point energy\n",
      "generating mutations\n",
      "pruning mutations by naive objective\n",
      "computing mutations\n",
      "computing Molecule with name '' and SMILES '[H][c]1[c]([H])[c]([N]([H])[C]([H])([H])[H])[c]([Cl])[c]2[c]1[S][C]([C](=[O])[O-])=[C]2[Cl]'\n",
      "finished with energy -433.1441902190478 kilojoule / mole\n",
      "computing Molecule with name '' and SMILES '[H][c]1[c]([H])[c]([N]([H])[C]([H])([H])[H])[c]([Cl])[c]2[c]1[S][C]([C](=[O])[O-])=[C]2[Cl]'\n",
      "finished with energy -437.0417496448269 kilojoule / mole\n",
      "computing Molecule with name '' and SMILES '[H][c]1[c]([H])[c]([N]([H])[H])[c]([C]([H])([H])[H])[c]2[c]1[S][C]([C](=[O])[O-])=[C]2[Cl]'\n",
      "finished with energy -437.95427738694525 kilojoule / mole\n",
      "round 2\n",
      "Relaxing candidate\n",
      "Computing protein point energy\n",
      "generating mutations\n",
      "pruning mutations by naive objective\n",
      "computing mutations\n",
      "computing Molecule with name '' and SMILES '[H][c]1[c]([H])[c]([N]([H])[H])[c]([C]([H])([H])[C]([H])([H])[H])[c]2[c]1[S][C]([C](=[O])[O-])=[C]2[Cl]'\n",
      "finished with energy -439.26883764058863 kilojoule / mole\n",
      "computing Molecule with name '' and SMILES '[H][c]1[c]([H])[c]([N]([H])[C]([H])([H])[H])[c]([C]([H])([H])[H])[c]2[c]1[S][C]([C](=[O])[O-])=[C]2[Cl]'\n",
      "finished with energy -436.3543679878903 kilojoule / mole\n",
      "computing Molecule with name '' and SMILES '[H][c]1[c]([H])[c]([N]([H])[C]([H])([H])[H])[c]([C]([H])([H])[H])[c]2[c]1[S][C]([C](=[O])[O-])=[C]2[Cl]'\n",
      "finished with energy -440.2237412211397 kilojoule / mole\n",
      "round 3\n",
      "Relaxing candidate\n",
      "Computing protein point energy\n",
      "generating mutations\n",
      "pruning mutations by naive objective\n",
      "computing mutations\n",
      "computing Molecule with name '' and SMILES '[H][c]1[c]([H])[c]([N]([H])[C]([H])([H])[H])[c]([C]([H])([H])[C]([H])([H])[H])[c]2[c]1[S][C]([C](=[O])[O-])=[C]2[Cl]'\n",
      "finished with energy -441.39910976277986 kilojoule / mole\n",
      "computing Molecule with name '' and SMILES '[H][c]1[c]([H])[c]([N]([H])[C]([H])([H])[C]([H])([H])[H])[c]([C]([H])([H])[H])[c]2[c]1[S][C]([C](=[O])[O-])=[C]2[Cl]'\n",
      "finished with energy -417.5505897286969 kilojoule / mole\n",
      "computing Molecule with name '' and SMILES '[H][c]1[c]([H])[c]([N]([H])[C]([H])([H])[C]([H])([H])[H])[c]([C]([H])([H])[H])[c]2[c]1[S][C]([C](=[O])[O-])=[C]2[Cl]'\n",
      "finished with energy 380.6007023519362 kilojoule / mole\n",
      "round 4\n",
      "Relaxing candidate\n",
      "Computing protein point energy\n",
      "generating mutations\n",
      "pruning mutations by naive objective\n",
      "computing mutations\n",
      "computing Molecule with name '' and SMILES '[H][c]1[c]([H])[c]([N]([H])[C]([H])([H])[H])[c]([C]([H])([H])[C]([H])([H])[C]([H])([H])[H])[c]2[c]1[S][C]([C](=[O])[O-])=[C]2[Cl]'\n",
      "finished with energy -401.9540664763956 kilojoule / mole\n",
      "computing Molecule with name '' and SMILES '[H][c]1[c]([H])[c]([N]([H])[C]([H])([H])[C]([H])([H])[H])[c]([C]([H])([H])[C]([H])([H])[H])[c]2[c]1[S][C]([C](=[O])[O-])=[C]2[Cl]'\n",
      "finished with energy 379.4468696982707 kilojoule / mole\n",
      "computing Molecule with name '' and SMILES '[H][c]1[c]([H])[c]([N]([H])[C]([H])([H])[C]([H])([H])[H])[c]([C]([H])([H])[C]([H])([H])[H])[c]2[c]1[S][C]([C](=[O])[O-])=[C]2[Cl]'\n",
      "finished with energy -418.9417484584933 kilojoule / mole\n",
      "round 5\n",
      "Relaxing candidate\n",
      "Computing protein point energy\n",
      "generating mutations\n",
      "pruning mutations by naive objective\n",
      "computing mutations\n",
      "computing Molecule with name '' and SMILES '[H][c]1[c]([H])[c]([N]([H])[C]([H])([H])[C]([H])([H])[C]([H])([H])[H])[c]([C]([H])([H])[C]([H])([H])[H])[c]2[c]1[S][C]([C](=[O])[O-])=[C]2[Cl]'\n",
      "finished with energy 1276.0075872417522 kilojoule / mole\n",
      "computing Molecule with name '' and SMILES '[H][c]1[c]([H])[c]([N]([H])[C]([H])([H])[C]([H])([H])[H])[c]([C]([H])([H])[C]([H])([H])[C]([H])([H])[H])[c]2[c]1[S][C]([C](=[O])[O-])=[C]2[Cl]'\n",
      "finished with energy -379.5029879371041 kilojoule / mole\n",
      "computing Molecule with name '' and SMILES '[H][c]1[c]([H])[c]([N]([H])[C]([H])([H])[C]([H])([H])[C]([H])([H])[H])[c]([C]([H])([H])[C]([H])([H])[H])[c]2[c]1[S][C]([C](=[O])[O-])=[C]2[Cl]'\n",
      "finished with energy 2764.767002307519 kilojoule / mole\n",
      "round 6\n",
      "Relaxing candidate\n",
      "Computing protein point energy\n",
      "generating mutations\n",
      "pruning mutations by naive objective\n",
      "computing mutations\n",
      "computing Molecule with name '' and SMILES '[H][c]1[c]([H])[c]([N]([H])[C]([H])([H])[C]([H])([H])[H])[c]([C]([H])([H])[C]([H])([H])[C]([H])([H])[C]([H])([H])[H])[c]2[c]1[S][C]([C](=[O])[O-])=[C]2[Cl]'\n",
      "finished with energy 53460.48568547427 kilojoule / mole\n",
      "computing Molecule with name '' and SMILES '[H][c]1[c]([H])[c]([N]([H])[C]([H])([H])[C]([H])([H])[C]([H])([H])[H])[c]([C]([H])([H])[C]([H])([H])[C]([H])([H])[H])[c]2[c]1[S][C]([C](=[O])[O-])=[C]2[Cl]'\n",
      "finished with energy 1315.3651161957337 kilojoule / mole\n",
      "computing Molecule with name '' and SMILES '[H][c]1[c]([H])[c]([N]([H])[C]([H])([H])[C]([H])([H])[H])[c]([C]([H])([H])[C]([H])([H])[C]([H])([H])[C]([H])([H])[H])[c]2[c]1[S][C]([C](=[O])[O-])=[C]2[Cl]'\n",
      "finished with energy 82200.80947788905 kilojoule / mole\n",
      "round 7\n",
      "Relaxing candidate\n",
      "Computing protein point energy\n",
      "generating mutations\n",
      "pruning mutations by naive objective\n",
      "computing mutations\n",
      "computing Molecule with name '' and SMILES '[H][c]1[c]([H])[c]([N]([H])[C]([H])([H])[C]([H])([H])[C]([H])([H])[C]([H])([H])[H])[c]([C]([H])([H])[C]([H])([H])[C]([H])([H])[H])[c]2[c]1[S][C]([C](=[O])[O-])=[C]2[Cl]'\n",
      "finished with energy 390608.06135516136 kilojoule / mole\n",
      "computing Molecule with name '' and SMILES '[H][c]1[c]([H])[c]([N]([H])[C]([H])([H])[C]([H])([H])[C]([H])([H])[H])[c]([C]([H])([H])[C]([H])([H])[C]([H])([H])[C]([H])([H])[H])[c]2[c]1[S][C]([C](=[O])[O-])=[C]2[Cl]'\n",
      "finished with energy 55155.18794906791 kilojoule / mole\n",
      "computing Molecule with name '' and SMILES '[H][c]1[c]([H])[c]([N]([H])[C]([H])([H])[C]([H])([H])[C]([H])([H])[H])[c]([C]([H])([H])[C]([H])([H])[C]([H])([H])[C]([H])([H])[H])[c]2[c]1[S][C]([C](=[O])[O-])=[C]2[Cl]'\n",
      "finished with energy 83895.49722788564 kilojoule / mole\n",
      "round 8\n",
      "Relaxing candidate\n",
      "Computing protein point energy\n",
      "generating mutations\n",
      "pruning mutations by naive objective\n",
      "computing mutations\n",
      "computing Molecule with name '' and SMILES '[H][c]1[c]([H])[c]([N]([H])[C]([H])([H])[C]([H])([H])[C]([H])([H])[H])[c]([C]([H])([H])[C]([H])([H])[C]([H])([H])[C]([H])([H])[C]([H])([H])[H])[c]2[c]1[S][C]([C](=[O])[O-])=[C]2[Cl]'\n",
      "finished with energy 57300.99400536322 kilojoule / mole\n",
      "computing Molecule with name '' and SMILES '[H][c]1[c]([H])[c]([N]([H])[C]([H])([H])[C]([H])([H])[C]([H])([H])[C]([H])([H])[H])[c]([C]([H])([H])[C]([H])([H])[C]([H])([H])[C]([H])([H])[H])[c]2[c]1[S][C]([C](=[O])[O-])=[C]2[Cl]'\n",
      "finished with energy 444447.56791506463 kilojoule / mole\n",
      "computing Molecule with name '' and SMILES '[H][c]1[c]([H])[c]([N]([H])[C]([H])([H])[C]([H])([H])[C]([H])([H])[H])[c]([C]([H])([H])[C]([H])([H])[C]([H])([H])[C]([H])([H])[C]([H])([H])[H])[c]2[c]1[S][C]([C](=[O])[O-])=[C]2[Cl]'\n",
      "finished with energy 1267934.2459567233 kilojoule / mole\n",
      "round 9\n",
      "Relaxing candidate\n",
      "Computing protein point energy\n",
      "generating mutations\n",
      "pruning mutations by naive objective\n",
      "computing mutations\n",
      "computing Molecule with name '' and SMILES '[H][c]1[c]([H])[c]([N]([H])[C]([H])([H])[C]([H])([H])[C]([H])([H])[H])[c]([C]([H])([H])[C]([H])([H])[C]([H])([H])[C]([H])([H])[C]([H])([H])[C]([H])([H])[H])[c]2[c]1[S][C]([C](=[O])[O-])=[C]2[Cl]'\n",
      "finished with energy 58114.14707087878 kilojoule / mole\n",
      "computing Molecule with name '' and SMILES '[H][c]1[c]([H])[c]([N]([H])[C]([H])([H])[C]([H])([H])[C]([H])([H])[H])[c]([C]([H])([H])[C]([H])([H])[C]([H])([H])[C]([H])([H])[C]([H])([H])[C]([H])([H])[H])[c]2[c]1[S][C]([C](=[O])[O-])=[C]2[Cl]'\n",
      "finished with energy 71460.77788745018 kilojoule / mole\n",
      "computing Molecule with name '' and SMILES '[H][c]1[c]([H])[c]([N]([H])[C]([H])([H])[C]([H])([H])[C]([H])([H])[H])[c]([C]([H])([H])[C]([H])([H])[C]([H])([H])[C]([H])([H])[C]([H])([H])[C]([H])([H])[H])[c]2[c]1[S][C]([C](=[O])[O-])=[C]2[Cl]'\n",
      "finished with energy 57562.29771173197 kilojoule / mole\n",
      "round 10\n",
      "Relaxing candidate\n",
      "Computing protein point energy\n",
      "generating mutations\n",
      "pruning mutations by naive objective\n",
      "computing mutations\n",
      "computing Molecule with name '' and SMILES '[H][c]1[c]([H])[c]([N]([H])[C]([H])([H])[C]([H])([H])[C]([H])([H])[H])[c]([C]([H])([H])[C]([H])([H])[C]([H])([H])[C]([H])([H])[C]([H])([C]([H])([H])[H])[C]([H])([H])[H])[c]2[c]1[S][C]([C](=[O])[O-])=[C]2[Cl]'\n",
      "finished with energy 58375.26688480923 kilojoule / mole\n",
      "computing Molecule with name '' and SMILES '[H][c]1[c]([H])[c]([N]([H])[C]([H])([H])[C]([H])([H])[C]([H])([H])[H])[c]([C]([H])([H])[C]([H])([H])[C]([H])([H])[C]([H])([H])[C]([H])([H])[C]([H])([H])[C]([H])([H])[H])[c]2[c]1[S][C]([C](=[O])[O-])=[C]2[Cl]'\n",
      "finished with energy 57914.63980918095 kilojoule / mole\n",
      "computing Molecule with name '' and SMILES '[H][c]1[c]([H])[c]([N]([H])[C]([H])([H])[C]([H])([H])[C]([H])([H])[H])[c]([C]([H])([H])[C]([H])([H])[C]([H])([H])[C]([H])([H])[C]([H])([C]([H])([H])[H])[C]([H])([H])[H])[c]2[c]1[S][C]([C](=[O])[O-])=[C]2[Cl]'\n",
      "finished with energy 71721.67953894519 kilojoule / mole\n",
      "round 11\n",
      "Relaxing candidate\n",
      "Computing protein point energy\n",
      "generating mutations\n",
      "pruning mutations by naive objective\n",
      "computing mutations\n",
      "computing Molecule with name '' and SMILES '[H][c]1[c]([H])[c]([N]([H])[C]([H])([H])[C]([H])([H])[C]([H])([H])[H])[c]([C]([H])([H])[C]([H])([H])[C]([H])([H])[C]([H])([H])[C]([H])([H])[C]([H])([H])[C]([H])([H])[C]([H])([H])[H])[c]2[c]1[S][C]([C](=[O])[O-])=[C]2[Cl]'\n",
      "finished with energy 123264779742.73239 kilojoule / mole\n",
      "computing Molecule with name '' and SMILES '[H][c]1[c]([H])[c]([N]([H])[C]([H])([H])[C]([H])([H])[C]([H])([H])[H])[c]([C]([H])([H])[C]([H])([H])[C]([H])([H])[C]([H])([H])[C]([H])([H])[C]([H])([H])[C]([H])([H])[C]([H])([H])[H])[c]2[c]1[S][C]([C](=[O])[O-])=[C]2[Cl]'\n",
      "finished with energy 60521.71303041551 kilojoule / mole\n",
      "computing Molecule with name '' and SMILES '[H][c]1[c]([H])[c]([N]([H])[C]([H])([H])[C]([H])([H])[C]([H])([H])[H])[c]([C]([H])([H])[C]([H])([H])[C]([H])([H])[C]([H])([H])[C@@]([H])([C]([H])([H])[H])[C]([H])([H])[C]([H])([H])[H])[c]2[c]1[S][C]([C](=[O])[O-])=[C]2[Cl]'\n",
      "finished with energy 58727.67248947732 kilojoule / mole\n",
      "round 12\n",
      "Relaxing candidate\n",
      "Computing protein point energy\n",
      "generating mutations\n",
      "pruning mutations by naive objective\n",
      "computing mutations\n",
      "computing Molecule with name '' and SMILES '[H][c]1[c]([H])[c]([N]([H])[C]([H])([H])[C]([H])([H])[C]([H])([H])[H])[c]([C]([H])([H])[C]([H])([H])[C]([H])([H])[C]([H])([H])[C]([H])([C]([H])([H])[C]([H])([H])[H])[C]([H])([H])[C]([H])([H])[H])[c]2[c]1[S][C]([C](=[O])[O-])=[C]2[Cl]'\n",
      "finished with energy 59313.90976803377 kilojoule / mole\n",
      "computing Molecule with name '' and SMILES '[H][c]1[c]([H])[c]([N]([H])[C]([H])([H])[C]([H])([H])[C]([H])([H])[H])[c]([C]([H])([H])[C]([H])([H])[C]([H])([H])[C]([H])([H])[C]([H])([C]([H])([H])[C]([H])([H])[H])[C]([H])([H])[C]([H])([H])[H])[c]2[c]1[S][C]([C](=[O])[O-])=[C]2[Cl]'\n",
      "finished with energy 91135.14056481421 kilojoule / mole\n",
      "computing Molecule with name '' and SMILES '[H][c]1[c]([H])[c]([N]([H])[C]([H])([H])[C]([H])([H])[C]([H])([H])[H])[c]([C]([H])([H])[C]([H])([H])[C]([H])([H])[C]([H])([H])[C@@]([H])([C]([H])([H])[H])[C]([H])([H])[C]([H])([H])[C]([H])([H])[H])[c]2[c]1[S][C]([C](=[O])[O-])=[C]2[Cl]'\n",
      "finished with energy 123264780555.58722 kilojoule / mole\n",
      "round 13\n",
      "Relaxing candidate\n",
      "Computing protein point energy\n",
      "generating mutations\n",
      "pruning mutations by naive objective\n",
      "computing mutations\n",
      "computing Molecule with name '' and SMILES '[H][c]1[c]([H])[c]([N]([H])[C]([H])([H])[C]([H])([H])[C]([H])([H])[H])[c]([C]([H])([H])[C]([H])([H])[C]([H])([H])[C]([H])([H])[C@]([H])([C]([H])([H])[C]([H])([H])[H])[C]([H])([H])[C]([H])([H])[C]([H])([H])[H])[c]2[c]1[S][C]([C](=[O])[O-])=[C]2[Cl]'\n",
      "finished with energy 262236.6878300719 kilojoule / mole\n",
      "computing Molecule with name '' and SMILES '[H][c]1[c]([H])[c]([N]([H])[C]([H])([H])[C]([H])([H])[C]([H])([H])[H])[c]([C]([H])([H])[C]([H])([H])[C]([H])([H])[C]([H])([H])[C@]([H])([C]([H])([H])[C]([H])([H])[H])[C]([H])([H])[C]([H])([H])[C]([H])([H])[H])[c]2[c]1[S][C]([C](=[O])[O-])=[C]2[Cl]'\n",
      "finished with energy 59426.71905785799 kilojoule / mole\n",
      "computing Molecule with name '' and SMILES '[H][c]1[c]([H])[c]([N]([H])[C]([H])([H])[C]([H])([H])[C]([H])([H])[H])[c]([C]([H])([H])[C]([H])([H])[C]([H])([H])[C]([H])([H])[C@]([H])([C]([H])([H])[C]([H])([H])[H])[C]([H])([C]([H])([H])[H])[C]([H])([H])[H])[c]2[c]1[S][C]([C](=[O])[O-])=[C]2[Cl]'\n",
      "finished with energy 91721.19021169841 kilojoule / mole\n",
      "round 14\n",
      "Relaxing candidate\n",
      "Computing protein point energy\n",
      "generating mutations\n",
      "pruning mutations by naive objective\n",
      "computing mutations\n",
      "computing Molecule with name '' and SMILES '[H][c]1[c]([H])[c]([N]([H])[C]([H])([H])[C]([H])([H])[C]([H])([H])[H])[c]([C]([H])([H])[C]([H])([H])[C]([H])([H])[C]([H])([H])[C@]([H])([C]([H])([H])[C]([H])([H])[H])[C]([H])([H])[C]([H])([H])[C]([H])([H])[C]([H])([H])[H])[c]2[c]1[S][C]([C](=[O])[O-])=[C]2[Cl]'\n",
      "finished with energy 93264.55562857911 kilojoule / mole\n",
      "computing Molecule with name '' and SMILES '[H][c]1[c]([H])[c]([N]([H])[C]([H])([H])[C]([H])([H])[C]([H])([H])[H])[c]([C]([H])([H])[C]([H])([H])[C]([H])([H])[C]([H])([H])[C@]([H])([C]([H])([H])[C]([H])([H])[H])[C]([H])([H])[C]([H])([C]([H])([H])[H])[C]([H])([H])[H])[c]2[c]1[S][C]([C](=[O])[O-])=[C]2[Cl]'\n",
      "finished with energy 262349.48588259146 kilojoule / mole\n",
      "computing Molecule with name '' and SMILES '[H][c]1[c]([H])[c]([N]([H])[C]([H])([H])[C]([H])([H])[C]([H])([H])[H])[c]([C]([H])([H])[C]([H])([H])[C]([H])([H])[C]([H])([H])[C@]([H])([C]([H])([H])[C]([H])([H])[H])[C]([H])([H])[C]([H])([H])[C]([H])([H])[C]([H])([H])[H])[c]2[c]1[S][C]([C](=[O])[O-])=[C]2[Cl]'\n",
      "finished with energy 62448.18215181306 kilojoule / mole\n"
     ]
    }
   ],
   "source": [
    "# %%snakeviz\n",
    "\n",
    "import mdtraj\n",
    "import numpy \n",
    "\n",
    "candidates = [(top.molecule(1), 999)]\n",
    "protein_trajectory = mdtraj.Trajectory(protein_interchange.positions.m, mdtraj.Topology.from_openmm(protein_interchange.topology.to_openmm()))\n",
    "\n",
    "for idx in range(15):\n",
    "    print(f\"round {idx}\")\n",
    "    candidate, energy = candidates.pop(0)\n",
    "    \n",
    "    print(f\"Relaxing candidate\")\n",
    "    complex_interchange, state = relax_ligand(protein_interchange, candidate, sage, name=str(idx))\n",
    "    relaxed_protein_positions = complex_interchange.topology.molecule(0).conformers[0]\n",
    "    protein_interchange.positions = relaxed_protein_positions\n",
    "    protein_trajectory.xyz = [*protein_trajectory.xyz, relaxed_protein_positions.m_as(unit.nanometer)]\n",
    "    result_ligand = complex_interchange.topology.molecule(1)\n",
    "\n",
    "    print(f\"Computing protein point energy\")\n",
    "    protein_energy = single_point_energy(protein_simulation, relaxed_protein_positions, complex_interchange.box)\n",
    "\n",
    "    print(f\"generating mutations\")\n",
    "    mutations = mutate_ligand(result_ligand)\n",
    "    print(f\"pruning mutations by naive objective\")\n",
    "\n",
    "    mutations = sorted(mutations, key=lambda x:naive_objective(x))[:3]\n",
    "    print(f\"computing mutations\")\n",
    "    candidates = []\n",
    "    for mutation in mutations:\n",
    "        print(f\"computing {mutation}\")\n",
    "\n",
    "        candidates.append((\n",
    "            mutation, \n",
    "            interaction_objective(\n",
    "                mutation, \n",
    "                complex_interchange.topology, \n",
    "                protein_energy,\n",
    "                protein_interchange\n",
    "            )\n",
    "        ))\n",
    "        print(f\"finished with energy {candidates[-1][1]}\")\n",
    "    \n",
    "    candidates.sort(key=lambda x: x[1])"
   ]
  },
  {
   "cell_type": "code",
   "execution_count": null,
   "id": "36218a3d-12f3-41aa-ba24-5b0dcf622bb3",
   "metadata": {},
   "outputs": [],
   "source": []
  }
 ],
 "metadata": {
  "kernelspec": {
   "display_name": "Python 3 (ipykernel)",
   "language": "python",
   "name": "python3"
  },
  "language_info": {
   "codemirror_mode": {
    "name": "ipython",
    "version": 3
   },
   "file_extension": ".py",
   "mimetype": "text/x-python",
   "name": "python",
   "nbconvert_exporter": "python",
   "pygments_lexer": "ipython3",
   "version": "3.10.14"
  }
 },
 "nbformat": 4,
 "nbformat_minor": 5
}
