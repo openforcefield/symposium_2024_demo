{
 "cells": [
  {
   "cell_type": "code",
   "execution_count": 1,
   "id": "36ca0998-8f40-49f9-844d-264f59f11c1d",
   "metadata": {
    "execution": {
     "iopub.execute_input": "2024-05-15T21:21:29.187061Z",
     "iopub.status.busy": "2024-05-15T21:21:29.186791Z",
     "iopub.status.idle": "2024-05-15T21:21:35.884720Z",
     "shell.execute_reply": "2024-05-15T21:21:35.884188Z",
     "shell.execute_reply.started": "2024-05-15T21:21:29.187036Z"
    }
   },
   "outputs": [],
   "source": [
    "from openff.toolkit import Molecule, Topology, ForceField\n",
    "#protein = Topology.from_pdb(\"selected_prediction_aligned.pdb\").molecule(0)\n",
    "#ligand = Molecule.from_file(\"posed_ligand.sdf\")\n",
    "#Topology.from_molecules([protein, ligand]).to_file(\"complex_topology.pdb\")\n",
    "#ligand = Molecule.from_smiles('[H][c]1[c]([H])[c]([Cl])[c]2[c]([c]1[H])[S][C]([C](=[O])[O-])=[C]2[Cl]')\n",
    "#complex_topology = Topology.from_pdb(\"complex_topology.pdb\", unique_molecules=[ligand])\n",
    "#protein, ligand = complex_topology.molecules\n",
    "lig = Molecule.from_smiles(\"c12c(Cl)cccc1sc(C(=O)[O-])c(Cl)2\")\n",
    "top = Topology.from_pdb(\"last_frame_lig.pdb\",\n",
    "                       unique_molecules=[lig])\n",
    "#top = Topology.from_molecules([*top.molecules][:2])\n",
    "protein = top.molecule(0)\n",
    "ligand = top.molecule(1)"
   ]
  },
  {
   "cell_type": "code",
   "execution_count": 3,
   "id": "f1dfb62e-d2e9-4259-bab5-6949ba292f3f",
   "metadata": {
    "execution": {
     "iopub.execute_input": "2024-05-15T21:22:01.802385Z",
     "iopub.status.busy": "2024-05-15T21:22:01.799411Z",
     "iopub.status.idle": "2024-05-15T21:22:01.829607Z",
     "shell.execute_reply": "2024-05-15T21:22:01.828316Z",
     "shell.execute_reply.started": "2024-05-15T21:22:01.802287Z"
    }
   },
   "outputs": [],
   "source": [
    "#complex_topology.visualize()"
   ]
  },
  {
   "cell_type": "code",
   "execution_count": 21,
   "id": "82bf2162-89f7-4b0a-9048-c7541500928d",
   "metadata": {
    "execution": {
     "iopub.execute_input": "2024-05-15T21:51:12.913502Z",
     "iopub.status.busy": "2024-05-15T21:51:12.904039Z",
     "iopub.status.idle": "2024-05-15T21:51:13.021554Z",
     "shell.execute_reply": "2024-05-15T21:51:13.020704Z",
     "shell.execute_reply.started": "2024-05-15T21:51:12.912953Z"
    }
   },
   "outputs": [],
   "source": [
    "import rdkit\n",
    "def mutate_ligand(ligand):\n",
    "    ligand.partial_charges = None\n",
    "    rdmol = ligand.to_rdkit()\n",
    "    reactions = [\"[*:1]-[*X1:2] >> [*:1][C:2]\",\n",
    "                 \"[#6:1]-[#1:2] >> [*:1][N:2]\",\n",
    "                 \"[#6:1]-[#1:2] >> [*:1][O:2]\"\n",
    "                     \n",
    "                ]\n",
    "    unsanitized_products = []\n",
    "    for reaction in reactions:\n",
    "        rxn = rdkit.Chem.rdChemReactions.ReactionFromSmarts(reaction)\n",
    "        unsanitized_products.extend(rxn.RunReactants([rdmol]))\n",
    "    \n",
    "    products = list()\n",
    "    for (product,) in unsanitized_products:\n",
    "        mol_copy = rdkit.Chem.Mol(product)\n",
    "        \n",
    "        rdkit.Chem.SanitizeMol(mol_copy, rdkit.Chem.SANITIZE_ALL)\n",
    "        rdkit.Chem.AssignStereochemistryFrom3D(mol_copy)\n",
    "        rdkit.Chem.Kekulize(mol_copy, clearAromaticFlags=True)\n",
    "        rdkit.Chem.SetAromaticity(mol_copy, rdkit.Chem.AromaticityModel.AROMATICITY_MDL)\n",
    "        offmol = Molecule.from_rdkit(mol_copy)\n",
    "        existing_metadata = [atom.metadata for atom in offmol.atoms if atom.metadata != {}][0]\n",
    "        for atom in offmol.atoms:\n",
    "            atom.metadata.update(existing_metadata)\n",
    "            #print(atom.metadata)\n",
    "        #print()\n",
    "        products.append(offmol)\n",
    "    return products\n",
    "\n",
    "\n",
    "def display_molecule_grid(molecules, item_width=200):\n",
    "    import ipywidgets as widgets\n",
    "    \n",
    "    items = []\n",
    "    for product in molecules:\n",
    "        item = widgets.Output()\n",
    "        item.append_display_data(product.visualize('rdkit', width=item_width))\n",
    "        items.append(item)\n",
    "        \n",
    "    return widgets.GridBox(\n",
    "        items, \n",
    "        layout=widgets.Layout(grid_template_columns=f\"repeat(3, {item_width+10}px)\")\n",
    "    )"
   ]
  },
  {
   "cell_type": "code",
   "execution_count": 5,
   "id": "83517d01-cf5e-4232-ae93-7323477c6b5f",
   "metadata": {
    "execution": {
     "iopub.execute_input": "2024-05-15T21:22:04.256015Z",
     "iopub.status.busy": "2024-05-15T21:22:04.248798Z",
     "iopub.status.idle": "2024-05-15T21:22:04.919672Z",
     "shell.execute_reply": "2024-05-15T21:22:04.919211Z",
     "shell.execute_reply.started": "2024-05-15T21:22:04.255866Z"
    }
   },
   "outputs": [
    {
     "data": {
      "application/vnd.jupyter.widget-view+json": {
       "model_id": "ff2dadc9a59d4f2ebcf567ceaa70540f",
       "version_major": 2,
       "version_minor": 0
      },
      "text/plain": [
       "GridBox(children=(Output(outputs=({'output_type': 'display_data', 'data': {'text/plain': '<IPython.core.displa…"
      ]
     },
     "execution_count": 5,
     "metadata": {},
     "output_type": "execute_result"
    }
   ],
   "source": [
    "products = mutate_ligand(ligand)\n",
    "display_molecule_grid(products)"
   ]
  },
  {
   "cell_type": "code",
   "execution_count": null,
   "id": "ebcb86e7-a294-4684-98fc-f4a998179dca",
   "metadata": {},
   "outputs": [],
   "source": []
  },
  {
   "cell_type": "code",
   "execution_count": 19,
   "id": "72714834-6142-4e4d-a683-226042c15700",
   "metadata": {
    "execution": {
     "iopub.execute_input": "2024-05-15T21:38:10.845663Z",
     "iopub.status.busy": "2024-05-15T21:38:10.842157Z",
     "iopub.status.idle": "2024-05-15T21:38:10.875345Z",
     "shell.execute_reply": "2024-05-15T21:38:10.871538Z",
     "shell.execute_reply.started": "2024-05-15T21:38:10.845561Z"
    }
   },
   "outputs": [],
   "source": [
    "import openmm\n",
    "import openmm.unit as omm_unit\n",
    "def relax_ligand(protein_interchange, ligand_offmol, ligand_ff, name=\"\"):\n",
    "    from openff.toolkit.utils.nagl_wrapper import NAGLToolkitWrapper\n",
    "    from openff.interchange import Interchange\n",
    "    ntkw = NAGLToolkitWrapper()\n",
    "    ntkw.assign_partial_charges(ligand_offmol, \"openff-gnn-am1bcc-0.1.0-rc.2.pt\")\n",
    "    ligand_interchange = sage.create_interchange(ligand_offmol.to_topology(), charge_from_molecules=[ligand_offmol])\n",
    "    complex_interchange = protein_interchange.combine(ligand_interchange)\n",
    "    omm_sys = complex_interchange.to_openmm_system()\n",
    "    omm_top = complex_interchange.to_openmm_topology()\n",
    "    \n",
    "    \n",
    "    restraint = openmm.CustomExternalForce('k*periodicdistance(x, y, z, x0, y0, z0)^2')\n",
    "    omm_sys.addForce(restraint)\n",
    "    restraint.addGlobalParameter('k', 4000.0 * omm_unit.kilojoules_per_mole / omm_unit.angstrom)\n",
    "    restraint.addPerParticleParameter('x0')\n",
    "    restraint.addPerParticleParameter('y0')\n",
    "    restraint.addPerParticleParameter('z0')\n",
    "    \n",
    "    for atom in omm_top.atoms():\n",
    "        if atom.name in ['C', 'O', 'N', 'CA', 'S1X', 'O1X', 'O2X', 'Cl1x', 'Cl2x']:\n",
    "            restraint.addParticle(atom.index, complex_interchange.positions[atom.index].to_openmm())\n",
    "        #elif ligand_offmol..atomatom.index \n",
    "    \n",
    "    # Construct and configure a Langevin integrator at 300 K with an appropriate friction constant and time-step\n",
    "    integrator = openmm.LangevinIntegrator(\n",
    "        300 * omm_unit.kelvin,\n",
    "        1 / omm_unit.picosecond,\n",
    "        0.002 * omm_unit.picoseconds,\n",
    "    )\n",
    "    \n",
    "    simulation = openmm.app.Simulation(omm_top, omm_sys, integrator)\n",
    "    simulation.context.setPositions(complex_interchange.positions.to_openmm())\n",
    "    simulation.minimizeEnergy()\n",
    "    simulation.context.setVelocitiesToTemperature(300)\n",
    "    simulation.step(1000)\n",
    "    from openff.units.openmm import from_openmm\n",
    "    state = simulation.context.getState(getPositions=True, getForces=True, getEnergy=True)\n",
    "    omm_positions = state.getPositions()\n",
    "    openmm.app.PDBFile.writeFile(simulation.topology, omm_positions, open(f'{name}.pdb', 'w'))\n",
    "    complex_interchange.positions = from_openmm(omm_positions)\n",
    "    \n",
    "    return complex_interchange, state\n",
    "    "
   ]
  },
  {
   "cell_type": "code",
   "execution_count": 7,
   "id": "69fb466a-add2-411e-a039-68d81c1b3e6c",
   "metadata": {
    "execution": {
     "iopub.execute_input": "2024-05-15T21:22:07.619100Z",
     "iopub.status.busy": "2024-05-15T21:22:07.618591Z",
     "iopub.status.idle": "2024-05-15T21:22:08.098055Z",
     "shell.execute_reply": "2024-05-15T21:22:08.097545Z",
     "shell.execute_reply.started": "2024-05-15T21:22:07.619065Z"
    }
   },
   "outputs": [],
   "source": [
    "sage = ForceField(\"openff-2.2.0.offxml\")\n"
   ]
  },
  {
   "cell_type": "code",
   "execution_count": 8,
   "id": "22cf88a9-8476-4441-98b5-6f820acbb265",
   "metadata": {
    "execution": {
     "iopub.execute_input": "2024-05-15T21:22:08.223901Z",
     "iopub.status.busy": "2024-05-15T21:22:08.223532Z",
     "iopub.status.idle": "2024-05-15T21:22:36.254687Z",
     "shell.execute_reply": "2024-05-15T21:22:36.253594Z",
     "shell.execute_reply.started": "2024-05-15T21:22:08.223873Z"
    }
   },
   "outputs": [
    {
     "data": {
      "application/vnd.jupyter.widget-view+json": {
       "model_id": "ca7b7efea7914094a658aaaa859298fc",
       "version_major": 2,
       "version_minor": 0
      },
      "text/plain": []
     },
     "metadata": {},
     "output_type": "display_data"
    }
   ],
   "source": [
    "ff14sb = ForceField(\"ff14sb_off_impropers_0.0.4.offxml\")\n",
    "protein_interchange = ff14sb.create_interchange(protein.to_topology())\n",
    "#protein_interchange = ff14sb.create_interchange(top.molecule(0).to_topology())"
   ]
  },
  {
   "cell_type": "code",
   "execution_count": 9,
   "id": "b567c804-34dd-4c59-8b15-33af3c3cbf89",
   "metadata": {
    "execution": {
     "iopub.execute_input": "2024-05-15T21:22:36.259056Z",
     "iopub.status.busy": "2024-05-15T21:22:36.258923Z",
     "iopub.status.idle": "2024-05-15T21:22:36.263662Z",
     "shell.execute_reply": "2024-05-15T21:22:36.263207Z",
     "shell.execute_reply.started": "2024-05-15T21:22:36.259040Z"
    }
   },
   "outputs": [
    {
     "name": "stdout",
     "output_type": "stream",
     "text": [
      "env: INTERCHANGE_EXPERIMENTAL=1\n"
     ]
    }
   ],
   "source": [
    "env INTERCHANGE_EXPERIMENTAL=1"
   ]
  },
  {
   "cell_type": "code",
   "execution_count": 10,
   "id": "a2c04cf1-6f75-43b8-9825-484b147c18d7",
   "metadata": {
    "execution": {
     "iopub.execute_input": "2024-05-15T21:22:36.265510Z",
     "iopub.status.busy": "2024-05-15T21:22:36.265200Z",
     "iopub.status.idle": "2024-05-15T21:22:36.268707Z",
     "shell.execute_reply": "2024-05-15T21:22:36.268294Z",
     "shell.execute_reply.started": "2024-05-15T21:22:36.265495Z"
    }
   },
   "outputs": [],
   "source": [
    "import numpy as np\n",
    "from openff.units import unit\n",
    "def naive_objective(ligand):\n",
    "    # CD of LEU76\n",
    "    target_coord = (4.278,   1.307,   9.049)\n",
    "    ligand_com = np.mean(ligand.conformers[0], axis=0).m_as(unit.angstrom)\n",
    "    return np.linalg.norm(target_coord - ligand_com)\n"
   ]
  },
  {
   "cell_type": "code",
   "execution_count": 23,
   "id": "464bc616-d8ab-4d22-92ac-e4834e77c1ed",
   "metadata": {
    "execution": {
     "iopub.execute_input": "2024-05-15T21:58:10.832569Z",
     "iopub.status.busy": "2024-05-15T21:58:10.827231Z",
     "iopub.status.idle": "2024-05-15T21:58:11.323408Z",
     "shell.execute_reply": "2024-05-15T21:58:11.322964Z",
     "shell.execute_reply.started": "2024-05-15T21:58:10.832485Z"
    }
   },
   "outputs": [],
   "source": [
    "from openff.toolkit import Molecule, ForceField, Topology\n",
    "from openff.toolkit.utils.nagl_wrapper import NAGLToolkitWrapper\n",
    "from openff.units import Quantity, unit, ensure_quantity\n",
    "from openmm.app import Simulation\n",
    "from openff.interchange import Interchange\n",
    "from openff.interchange.drivers.openmm import get_openmm_energies\n",
    "\n",
    "softened_ff = ForceField(\"openff-2.2.0.offxml\")\n",
    "for parameter in softened_ff.get_parameter_handler('vdW'):\n",
    "    parameter.rmin_half *= 0.5\n",
    "# softened_ff.parse_sources([\"ff14sb_off_impropers_0.0.4.offxml\"])\n",
    "\n",
    "def single_point_energy(simulation: Simulation, positions: Quantity, box_vectors: Quantity | None) -> Quantity:\n",
    "    \"\"\"Calculate a single point energy with OpenMM\"\"\"\n",
    "    simulation.context.setPositions(ensure_quantity(positions, 'openmm'))\n",
    "    if box_vectors is not None:\n",
    "        simulation.context.setPeriodicBoxVectors(*ensure_quantity(box_vectors, 'openmm'))\n",
    "    state = simulation.context.getState(getEnergy=True)\n",
    "    return ensure_quantity(state.getPotentialEnergy(), 'openff')\n",
    "\n",
    "def create_integrator() -> openmm.Integrator:\n",
    "    return openmm.LangevinMiddleIntegrator(\n",
    "        300 * omm_unit.kelvin,\n",
    "        1 / omm_unit.picosecond,\n",
    "        0.002 * omm_unit.picoseconds,\n",
    "    )\n",
    "\n",
    "def interaction_objective(\n",
    "    ligand: Molecule,\n",
    "    previous_complex: Topology,\n",
    "    protein_energy: Quantity,\n",
    "    protein_interchange: Interchange,\n",
    "    force_field: ForceField = softened_ff,\n",
    ") -> Quantity:\n",
    "    \"\"\"\n",
    "    Interaction energy between ligand and all but the last molecule in previous_complex.\n",
    "\n",
    "    \"\"\"\n",
    "    ntkw = NAGLToolkitWrapper()\n",
    "    ntkw.assign_partial_charges(ligand, \"openff-gnn-am1bcc-0.1.0-rc.2.pt\")\n",
    "\n",
    "    ligand_interchange = force_field.create_interchange(ligand.to_topology(), charge_from_molecules=[ligand])\n",
    "    ligand_energy = get_openmm_energies(ligand_interchange).total_energy\n",
    "\n",
    "    complex_interchange = protein_interchange.combine(ligand_interchange)\n",
    "    complex_energy = get_openmm_energies(complex_interchange).total_energy\n",
    "    \n",
    "    interaction_energy = complex_energy - protein_energy - ligand_energy\n",
    "    return interaction_energy"
   ]
  },
  {
   "cell_type": "code",
   "execution_count": 12,
   "id": "fead8fa5-8d97-4898-92c8-10b543a38a89",
   "metadata": {
    "execution": {
     "iopub.execute_input": "2024-05-15T21:22:38.368801Z",
     "iopub.status.busy": "2024-05-15T21:22:38.365581Z",
     "iopub.status.idle": "2024-05-15T21:22:40.994996Z",
     "shell.execute_reply": "2024-05-15T21:22:40.990829Z",
     "shell.execute_reply.started": "2024-05-15T21:22:38.368705Z"
    }
   },
   "outputs": [],
   "source": [
    "protein_simulation = protein_interchange.to_openmm_simulation(create_integrator())"
   ]
  },
  {
   "cell_type": "code",
   "execution_count": 24,
   "id": "3f5cd728-4f4f-46f0-a158-0788509887a3",
   "metadata": {
    "execution": {
     "iopub.execute_input": "2024-05-15T21:58:24.253680Z",
     "iopub.status.busy": "2024-05-15T21:58:24.249029Z",
     "iopub.status.idle": "2024-05-15T22:05:21.697227Z",
     "shell.execute_reply": "2024-05-15T22:05:21.690234Z",
     "shell.execute_reply.started": "2024-05-15T21:58:24.253608Z"
    }
   },
   "outputs": [
    {
     "name": "stdout",
     "output_type": "stream",
     "text": [
      "round 0\n",
      "Relaxing candidate\n",
      "Computing protein point energy\n",
      "generating mutations\n",
      "pruning mutations by naive objective\n",
      "computing mutations\n",
      "computing Molecule with name '' and SMILES '[H][c]1[c]([H])[c]([C]([H])([H])[H])[c]([Cl])[c]2[c]1[S][C]([C](=[O])[O-])=[C]2[Cl]'\n",
      "finished with energy -426.91946343479606 kilojoule / mole\n",
      "computing Molecule with name '' and SMILES '[H][c]1[c]([H])[c]2[c]([c]([C]([H])([H])[H])[c]1[H])[C]([Cl])=[C]([C](=[O])[O-])[S]2'\n",
      "finished with energy -427.11972828915543 kilojoule / mole\n",
      "computing Molecule with name '' and SMILES '[H][c]1[c]([H])[c]([N]([H])[H])[c]([Cl])[c]2[c]1[S][C]([C](=[O])[O-])=[C]2[Cl]'\n",
      "finished with energy -433.62663389310205 kilojoule / mole\n",
      "round 1\n",
      "Relaxing candidate\n",
      "Computing protein point energy\n",
      "generating mutations\n",
      "pruning mutations by naive objective\n",
      "computing mutations\n",
      "computing Molecule with name '' and SMILES '[H][c]1[c]([H])[c]([N]([H])[C]([H])([H])[H])[c]([Cl])[c]2[c]1[S][C]([C](=[O])[O-])=[C]2[Cl]'\n",
      "finished with energy -433.1441902190478 kilojoule / mole\n",
      "computing Molecule with name '' and SMILES '[H][c]1[c]([H])[c]([N]([H])[C]([H])([H])[H])[c]([Cl])[c]2[c]1[S][C]([C](=[O])[O-])=[C]2[Cl]'\n",
      "finished with energy -437.0417496448269 kilojoule / mole\n",
      "computing Molecule with name '' and SMILES '[H][c]1[c]([H])[c]([N]([H])[H])[c]([C]([H])([H])[H])[c]2[c]1[S][C]([C](=[O])[O-])=[C]2[Cl]'\n",
      "finished with energy -437.95427738694525 kilojoule / mole\n",
      "round 2\n",
      "Relaxing candidate\n",
      "Computing protein point energy\n",
      "generating mutations\n",
      "pruning mutations by naive objective\n",
      "computing mutations\n",
      "computing Molecule with name '' and SMILES '[H][c]1[c]([H])[c]([N]([H])[H])[c]([C]([H])([H])[C]([H])([H])[H])[c]2[c]1[S][C]([C](=[O])[O-])=[C]2[Cl]'\n",
      "finished with energy -439.26883764058863 kilojoule / mole\n",
      "computing Molecule with name '' and SMILES '[H][c]1[c]([H])[c]([N]([H])[C]([H])([H])[H])[c]([C]([H])([H])[H])[c]2[c]1[S][C]([C](=[O])[O-])=[C]2[Cl]'\n",
      "finished with energy -436.3543679878903 kilojoule / mole\n",
      "computing Molecule with name '' and SMILES '[H][c]1[c]([H])[c]([N]([H])[C]([H])([H])[H])[c]([C]([H])([H])[H])[c]2[c]1[S][C]([C](=[O])[O-])=[C]2[Cl]'\n",
      "finished with energy -440.2237412211397 kilojoule / mole\n",
      "round 3\n",
      "Relaxing candidate\n",
      "Computing protein point energy\n",
      "generating mutations\n",
      "pruning mutations by naive objective\n",
      "computing mutations\n",
      "computing Molecule with name '' and SMILES '[H][c]1[c]([H])[c]([N]([H])[C]([H])([H])[H])[c]([C]([H])([H])[C]([H])([H])[H])[c]2[c]1[S][C]([C](=[O])[O-])=[C]2[Cl]'\n",
      "finished with energy -441.39910976277986 kilojoule / mole\n",
      "computing Molecule with name '' and SMILES '[H][c]1[c]([H])[c]([N]([H])[C]([H])([H])[C]([H])([H])[H])[c]([C]([H])([H])[H])[c]2[c]1[S][C]([C](=[O])[O-])=[C]2[Cl]'\n",
      "finished with energy -417.5505897286969 kilojoule / mole\n",
      "computing Molecule with name '' and SMILES '[H][c]1[c]([H])[c]([N]([H])[C]([H])([H])[C]([H])([H])[H])[c]([C]([H])([H])[H])[c]2[c]1[S][C]([C](=[O])[O-])=[C]2[Cl]'\n",
      "finished with energy 380.6007023519362 kilojoule / mole\n",
      "round 4\n",
      "Relaxing candidate\n",
      "Computing protein point energy\n",
      "generating mutations\n",
      "pruning mutations by naive objective\n",
      "computing mutations\n",
      "computing Molecule with name '' and SMILES '[H][c]1[c]([H])[c]([N]([H])[C]([H])([H])[H])[c]([C]([H])([H])[C]([H])([H])[C]([H])([H])[H])[c]2[c]1[S][C]([C](=[O])[O-])=[C]2[Cl]'\n",
      "finished with energy -401.9540664763956 kilojoule / mole\n",
      "computing Molecule with name '' and SMILES '[H][c]1[c]([H])[c]([N]([H])[C]([H])([H])[C]([H])([H])[H])[c]([C]([H])([H])[C]([H])([H])[H])[c]2[c]1[S][C]([C](=[O])[O-])=[C]2[Cl]'\n",
      "finished with energy 379.4468696982707 kilojoule / mole\n",
      "computing Molecule with name '' and SMILES '[H][c]1[c]([H])[c]([N]([H])[C]([H])([H])[C]([H])([H])[H])[c]([C]([H])([H])[C]([H])([H])[H])[c]2[c]1[S][C]([C](=[O])[O-])=[C]2[Cl]'\n",
      "finished with energy -418.9417484584933 kilojoule / mole\n",
      "round 5\n",
      "Relaxing candidate\n",
      "Computing protein point energy\n",
      "generating mutations\n",
      "pruning mutations by naive objective\n",
      "computing mutations\n",
      "computing Molecule with name '' and SMILES '[H][c]1[c]([H])[c]([N]([H])[C]([H])([H])[C]([H])([H])[C]([H])([H])[H])[c]([C]([H])([H])[C]([H])([H])[H])[c]2[c]1[S][C]([C](=[O])[O-])=[C]2[Cl]'\n",
      "finished with energy 1276.0075872417522 kilojoule / mole\n",
      "computing Molecule with name '' and SMILES '[H][c]1[c]([H])[c]([N]([H])[C]([H])([H])[C]([H])([H])[H])[c]([C]([H])([H])[C]([H])([H])[C]([H])([H])[H])[c]2[c]1[S][C]([C](=[O])[O-])=[C]2[Cl]'\n",
      "finished with energy -379.5029879371041 kilojoule / mole\n",
      "computing Molecule with name '' and SMILES '[H][c]1[c]([H])[c]([N]([H])[C]([H])([H])[C]([H])([H])[C]([H])([H])[H])[c]([C]([H])([H])[C]([H])([H])[H])[c]2[c]1[S][C]([C](=[O])[O-])=[C]2[Cl]'\n",
      "finished with energy 2764.767002307519 kilojoule / mole\n",
      "round 6\n",
      "Relaxing candidate\n",
      "Computing protein point energy\n",
      "generating mutations\n",
      "pruning mutations by naive objective\n",
      "computing mutations\n",
      "computing Molecule with name '' and SMILES '[H][c]1[c]([H])[c]([N]([H])[C]([H])([H])[C]([H])([H])[H])[c]([C]([H])([H])[C]([H])([H])[C]([H])([H])[C]([H])([H])[H])[c]2[c]1[S][C]([C](=[O])[O-])=[C]2[Cl]'\n",
      "finished with energy 53460.48568547427 kilojoule / mole\n",
      "computing Molecule with name '' and SMILES '[H][c]1[c]([H])[c]([N]([H])[C]([H])([H])[C]([H])([H])[C]([H])([H])[H])[c]([C]([H])([H])[C]([H])([H])[C]([H])([H])[H])[c]2[c]1[S][C]([C](=[O])[O-])=[C]2[Cl]'\n",
      "finished with energy 1315.3651161957337 kilojoule / mole\n",
      "computing Molecule with name '' and SMILES '[H][c]1[c]([H])[c]([N]([H])[C]([H])([H])[C]([H])([H])[H])[c]([C]([H])([H])[C]([H])([H])[C]([H])([H])[C]([H])([H])[H])[c]2[c]1[S][C]([C](=[O])[O-])=[C]2[Cl]'\n",
      "finished with energy 82200.80947788905 kilojoule / mole\n",
      "round 7\n",
      "Relaxing candidate\n",
      "Computing protein point energy\n",
      "generating mutations\n",
      "pruning mutations by naive objective\n",
      "computing mutations\n",
      "computing Molecule with name '' and SMILES '[H][c]1[c]([H])[c]([N]([H])[C]([H])([H])[C]([H])([H])[C]([H])([H])[C]([H])([H])[H])[c]([C]([H])([H])[C]([H])([H])[C]([H])([H])[H])[c]2[c]1[S][C]([C](=[O])[O-])=[C]2[Cl]'\n",
      "finished with energy 390608.06135516136 kilojoule / mole\n",
      "computing Molecule with name '' and SMILES '[H][c]1[c]([H])[c]([N]([H])[C]([H])([H])[C]([H])([H])[C]([H])([H])[H])[c]([C]([H])([H])[C]([H])([H])[C]([H])([H])[C]([H])([H])[H])[c]2[c]1[S][C]([C](=[O])[O-])=[C]2[Cl]'\n",
      "finished with energy 55155.18794906791 kilojoule / mole\n",
      "computing Molecule with name '' and SMILES '[H][c]1[c]([H])[c]([N]([H])[C]([H])([H])[C]([H])([H])[C]([H])([H])[H])[c]([C]([H])([H])[C]([H])([H])[C]([H])([H])[C]([H])([H])[H])[c]2[c]1[S][C]([C](=[O])[O-])=[C]2[Cl]'\n",
      "finished with energy 83895.49722788564 kilojoule / mole\n",
      "round 8\n",
      "Relaxing candidate\n",
      "Computing protein point energy\n",
      "generating mutations\n",
      "pruning mutations by naive objective\n",
      "computing mutations\n",
      "computing Molecule with name '' and SMILES '[H][c]1[c]([H])[c]([N]([H])[C]([H])([H])[C]([H])([H])[C]([H])([H])[H])[c]([C]([H])([H])[C]([H])([H])[C]([H])([H])[C]([H])([H])[C]([H])([H])[H])[c]2[c]1[S][C]([C](=[O])[O-])=[C]2[Cl]'\n",
      "finished with energy 57300.99400536322 kilojoule / mole\n",
      "computing Molecule with name '' and SMILES '[H][c]1[c]([H])[c]([N]([H])[C]([H])([H])[C]([H])([H])[C]([H])([H])[C]([H])([H])[H])[c]([C]([H])([H])[C]([H])([H])[C]([H])([H])[C]([H])([H])[H])[c]2[c]1[S][C]([C](=[O])[O-])=[C]2[Cl]'\n",
      "finished with energy 444447.56791506463 kilojoule / mole\n",
      "computing Molecule with name '' and SMILES '[H][c]1[c]([H])[c]([N]([H])[C]([H])([H])[C]([H])([H])[C]([H])([H])[H])[c]([C]([H])([H])[C]([H])([H])[C]([H])([H])[C]([H])([H])[C]([H])([H])[H])[c]2[c]1[S][C]([C](=[O])[O-])=[C]2[Cl]'\n",
      "finished with energy 1267934.2459567233 kilojoule / mole\n",
      "round 9\n",
      "Relaxing candidate\n",
      "Computing protein point energy\n",
      "generating mutations\n",
      "pruning mutations by naive objective\n",
      "computing mutations\n",
      "computing Molecule with name '' and SMILES '[H][c]1[c]([H])[c]([N]([H])[C]([H])([H])[C]([H])([H])[C]([H])([H])[H])[c]([C]([H])([H])[C]([H])([H])[C]([H])([H])[C]([H])([H])[C]([H])([H])[C]([H])([H])[H])[c]2[c]1[S][C]([C](=[O])[O-])=[C]2[Cl]'\n",
      "finished with energy 58114.14707087878 kilojoule / mole\n",
      "computing Molecule with name '' and SMILES '[H][c]1[c]([H])[c]([N]([H])[C]([H])([H])[C]([H])([H])[C]([H])([H])[H])[c]([C]([H])([H])[C]([H])([H])[C]([H])([H])[C]([H])([H])[C]([H])([H])[C]([H])([H])[H])[c]2[c]1[S][C]([C](=[O])[O-])=[C]2[Cl]'\n",
      "finished with energy 71460.77788745018 kilojoule / mole\n",
      "computing Molecule with name '' and SMILES '[H][c]1[c]([H])[c]([N]([H])[C]([H])([H])[C]([H])([H])[C]([H])([H])[H])[c]([C]([H])([H])[C]([H])([H])[C]([H])([H])[C]([H])([H])[C]([H])([H])[C]([H])([H])[H])[c]2[c]1[S][C]([C](=[O])[O-])=[C]2[Cl]'\n",
      "finished with energy 57562.29771173197 kilojoule / mole\n",
      "round 10\n",
      "Relaxing candidate\n",
      "Computing protein point energy\n",
      "generating mutations\n",
      "pruning mutations by naive objective\n",
      "computing mutations\n",
      "computing Molecule with name '' and SMILES '[H][c]1[c]([H])[c]([N]([H])[C]([H])([H])[C]([H])([H])[C]([H])([H])[H])[c]([C]([H])([H])[C]([H])([H])[C]([H])([H])[C]([H])([H])[C]([H])([C]([H])([H])[H])[C]([H])([H])[H])[c]2[c]1[S][C]([C](=[O])[O-])=[C]2[Cl]'\n",
      "finished with energy 58375.26688480923 kilojoule / mole\n",
      "computing Molecule with name '' and SMILES '[H][c]1[c]([H])[c]([N]([H])[C]([H])([H])[C]([H])([H])[C]([H])([H])[H])[c]([C]([H])([H])[C]([H])([H])[C]([H])([H])[C]([H])([H])[C]([H])([H])[C]([H])([H])[C]([H])([H])[H])[c]2[c]1[S][C]([C](=[O])[O-])=[C]2[Cl]'\n",
      "finished with energy 57914.63980918095 kilojoule / mole\n",
      "computing Molecule with name '' and SMILES '[H][c]1[c]([H])[c]([N]([H])[C]([H])([H])[C]([H])([H])[C]([H])([H])[H])[c]([C]([H])([H])[C]([H])([H])[C]([H])([H])[C]([H])([H])[C]([H])([C]([H])([H])[H])[C]([H])([H])[H])[c]2[c]1[S][C]([C](=[O])[O-])=[C]2[Cl]'\n",
      "finished with energy 71721.67953894519 kilojoule / mole\n",
      "round 11\n",
      "Relaxing candidate\n",
      "Computing protein point energy\n",
      "generating mutations\n",
      "pruning mutations by naive objective\n",
      "computing mutations\n",
      "computing Molecule with name '' and SMILES '[H][c]1[c]([H])[c]([N]([H])[C]([H])([H])[C]([H])([H])[C]([H])([H])[H])[c]([C]([H])([H])[C]([H])([H])[C]([H])([H])[C]([H])([H])[C]([H])([H])[C]([H])([H])[C]([H])([H])[C]([H])([H])[H])[c]2[c]1[S][C]([C](=[O])[O-])=[C]2[Cl]'\n",
      "finished with energy 123264779742.73239 kilojoule / mole\n",
      "computing Molecule with name '' and SMILES '[H][c]1[c]([H])[c]([N]([H])[C]([H])([H])[C]([H])([H])[C]([H])([H])[H])[c]([C]([H])([H])[C]([H])([H])[C]([H])([H])[C]([H])([H])[C]([H])([H])[C]([H])([H])[C]([H])([H])[C]([H])([H])[H])[c]2[c]1[S][C]([C](=[O])[O-])=[C]2[Cl]'\n",
      "finished with energy 60521.71303041551 kilojoule / mole\n",
      "computing Molecule with name '' and SMILES '[H][c]1[c]([H])[c]([N]([H])[C]([H])([H])[C]([H])([H])[C]([H])([H])[H])[c]([C]([H])([H])[C]([H])([H])[C]([H])([H])[C]([H])([H])[C@@]([H])([C]([H])([H])[H])[C]([H])([H])[C]([H])([H])[H])[c]2[c]1[S][C]([C](=[O])[O-])=[C]2[Cl]'\n",
      "finished with energy 58727.67248947732 kilojoule / mole\n",
      "round 12\n",
      "Relaxing candidate\n",
      "Computing protein point energy\n",
      "generating mutations\n",
      "pruning mutations by naive objective\n",
      "computing mutations\n",
      "computing Molecule with name '' and SMILES '[H][c]1[c]([H])[c]([N]([H])[C]([H])([H])[C]([H])([H])[C]([H])([H])[H])[c]([C]([H])([H])[C]([H])([H])[C]([H])([H])[C]([H])([H])[C]([H])([C]([H])([H])[C]([H])([H])[H])[C]([H])([H])[C]([H])([H])[H])[c]2[c]1[S][C]([C](=[O])[O-])=[C]2[Cl]'\n",
      "finished with energy 59313.90976803377 kilojoule / mole\n",
      "computing Molecule with name '' and SMILES '[H][c]1[c]([H])[c]([N]([H])[C]([H])([H])[C]([H])([H])[C]([H])([H])[H])[c]([C]([H])([H])[C]([H])([H])[C]([H])([H])[C]([H])([H])[C]([H])([C]([H])([H])[C]([H])([H])[H])[C]([H])([H])[C]([H])([H])[H])[c]2[c]1[S][C]([C](=[O])[O-])=[C]2[Cl]'\n",
      "finished with energy 91135.14056481421 kilojoule / mole\n",
      "computing Molecule with name '' and SMILES '[H][c]1[c]([H])[c]([N]([H])[C]([H])([H])[C]([H])([H])[C]([H])([H])[H])[c]([C]([H])([H])[C]([H])([H])[C]([H])([H])[C]([H])([H])[C@@]([H])([C]([H])([H])[H])[C]([H])([H])[C]([H])([H])[C]([H])([H])[H])[c]2[c]1[S][C]([C](=[O])[O-])=[C]2[Cl]'\n",
      "finished with energy 123264780555.58722 kilojoule / mole\n",
      "round 13\n",
      "Relaxing candidate\n",
      "Computing protein point energy\n",
      "generating mutations\n",
      "pruning mutations by naive objective\n",
      "computing mutations\n",
      "computing Molecule with name '' and SMILES '[H][c]1[c]([H])[c]([N]([H])[C]([H])([H])[C]([H])([H])[C]([H])([H])[H])[c]([C]([H])([H])[C]([H])([H])[C]([H])([H])[C]([H])([H])[C@]([H])([C]([H])([H])[C]([H])([H])[H])[C]([H])([H])[C]([H])([H])[C]([H])([H])[H])[c]2[c]1[S][C]([C](=[O])[O-])=[C]2[Cl]'\n",
      "finished with energy 262236.6878300719 kilojoule / mole\n",
      "computing Molecule with name '' and SMILES '[H][c]1[c]([H])[c]([N]([H])[C]([H])([H])[C]([H])([H])[C]([H])([H])[H])[c]([C]([H])([H])[C]([H])([H])[C]([H])([H])[C]([H])([H])[C@]([H])([C]([H])([H])[C]([H])([H])[H])[C]([H])([H])[C]([H])([H])[C]([H])([H])[H])[c]2[c]1[S][C]([C](=[O])[O-])=[C]2[Cl]'\n",
      "finished with energy 59426.71905785799 kilojoule / mole\n",
      "computing Molecule with name '' and SMILES '[H][c]1[c]([H])[c]([N]([H])[C]([H])([H])[C]([H])([H])[C]([H])([H])[H])[c]([C]([H])([H])[C]([H])([H])[C]([H])([H])[C]([H])([H])[C@]([H])([C]([H])([H])[C]([H])([H])[H])[C]([H])([C]([H])([H])[H])[C]([H])([H])[H])[c]2[c]1[S][C]([C](=[O])[O-])=[C]2[Cl]'\n",
      "finished with energy 91721.19021169841 kilojoule / mole\n",
      "round 14\n",
      "Relaxing candidate\n",
      "Computing protein point energy\n",
      "generating mutations\n",
      "pruning mutations by naive objective\n",
      "computing mutations\n",
      "computing Molecule with name '' and SMILES '[H][c]1[c]([H])[c]([N]([H])[C]([H])([H])[C]([H])([H])[C]([H])([H])[H])[c]([C]([H])([H])[C]([H])([H])[C]([H])([H])[C]([H])([H])[C@]([H])([C]([H])([H])[C]([H])([H])[H])[C]([H])([H])[C]([H])([H])[C]([H])([H])[C]([H])([H])[H])[c]2[c]1[S][C]([C](=[O])[O-])=[C]2[Cl]'\n",
      "finished with energy 93264.55562857911 kilojoule / mole\n",
      "computing Molecule with name '' and SMILES '[H][c]1[c]([H])[c]([N]([H])[C]([H])([H])[C]([H])([H])[C]([H])([H])[H])[c]([C]([H])([H])[C]([H])([H])[C]([H])([H])[C]([H])([H])[C@]([H])([C]([H])([H])[C]([H])([H])[H])[C]([H])([H])[C]([H])([C]([H])([H])[H])[C]([H])([H])[H])[c]2[c]1[S][C]([C](=[O])[O-])=[C]2[Cl]'\n",
      "finished with energy 262349.48588259146 kilojoule / mole\n",
      "computing Molecule with name '' and SMILES '[H][c]1[c]([H])[c]([N]([H])[C]([H])([H])[C]([H])([H])[C]([H])([H])[H])[c]([C]([H])([H])[C]([H])([H])[C]([H])([H])[C]([H])([H])[C@]([H])([C]([H])([H])[C]([H])([H])[H])[C]([H])([H])[C]([H])([H])[C]([H])([H])[C]([H])([H])[H])[c]2[c]1[S][C]([C](=[O])[O-])=[C]2[Cl]'\n",
      "finished with energy 62448.18215181306 kilojoule / mole\n"
     ]
    }
   ],
   "source": [
    "# %%snakeviz\n",
    "\n",
    "import mdtraj\n",
    "import numpy \n",
    "\n",
    "candidates = [(top.molecule(1), 999)]\n",
    "protein_trajectory = mdtraj.Trajectory(protein_interchange.positions.m, mdtraj.Topology.from_openmm(protein_interchange.topology.to_openmm()))\n",
    "\n",
    "for idx in range(15):\n",
    "    print(f\"round {idx}\")\n",
    "    candidate, energy = candidates.pop(0)\n",
    "    \n",
    "    print(f\"Relaxing candidate\")\n",
    "    complex_interchange, state = relax_ligand(protein_interchange, candidate, sage, name=str(idx))\n",
    "    relaxed_protein_positions = complex_interchange.topology.molecule(0).conformers[0]\n",
    "    protein_interchange.positions = relaxed_protein_positions\n",
    "    protein_trajectory.xyz = [*protein_trajectory.xyz, relaxed_protein_positions.m_as(unit.nanometer)]\n",
    "    result_ligand = complex_interchange.topology.molecule(1)\n",
    "\n",
    "    print(f\"Computing protein point energy\")\n",
    "    protein_energy = single_point_energy(protein_simulation, relaxed_protein_positions, complex_interchange.box)\n",
    "\n",
    "    print(f\"generating mutations\")\n",
    "    mutations = mutate_ligand(result_ligand)\n",
    "    print(f\"pruning mutations by naive objective\")\n",
    "\n",
    "    mutations = sorted(mutations, key=lambda x:naive_objective(x))[:3]\n",
    "    print(f\"computing mutations\")\n",
    "    candidates = []\n",
    "    for mutation in mutations:\n",
    "        print(f\"computing {mutation}\")\n",
    "\n",
    "        candidates.append((\n",
    "            mutation, \n",
    "            interaction_objective(\n",
    "                mutation, \n",
    "                complex_interchange.topology, \n",
    "                protein_energy,\n",
    "                protein_interchange\n",
    "            )\n",
    "        ))\n",
    "        print(f\"finished with energy {candidates[-1][1]}\")\n",
    "    \n",
    "    candidates.sort(key=lambda x: x[1])"
   ]
  },
  {
   "cell_type": "markdown",
   "id": "9c2de5da-0112-4bdb-8f12-b7c780e8eaf5",
   "metadata": {},
   "source": [
    "# Scratch below"
   ]
  },
  {
   "cell_type": "code",
   "execution_count": 25,
   "id": "249c7701-a03c-4ba6-b324-c364a7281f59",
   "metadata": {
    "execution": {
     "iopub.execute_input": "2024-05-15T20:41:56.801179Z",
     "iopub.status.busy": "2024-05-15T20:41:56.799075Z",
     "iopub.status.idle": "2024-05-15T20:41:57.166616Z",
     "shell.execute_reply": "2024-05-15T20:41:57.165874Z",
     "shell.execute_reply.started": "2024-05-15T20:41:56.801086Z"
    }
   },
   "outputs": [],
   "source": [
    "import openmm\n",
    "import openmm.unit as omm_unit\n",
    "from openff.toolkit import Molecule, ForceField, Topology\n",
    "from openff.toolkit.utils.nagl_wrapper import NAGLToolkitWrapper\n",
    "from openff.units import Quantity, unit, ensure_quantity\n",
    "from openmm.app import Simulation\n",
    "from openff.interchange import Interchange\n",
    "from openff.interchange.drivers.openmm import get_openmm_energies\n",
    "\n",
    "softened_ff = ForceField(\"openff-2.2.0.offxml\")\n",
    "for parameter in softened_ff.get_parameter_handler('vdW'):\n",
    "    parameter.rmin_half *= 0.5\n",
    "\n",
    "def relax_ligand(protein_interchange, ligand_offmol, ligand_ff, name=\"\"):\n",
    "    from openff.toolkit.utils.nagl_wrapper import NAGLToolkitWrapper\n",
    "    from openff.interchange import Interchange\n",
    "    ntkw = NAGLToolkitWrapper()\n",
    "    ntkw.assign_partial_charges(ligand_offmol, \"openff-gnn-am1bcc-0.1.0-rc.2.pt\")\n",
    "    ligand_interchange = ligand_ff.create_interchange(ligand_offmol.to_topology(), \n",
    "                                                      charge_from_molecules=[ligand_offmol])\n",
    "    complex_interchange = protein_interchange.combine(ligand_interchange)\n",
    "    omm_sys = complex_interchange.to_openmm_system()\n",
    "    omm_top = complex_interchange.to_openmm_topology()\n",
    "    \n",
    "    \n",
    "    restraint = openmm.CustomExternalForce('k*periodicdistance(x, y, z, x0, y0, z0)^2')\n",
    "    omm_sys.addForce(restraint)\n",
    "    restraint.addGlobalParameter('k', 100.0 * omm_unit.kilojoules_per_mole / omm_unit.nanometer)\n",
    "    restraint.addPerParticleParameter('x0')\n",
    "    restraint.addPerParticleParameter('y0')\n",
    "    restraint.addPerParticleParameter('z0')\n",
    "    \n",
    "    for atom in omm_top.atoms():\n",
    "        if atom.name in ['C', 'O', 'N', 'CA', 'S1X', 'O1X', 'O2X']:\n",
    "            restraint.addParticle(atom.index, complex_interchange.positions[atom.index].to_openmm())\n",
    "    \n",
    "    # Construct and configure a Langevin integrator at 300 K with an appropriate friction constant and time-step\n",
    "    integrator = openmm.LangevinIntegrator(\n",
    "        300 * omm_unit.kelvin,\n",
    "        1 / omm_unit.picosecond,\n",
    "        0.002 * omm_unit.picoseconds,\n",
    "    )\n",
    "    \n",
    "    simulation = openmm.app.Simulation(omm_top, omm_sys, integrator)\n",
    "    simulation.context.setPositions(complex_interchange.positions.to_openmm())\n",
    "    simulation.minimizeEnergy()\n",
    "    simulation.context.setVelocitiesToTemperature(300)\n",
    "    simulation.step(1000)\n",
    "    from openff.units.openmm import from_openmm\n",
    "    state = simulation.context.getState(getPositions=True, getForces=True, getEnergy=True)\n",
    "    omm_positions = state.getPositions()\n",
    "    openmm.app.PDBFile.writeFile(simulation.topology, omm_positions, open(f'{name}.pdb', 'w'))\n",
    "    complex_interchange.positions = from_openmm(omm_positions)\n",
    "    \n",
    "    return complex_interchange, state\n",
    "\n",
    "def single_point_energy(simulation: Simulation, positions: Quantity, box_vectors: Quantity | None) -> Quantity:\n",
    "    \"\"\"Calculate a single point energy with OpenMM\"\"\"\n",
    "    simulation.context.setPositions(ensure_quantity(positions, 'openmm'))\n",
    "    if box_vectors is not None:\n",
    "        simulation.context.setPeriodicBoxVectors(*ensure_quantity(box_vectors, 'openmm'))\n",
    "    state = simulation.context.getState(getEnergy=True)\n",
    "    return ensure_quantity(state.getPotentialEnergy(), 'openff')\n",
    "\n",
    "def create_integrator() -> openmm.Integrator:\n",
    "    return openmm.LangevinMiddleIntegrator(\n",
    "        300 * omm_unit.kelvin,\n",
    "        1 / omm_unit.picosecond,\n",
    "        0.002 * omm_unit.picoseconds,\n",
    "    )\n",
    "\n",
    "def interaction_objective(\n",
    "    ligand: Molecule,\n",
    "    previous_complex: Topology,\n",
    "    protein_energy: Quantity,\n",
    "    protein_interchange: Interchange,\n",
    "    force_field: ForceField = softened_ff,\n",
    ") -> Quantity:\n",
    "    \"\"\"\n",
    "    Interaction energy between ligand and all but the last molecule in previous_complex.\n",
    "\n",
    "    \"\"\"\n",
    "    ntkw = NAGLToolkitWrapper()\n",
    "    ntkw.assign_partial_charges(ligand, \"openff-gnn-am1bcc-0.1.0-rc.2.pt\")\n",
    "\n",
    "    ligand_interchange = force_field.create_interchange(ligand.to_topology(), charge_from_molecules=[ligand])\n",
    "    ligand_energy = get_openmm_energies(ligand_interchange).total_energy\n",
    "    protein_interchange.positions = previous_complex.molecule(0).conformers[0]\n",
    "    protein_interchange.topology.molecule(0)._conformers = [previous_complex.molecule(0).conformers[0]]\n",
    "    complex_interchange = protein_interchange.combine(ligand_interchange)\n",
    "    #complex_interchange = \n",
    "    complex_energy = get_openmm_energies(complex_interchange).total_energy\n",
    "    print(f\"{complex_energy=} {protein_energy=} {ligand_energy=}\")\n",
    "    interaction_energy = complex_energy - protein_energy - ligand_energy\n",
    "    return interaction_energy"
   ]
  },
  {
   "cell_type": "code",
   "execution_count": 26,
   "id": "b85d27de-0e71-41f2-a2c2-34881c836174",
   "metadata": {
    "execution": {
     "iopub.execute_input": "2024-05-15T20:41:58.285959Z",
     "iopub.status.busy": "2024-05-15T20:41:58.283367Z",
     "iopub.status.idle": "2024-05-15T20:41:58.321946Z",
     "shell.execute_reply": "2024-05-15T20:41:58.320870Z",
     "shell.execute_reply.started": "2024-05-15T20:41:58.285876Z"
    }
   },
   "outputs": [
    {
     "name": "stdout",
     "output_type": "stream",
     "text": [
      "env: INTERCHANGE_EXPERIMENTAL=1\n"
     ]
    }
   ],
   "source": [
    "env INTERCHANGE_EXPERIMENTAL=1"
   ]
  },
  {
   "cell_type": "code",
   "execution_count": 27,
   "id": "16eca9e9-9169-4708-b14f-1af3c6db3a12",
   "metadata": {
    "execution": {
     "iopub.execute_input": "2024-05-15T20:41:59.878143Z",
     "iopub.status.busy": "2024-05-15T20:41:59.877056Z",
     "iopub.status.idle": "2024-05-15T20:42:30.165680Z",
     "shell.execute_reply": "2024-05-15T20:42:30.161140Z",
     "shell.execute_reply.started": "2024-05-15T20:41:59.878068Z"
    }
   },
   "outputs": [],
   "source": [
    "import mdtraj\n",
    "import numpy \n",
    "\n",
    "sage = ForceField(\"openff-2.2.0.offxml\")\n",
    "\n",
    "ff14sb = ForceField(\"ff14sb_off_impropers_0.0.4.offxml\")\n",
    "protein_interchange = ff14sb.create_interchange(protein.to_topology())\n",
    "protein_simulation = protein_interchange.to_openmm_simulation(create_integrator())"
   ]
  },
  {
   "cell_type": "code",
   "execution_count": null,
   "id": "2d44d6ba-61a3-40ee-9f21-95165ae8a8ee",
   "metadata": {},
   "outputs": [],
   "source": []
  },
  {
   "cell_type": "code",
   "execution_count": 29,
   "id": "cdc9ff82-90d1-4390-b443-d5c98901c80a",
   "metadata": {
    "execution": {
     "iopub.execute_input": "2024-05-15T20:42:45.316173Z",
     "iopub.status.busy": "2024-05-15T20:42:45.313840Z",
     "iopub.status.idle": "2024-05-15T20:43:15.673656Z",
     "shell.execute_reply": "2024-05-15T20:43:15.672450Z",
     "shell.execute_reply.started": "2024-05-15T20:42:45.316096Z"
    }
   },
   "outputs": [
    {
     "name": "stdout",
     "output_type": "stream",
     "text": [
      "round 0\n",
      "Relaxing candidate\n",
      "[<Quantity([0. 0. 0.], 'nanometer')>, <Quantity([0. 0. 0.], 'nanometer')>, <Quantity([0. 0. 0.], 'nanometer')>, <Quantity([0. 0. 0.], 'nanometer')>, <Quantity([0. 0. 0.], 'nanometer')>]\n",
      "[[0.0 0.0 0.0] [0.0 0.0 0.0] [0.0 0.0 0.0] [0.0 0.0 0.0] [0.0 0.0 0.0] [0.0 0.0 0.0] [0.0 0.0 0.0] [0.0 0.0 0.0] [0.0 0.0 0.0] [0.0 0.0 0.0] [0.0 0.0 0.0] [0.0 0.0 0.0] [0.0 0.0 0.0] [0.0 0.0 0.0] [0.0 0.0 0.0] [0.0 0.0 0.0] [0.0 0.0 0.0]] angstrom\n",
      "Computing protein point energy\n",
      "generating mutations\n",
      "computing mutations\n",
      "computing Molecule with name '' and SMILES '[H][c]1[c]([Cl])[c]2[c]([c]([H])[c]1[C]([H])([H])[H])[S][C]([C](=[O])[O-])=[C]2[Cl]'\n",
      "complex_energy=<Quantity(73896439.2, 'kilojoule / mole')> protein_energy=<Quantity(-19070.1082, 'kilojoule / mole')> ligand_energy=<Quantity(321.143023, 'kilojoule / mole')>\n",
      "finished with energy 73915188.16474773 kilojoule / mole\n",
      "computing Molecule with name '' and SMILES '[H][c]1[c]([H])[c]([C]([H])([H])[H])[c]([Cl])[c]2[c]1[S][C]([C](=[O])[O-])=[C]2[Cl]'\n",
      "complex_energy=<Quantity(8903856.84, 'kilojoule / mole')> protein_energy=<Quantity(-19070.1082, 'kilojoule / mole')> ligand_energy=<Quantity(337.075318, 'kilojoule / mole')>\n",
      "finished with energy 8922589.876640974 kilojoule / mole\n",
      "computing Molecule with name '' and SMILES '[H][c]1[c]([H])[c]([C]([H])([H])[H])[c]2[c]([c]1[Cl])[C]([Cl])=[C]([C](=[O])[O-])[S]2'\n",
      "complex_energy=<Quantity(8903839.22, 'kilojoule / mole')> protein_energy=<Quantity(-19070.1082, 'kilojoule / mole')> ligand_energy=<Quantity(335.84838, 'kilojoule / mole')>\n",
      "finished with energy 8922573.478886105 kilojoule / mole\n",
      "computing Molecule with name '' and SMILES '[H][c]1[c]([H])[c]2[c]([c]([C]([H])([H])[H])[c]1[H])[C]([Cl])=[C]([C](=[O])[O-])[S]2'\n",
      "complex_energy=<Quantity(8903720.59, 'kilojoule / mole')> protein_energy=<Quantity(-19070.1082, 'kilojoule / mole')> ligand_energy=<Quantity(212.90995, 'kilojoule / mole')>\n",
      "finished with energy 8922577.783652443 kilojoule / mole\n",
      "computing Molecule with name '' and SMILES '[H][c]1[c]([H])[c]([Cl])[c]2[c]([c]1[H])[S][C]([C](=[O])[C]([H])([H])[H])=[C]2[Cl]'\n"
     ]
    },
    {
     "ename": "KeyboardInterrupt",
     "evalue": "",
     "output_type": "error",
     "traceback": [
      "\u001b[0;31m---------------------------------------------------------------------------\u001b[0m",
      "\u001b[0;31mKeyboardInterrupt\u001b[0m                         Traceback (most recent call last)",
      "Cell \u001b[0;32mIn[29], line 34\u001b[0m\n\u001b[1;32m     30\u001b[0m \u001b[38;5;28;01mfor\u001b[39;00m mutation \u001b[38;5;129;01min\u001b[39;00m mutations:\n\u001b[1;32m     31\u001b[0m     \u001b[38;5;28mprint\u001b[39m(\u001b[38;5;124mf\u001b[39m\u001b[38;5;124m\"\u001b[39m\u001b[38;5;124mcomputing \u001b[39m\u001b[38;5;132;01m{\u001b[39;00mmutation\u001b[38;5;132;01m}\u001b[39;00m\u001b[38;5;124m\"\u001b[39m)\n\u001b[1;32m     32\u001b[0m     candidates\u001b[38;5;241m.\u001b[39mappend((\n\u001b[1;32m     33\u001b[0m         mutation, \n\u001b[0;32m---> 34\u001b[0m         \u001b[43minteraction_objective\u001b[49m\u001b[43m(\u001b[49m\n\u001b[1;32m     35\u001b[0m \u001b[43m            \u001b[49m\u001b[43mmutation\u001b[49m\u001b[43m,\u001b[49m\u001b[43m \u001b[49m\n\u001b[1;32m     36\u001b[0m \u001b[43m            \u001b[49m\u001b[43mcomplex_interchange\u001b[49m\u001b[38;5;241;43m.\u001b[39;49m\u001b[43mtopology\u001b[49m\u001b[43m,\u001b[49m\u001b[43m \u001b[49m\n\u001b[1;32m     37\u001b[0m \u001b[43m            \u001b[49m\u001b[43mprotein_energy\u001b[49m\u001b[43m,\u001b[49m\n\u001b[1;32m     38\u001b[0m \u001b[43m            \u001b[49m\u001b[43mprotein_interchange\u001b[49m\n\u001b[1;32m     39\u001b[0m \u001b[43m        \u001b[49m\u001b[43m)\u001b[49m\n\u001b[1;32m     40\u001b[0m     ))\n\u001b[1;32m     41\u001b[0m     \u001b[38;5;28mprint\u001b[39m(\u001b[38;5;124mf\u001b[39m\u001b[38;5;124m\"\u001b[39m\u001b[38;5;124mfinished with energy \u001b[39m\u001b[38;5;132;01m{\u001b[39;00mcandidates[\u001b[38;5;241m-\u001b[39m\u001b[38;5;241m1\u001b[39m][\u001b[38;5;241m1\u001b[39m]\u001b[38;5;132;01m}\u001b[39;00m\u001b[38;5;124m\"\u001b[39m)\n\u001b[1;32m     43\u001b[0m candidates\u001b[38;5;241m.\u001b[39msort(key\u001b[38;5;241m=\u001b[39m\u001b[38;5;28;01mlambda\u001b[39;00m x: x[\u001b[38;5;241m1\u001b[39m])\n",
      "Cell \u001b[0;32mIn[25], line 86\u001b[0m, in \u001b[0;36minteraction_objective\u001b[0;34m(ligand, previous_complex, protein_energy, protein_interchange, force_field)\u001b[0m\n\u001b[1;32m     83\u001b[0m ntkw \u001b[38;5;241m=\u001b[39m NAGLToolkitWrapper()\n\u001b[1;32m     84\u001b[0m ntkw\u001b[38;5;241m.\u001b[39massign_partial_charges(ligand, \u001b[38;5;124m\"\u001b[39m\u001b[38;5;124mopenff-gnn-am1bcc-0.1.0-rc.2.pt\u001b[39m\u001b[38;5;124m\"\u001b[39m)\n\u001b[0;32m---> 86\u001b[0m ligand_interchange \u001b[38;5;241m=\u001b[39m \u001b[43mforce_field\u001b[49m\u001b[38;5;241;43m.\u001b[39;49m\u001b[43mcreate_interchange\u001b[49m\u001b[43m(\u001b[49m\u001b[43mligand\u001b[49m\u001b[38;5;241;43m.\u001b[39;49m\u001b[43mto_topology\u001b[49m\u001b[43m(\u001b[49m\u001b[43m)\u001b[49m\u001b[43m,\u001b[49m\u001b[43m \u001b[49m\u001b[43mcharge_from_molecules\u001b[49m\u001b[38;5;241;43m=\u001b[39;49m\u001b[43m[\u001b[49m\u001b[43mligand\u001b[49m\u001b[43m]\u001b[49m\u001b[43m)\u001b[49m\n\u001b[1;32m     87\u001b[0m ligand_energy \u001b[38;5;241m=\u001b[39m get_openmm_energies(ligand_interchange)\u001b[38;5;241m.\u001b[39mtotal_energy\n\u001b[1;32m     88\u001b[0m protein_interchange\u001b[38;5;241m.\u001b[39mpositions \u001b[38;5;241m=\u001b[39m previous_complex\u001b[38;5;241m.\u001b[39mmolecule(\u001b[38;5;241m0\u001b[39m)\u001b[38;5;241m.\u001b[39mconformers[\u001b[38;5;241m0\u001b[39m]\n",
      "File \u001b[0;32m~/conda/envs/protein-prep-workshop/lib/python3.10/site-packages/openff/utilities/utilities.py:80\u001b[0m, in \u001b[0;36mrequires_package.<locals>.inner_decorator.<locals>.wrapper\u001b[0;34m(*args, **kwargs)\u001b[0m\n\u001b[1;32m     77\u001b[0m \u001b[38;5;28;01mexcept\u001b[39;00m \u001b[38;5;167;01mException\u001b[39;00m \u001b[38;5;28;01mas\u001b[39;00m e:\n\u001b[1;32m     78\u001b[0m     \u001b[38;5;28;01mraise\u001b[39;00m e\n\u001b[0;32m---> 80\u001b[0m \u001b[38;5;28;01mreturn\u001b[39;00m \u001b[43mfunction\u001b[49m\u001b[43m(\u001b[49m\u001b[38;5;241;43m*\u001b[39;49m\u001b[43margs\u001b[49m\u001b[43m,\u001b[49m\u001b[43m \u001b[49m\u001b[38;5;241;43m*\u001b[39;49m\u001b[38;5;241;43m*\u001b[39;49m\u001b[43mkwargs\u001b[49m\u001b[43m)\u001b[49m\n",
      "File \u001b[0;32m~/conda/envs/protein-prep-workshop/lib/python3.10/site-packages/openff/toolkit/typing/engines/smirnoff/forcefield.py:1252\u001b[0m, in \u001b[0;36mForceField.create_interchange\u001b[0;34m(self, topology, toolkit_registry, charge_from_molecules, partial_bond_orders_from_molecules, allow_nonintegral_charges)\u001b[0m\n\u001b[1;32m   1249\u001b[0m     used_registry \u001b[38;5;241m=\u001b[39m GLOBAL_TOOLKIT_REGISTRY\n\u001b[1;32m   1251\u001b[0m \u001b[38;5;28;01mwith\u001b[39;00m toolkit_registry_manager(used_registry):\n\u001b[0;32m-> 1252\u001b[0m     \u001b[38;5;28;01mreturn\u001b[39;00m \u001b[43mInterchange\u001b[49m\u001b[38;5;241;43m.\u001b[39;49m\u001b[43mfrom_smirnoff\u001b[49m\u001b[43m(\u001b[49m\n\u001b[1;32m   1253\u001b[0m \u001b[43m        \u001b[49m\u001b[43mforce_field\u001b[49m\u001b[38;5;241;43m=\u001b[39;49m\u001b[38;5;28;43mself\u001b[39;49m\u001b[43m,\u001b[49m\n\u001b[1;32m   1254\u001b[0m \u001b[43m        \u001b[49m\u001b[43mtopology\u001b[49m\u001b[38;5;241;43m=\u001b[39;49m\u001b[43mtopology\u001b[49m\u001b[43m,\u001b[49m\n\u001b[1;32m   1255\u001b[0m \u001b[43m        \u001b[49m\u001b[43mcharge_from_molecules\u001b[49m\u001b[38;5;241;43m=\u001b[39;49m\u001b[43mcharge_from_molecules\u001b[49m\u001b[43m,\u001b[49m\n\u001b[1;32m   1256\u001b[0m \u001b[43m        \u001b[49m\u001b[43mpartial_bond_orders_from_molecules\u001b[49m\u001b[38;5;241;43m=\u001b[39;49m\u001b[43mpartial_bond_orders_from_molecules\u001b[49m\u001b[43m,\u001b[49m\n\u001b[1;32m   1257\u001b[0m \u001b[43m        \u001b[49m\u001b[43mallow_nonintegral_charges\u001b[49m\u001b[38;5;241;43m=\u001b[39;49m\u001b[43mallow_nonintegral_charges\u001b[49m\u001b[43m,\u001b[49m\n\u001b[1;32m   1258\u001b[0m \u001b[43m    \u001b[49m\u001b[43m)\u001b[49m\n",
      "File \u001b[0;32m~/conda/envs/protein-prep-workshop/lib/python3.10/site-packages/openff/interchange/components/interchange.py:268\u001b[0m, in \u001b[0;36mInterchange.from_smirnoff\u001b[0;34m(cls, force_field, topology, box, positions, charge_from_molecules, partial_bond_orders_from_molecules, allow_nonintegral_charges)\u001b[0m\n\u001b[1;32m    219\u001b[0m \u001b[38;5;250m\u001b[39m\u001b[38;5;124;03m\"\"\"\u001b[39;00m\n\u001b[1;32m    220\u001b[0m \u001b[38;5;124;03mCreate a new object by parameterizing a topology with a SMIRNOFF force field.\u001b[39;00m\n\u001b[1;32m    221\u001b[0m \n\u001b[0;32m   (...)\u001b[0m\n\u001b[1;32m    264\u001b[0m \n\u001b[1;32m    265\u001b[0m \u001b[38;5;124;03m\"\"\"\u001b[39;00m\n\u001b[1;32m    266\u001b[0m \u001b[38;5;28;01mfrom\u001b[39;00m \u001b[38;5;21;01mopenff\u001b[39;00m\u001b[38;5;21;01m.\u001b[39;00m\u001b[38;5;21;01minterchange\u001b[39;00m\u001b[38;5;21;01m.\u001b[39;00m\u001b[38;5;21;01msmirnoff\u001b[39;00m\u001b[38;5;21;01m.\u001b[39;00m\u001b[38;5;21;01m_create\u001b[39;00m \u001b[38;5;28;01mimport\u001b[39;00m _create_interchange\n\u001b[0;32m--> 268\u001b[0m \u001b[38;5;28;01mreturn\u001b[39;00m \u001b[43m_create_interchange\u001b[49m\u001b[43m(\u001b[49m\n\u001b[1;32m    269\u001b[0m \u001b[43m    \u001b[49m\u001b[43mforce_field\u001b[49m\u001b[38;5;241;43m=\u001b[39;49m\u001b[43mforce_field\u001b[49m\u001b[43m,\u001b[49m\n\u001b[1;32m    270\u001b[0m \u001b[43m    \u001b[49m\u001b[43mtopology\u001b[49m\u001b[38;5;241;43m=\u001b[39;49m\u001b[43mtopology\u001b[49m\u001b[43m,\u001b[49m\n\u001b[1;32m    271\u001b[0m \u001b[43m    \u001b[49m\u001b[43mbox\u001b[49m\u001b[38;5;241;43m=\u001b[39;49m\u001b[43mbox\u001b[49m\u001b[43m,\u001b[49m\n\u001b[1;32m    272\u001b[0m \u001b[43m    \u001b[49m\u001b[43mpositions\u001b[49m\u001b[38;5;241;43m=\u001b[39;49m\u001b[43mpositions\u001b[49m\u001b[43m,\u001b[49m\n\u001b[1;32m    273\u001b[0m \u001b[43m    \u001b[49m\u001b[43mcharge_from_molecules\u001b[49m\u001b[38;5;241;43m=\u001b[39;49m\u001b[43mcharge_from_molecules\u001b[49m\u001b[43m,\u001b[49m\n\u001b[1;32m    274\u001b[0m \u001b[43m    \u001b[49m\u001b[43mpartial_bond_orders_from_molecules\u001b[49m\u001b[38;5;241;43m=\u001b[39;49m\u001b[43mpartial_bond_orders_from_molecules\u001b[49m\u001b[43m,\u001b[49m\n\u001b[1;32m    275\u001b[0m \u001b[43m    \u001b[49m\u001b[43mallow_nonintegral_charges\u001b[49m\u001b[38;5;241;43m=\u001b[39;49m\u001b[43mallow_nonintegral_charges\u001b[49m\u001b[43m,\u001b[49m\n\u001b[1;32m    276\u001b[0m \u001b[43m\u001b[49m\u001b[43m)\u001b[49m\n",
      "File \u001b[0;32m~/conda/envs/protein-prep-workshop/lib/python3.10/site-packages/openff/interchange/smirnoff/_create.py:110\u001b[0m, in \u001b[0;36m_create_interchange\u001b[0;34m(force_field, topology, box, positions, charge_from_molecules, partial_bond_orders_from_molecules, allow_nonintegral_charges)\u001b[0m\n\u001b[1;32m    103\u001b[0m _constraints(\n\u001b[1;32m    104\u001b[0m     interchange,\n\u001b[1;32m    105\u001b[0m     force_field,\n\u001b[1;32m    106\u001b[0m     _topology,\n\u001b[1;32m    107\u001b[0m     bonds\u001b[38;5;241m=\u001b[39minterchange\u001b[38;5;241m.\u001b[39mcollections\u001b[38;5;241m.\u001b[39mget(\u001b[38;5;124m\"\u001b[39m\u001b[38;5;124mBonds\u001b[39m\u001b[38;5;124m\"\u001b[39m, \u001b[38;5;28;01mNone\u001b[39;00m),  \u001b[38;5;66;03m# type: ignore[arg-type]\u001b[39;00m\n\u001b[1;32m    108\u001b[0m )\n\u001b[1;32m    109\u001b[0m _angles(interchange, force_field, _topology)\n\u001b[0;32m--> 110\u001b[0m \u001b[43m_propers\u001b[49m\u001b[43m(\u001b[49m\u001b[43minterchange\u001b[49m\u001b[43m,\u001b[49m\u001b[43m \u001b[49m\u001b[43mforce_field\u001b[49m\u001b[43m,\u001b[49m\u001b[43m \u001b[49m\u001b[43m_topology\u001b[49m\u001b[43m,\u001b[49m\u001b[43m \u001b[49m\u001b[43mpartial_bond_orders_from_molecules\u001b[49m\u001b[43m)\u001b[49m\n\u001b[1;32m    111\u001b[0m _impropers(interchange, force_field, _topology)\n\u001b[1;32m    113\u001b[0m _vdw(interchange, force_field, _topology)\n",
      "File \u001b[0;32m~/conda/envs/protein-prep-workshop/lib/python3.10/site-packages/openff/interchange/smirnoff/_create.py:204\u001b[0m, in \u001b[0;36m_propers\u001b[0;34m(interchange, force_field, _topology, partial_bond_orders_from_molecules)\u001b[0m\n\u001b[1;32m    199\u001b[0m \u001b[38;5;28;01mif\u001b[39;00m \u001b[38;5;124m\"\u001b[39m\u001b[38;5;124mProperTorsions\u001b[39m\u001b[38;5;124m\"\u001b[39m \u001b[38;5;129;01mnot\u001b[39;00m \u001b[38;5;129;01min\u001b[39;00m force_field\u001b[38;5;241m.\u001b[39mregistered_parameter_handlers:\n\u001b[1;32m    200\u001b[0m     \u001b[38;5;28;01mreturn\u001b[39;00m\n\u001b[1;32m    202\u001b[0m interchange\u001b[38;5;241m.\u001b[39mcollections\u001b[38;5;241m.\u001b[39mupdate(\n\u001b[1;32m    203\u001b[0m     {\n\u001b[0;32m--> 204\u001b[0m         \u001b[38;5;124m\"\u001b[39m\u001b[38;5;124mProperTorsions\u001b[39m\u001b[38;5;124m\"\u001b[39m: \u001b[43mSMIRNOFFProperTorsionCollection\u001b[49m\u001b[38;5;241;43m.\u001b[39;49m\u001b[43mcreate\u001b[49m\u001b[43m(\u001b[49m\n\u001b[1;32m    205\u001b[0m \u001b[43m            \u001b[49m\u001b[43mparameter_handler\u001b[49m\u001b[38;5;241;43m=\u001b[39;49m\u001b[43mforce_field\u001b[49m\u001b[43m[\u001b[49m\u001b[38;5;124;43m\"\u001b[39;49m\u001b[38;5;124;43mProperTorsions\u001b[39;49m\u001b[38;5;124;43m\"\u001b[39;49m\u001b[43m]\u001b[49m\u001b[43m,\u001b[49m\n\u001b[1;32m    206\u001b[0m \u001b[43m            \u001b[49m\u001b[43mtopology\u001b[49m\u001b[38;5;241;43m=\u001b[39;49m\u001b[43m_topology\u001b[49m\u001b[43m,\u001b[49m\n\u001b[1;32m    207\u001b[0m \u001b[43m            \u001b[49m\u001b[43mpartial_bond_orders_from_molecules\u001b[49m\u001b[38;5;241;43m=\u001b[39;49m\u001b[43mpartial_bond_orders_from_molecules\u001b[49m\u001b[43m,\u001b[49m\n\u001b[1;32m    208\u001b[0m \u001b[43m        \u001b[49m\u001b[43m)\u001b[49m,\n\u001b[1;32m    209\u001b[0m     },\n\u001b[1;32m    210\u001b[0m )\n",
      "File \u001b[0;32m~/conda/envs/protein-prep-workshop/lib/python3.10/site-packages/openff/interchange/smirnoff/_valence.py:631\u001b[0m, in \u001b[0;36mSMIRNOFFProperTorsionCollection.create\u001b[0;34m(cls, parameter_handler, topology, partial_bond_orders_from_molecules)\u001b[0m\n\u001b[1;32m    626\u001b[0m         molecule\u001b[38;5;241m.\u001b[39mgenerate_conformers(n_conformers\u001b[38;5;241m=\u001b[39m\u001b[38;5;241m1\u001b[39m)\n\u001b[1;32m    627\u001b[0m         molecule\u001b[38;5;241m.\u001b[39massign_fractional_bond_orders(\n\u001b[1;32m    628\u001b[0m             bond_order_model\u001b[38;5;241m=\u001b[39mcollection\u001b[38;5;241m.\u001b[39mfractional_bond_order_method\u001b[38;5;241m.\u001b[39mlower(),\n\u001b[1;32m    629\u001b[0m         )\n\u001b[0;32m--> 631\u001b[0m \u001b[43mcollection\u001b[49m\u001b[38;5;241;43m.\u001b[39;49m\u001b[43mstore_matches\u001b[49m\u001b[43m(\u001b[49m\u001b[43mparameter_handler\u001b[49m\u001b[38;5;241;43m=\u001b[39;49m\u001b[43mparameter_handler\u001b[49m\u001b[43m,\u001b[49m\u001b[43m \u001b[49m\u001b[43mtopology\u001b[49m\u001b[38;5;241;43m=\u001b[39;49m\u001b[43mtopology\u001b[49m\u001b[43m)\u001b[49m\n\u001b[1;32m    632\u001b[0m collection\u001b[38;5;241m.\u001b[39mstore_potentials(parameter_handler\u001b[38;5;241m=\u001b[39mparameter_handler)\n\u001b[1;32m    634\u001b[0m \u001b[38;5;28;01mreturn\u001b[39;00m collection\n",
      "File \u001b[0;32m~/conda/envs/protein-prep-workshop/lib/python3.10/site-packages/openff/interchange/smirnoff/_valence.py:501\u001b[0m, in \u001b[0;36mSMIRNOFFProperTorsionCollection.store_matches\u001b[0;34m(self, parameter_handler, topology)\u001b[0m\n\u001b[1;32m    499\u001b[0m \u001b[38;5;28;01mif\u001b[39;00m \u001b[38;5;28mself\u001b[39m\u001b[38;5;241m.\u001b[39mkey_map:\n\u001b[1;32m    500\u001b[0m     \u001b[38;5;28mself\u001b[39m\u001b[38;5;241m.\u001b[39mkey_map: \u001b[38;5;28mdict\u001b[39m[ProperTorsionKey, PotentialKey] \u001b[38;5;241m=\u001b[39m \u001b[38;5;28mdict\u001b[39m()  \u001b[38;5;66;03m# type: ignore[assignment]\u001b[39;00m\n\u001b[0;32m--> 501\u001b[0m matches \u001b[38;5;241m=\u001b[39m \u001b[43mparameter_handler\u001b[49m\u001b[38;5;241;43m.\u001b[39;49m\u001b[43mfind_matches\u001b[49m\u001b[43m(\u001b[49m\u001b[43mtopology\u001b[49m\u001b[43m)\u001b[49m\n\u001b[1;32m    502\u001b[0m \u001b[38;5;28;01mfor\u001b[39;00m key, val \u001b[38;5;129;01min\u001b[39;00m matches\u001b[38;5;241m.\u001b[39mitems():\n\u001b[1;32m    503\u001b[0m     parameter: ProperTorsionHandler\u001b[38;5;241m.\u001b[39mProperTorsionType \u001b[38;5;241m=\u001b[39m val\u001b[38;5;241m.\u001b[39mparameter_type\n",
      "File \u001b[0;32m~/conda/envs/protein-prep-workshop/lib/python3.10/site-packages/openff/toolkit/typing/engines/smirnoff/parameters.py:2190\u001b[0m, in \u001b[0;36mParameterHandler.find_matches\u001b[0;34m(self, entity, unique)\u001b[0m\n\u001b[1;32m   2172\u001b[0m \u001b[38;5;28;01mdef\u001b[39;00m \u001b[38;5;21mfind_matches\u001b[39m(\u001b[38;5;28mself\u001b[39m, entity: Topology, unique: \u001b[38;5;28mbool\u001b[39m \u001b[38;5;241m=\u001b[39m \u001b[38;5;28;01mFalse\u001b[39;00m) \u001b[38;5;241m-\u001b[39m\u001b[38;5;241m>\u001b[39m ValenceDict:\n\u001b[1;32m   2173\u001b[0m \u001b[38;5;250m    \u001b[39m\u001b[38;5;124;03m\"\"\"Find the elements of the topology/molecule matched by a parameter type.\u001b[39;00m\n\u001b[1;32m   2174\u001b[0m \n\u001b[1;32m   2175\u001b[0m \u001b[38;5;124;03m    Parameters\u001b[39;00m\n\u001b[0;32m   (...)\u001b[0m\n\u001b[1;32m   2187\u001b[0m \u001b[38;5;124;03m        matching the tuple of atom indices in ``entity``.\u001b[39;00m\n\u001b[1;32m   2188\u001b[0m \u001b[38;5;124;03m    \"\"\"\u001b[39;00m\n\u001b[0;32m-> 2190\u001b[0m     \u001b[38;5;28;01mreturn\u001b[39;00m \u001b[38;5;28;43mself\u001b[39;49m\u001b[38;5;241;43m.\u001b[39;49m\u001b[43m_find_matches\u001b[49m\u001b[43m(\u001b[49m\u001b[43mentity\u001b[49m\u001b[43m,\u001b[49m\u001b[43m \u001b[49m\u001b[43munique\u001b[49m\u001b[38;5;241;43m=\u001b[39;49m\u001b[43munique\u001b[49m\u001b[43m)\u001b[49m\n",
      "File \u001b[0;32m~/conda/envs/protein-prep-workshop/lib/python3.10/site-packages/openff/toolkit/typing/engines/smirnoff/parameters.py:2228\u001b[0m, in \u001b[0;36mParameterHandler._find_matches\u001b[0;34m(self, entity, transformed_dict_cls, unique)\u001b[0m\n\u001b[1;32m   2225\u001b[0m \u001b[38;5;28;01mfor\u001b[39;00m parameter_type \u001b[38;5;129;01min\u001b[39;00m \u001b[38;5;28mself\u001b[39m\u001b[38;5;241m.\u001b[39m_parameters:\n\u001b[1;32m   2226\u001b[0m     matches_for_this_type \u001b[38;5;241m=\u001b[39m {}\n\u001b[0;32m-> 2228\u001b[0m     \u001b[38;5;28;01mfor\u001b[39;00m environment_match \u001b[38;5;129;01min\u001b[39;00m \u001b[43mentity\u001b[49m\u001b[38;5;241;43m.\u001b[39;49m\u001b[43mchemical_environment_matches\u001b[49m\u001b[43m(\u001b[49m\n\u001b[1;32m   2229\u001b[0m \u001b[43m        \u001b[49m\u001b[43mparameter_type\u001b[49m\u001b[38;5;241;43m.\u001b[39;49m\u001b[43msmirks\u001b[49m\u001b[43m,\u001b[49m\n\u001b[1;32m   2230\u001b[0m \u001b[43m        \u001b[49m\u001b[43munique\u001b[49m\u001b[38;5;241;43m=\u001b[39;49m\u001b[43munique\u001b[49m\u001b[43m,\u001b[49m\n\u001b[1;32m   2231\u001b[0m \u001b[43m    \u001b[49m\u001b[43m)\u001b[49m:\n\u001b[1;32m   2232\u001b[0m         \u001b[38;5;66;03m# Update the matches for this parameter type.\u001b[39;00m\n\u001b[1;32m   2233\u001b[0m         handler_match \u001b[38;5;241m=\u001b[39m \u001b[38;5;28mself\u001b[39m\u001b[38;5;241m.\u001b[39m_Match(parameter_type, environment_match)\n\u001b[1;32m   2234\u001b[0m         matches_for_this_type[environment_match\u001b[38;5;241m.\u001b[39mtopology_atom_indices] \u001b[38;5;241m=\u001b[39m (\n\u001b[1;32m   2235\u001b[0m             handler_match\n\u001b[1;32m   2236\u001b[0m         )\n",
      "File \u001b[0;32m~/conda/envs/protein-prep-workshop/lib/python3.10/site-packages/openff/toolkit/topology/topology.py:1070\u001b[0m, in \u001b[0;36mTopology.chemical_environment_matches\u001b[0;34m(self, query, aromaticity_model, unique, toolkit_registry)\u001b[0m\n\u001b[1;32m   1066\u001b[0m \u001b[38;5;28;01mif\u001b[39;00m \u001b[38;5;28misinstance\u001b[39m(unique_mol, _SimpleMolecule):\n\u001b[1;32m   1067\u001b[0m     \u001b[38;5;28;01mraise\u001b[39;00m \u001b[38;5;167;01mValueError\u001b[39;00m(\n\u001b[1;32m   1068\u001b[0m         \u001b[38;5;124m\"\u001b[39m\u001b[38;5;124mTopologies with simple molecules do not support environment matching\u001b[39m\u001b[38;5;124m\"\u001b[39m\n\u001b[1;32m   1069\u001b[0m     )\n\u001b[0;32m-> 1070\u001b[0m mol_matches \u001b[38;5;241m=\u001b[39m \u001b[43munique_mol\u001b[49m\u001b[38;5;241;43m.\u001b[39;49m\u001b[43mchemical_environment_matches\u001b[49m\u001b[43m(\u001b[49m\n\u001b[1;32m   1071\u001b[0m \u001b[43m    \u001b[49m\u001b[43msmarts\u001b[49m\u001b[43m,\u001b[49m\n\u001b[1;32m   1072\u001b[0m \u001b[43m    \u001b[49m\u001b[43munique\u001b[49m\u001b[38;5;241;43m=\u001b[39;49m\u001b[43munique\u001b[49m\u001b[43m,\u001b[49m\n\u001b[1;32m   1073\u001b[0m \u001b[43m    \u001b[49m\u001b[43mtoolkit_registry\u001b[49m\u001b[38;5;241;43m=\u001b[39;49m\u001b[43mtoolkit_registry\u001b[49m\u001b[43m,\u001b[49m\n\u001b[1;32m   1074\u001b[0m \u001b[43m\u001b[49m\u001b[43m)\u001b[49m\n\u001b[1;32m   1076\u001b[0m \u001b[38;5;28;01mif\u001b[39;00m \u001b[38;5;28mlen\u001b[39m(mol_matches) \u001b[38;5;241m==\u001b[39m \u001b[38;5;241m0\u001b[39m:\n\u001b[1;32m   1077\u001b[0m     \u001b[38;5;28;01mcontinue\u001b[39;00m\n",
      "File \u001b[0;32m~/conda/envs/protein-prep-workshop/lib/python3.10/site-packages/openff/toolkit/topology/molecule.py:3601\u001b[0m, in \u001b[0;36mFrozenMolecule.chemical_environment_matches\u001b[0;34m(self, query, unique, toolkit_registry)\u001b[0m\n\u001b[1;32m   3597\u001b[0m \u001b[38;5;66;03m# Use specified cheminformatics toolkit to determine matches with specified aromaticity model\u001b[39;00m\n\u001b[1;32m   3598\u001b[0m \u001b[38;5;66;03m# TODO: Simplify this by requiring a toolkit registry for the molecule?\u001b[39;00m\n\u001b[1;32m   3599\u001b[0m \u001b[38;5;66;03m# TODO: Do we have to pass along an aromaticity model?\u001b[39;00m\n\u001b[1;32m   3600\u001b[0m \u001b[38;5;28;01mif\u001b[39;00m \u001b[38;5;28misinstance\u001b[39m(toolkit_registry, ToolkitRegistry):\n\u001b[0;32m-> 3601\u001b[0m     matches \u001b[38;5;241m=\u001b[39m \u001b[43mtoolkit_registry\u001b[49m\u001b[38;5;241;43m.\u001b[39;49m\u001b[43mcall\u001b[49m\u001b[43m(\u001b[49m\n\u001b[1;32m   3602\u001b[0m \u001b[43m        \u001b[49m\u001b[38;5;124;43m\"\u001b[39;49m\u001b[38;5;124;43mfind_smarts_matches\u001b[39;49m\u001b[38;5;124;43m\"\u001b[39;49m\u001b[43m,\u001b[49m\n\u001b[1;32m   3603\u001b[0m \u001b[43m        \u001b[49m\u001b[38;5;28;43mself\u001b[39;49m\u001b[43m,\u001b[49m\n\u001b[1;32m   3604\u001b[0m \u001b[43m        \u001b[49m\u001b[43mquery\u001b[49m\u001b[43m,\u001b[49m\n\u001b[1;32m   3605\u001b[0m \u001b[43m        \u001b[49m\u001b[43munique\u001b[49m\u001b[38;5;241;43m=\u001b[39;49m\u001b[43munique\u001b[49m\u001b[43m,\u001b[49m\n\u001b[1;32m   3606\u001b[0m \u001b[43m        \u001b[49m\u001b[43mraise_exception_types\u001b[49m\u001b[38;5;241;43m=\u001b[39;49m\u001b[43m[\u001b[49m\u001b[43m]\u001b[49m\u001b[43m,\u001b[49m\n\u001b[1;32m   3607\u001b[0m \u001b[43m    \u001b[49m\u001b[43m)\u001b[49m\n\u001b[1;32m   3608\u001b[0m \u001b[38;5;28;01melif\u001b[39;00m \u001b[38;5;28misinstance\u001b[39m(toolkit_registry, ToolkitWrapper):\n\u001b[1;32m   3609\u001b[0m     matches \u001b[38;5;241m=\u001b[39m toolkit_registry\u001b[38;5;241m.\u001b[39mfind_smarts_matches(  \u001b[38;5;66;03m# type: ignore[attr-defined]\u001b[39;00m\n\u001b[1;32m   3610\u001b[0m         \u001b[38;5;28mself\u001b[39m,\n\u001b[1;32m   3611\u001b[0m         query,\n\u001b[1;32m   3612\u001b[0m         unique\u001b[38;5;241m=\u001b[39munique,\n\u001b[1;32m   3613\u001b[0m     )\n",
      "File \u001b[0;32m~/conda/envs/protein-prep-workshop/lib/python3.10/site-packages/openff/toolkit/utils/toolkit_registry.py:366\u001b[0m, in \u001b[0;36mToolkitRegistry.call\u001b[0;34m(self, method_name, raise_exception_types, *args, **kwargs)\u001b[0m\n\u001b[1;32m    364\u001b[0m method \u001b[38;5;241m=\u001b[39m \u001b[38;5;28mgetattr\u001b[39m(toolkit, method_name)\n\u001b[1;32m    365\u001b[0m \u001b[38;5;28;01mtry\u001b[39;00m:\n\u001b[0;32m--> 366\u001b[0m     \u001b[38;5;28;01mreturn\u001b[39;00m \u001b[43mmethod\u001b[49m\u001b[43m(\u001b[49m\u001b[38;5;241;43m*\u001b[39;49m\u001b[43margs\u001b[49m\u001b[43m,\u001b[49m\u001b[43m \u001b[49m\u001b[38;5;241;43m*\u001b[39;49m\u001b[38;5;241;43m*\u001b[39;49m\u001b[43mkwargs\u001b[49m\u001b[43m)\u001b[49m\n\u001b[1;32m    367\u001b[0m \u001b[38;5;28;01mexcept\u001b[39;00m \u001b[38;5;167;01mException\u001b[39;00m \u001b[38;5;28;01mas\u001b[39;00m e:\n\u001b[1;32m    368\u001b[0m     \u001b[38;5;28;01mfor\u001b[39;00m exception_type \u001b[38;5;129;01min\u001b[39;00m raise_exception_types:\n",
      "File \u001b[0;32m~/conda/envs/protein-prep-workshop/lib/python3.10/site-packages/openff/toolkit/utils/rdkit_wrapper.py:2993\u001b[0m, in \u001b[0;36mRDKitToolkitWrapper.find_smarts_matches\u001b[0;34m(self, molecule, smarts, aromaticity_model, unique)\u001b[0m\n\u001b[1;32m   2971\u001b[0m \u001b[38;5;250m\u001b[39m\u001b[38;5;124;03m\"\"\"\u001b[39;00m\n\u001b[1;32m   2972\u001b[0m \u001b[38;5;124;03mFind all SMARTS matches for the specified molecule, using the specified aromaticity model.\u001b[39;00m\n\u001b[1;32m   2973\u001b[0m \n\u001b[0;32m   (...)\u001b[0m\n\u001b[1;32m   2988\u001b[0m \n\u001b[1;32m   2989\u001b[0m \u001b[38;5;124;03m\"\"\"\u001b[39;00m\n\u001b[1;32m   2990\u001b[0m rdmol \u001b[38;5;241m=\u001b[39m \u001b[38;5;28mself\u001b[39m\u001b[38;5;241m.\u001b[39m_connection_table_to_rdkit(\n\u001b[1;32m   2991\u001b[0m     molecule, aromaticity_model\u001b[38;5;241m=\u001b[39maromaticity_model\n\u001b[1;32m   2992\u001b[0m )\n\u001b[0;32m-> 2993\u001b[0m \u001b[38;5;28;01mreturn\u001b[39;00m \u001b[38;5;28;43mself\u001b[39;49m\u001b[38;5;241;43m.\u001b[39;49m\u001b[43m_find_smarts_matches\u001b[49m\u001b[43m(\u001b[49m\n\u001b[1;32m   2994\u001b[0m \u001b[43m    \u001b[49m\u001b[43mrdmol\u001b[49m\u001b[43m,\u001b[49m\n\u001b[1;32m   2995\u001b[0m \u001b[43m    \u001b[49m\u001b[43msmarts\u001b[49m\u001b[43m,\u001b[49m\n\u001b[1;32m   2996\u001b[0m \u001b[43m    \u001b[49m\u001b[43maromaticity_model\u001b[49m\u001b[38;5;241;43m=\u001b[39;49m\u001b[38;5;124;43m\"\u001b[39;49m\u001b[38;5;124;43mOEAroModel_MDL\u001b[39;49m\u001b[38;5;124;43m\"\u001b[39;49m\u001b[43m,\u001b[49m\n\u001b[1;32m   2997\u001b[0m \u001b[43m    \u001b[49m\u001b[43munique\u001b[49m\u001b[38;5;241;43m=\u001b[39;49m\u001b[43munique\u001b[49m\u001b[43m,\u001b[49m\n\u001b[1;32m   2998\u001b[0m \u001b[43m\u001b[49m\u001b[43m)\u001b[49m\n",
      "File \u001b[0;32m~/conda/envs/protein-prep-workshop/lib/python3.10/site-packages/openff/toolkit/utils/rdkit_wrapper.py:2947\u001b[0m, in \u001b[0;36mRDKitToolkitWrapper._find_smarts_matches\u001b[0;34m(rdmol, smarts, aromaticity_model, unique)\u001b[0m\n\u001b[1;32m   2945\u001b[0m     \u001b[38;5;28;01mif\u001b[39;00m smirks_index \u001b[38;5;241m!=\u001b[39m \u001b[38;5;241m0\u001b[39m:\n\u001b[1;32m   2946\u001b[0m         idx_map[smirks_index \u001b[38;5;241m-\u001b[39m \u001b[38;5;241m1\u001b[39m] \u001b[38;5;241m=\u001b[39m atom\u001b[38;5;241m.\u001b[39mGetIdx()\n\u001b[0;32m-> 2947\u001b[0m map_list \u001b[38;5;241m=\u001b[39m [idx_map[x] \u001b[38;5;28;01mfor\u001b[39;00m x \u001b[38;5;129;01min\u001b[39;00m \u001b[38;5;28;43msorted\u001b[39;49m\u001b[43m(\u001b[49m\u001b[43midx_map\u001b[49m\u001b[43m)\u001b[49m]\n\u001b[1;32m   2949\u001b[0m \u001b[38;5;66;03m# choose the largest unsigned int without overflow\u001b[39;00m\n\u001b[1;32m   2950\u001b[0m \u001b[38;5;66;03m# since the C++ signature is a uint\u001b[39;00m\n\u001b[1;32m   2951\u001b[0m \u001b[38;5;66;03m# TODO: max_matches = int(max_matches) if max_matches is not None else np.iinfo(np.uintc).max\u001b[39;00m\n\u001b[1;32m   2952\u001b[0m max_matches \u001b[38;5;241m=\u001b[39m np\u001b[38;5;241m.\u001b[39miinfo(np\u001b[38;5;241m.\u001b[39muintc)\u001b[38;5;241m.\u001b[39mmax\n",
      "\u001b[0;31mKeyboardInterrupt\u001b[0m: "
     ]
    }
   ],
   "source": [
    "candidates = [(ligand, 999, protein_interchange.positions)]\n",
    "protein_trajectory = mdtraj.Trajectory(protein_interchange.positions.m, mdtraj.Topology.from_openmm(protein_interchange.topology.to_openmm()))\n",
    "\n",
    "for idx in range(2):\n",
    "    print(f\"round {idx}\")\n",
    "    candidate, energy, protein_positions = candidates.pop(0)\n",
    "    \n",
    "    print(f\"Relaxing candidate\")\n",
    "    protein_interchange.positions = protein_positions\n",
    "    complex_interchange, state = relax_ligand(protein_interchange, candidate, sage, name=str(idx))\n",
    "    \n",
    "    relaxed_protein_positions = complex_interchange.topology.molecule(0).conformers[0]\n",
    "    print(sorted(protein_interchange.positions - relaxed_protein_positions, key=lambda x:x[0])[:5])\n",
    "    protein_interchange.positions = relaxed_protein_positions\n",
    "    #relaxed_ligand_positions = complex_interchange.molecule(1).conformers[0]\n",
    "    protein_trajectory.xyz = [*protein_trajectory.xyz, complex_interchange.positions[:-candidate.n_atoms].m_as(unit.nanometer)]\n",
    "    result_ligand = complex_interchange.topology.molecule(1)\n",
    "    print(result_ligand.conformers[0] - candidate.conformers[0])\n",
    "\n",
    "    print(f\"Computing protein point energy\")\n",
    "    protein_energy = single_point_energy(protein_simulation, \n",
    "                                         relaxed_protein_positions,\n",
    "                                         #complex_interchange.topology.molecule(0).conformers[0], \n",
    "                                         complex_interchange.box)\n",
    "\n",
    "    print(f\"generating mutations\")\n",
    "    mutations = mutate_ligand(result_ligand)\n",
    "    \n",
    "    print(f\"computing mutations\")\n",
    "    for mutation in mutations:\n",
    "        print(f\"computing {mutation}\")\n",
    "        candidates.append((\n",
    "            mutation, \n",
    "            interaction_objective(\n",
    "                mutation, \n",
    "                complex_interchange.topology, \n",
    "                protein_energy,\n",
    "                protein_interchange\n",
    "            )\n",
    "        ))\n",
    "        print(f\"finished with energy {candidates[-1][1]}\")\n",
    "    \n",
    "    candidates.sort(key=lambda x: x[1])"
   ]
  },
  {
   "cell_type": "code",
   "execution_count": null,
   "id": "cd2655f2-81ce-4552-9c32-15c18e6f80d5",
   "metadata": {
    "execution": {
     "iopub.status.busy": "2024-05-15T20:40:14.080221Z",
     "iopub.status.idle": "2024-05-15T20:40:14.080474Z",
     "shell.execute_reply": "2024-05-15T20:40:14.080341Z",
     "shell.execute_reply.started": "2024-05-15T20:40:14.080331Z"
    }
   },
   "outputs": [],
   "source": [
    "nv = complex_interchange.visualize()\n",
    "nv.add_representation(\"licorice\")\n",
    "nv"
   ]
  },
  {
   "cell_type": "code",
   "execution_count": null,
   "id": "b2f1fb9f-d392-413f-96e9-6d2fe2c77745",
   "metadata": {
    "execution": {
     "iopub.status.busy": "2024-05-15T20:03:04.511741Z",
     "iopub.status.idle": "2024-05-15T20:03:04.514029Z",
     "shell.execute_reply": "2024-05-15T20:03:04.513415Z",
     "shell.execute_reply.started": "2024-05-15T20:03:04.513367Z"
    }
   },
   "outputs": [],
   "source": [
    "Topology.from_molecules([protein, candidates[1][0]]).visualize()"
   ]
  },
  {
   "cell_type": "code",
   "execution_count": null,
   "id": "a89b8684-4064-47ef-a1c0-64dc21feab9e",
   "metadata": {
    "execution": {
     "iopub.status.busy": "2024-05-15T20:03:04.519105Z",
     "iopub.status.idle": "2024-05-15T20:03:04.520243Z",
     "shell.execute_reply": "2024-05-15T20:03:04.520031Z",
     "shell.execute_reply.started": "2024-05-15T20:03:04.519970Z"
    }
   },
   "outputs": [],
   "source": [
    "from openff.interchange.drivers.openmm import get_openmm_energies\n",
    "get_openmm_energies(complex_interchange)"
   ]
  },
  {
   "cell_type": "code",
   "execution_count": null,
   "id": "4cdc44f1-2115-4b06-8f1a-cf69214cbb7e",
   "metadata": {
    "execution": {
     "iopub.status.busy": "2024-05-15T20:03:04.521545Z",
     "iopub.status.idle": "2024-05-15T20:03:04.522058Z",
     "shell.execute_reply": "2024-05-15T20:03:04.521821Z",
     "shell.execute_reply.started": "2024-05-15T20:03:04.521811Z"
    }
   },
   "outputs": [],
   "source": [
    "#previous_complex = complex_interchange.topology"
   ]
  },
  {
   "cell_type": "code",
   "execution_count": null,
   "id": "a31f1e9a-ae66-41c8-b0e2-d26ab528ceba",
   "metadata": {
    "execution": {
     "iopub.status.busy": "2024-05-15T20:03:04.523531Z",
     "iopub.status.idle": "2024-05-15T20:03:04.523905Z",
     "shell.execute_reply": "2024-05-15T20:03:04.523794Z",
     "shell.execute_reply.started": "2024-05-15T20:03:04.523784Z"
    }
   },
   "outputs": [],
   "source": [
    "ntkw = NAGLToolkitWrapper()\n",
    "ntkw.assign_partial_charges(products[0], \"openff-gnn-am1bcc-0.1.0-rc.2.pt\")\n",
    "\n",
    "ligand_interchange = sage.create_interchange(products[3].to_topology(), charge_from_molecules=[products[0]])\n",
    "ligand_energy = get_openmm_energies(ligand_interchange).total_energy\n",
    "protein_interchange.positions = previous_complex.molecule(0).conformers[0]\n",
    "complex_interchange = protein_interchange.combine(ligand_interchange)\n",
    "#complex_interchange = \n",
    "complex_energy = get_openmm_energies(complex_interchange).total_energy\n",
    "print(f\"{complex_energy=} {protein_energy=} {ligand_energy=}\")\n",
    "interaction_energy = complex_energy - protein_energy - ligand_energy\n"
   ]
  },
  {
   "cell_type": "code",
   "execution_count": null,
   "id": "9aeb92b1-4154-4ab9-85e9-79012a48a3f2",
   "metadata": {
    "execution": {
     "iopub.status.busy": "2024-05-15T20:03:04.525381Z",
     "iopub.status.idle": "2024-05-15T20:03:04.525693Z",
     "shell.execute_reply": "2024-05-15T20:03:04.525544Z",
     "shell.execute_reply.started": "2024-05-15T20:03:04.525531Z"
    }
   },
   "outputs": [],
   "source": [
    "nv = complex_interchange.visualize()\n",
    "nv.add_representation(\"licorice\")\n",
    "nv"
   ]
  },
  {
   "cell_type": "code",
   "execution_count": null,
   "id": "c33b7884-9711-4e2d-a60d-96640dd949c8",
   "metadata": {
    "execution": {
     "iopub.status.busy": "2024-05-15T20:03:04.527618Z",
     "iopub.status.idle": "2024-05-15T20:03:04.530086Z",
     "shell.execute_reply": "2024-05-15T20:03:04.528562Z",
     "shell.execute_reply.started": "2024-05-15T20:03:04.528547Z"
    }
   },
   "outputs": [],
   "source": [
    "nv = Topology.from_molecules([protein, products[3]]).visualize()\n",
    "nv.add_representation(\"licorice\")\n",
    "nv"
   ]
  },
  {
   "cell_type": "code",
   "execution_count": 67,
   "id": "f67ba806-9938-4d73-baf6-02ae62d737de",
   "metadata": {
    "execution": {
     "iopub.execute_input": "2024-05-15T19:50:10.254649Z",
     "iopub.status.busy": "2024-05-15T19:50:10.251026Z",
     "iopub.status.idle": "2024-05-15T19:50:12.013976Z",
     "shell.execute_reply": "2024-05-15T19:50:12.013451Z",
     "shell.execute_reply.started": "2024-05-15T19:50:10.253854Z"
    }
   },
   "outputs": [
    {
     "data": {
      "application/vnd.jupyter.widget-view+json": {
       "model_id": "5d7b6548792742caa377fe5d8db7661d",
       "version_major": 2,
       "version_minor": 0
      },
      "text/plain": [
       "NGLWidget()"
      ]
     },
     "metadata": {},
     "output_type": "display_data"
    }
   ],
   "source": [
    "nv = Topology.from_molecules([protein, Molecule.from_file(\"posed_ligand.sdf\")]).visualize()\n",
    "nv.add_representation(\"licorice\")\n",
    "nv"
   ]
  },
  {
   "cell_type": "code",
   "execution_count": null,
   "id": "36218a3d-12f3-41aa-ba24-5b0dcf622bb3",
   "metadata": {},
   "outputs": [],
   "source": []
  }
 ],
 "metadata": {
  "kernelspec": {
   "display_name": "Python 3 (ipykernel)",
   "language": "python",
   "name": "python3"
  },
  "language_info": {
   "codemirror_mode": {
    "name": "ipython",
    "version": 3
   },
   "file_extension": ".py",
   "mimetype": "text/x-python",
   "name": "python",
   "nbconvert_exporter": "python",
   "pygments_lexer": "ipython3",
   "version": "3.10.14"
  }
 },
 "nbformat": 4,
 "nbformat_minor": 5
}
